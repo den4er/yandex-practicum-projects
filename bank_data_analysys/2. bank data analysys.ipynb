{
 "cells": [
  {
   "cell_type": "markdown",
   "id": "e7f4113b",
   "metadata": {
    "deletable": false,
    "editable": false,
    "id": "c81daeeb"
   },
   "source": [
    "# Исследование надежности заемщиков\n"
   ]
  },
  {
   "cell_type": "markdown",
   "id": "2919d401",
   "metadata": {
    "deletable": false,
    "editable": false,
    "id": "827c20bf"
   },
   "source": [
    "Во второй части проекта вы выполните шаги 3 и 4. Их вручную проверит ревьюер.\n",
    "Чтобы вам не пришлось писать код заново для шагов 1 и 2, мы добавили авторские решения в ячейки с кодом. \n",
    "\n"
   ]
  },
  {
   "cell_type": "markdown",
   "id": "6c841084",
   "metadata": {
    "deletable": false,
    "editable": false,
    "id": "744d7639"
   },
   "source": [
    "## Откройте таблицу и изучите общую информацию о данных"
   ]
  },
  {
   "cell_type": "markdown",
   "id": "949923eb",
   "metadata": {
    "deletable": false,
    "editable": false,
    "id": "e7a14c31"
   },
   "source": [
    "**Задание 1. Импортируйте библиотеку pandas. Считайте данные из csv-файла в датафрейм и сохраните в переменную `data`. Путь к файлу:**\n",
    "\n",
    "`/datasets/data.csv`"
   ]
  },
  {
   "cell_type": "code",
   "execution_count": 1,
   "id": "a1deb43c",
   "metadata": {
    "deletable": false,
    "id": "7bcf75c9"
   },
   "outputs": [],
   "source": [
    "import pandas as pd\n",
    "\n",
    "try:\n",
    "    data = pd.read_csv('/datasets/data.csv')\n",
    "except:\n",
    "    data = pd.read_csv('https://code.s3.yandex.net/datasets/data.csv')"
   ]
  },
  {
   "cell_type": "markdown",
   "id": "a5443824",
   "metadata": {
    "deletable": false,
    "editable": false,
    "id": "b8038fe3"
   },
   "source": [
    "**Задание 2. Выведите первые 20 строчек датафрейма `data` на экран.**"
   ]
  },
  {
   "cell_type": "code",
   "execution_count": 2,
   "id": "56145ca6",
   "metadata": {
    "deletable": false,
    "id": "2a7cab99",
    "outputId": "1a8f3ef2-d323-4ec2-ddf7-89670b5944c4"
   },
   "outputs": [
    {
     "data": {
      "text/html": [
       "<div>\n",
       "<style scoped>\n",
       "    .dataframe tbody tr th:only-of-type {\n",
       "        vertical-align: middle;\n",
       "    }\n",
       "\n",
       "    .dataframe tbody tr th {\n",
       "        vertical-align: top;\n",
       "    }\n",
       "\n",
       "    .dataframe thead th {\n",
       "        text-align: right;\n",
       "    }\n",
       "</style>\n",
       "<table border=\"1\" class=\"dataframe\">\n",
       "  <thead>\n",
       "    <tr style=\"text-align: right;\">\n",
       "      <th></th>\n",
       "      <th>children</th>\n",
       "      <th>days_employed</th>\n",
       "      <th>dob_years</th>\n",
       "      <th>education</th>\n",
       "      <th>education_id</th>\n",
       "      <th>family_status</th>\n",
       "      <th>family_status_id</th>\n",
       "      <th>gender</th>\n",
       "      <th>income_type</th>\n",
       "      <th>debt</th>\n",
       "      <th>total_income</th>\n",
       "      <th>purpose</th>\n",
       "    </tr>\n",
       "  </thead>\n",
       "  <tbody>\n",
       "    <tr>\n",
       "      <th>0</th>\n",
       "      <td>1</td>\n",
       "      <td>-8437.673028</td>\n",
       "      <td>42</td>\n",
       "      <td>высшее</td>\n",
       "      <td>0</td>\n",
       "      <td>женат / замужем</td>\n",
       "      <td>0</td>\n",
       "      <td>F</td>\n",
       "      <td>сотрудник</td>\n",
       "      <td>0</td>\n",
       "      <td>253875.639453</td>\n",
       "      <td>покупка жилья</td>\n",
       "    </tr>\n",
       "    <tr>\n",
       "      <th>1</th>\n",
       "      <td>1</td>\n",
       "      <td>-4024.803754</td>\n",
       "      <td>36</td>\n",
       "      <td>среднее</td>\n",
       "      <td>1</td>\n",
       "      <td>женат / замужем</td>\n",
       "      <td>0</td>\n",
       "      <td>F</td>\n",
       "      <td>сотрудник</td>\n",
       "      <td>0</td>\n",
       "      <td>112080.014102</td>\n",
       "      <td>приобретение автомобиля</td>\n",
       "    </tr>\n",
       "    <tr>\n",
       "      <th>2</th>\n",
       "      <td>0</td>\n",
       "      <td>-5623.422610</td>\n",
       "      <td>33</td>\n",
       "      <td>Среднее</td>\n",
       "      <td>1</td>\n",
       "      <td>женат / замужем</td>\n",
       "      <td>0</td>\n",
       "      <td>M</td>\n",
       "      <td>сотрудник</td>\n",
       "      <td>0</td>\n",
       "      <td>145885.952297</td>\n",
       "      <td>покупка жилья</td>\n",
       "    </tr>\n",
       "    <tr>\n",
       "      <th>3</th>\n",
       "      <td>3</td>\n",
       "      <td>-4124.747207</td>\n",
       "      <td>32</td>\n",
       "      <td>среднее</td>\n",
       "      <td>1</td>\n",
       "      <td>женат / замужем</td>\n",
       "      <td>0</td>\n",
       "      <td>M</td>\n",
       "      <td>сотрудник</td>\n",
       "      <td>0</td>\n",
       "      <td>267628.550329</td>\n",
       "      <td>дополнительное образование</td>\n",
       "    </tr>\n",
       "    <tr>\n",
       "      <th>4</th>\n",
       "      <td>0</td>\n",
       "      <td>340266.072047</td>\n",
       "      <td>53</td>\n",
       "      <td>среднее</td>\n",
       "      <td>1</td>\n",
       "      <td>гражданский брак</td>\n",
       "      <td>1</td>\n",
       "      <td>F</td>\n",
       "      <td>пенсионер</td>\n",
       "      <td>0</td>\n",
       "      <td>158616.077870</td>\n",
       "      <td>сыграть свадьбу</td>\n",
       "    </tr>\n",
       "    <tr>\n",
       "      <th>5</th>\n",
       "      <td>0</td>\n",
       "      <td>-926.185831</td>\n",
       "      <td>27</td>\n",
       "      <td>высшее</td>\n",
       "      <td>0</td>\n",
       "      <td>гражданский брак</td>\n",
       "      <td>1</td>\n",
       "      <td>M</td>\n",
       "      <td>компаньон</td>\n",
       "      <td>0</td>\n",
       "      <td>255763.565419</td>\n",
       "      <td>покупка жилья</td>\n",
       "    </tr>\n",
       "    <tr>\n",
       "      <th>6</th>\n",
       "      <td>0</td>\n",
       "      <td>-2879.202052</td>\n",
       "      <td>43</td>\n",
       "      <td>высшее</td>\n",
       "      <td>0</td>\n",
       "      <td>женат / замужем</td>\n",
       "      <td>0</td>\n",
       "      <td>F</td>\n",
       "      <td>компаньон</td>\n",
       "      <td>0</td>\n",
       "      <td>240525.971920</td>\n",
       "      <td>операции с жильем</td>\n",
       "    </tr>\n",
       "    <tr>\n",
       "      <th>7</th>\n",
       "      <td>0</td>\n",
       "      <td>-152.779569</td>\n",
       "      <td>50</td>\n",
       "      <td>СРЕДНЕЕ</td>\n",
       "      <td>1</td>\n",
       "      <td>женат / замужем</td>\n",
       "      <td>0</td>\n",
       "      <td>M</td>\n",
       "      <td>сотрудник</td>\n",
       "      <td>0</td>\n",
       "      <td>135823.934197</td>\n",
       "      <td>образование</td>\n",
       "    </tr>\n",
       "    <tr>\n",
       "      <th>8</th>\n",
       "      <td>2</td>\n",
       "      <td>-6929.865299</td>\n",
       "      <td>35</td>\n",
       "      <td>ВЫСШЕЕ</td>\n",
       "      <td>0</td>\n",
       "      <td>гражданский брак</td>\n",
       "      <td>1</td>\n",
       "      <td>F</td>\n",
       "      <td>сотрудник</td>\n",
       "      <td>0</td>\n",
       "      <td>95856.832424</td>\n",
       "      <td>на проведение свадьбы</td>\n",
       "    </tr>\n",
       "    <tr>\n",
       "      <th>9</th>\n",
       "      <td>0</td>\n",
       "      <td>-2188.756445</td>\n",
       "      <td>41</td>\n",
       "      <td>среднее</td>\n",
       "      <td>1</td>\n",
       "      <td>женат / замужем</td>\n",
       "      <td>0</td>\n",
       "      <td>M</td>\n",
       "      <td>сотрудник</td>\n",
       "      <td>0</td>\n",
       "      <td>144425.938277</td>\n",
       "      <td>покупка жилья для семьи</td>\n",
       "    </tr>\n",
       "    <tr>\n",
       "      <th>10</th>\n",
       "      <td>2</td>\n",
       "      <td>-4171.483647</td>\n",
       "      <td>36</td>\n",
       "      <td>высшее</td>\n",
       "      <td>0</td>\n",
       "      <td>женат / замужем</td>\n",
       "      <td>0</td>\n",
       "      <td>M</td>\n",
       "      <td>компаньон</td>\n",
       "      <td>0</td>\n",
       "      <td>113943.491460</td>\n",
       "      <td>покупка недвижимости</td>\n",
       "    </tr>\n",
       "    <tr>\n",
       "      <th>11</th>\n",
       "      <td>0</td>\n",
       "      <td>-792.701887</td>\n",
       "      <td>40</td>\n",
       "      <td>среднее</td>\n",
       "      <td>1</td>\n",
       "      <td>женат / замужем</td>\n",
       "      <td>0</td>\n",
       "      <td>F</td>\n",
       "      <td>сотрудник</td>\n",
       "      <td>0</td>\n",
       "      <td>77069.234271</td>\n",
       "      <td>покупка коммерческой недвижимости</td>\n",
       "    </tr>\n",
       "    <tr>\n",
       "      <th>12</th>\n",
       "      <td>0</td>\n",
       "      <td>NaN</td>\n",
       "      <td>65</td>\n",
       "      <td>среднее</td>\n",
       "      <td>1</td>\n",
       "      <td>гражданский брак</td>\n",
       "      <td>1</td>\n",
       "      <td>M</td>\n",
       "      <td>пенсионер</td>\n",
       "      <td>0</td>\n",
       "      <td>NaN</td>\n",
       "      <td>сыграть свадьбу</td>\n",
       "    </tr>\n",
       "    <tr>\n",
       "      <th>13</th>\n",
       "      <td>0</td>\n",
       "      <td>-1846.641941</td>\n",
       "      <td>54</td>\n",
       "      <td>неоконченное высшее</td>\n",
       "      <td>2</td>\n",
       "      <td>женат / замужем</td>\n",
       "      <td>0</td>\n",
       "      <td>F</td>\n",
       "      <td>сотрудник</td>\n",
       "      <td>0</td>\n",
       "      <td>130458.228857</td>\n",
       "      <td>приобретение автомобиля</td>\n",
       "    </tr>\n",
       "    <tr>\n",
       "      <th>14</th>\n",
       "      <td>0</td>\n",
       "      <td>-1844.956182</td>\n",
       "      <td>56</td>\n",
       "      <td>высшее</td>\n",
       "      <td>0</td>\n",
       "      <td>гражданский брак</td>\n",
       "      <td>1</td>\n",
       "      <td>F</td>\n",
       "      <td>компаньон</td>\n",
       "      <td>1</td>\n",
       "      <td>165127.911772</td>\n",
       "      <td>покупка жилой недвижимости</td>\n",
       "    </tr>\n",
       "    <tr>\n",
       "      <th>15</th>\n",
       "      <td>1</td>\n",
       "      <td>-972.364419</td>\n",
       "      <td>26</td>\n",
       "      <td>среднее</td>\n",
       "      <td>1</td>\n",
       "      <td>женат / замужем</td>\n",
       "      <td>0</td>\n",
       "      <td>F</td>\n",
       "      <td>сотрудник</td>\n",
       "      <td>0</td>\n",
       "      <td>116820.904450</td>\n",
       "      <td>строительство собственной недвижимости</td>\n",
       "    </tr>\n",
       "    <tr>\n",
       "      <th>16</th>\n",
       "      <td>0</td>\n",
       "      <td>-1719.934226</td>\n",
       "      <td>35</td>\n",
       "      <td>среднее</td>\n",
       "      <td>1</td>\n",
       "      <td>женат / замужем</td>\n",
       "      <td>0</td>\n",
       "      <td>F</td>\n",
       "      <td>сотрудник</td>\n",
       "      <td>0</td>\n",
       "      <td>289202.704229</td>\n",
       "      <td>недвижимость</td>\n",
       "    </tr>\n",
       "    <tr>\n",
       "      <th>17</th>\n",
       "      <td>0</td>\n",
       "      <td>-2369.999720</td>\n",
       "      <td>33</td>\n",
       "      <td>высшее</td>\n",
       "      <td>0</td>\n",
       "      <td>гражданский брак</td>\n",
       "      <td>1</td>\n",
       "      <td>M</td>\n",
       "      <td>сотрудник</td>\n",
       "      <td>0</td>\n",
       "      <td>90410.586745</td>\n",
       "      <td>строительство недвижимости</td>\n",
       "    </tr>\n",
       "    <tr>\n",
       "      <th>18</th>\n",
       "      <td>0</td>\n",
       "      <td>400281.136913</td>\n",
       "      <td>53</td>\n",
       "      <td>среднее</td>\n",
       "      <td>1</td>\n",
       "      <td>вдовец / вдова</td>\n",
       "      <td>2</td>\n",
       "      <td>F</td>\n",
       "      <td>пенсионер</td>\n",
       "      <td>0</td>\n",
       "      <td>56823.777243</td>\n",
       "      <td>на покупку подержанного автомобиля</td>\n",
       "    </tr>\n",
       "    <tr>\n",
       "      <th>19</th>\n",
       "      <td>0</td>\n",
       "      <td>-10038.818549</td>\n",
       "      <td>48</td>\n",
       "      <td>СРЕДНЕЕ</td>\n",
       "      <td>1</td>\n",
       "      <td>в разводе</td>\n",
       "      <td>3</td>\n",
       "      <td>F</td>\n",
       "      <td>сотрудник</td>\n",
       "      <td>0</td>\n",
       "      <td>242831.107982</td>\n",
       "      <td>на покупку своего автомобиля</td>\n",
       "    </tr>\n",
       "  </tbody>\n",
       "</table>\n",
       "</div>"
      ],
      "text/plain": [
       "    children  days_employed  dob_years            education  education_id  \\\n",
       "0          1   -8437.673028         42               высшее             0   \n",
       "1          1   -4024.803754         36              среднее             1   \n",
       "2          0   -5623.422610         33              Среднее             1   \n",
       "3          3   -4124.747207         32              среднее             1   \n",
       "4          0  340266.072047         53              среднее             1   \n",
       "5          0    -926.185831         27               высшее             0   \n",
       "6          0   -2879.202052         43               высшее             0   \n",
       "7          0    -152.779569         50              СРЕДНЕЕ             1   \n",
       "8          2   -6929.865299         35               ВЫСШЕЕ             0   \n",
       "9          0   -2188.756445         41              среднее             1   \n",
       "10         2   -4171.483647         36               высшее             0   \n",
       "11         0    -792.701887         40              среднее             1   \n",
       "12         0            NaN         65              среднее             1   \n",
       "13         0   -1846.641941         54  неоконченное высшее             2   \n",
       "14         0   -1844.956182         56               высшее             0   \n",
       "15         1    -972.364419         26              среднее             1   \n",
       "16         0   -1719.934226         35              среднее             1   \n",
       "17         0   -2369.999720         33               высшее             0   \n",
       "18         0  400281.136913         53              среднее             1   \n",
       "19         0  -10038.818549         48              СРЕДНЕЕ             1   \n",
       "\n",
       "       family_status  family_status_id gender income_type  debt  \\\n",
       "0    женат / замужем                 0      F   сотрудник     0   \n",
       "1    женат / замужем                 0      F   сотрудник     0   \n",
       "2    женат / замужем                 0      M   сотрудник     0   \n",
       "3    женат / замужем                 0      M   сотрудник     0   \n",
       "4   гражданский брак                 1      F   пенсионер     0   \n",
       "5   гражданский брак                 1      M   компаньон     0   \n",
       "6    женат / замужем                 0      F   компаньон     0   \n",
       "7    женат / замужем                 0      M   сотрудник     0   \n",
       "8   гражданский брак                 1      F   сотрудник     0   \n",
       "9    женат / замужем                 0      M   сотрудник     0   \n",
       "10   женат / замужем                 0      M   компаньон     0   \n",
       "11   женат / замужем                 0      F   сотрудник     0   \n",
       "12  гражданский брак                 1      M   пенсионер     0   \n",
       "13   женат / замужем                 0      F   сотрудник     0   \n",
       "14  гражданский брак                 1      F   компаньон     1   \n",
       "15   женат / замужем                 0      F   сотрудник     0   \n",
       "16   женат / замужем                 0      F   сотрудник     0   \n",
       "17  гражданский брак                 1      M   сотрудник     0   \n",
       "18    вдовец / вдова                 2      F   пенсионер     0   \n",
       "19         в разводе                 3      F   сотрудник     0   \n",
       "\n",
       "     total_income                                 purpose  \n",
       "0   253875.639453                           покупка жилья  \n",
       "1   112080.014102                 приобретение автомобиля  \n",
       "2   145885.952297                           покупка жилья  \n",
       "3   267628.550329              дополнительное образование  \n",
       "4   158616.077870                         сыграть свадьбу  \n",
       "5   255763.565419                           покупка жилья  \n",
       "6   240525.971920                       операции с жильем  \n",
       "7   135823.934197                             образование  \n",
       "8    95856.832424                   на проведение свадьбы  \n",
       "9   144425.938277                 покупка жилья для семьи  \n",
       "10  113943.491460                    покупка недвижимости  \n",
       "11   77069.234271       покупка коммерческой недвижимости  \n",
       "12            NaN                         сыграть свадьбу  \n",
       "13  130458.228857                 приобретение автомобиля  \n",
       "14  165127.911772              покупка жилой недвижимости  \n",
       "15  116820.904450  строительство собственной недвижимости  \n",
       "16  289202.704229                            недвижимость  \n",
       "17   90410.586745              строительство недвижимости  \n",
       "18   56823.777243      на покупку подержанного автомобиля  \n",
       "19  242831.107982            на покупку своего автомобиля  "
      ]
     },
     "execution_count": 2,
     "metadata": {},
     "output_type": "execute_result"
    }
   ],
   "source": [
    "data.head(20)"
   ]
  },
  {
   "cell_type": "markdown",
   "id": "fbaeaec6",
   "metadata": {
    "deletable": false,
    "editable": false,
    "id": "1c12e233"
   },
   "source": [
    "**Задание 3. Выведите основную информацию о датафрейме с помощью метода `info()`.**"
   ]
  },
  {
   "cell_type": "code",
   "execution_count": 3,
   "id": "c2a2339b",
   "metadata": {
    "deletable": false,
    "id": "2b757bca",
    "outputId": "15376089-8dad-46c9-b520-c05248d43158"
   },
   "outputs": [
    {
     "name": "stdout",
     "output_type": "stream",
     "text": [
      "<class 'pandas.core.frame.DataFrame'>\n",
      "RangeIndex: 21525 entries, 0 to 21524\n",
      "Data columns (total 12 columns):\n",
      " #   Column            Non-Null Count  Dtype  \n",
      "---  ------            --------------  -----  \n",
      " 0   children          21525 non-null  int64  \n",
      " 1   days_employed     19351 non-null  float64\n",
      " 2   dob_years         21525 non-null  int64  \n",
      " 3   education         21525 non-null  object \n",
      " 4   education_id      21525 non-null  int64  \n",
      " 5   family_status     21525 non-null  object \n",
      " 6   family_status_id  21525 non-null  int64  \n",
      " 7   gender            21525 non-null  object \n",
      " 8   income_type       21525 non-null  object \n",
      " 9   debt              21525 non-null  int64  \n",
      " 10  total_income      19351 non-null  float64\n",
      " 11  purpose           21525 non-null  object \n",
      "dtypes: float64(2), int64(5), object(5)\n",
      "memory usage: 2.0+ MB\n"
     ]
    }
   ],
   "source": [
    "data.info()"
   ]
  },
  {
   "cell_type": "markdown",
   "id": "1f561eec",
   "metadata": {
    "deletable": false,
    "editable": false,
    "id": "333ec665"
   },
   "source": [
    "## Предобработка данных"
   ]
  },
  {
   "cell_type": "markdown",
   "id": "e9d8c775",
   "metadata": {
    "deletable": false,
    "editable": false,
    "id": "02d92d53"
   },
   "source": [
    "### Удаление пропусков"
   ]
  },
  {
   "cell_type": "markdown",
   "id": "35064310",
   "metadata": {
    "deletable": false,
    "editable": false,
    "id": "cd84967c"
   },
   "source": [
    "**Задание 4. Выведите количество пропущенных значений для каждого столбца. Используйте комбинацию двух методов.**"
   ]
  },
  {
   "cell_type": "code",
   "execution_count": 4,
   "id": "7b901fb9",
   "metadata": {
    "deletable": false,
    "id": "7f9b2309",
    "outputId": "81f4d817-781c-465c-ed15-91ce4446810d"
   },
   "outputs": [
    {
     "data": {
      "text/plain": [
       "children               0\n",
       "days_employed       2174\n",
       "dob_years              0\n",
       "education              0\n",
       "education_id           0\n",
       "family_status          0\n",
       "family_status_id       0\n",
       "gender                 0\n",
       "income_type            0\n",
       "debt                   0\n",
       "total_income        2174\n",
       "purpose                0\n",
       "dtype: int64"
      ]
     },
     "execution_count": 4,
     "metadata": {},
     "output_type": "execute_result"
    }
   ],
   "source": [
    "data.isna().sum()"
   ]
  },
  {
   "cell_type": "markdown",
   "id": "d22d5b8a",
   "metadata": {
    "deletable": false,
    "editable": false,
    "id": "db86e27b"
   },
   "source": [
    "**Задание 5. В двух столбцах есть пропущенные значения. Один из них — `days_employed`. Пропуски в этом столбце вы обработаете на следующем этапе. Другой столбец с пропущенными значениями — `total_income` — хранит данные о доходах. На сумму дохода сильнее всего влияет тип занятости, поэтому заполнить пропуски в этом столбце нужно медианным значением по каждому типу из столбца `income_type`. Например, у человека с типом занятости `сотрудник` пропуск в столбце `total_income` должен быть заполнен медианным доходом среди всех записей с тем же типом.**"
   ]
  },
  {
   "cell_type": "code",
   "execution_count": 5,
   "id": "05b606c5",
   "metadata": {
    "deletable": false,
    "id": "42006a93"
   },
   "outputs": [],
   "source": [
    "for t in data['income_type'].unique():\n",
    "    data.loc[(data['income_type'] == t) & (data['total_income'].isna()), 'total_income'] = \\\n",
    "    data.loc[(data['income_type'] == t), 'total_income'].median()"
   ]
  },
  {
   "cell_type": "markdown",
   "id": "7347563b",
   "metadata": {
    "deletable": false,
    "editable": false,
    "id": "89da5ece"
   },
   "source": [
    "### Обработка аномальных значений"
   ]
  },
  {
   "cell_type": "markdown",
   "id": "e7842515",
   "metadata": {
    "deletable": false,
    "editable": false,
    "id": "57964554"
   },
   "source": [
    "**Задание 6. В данных могут встречаться артефакты (аномалии) — значения, которые не отражают действительность и появились по какой-то ошибке. таким артефактом будет отрицательное количество дней трудового стажа в столбце `days_employed`. Для реальных данных это нормально. Обработайте значения в этом столбце: замените все отрицательные значения положительными с помощью метода `abs()`.**"
   ]
  },
  {
   "cell_type": "code",
   "execution_count": 6,
   "id": "446d1fd1",
   "metadata": {
    "deletable": false,
    "id": "f6f055bf"
   },
   "outputs": [],
   "source": [
    "data['days_employed'] = data['days_employed'].abs()"
   ]
  },
  {
   "cell_type": "markdown",
   "id": "98d0bae2",
   "metadata": {
    "deletable": false,
    "editable": false,
    "id": "6107dd2f"
   },
   "source": [
    "**Задание 7. Для каждого типа занятости выведите медианное значение трудового стажа `days_employed` в днях.**"
   ]
  },
  {
   "cell_type": "code",
   "execution_count": 7,
   "id": "f801ed18",
   "metadata": {
    "deletable": false,
    "id": "85a5faf6",
    "outputId": "801ef80e-522b-4668-f34e-565af7432bcf"
   },
   "outputs": [
    {
     "data": {
      "text/plain": [
       "income_type\n",
       "безработный        366413.652744\n",
       "в декрете            3296.759962\n",
       "госслужащий          2689.368353\n",
       "компаньон            1547.382223\n",
       "пенсионер          365213.306266\n",
       "предприниматель       520.848083\n",
       "сотрудник            1574.202821\n",
       "студент               578.751554\n",
       "Name: days_employed, dtype: float64"
      ]
     },
     "execution_count": 7,
     "metadata": {},
     "output_type": "execute_result"
    }
   ],
   "source": [
    "data.groupby('income_type')['days_employed'].agg('median')"
   ]
  },
  {
   "cell_type": "markdown",
   "id": "f0012490",
   "metadata": {
    "deletable": false,
    "editable": false,
    "id": "38d1a030"
   },
   "source": [
    "У двух типов (безработные и пенсионеры) получатся аномально большие значения. Исправить такие значения сложно, поэтому оставьте их как есть. Тем более этот столбец не понадобится вам для исследования."
   ]
  },
  {
   "cell_type": "markdown",
   "id": "4c31fb11",
   "metadata": {
    "deletable": false,
    "editable": false,
    "id": "d8a9f147"
   },
   "source": [
    "**Задание 8. Выведите перечень уникальных значений столбца `children`.**"
   ]
  },
  {
   "cell_type": "code",
   "execution_count": 8,
   "id": "fe923ebe",
   "metadata": {
    "deletable": false,
    "id": "ef5056eb",
    "outputId": "6975b15c-7f95-4697-d16d-a0c79b657b03"
   },
   "outputs": [
    {
     "data": {
      "text/plain": [
       "array([ 1,  0,  3,  2, -1,  4, 20,  5])"
      ]
     },
     "execution_count": 8,
     "metadata": {},
     "output_type": "execute_result"
    }
   ],
   "source": [
    "data['children'].unique()"
   ]
  },
  {
   "cell_type": "markdown",
   "id": "1de60757",
   "metadata": {
    "deletable": false,
    "editable": false,
    "id": "40b9ebf2"
   },
   "source": [
    "**Задание 9. В столбце `children` есть два аномальных значения. Удалите строки, в которых встречаются такие аномальные значения из датафрейма `data`.**"
   ]
  },
  {
   "cell_type": "code",
   "execution_count": 9,
   "id": "433a7243",
   "metadata": {
    "deletable": false,
    "id": "3ff9801d"
   },
   "outputs": [],
   "source": [
    "data = data[(data['children'] != -1) & (data['children'] != 20)]"
   ]
  },
  {
   "cell_type": "markdown",
   "id": "a0b2118e",
   "metadata": {
    "deletable": false,
    "editable": false,
    "id": "bbc4d0ce"
   },
   "source": [
    "**Задание 10. Ещё раз выведите перечень уникальных значений столбца `children`, чтобы убедиться, что артефакты удалены.**"
   ]
  },
  {
   "cell_type": "code",
   "execution_count": 10,
   "id": "9cdcbe30",
   "metadata": {
    "deletable": false,
    "id": "ad4fa8b7",
    "outputId": "b2097101-d49d-44d9-901b-32a65c9463d1"
   },
   "outputs": [
    {
     "data": {
      "text/plain": [
       "array([1, 0, 3, 2, 4, 5])"
      ]
     },
     "execution_count": 10,
     "metadata": {},
     "output_type": "execute_result"
    }
   ],
   "source": [
    "data['children'].unique()"
   ]
  },
  {
   "cell_type": "markdown",
   "id": "65ff9af2",
   "metadata": {
    "deletable": false,
    "editable": false,
    "id": "75440b63"
   },
   "source": [
    "### Удаление пропусков (продолжение)"
   ]
  },
  {
   "cell_type": "markdown",
   "id": "cd2ba062",
   "metadata": {
    "deletable": false,
    "editable": false,
    "id": "f4ea573f"
   },
   "source": [
    "**Задание 11. Заполните пропуски в столбце `days_employed` медианными значениями по каждого типа занятости `income_type`.**"
   ]
  },
  {
   "cell_type": "code",
   "execution_count": 11,
   "id": "d99c7593",
   "metadata": {
    "deletable": false,
    "id": "af6b1a7e"
   },
   "outputs": [],
   "source": [
    "for t in data['income_type'].unique():\n",
    "    data.loc[(data['income_type'] == t) & (data['days_employed'].isna()), 'days_employed'] = \\\n",
    "    data.loc[(data['income_type'] == t), 'days_employed'].median()"
   ]
  },
  {
   "cell_type": "markdown",
   "id": "0494d0b6",
   "metadata": {
    "deletable": false,
    "editable": false,
    "id": "2753f40d"
   },
   "source": [
    "**Задание 12. Убедитесь, что все пропуски заполнены. Проверьте себя и ещё раз выведите количество пропущенных значений для каждого столбца с помощью двух методов.**"
   ]
  },
  {
   "cell_type": "code",
   "execution_count": 12,
   "id": "8db30c96",
   "metadata": {
    "deletable": false,
    "id": "55f78bc2",
    "outputId": "8da1e4e1-358e-4e87-98c9-f261bce0a7b2"
   },
   "outputs": [
    {
     "data": {
      "text/plain": [
       "children            0\n",
       "days_employed       0\n",
       "dob_years           0\n",
       "education           0\n",
       "education_id        0\n",
       "family_status       0\n",
       "family_status_id    0\n",
       "gender              0\n",
       "income_type         0\n",
       "debt                0\n",
       "total_income        0\n",
       "purpose             0\n",
       "dtype: int64"
      ]
     },
     "execution_count": 12,
     "metadata": {},
     "output_type": "execute_result"
    }
   ],
   "source": [
    "data.isna().sum()"
   ]
  },
  {
   "cell_type": "markdown",
   "id": "3b12edb2",
   "metadata": {
    "deletable": false,
    "editable": false,
    "id": "ddc81e43"
   },
   "source": [
    "### Изменение типов данных"
   ]
  },
  {
   "cell_type": "markdown",
   "id": "928d49eb",
   "metadata": {
    "deletable": false,
    "editable": false,
    "id": "42d19d24"
   },
   "source": [
    "**Задание 13. Замените вещественный тип данных в столбце `total_income` на целочисленный с помощью метода `astype()`.**"
   ]
  },
  {
   "cell_type": "code",
   "execution_count": 13,
   "id": "7bc5e087",
   "metadata": {
    "deletable": false,
    "id": "920b65ad"
   },
   "outputs": [],
   "source": [
    "data['total_income'] = data['total_income'].astype(int)"
   ]
  },
  {
   "cell_type": "markdown",
   "id": "14e89834",
   "metadata": {
    "deletable": false,
    "editable": false,
    "id": "80c420ba"
   },
   "source": [
    "### Обработка дубликатов"
   ]
  },
  {
   "cell_type": "markdown",
   "id": "3fee4ddd",
   "metadata": {
    "deletable": false,
    "editable": false
   },
   "source": [
    "**Задание 14. Обработайте неявные дубликаты в столбце `education`. В этом столбце есть одни и те же значения, но записанные по-разному: с использованием заглавных и строчных букв. Приведите их к нижнему регистру. Проверьте остальные столбцы.**"
   ]
  },
  {
   "cell_type": "code",
   "execution_count": 14,
   "id": "364e4494",
   "metadata": {
    "deletable": false
   },
   "outputs": [],
   "source": [
    "data['education'] = data['education'].str.lower()"
   ]
  },
  {
   "cell_type": "markdown",
   "id": "ba6f89e3",
   "metadata": {
    "deletable": false,
    "editable": false,
    "id": "dc587695"
   },
   "source": [
    "**Задание 15. Выведите на экран количество строк-дубликатов в данных. Если такие строки присутствуют, удалите их.**"
   ]
  },
  {
   "cell_type": "code",
   "execution_count": 15,
   "id": "1133b63c",
   "metadata": {
    "deletable": false,
    "id": "3ee445e4",
    "outputId": "9684deba-1934-42d1-99e1-cda61740f822"
   },
   "outputs": [
    {
     "data": {
      "text/plain": [
       "71"
      ]
     },
     "execution_count": 15,
     "metadata": {},
     "output_type": "execute_result"
    }
   ],
   "source": [
    "data.duplicated().sum()"
   ]
  },
  {
   "cell_type": "code",
   "execution_count": 16,
   "id": "7ccd8651",
   "metadata": {
    "deletable": false,
    "id": "8575fe05"
   },
   "outputs": [],
   "source": [
    "data = data.drop_duplicates()"
   ]
  },
  {
   "cell_type": "markdown",
   "id": "86c83ea9",
   "metadata": {
    "deletable": false,
    "editable": false,
    "id": "9904cf55"
   },
   "source": [
    "### Категоризация данных"
   ]
  },
  {
   "cell_type": "markdown",
   "id": "4cbddf8e",
   "metadata": {
    "deletable": false,
    "editable": false,
    "id": "72fcc8a2"
   },
   "source": [
    "**Задание 16. На основании диапазонов, указанных ниже, создайте в датафрейме `data` столбец `total_income_category` с категориями:**\n",
    "\n",
    "- 0–30000 — `'E'`;\n",
    "- 30001–50000 — `'D'`;\n",
    "- 50001–200000 — `'C'`;\n",
    "- 200001–1000000 — `'B'`;\n",
    "- 1000001 и выше — `'A'`.\n",
    "\n",
    "\n",
    "**Например, кредитополучателю с доходом 25000 нужно назначить категорию `'E'`, а клиенту, получающему 235000, — `'B'`. Используйте собственную функцию с именем `categorize_income()` и метод `apply()`.**"
   ]
  },
  {
   "cell_type": "code",
   "execution_count": 17,
   "id": "e7dfac8e",
   "metadata": {
    "deletable": false,
    "id": "e1771346"
   },
   "outputs": [],
   "source": [
    "def categorize_income(income):\n",
    "    try:\n",
    "        if 0 <= income <= 30000:\n",
    "            return 'E'\n",
    "        elif 30001 <= income <= 50000:\n",
    "            return 'D'\n",
    "        elif 50001 <= income <= 200000:\n",
    "            return 'C'\n",
    "        elif 200001 <= income <= 1000000:\n",
    "            return 'B'\n",
    "        elif income >= 1000001:\n",
    "            return 'A'\n",
    "    except:\n",
    "        pass"
   ]
  },
  {
   "cell_type": "code",
   "execution_count": 18,
   "id": "b6e02190",
   "metadata": {
    "deletable": false,
    "id": "d5f3586d"
   },
   "outputs": [],
   "source": [
    "data['total_income_category'] = data['total_income'].apply(categorize_income)"
   ]
  },
  {
   "cell_type": "markdown",
   "id": "0acdeda4",
   "metadata": {
    "deletable": false,
    "editable": false,
    "id": "dde49b5c"
   },
   "source": [
    "**Задание 17. Выведите на экран перечень уникальных целей взятия кредита из столбца `purpose`.**"
   ]
  },
  {
   "cell_type": "code",
   "execution_count": 19,
   "id": "e62bdd83",
   "metadata": {
    "deletable": false,
    "id": "f67ce9b3",
    "outputId": "673c12d9-7d7e-4ae0-9812-c622c89dd244"
   },
   "outputs": [
    {
     "data": {
      "text/plain": [
       "array(['покупка жилья', 'приобретение автомобиля',\n",
       "       'дополнительное образование', 'сыграть свадьбу',\n",
       "       'операции с жильем', 'образование', 'на проведение свадьбы',\n",
       "       'покупка жилья для семьи', 'покупка недвижимости',\n",
       "       'покупка коммерческой недвижимости', 'покупка жилой недвижимости',\n",
       "       'строительство собственной недвижимости', 'недвижимость',\n",
       "       'строительство недвижимости', 'на покупку подержанного автомобиля',\n",
       "       'на покупку своего автомобиля',\n",
       "       'операции с коммерческой недвижимостью',\n",
       "       'строительство жилой недвижимости', 'жилье',\n",
       "       'операции со своей недвижимостью', 'автомобили',\n",
       "       'заняться образованием', 'сделка с подержанным автомобилем',\n",
       "       'получение образования', 'автомобиль', 'свадьба',\n",
       "       'получение дополнительного образования', 'покупка своего жилья',\n",
       "       'операции с недвижимостью', 'получение высшего образования',\n",
       "       'свой автомобиль', 'сделка с автомобилем',\n",
       "       'профильное образование', 'высшее образование',\n",
       "       'покупка жилья для сдачи', 'на покупку автомобиля', 'ремонт жилью',\n",
       "       'заняться высшим образованием'], dtype=object)"
      ]
     },
     "execution_count": 19,
     "metadata": {},
     "output_type": "execute_result"
    }
   ],
   "source": [
    "data['purpose'].unique()"
   ]
  },
  {
   "cell_type": "markdown",
   "id": "49d647dd",
   "metadata": {
    "deletable": false,
    "editable": false,
    "id": "85d0aef0"
   },
   "source": [
    "**Задание 18. Создайте функцию, которая на основании данных из столбца `purpose` сформирует новый столбец `purpose_category`, в который войдут следующие категории:**\n",
    "\n",
    "- `'операции с автомобилем'`,\n",
    "- `'операции с недвижимостью'`,\n",
    "- `'проведение свадьбы'`,\n",
    "- `'получение образования'`.\n",
    "\n",
    "**Например, если в столбце `purpose` находится подстрока `'на покупку автомобиля'`, то в столбце `purpose_category` должна появиться строка `'операции с автомобилем'`.**\n",
    "\n",
    "**Используйте собственную функцию с именем `categorize_purpose()` и метод `apply()`. Изучите данные в столбце `purpose` и определите, какие подстроки помогут вам правильно определить категорию.**"
   ]
  },
  {
   "cell_type": "code",
   "execution_count": 20,
   "id": "f2caa163",
   "metadata": {
    "deletable": false,
    "id": "e149fab4"
   },
   "outputs": [],
   "source": [
    "def categorize_purpose(row):\n",
    "    try:\n",
    "        if 'автом' in row:\n",
    "            return 'операции с автомобилем'\n",
    "        elif 'жил' in row or 'недвиж' in row:\n",
    "            return 'операции с недвижимостью'\n",
    "        elif 'свад' in row:\n",
    "            return 'проведение свадьбы'\n",
    "        elif 'образов' in row:\n",
    "            return 'получение образования'\n",
    "    except:\n",
    "        return 'нет категории'"
   ]
  },
  {
   "cell_type": "code",
   "execution_count": 21,
   "id": "60564556",
   "metadata": {
    "deletable": false,
    "id": "bf36e69b"
   },
   "outputs": [],
   "source": [
    "data['purpose_category'] = data['purpose'].apply(categorize_purpose)"
   ]
  },
  {
   "cell_type": "markdown",
   "id": "fad3c6c8",
   "metadata": {
    "deletable": false,
    "editable": false,
    "id": "09b242bf"
   },
   "source": [
    "### Шаг 3. Исследуйте данные и ответьте на вопросы"
   ]
  },
  {
   "cell_type": "markdown",
   "id": "1e11c16f",
   "metadata": {
    "deletable": false,
    "editable": false,
    "id": "c5d66278"
   },
   "source": [
    "#### 3.1 Есть ли зависимость между количеством детей и возвратом кредита в срок?"
   ]
  },
  {
   "cell_type": "code",
   "execution_count": 22,
   "id": "89a3c149",
   "metadata": {
    "deletable": false,
    "id": "2cacfc4a"
   },
   "outputs": [
    {
     "data": {
      "text/html": [
       "<div>\n",
       "<style scoped>\n",
       "    .dataframe tbody tr th:only-of-type {\n",
       "        vertical-align: middle;\n",
       "    }\n",
       "\n",
       "    .dataframe tbody tr th {\n",
       "        vertical-align: top;\n",
       "    }\n",
       "\n",
       "    .dataframe thead tr th {\n",
       "        text-align: left;\n",
       "    }\n",
       "\n",
       "    .dataframe thead tr:last-of-type th {\n",
       "        text-align: right;\n",
       "    }\n",
       "</style>\n",
       "<table border=\"1\" class=\"dataframe\">\n",
       "  <thead>\n",
       "    <tr>\n",
       "      <th></th>\n",
       "      <th>count</th>\n",
       "      <th>sum</th>\n",
       "      <th>mean</th>\n",
       "    </tr>\n",
       "    <tr>\n",
       "      <th></th>\n",
       "      <th>debt</th>\n",
       "      <th>debt</th>\n",
       "      <th>debt</th>\n",
       "    </tr>\n",
       "    <tr>\n",
       "      <th>children</th>\n",
       "      <th></th>\n",
       "      <th></th>\n",
       "      <th></th>\n",
       "    </tr>\n",
       "  </thead>\n",
       "  <tbody>\n",
       "    <tr>\n",
       "      <th>0</th>\n",
       "      <td>14091</td>\n",
       "      <td>1063</td>\n",
       "      <td>0.075438</td>\n",
       "    </tr>\n",
       "    <tr>\n",
       "      <th>1</th>\n",
       "      <td>4808</td>\n",
       "      <td>444</td>\n",
       "      <td>0.092346</td>\n",
       "    </tr>\n",
       "    <tr>\n",
       "      <th>2</th>\n",
       "      <td>2052</td>\n",
       "      <td>194</td>\n",
       "      <td>0.094542</td>\n",
       "    </tr>\n",
       "    <tr>\n",
       "      <th>3</th>\n",
       "      <td>330</td>\n",
       "      <td>27</td>\n",
       "      <td>0.081818</td>\n",
       "    </tr>\n",
       "    <tr>\n",
       "      <th>4</th>\n",
       "      <td>41</td>\n",
       "      <td>4</td>\n",
       "      <td>0.097561</td>\n",
       "    </tr>\n",
       "    <tr>\n",
       "      <th>5</th>\n",
       "      <td>9</td>\n",
       "      <td>0</td>\n",
       "      <td>0.000000</td>\n",
       "    </tr>\n",
       "  </tbody>\n",
       "</table>\n",
       "</div>"
      ],
      "text/plain": [
       "          count   sum      mean\n",
       "           debt  debt      debt\n",
       "children                       \n",
       "0         14091  1063  0.075438\n",
       "1          4808   444  0.092346\n",
       "2          2052   194  0.094542\n",
       "3           330    27  0.081818\n",
       "4            41     4  0.097561\n",
       "5             9     0  0.000000"
      ]
     },
     "execution_count": 22,
     "metadata": {},
     "output_type": "execute_result"
    }
   ],
   "source": [
    "# Ваш код будет здесь. Вы можете создавать новые ячейки.\n",
    "data_pivot = data.pivot_table(index=['children'], values=['debt'], aggfunc=['count', 'sum', 'mean'])\n",
    "data_pivot"
   ]
  },
  {
   "cell_type": "code",
   "execution_count": 23,
   "id": "1bd27305",
   "metadata": {},
   "outputs": [
    {
     "data": {
      "text/plain": [
       "<AxesSubplot:xlabel='children', ylabel='debt'>"
      ]
     },
     "execution_count": 23,
     "metadata": {},
     "output_type": "execute_result"
    },
    {
     "data": {
      "image/png": "[encoded data removed]",
      "text/plain": [
       "<Figure size 432x288 with 1 Axes>"
      ]
     },
     "metadata": {
      "needs_background": "light"
     },
     "output_type": "display_data"
    }
   ],
   "source": [
    "import seaborn\n",
    "\n",
    "seaborn.barplot(data = data, x='children', y='debt', ci = None)"
   ]
  },
  {
   "cell_type": "markdown",
   "id": "d548d4a2",
   "metadata": {
    "deletable": false,
    "id": "3a6b99ec"
   },
   "source": [
    "**Вывод:** \n",
    "\n",
    "Из полученной сводной таблицы и даиграммы мы видим, что есть небольшая зависимость между количеством детей и возвратом кредита в срок, а именно, среди бездетных заемщиков доля должников меньше. \n",
    "Среди тех, у кого четверо детей, доля должников более чем на 2 процентных пункта выше, чем среди бездетных (это наибольшая разница), далее идут те, у кого двое детей, с разницей 1,9 процентных пунктов с бездетными. На 1,7 процентный пункт больше доля должников среди тех, у кого один ребенок по сравнению с бездетными. И что особенно интересно, наименьшая разница в доле должников между бездетными и теми, у кого трое детей - всего 0,6 процентных пункта. "
   ]
  },
  {
   "cell_type": "markdown",
   "id": "cee19d2c",
   "metadata": {
    "deletable": false,
    "editable": false,
    "id": "97be82ca"
   },
   "source": [
    "#### 3.2 Есть ли зависимость между семейным положением и возвратом кредита в срок?"
   ]
  },
  {
   "cell_type": "code",
   "execution_count": 24,
   "id": "27e0ed6a",
   "metadata": {
    "deletable": false,
    "id": "dc3f7ee8"
   },
   "outputs": [
    {
     "data": {
      "text/html": [
       "<div>\n",
       "<style scoped>\n",
       "    .dataframe tbody tr th:only-of-type {\n",
       "        vertical-align: middle;\n",
       "    }\n",
       "\n",
       "    .dataframe tbody tr th {\n",
       "        vertical-align: top;\n",
       "    }\n",
       "\n",
       "    .dataframe thead tr th {\n",
       "        text-align: left;\n",
       "    }\n",
       "\n",
       "    .dataframe thead tr:last-of-type th {\n",
       "        text-align: right;\n",
       "    }\n",
       "</style>\n",
       "<table border=\"1\" class=\"dataframe\">\n",
       "  <thead>\n",
       "    <tr>\n",
       "      <th></th>\n",
       "      <th>count</th>\n",
       "      <th>sum</th>\n",
       "      <th>mean</th>\n",
       "    </tr>\n",
       "    <tr>\n",
       "      <th></th>\n",
       "      <th>debt</th>\n",
       "      <th>debt</th>\n",
       "      <th>debt</th>\n",
       "    </tr>\n",
       "    <tr>\n",
       "      <th>family_status</th>\n",
       "      <th></th>\n",
       "      <th></th>\n",
       "      <th></th>\n",
       "    </tr>\n",
       "  </thead>\n",
       "  <tbody>\n",
       "    <tr>\n",
       "      <th>вдовец / вдова</th>\n",
       "      <td>951</td>\n",
       "      <td>63</td>\n",
       "      <td>0.066246</td>\n",
       "    </tr>\n",
       "    <tr>\n",
       "      <th>в разводе</th>\n",
       "      <td>1189</td>\n",
       "      <td>84</td>\n",
       "      <td>0.070648</td>\n",
       "    </tr>\n",
       "    <tr>\n",
       "      <th>женат / замужем</th>\n",
       "      <td>12261</td>\n",
       "      <td>927</td>\n",
       "      <td>0.075606</td>\n",
       "    </tr>\n",
       "    <tr>\n",
       "      <th>гражданский брак</th>\n",
       "      <td>4134</td>\n",
       "      <td>385</td>\n",
       "      <td>0.093130</td>\n",
       "    </tr>\n",
       "    <tr>\n",
       "      <th>Не женат / не замужем</th>\n",
       "      <td>2796</td>\n",
       "      <td>273</td>\n",
       "      <td>0.097639</td>\n",
       "    </tr>\n",
       "  </tbody>\n",
       "</table>\n",
       "</div>"
      ],
      "text/plain": [
       "                       count  sum      mean\n",
       "                        debt debt      debt\n",
       "family_status                              \n",
       "вдовец / вдова           951   63  0.066246\n",
       "в разводе               1189   84  0.070648\n",
       "женат / замужем        12261  927  0.075606\n",
       "гражданский брак        4134  385  0.093130\n",
       "Не женат / не замужем   2796  273  0.097639"
      ]
     },
     "execution_count": 24,
     "metadata": {},
     "output_type": "execute_result"
    }
   ],
   "source": [
    "# Ваш код будет здесь. Вы можете создавать новые ячейки.\n",
    "data_pivot = data.pivot_table(index='family_status', values='debt', aggfunc=['count', 'sum', 'mean'])\n",
    "data_pivot = data_pivot.sort_values(by=('mean','debt'))\n",
    "data_pivot"
   ]
  },
  {
   "cell_type": "markdown",
   "id": "d3fa4f89",
   "metadata": {
    "deletable": false,
    "id": "1cef7837"
   },
   "source": [
    "**Вывод:** \n",
    "\n",
    "Если число детей увеличивает вероятность невозврата заемных средств, то с браком дело обстоит иначе, хотя и здесь зависимость не очень большая (максимальное различие чуть больше 3 процентных пунктов).\n",
    "Самая большая доля должников среди тех заемщиков, у кого семейное положение: \"Не женат / Не замужем\" (9,8%), не сильно меньше доля должников и среди тех, кто находится в незарегистрированном браке (семейное положение: \"гражданский брак\") - 9,3%. \n",
    "Наименьшая доля должников среди тех, кто имеет семейное положение \"вдовец / вдова\" - 6,6%.\n",
    "Среди самое многочисленной категории - заемщиков со статусом \"женат / замужем\" доля должников составила 7,6%, что более чем на 2 процентных пункта ниже, чем среди заемщиков с семейным положением \"не женат / не замужем\"."
   ]
  },
  {
   "cell_type": "markdown",
   "id": "8393e0f6",
   "metadata": {
    "deletable": false,
    "editable": false,
    "id": "1e8b2fca"
   },
   "source": [
    "#### 3.3 Есть ли зависимость между уровнем дохода и возвратом кредита в срок?"
   ]
  },
  {
   "cell_type": "code",
   "execution_count": 25,
   "id": "04db2488",
   "metadata": {
    "deletable": false,
    "id": "cd7e3720",
    "scrolled": false
   },
   "outputs": [
    {
     "data": {
      "text/html": [
       "<div>\n",
       "<style scoped>\n",
       "    .dataframe tbody tr th:only-of-type {\n",
       "        vertical-align: middle;\n",
       "    }\n",
       "\n",
       "    .dataframe tbody tr th {\n",
       "        vertical-align: top;\n",
       "    }\n",
       "\n",
       "    .dataframe thead tr th {\n",
       "        text-align: left;\n",
       "    }\n",
       "\n",
       "    .dataframe thead tr:last-of-type th {\n",
       "        text-align: right;\n",
       "    }\n",
       "</style>\n",
       "<table border=\"1\" class=\"dataframe\">\n",
       "  <thead>\n",
       "    <tr>\n",
       "      <th></th>\n",
       "      <th>count</th>\n",
       "      <th>sum</th>\n",
       "      <th>mean</th>\n",
       "    </tr>\n",
       "    <tr>\n",
       "      <th></th>\n",
       "      <th>debt</th>\n",
       "      <th>debt</th>\n",
       "      <th>debt</th>\n",
       "    </tr>\n",
       "    <tr>\n",
       "      <th>total_income_category</th>\n",
       "      <th></th>\n",
       "      <th></th>\n",
       "      <th></th>\n",
       "    </tr>\n",
       "  </thead>\n",
       "  <tbody>\n",
       "    <tr>\n",
       "      <th>A</th>\n",
       "      <td>25</td>\n",
       "      <td>2</td>\n",
       "      <td>0.080000</td>\n",
       "    </tr>\n",
       "    <tr>\n",
       "      <th>B</th>\n",
       "      <td>5014</td>\n",
       "      <td>354</td>\n",
       "      <td>0.070602</td>\n",
       "    </tr>\n",
       "    <tr>\n",
       "      <th>C</th>\n",
       "      <td>15921</td>\n",
       "      <td>1353</td>\n",
       "      <td>0.084982</td>\n",
       "    </tr>\n",
       "    <tr>\n",
       "      <th>D</th>\n",
       "      <td>349</td>\n",
       "      <td>21</td>\n",
       "      <td>0.060172</td>\n",
       "    </tr>\n",
       "    <tr>\n",
       "      <th>E</th>\n",
       "      <td>22</td>\n",
       "      <td>2</td>\n",
       "      <td>0.090909</td>\n",
       "    </tr>\n",
       "  </tbody>\n",
       "</table>\n",
       "</div>"
      ],
      "text/plain": [
       "                       count   sum      mean\n",
       "                        debt  debt      debt\n",
       "total_income_category                       \n",
       "A                         25     2  0.080000\n",
       "B                       5014   354  0.070602\n",
       "C                      15921  1353  0.084982\n",
       "D                        349    21  0.060172\n",
       "E                         22     2  0.090909"
      ]
     },
     "execution_count": 25,
     "metadata": {},
     "output_type": "execute_result"
    }
   ],
   "source": [
    "# Ваш код будет здесь. Вы можете создавать новые ячейки.\n",
    "data_pivot = data.pivot_table(index='total_income_category', values='debt', aggfunc=['count', 'sum', 'mean'])\n",
    "data_pivot"
   ]
  },
  {
   "cell_type": "markdown",
   "id": "876f53b4",
   "metadata": {
    "deletable": false,
    "id": "e8593def"
   },
   "source": []
  },
  {
   "cell_type": "markdown",
   "id": "1e6bfca3",
   "metadata": {
    "deletable": false,
    "editable": false,
    "id": "99ecbd1f"
   },
   "source": [
    "#### 3.4 Как разные цели кредита влияют на его возврат в срок?"
   ]
  },
  {
   "cell_type": "code",
   "execution_count": 26,
   "id": "8bcb5698",
   "metadata": {
    "deletable": false,
    "id": "2b687290"
   },
   "outputs": [
    {
     "data": {
      "text/html": [
       "<div>\n",
       "<style scoped>\n",
       "    .dataframe tbody tr th:only-of-type {\n",
       "        vertical-align: middle;\n",
       "    }\n",
       "\n",
       "    .dataframe tbody tr th {\n",
       "        vertical-align: top;\n",
       "    }\n",
       "\n",
       "    .dataframe thead tr th {\n",
       "        text-align: left;\n",
       "    }\n",
       "\n",
       "    .dataframe thead tr:last-of-type th {\n",
       "        text-align: right;\n",
       "    }\n",
       "</style>\n",
       "<table border=\"1\" class=\"dataframe\">\n",
       "  <thead>\n",
       "    <tr>\n",
       "      <th></th>\n",
       "      <th>count</th>\n",
       "      <th>sum</th>\n",
       "      <th>mean</th>\n",
       "    </tr>\n",
       "    <tr>\n",
       "      <th></th>\n",
       "      <th>debt</th>\n",
       "      <th>debt</th>\n",
       "      <th>debt</th>\n",
       "    </tr>\n",
       "    <tr>\n",
       "      <th>purpose_category</th>\n",
       "      <th></th>\n",
       "      <th></th>\n",
       "      <th></th>\n",
       "    </tr>\n",
       "  </thead>\n",
       "  <tbody>\n",
       "    <tr>\n",
       "      <th>операции с недвижимостью</th>\n",
       "      <td>10751</td>\n",
       "      <td>780</td>\n",
       "      <td>0.072551</td>\n",
       "    </tr>\n",
       "    <tr>\n",
       "      <th>проведение свадьбы</th>\n",
       "      <td>2313</td>\n",
       "      <td>183</td>\n",
       "      <td>0.079118</td>\n",
       "    </tr>\n",
       "    <tr>\n",
       "      <th>получение образования</th>\n",
       "      <td>3988</td>\n",
       "      <td>369</td>\n",
       "      <td>0.092528</td>\n",
       "    </tr>\n",
       "    <tr>\n",
       "      <th>операции с автомобилем</th>\n",
       "      <td>4279</td>\n",
       "      <td>400</td>\n",
       "      <td>0.093480</td>\n",
       "    </tr>\n",
       "  </tbody>\n",
       "</table>\n",
       "</div>"
      ],
      "text/plain": [
       "                          count  sum      mean\n",
       "                           debt debt      debt\n",
       "purpose_category                              \n",
       "операции с недвижимостью  10751  780  0.072551\n",
       "проведение свадьбы         2313  183  0.079118\n",
       "получение образования      3988  369  0.092528\n",
       "операции с автомобилем     4279  400  0.093480"
      ]
     },
     "execution_count": 26,
     "metadata": {},
     "output_type": "execute_result"
    }
   ],
   "source": [
    "# Ваш код будет здесь. Вы можете создавать новые ячейки.\n",
    "data_pivot = data.pivot_table(index='purpose_category', values='debt', aggfunc=['count', 'sum', 'mean'])\n",
    "data_pivot = data_pivot.sort_values(by=('mean','debt'))\n",
    "data_pivot"
   ]
  },
  {
   "cell_type": "markdown",
   "id": "0f5c57f0",
   "metadata": {
    "deletable": false,
    "id": "b4bb2ce6"
   },
   "source": [
    "**Вывод:** \n",
    "\n",
    "Операции с автомобилем и получение образования - наиболее рискованные цели для кредитования, так как доля должников по ним составляет более 9%. Операции с недвижимость и проведение свадьбы менее рискованные - менее 8% сотавляет доля должников по ним."
   ]
  },
  {
   "cell_type": "markdown",
   "id": "fba79beb",
   "metadata": {
    "deletable": false,
    "editable": false,
    "id": "09c3ac4c"
   },
   "source": [
    "#### 3.5 Приведите возможные причины появления пропусков в исходных данных."
   ]
  },
  {
   "cell_type": "markdown",
   "id": "315588b3",
   "metadata": {
    "deletable": false,
    "id": "9da2ceda"
   },
   "source": [
    "<div class=\"alert-info\">\n",
    "\n",
    "\n",
    "*Ответ:* \n",
    "Пропуски в исходных данных вызваны тем, что часть подающих заявки на кредит не подавали данных о количестве трудовых дней и доходе. "
   ]
  },
  {
   "cell_type": "markdown",
   "id": "54514613",
   "metadata": {
    "deletable": false,
    "editable": false,
    "id": "7b0487d6"
   },
   "source": [
    "#### 3.6 Объясните, почему заполнить пропуски медианным значением — лучшее решение для количественных переменных."
   ]
  },
  {
   "cell_type": "markdown",
   "id": "de5a6ddc",
   "metadata": {
    "deletable": false,
    "id": "7ecf2b8e"
   },
   "source": [
    "*Ответ:* \n",
    "\n",
    "Основное преимущество медианы при описании данных по сравнению со средним (часто просто описываемым как «среднее») состоит в том, что оно не искажено так сильно из-за небольшой доли чрезвычайно больших или небольшие значения, и поэтому это может дать лучшее представление о «типичном» значении."
   ]
  },
  {
   "cell_type": "markdown",
   "id": "bda73ae5",
   "metadata": {
    "deletable": false,
    "editable": false,
    "id": "6db5255a"
   },
   "source": [
    "### Шаг 4: общий вывод."
   ]
  },
  {
   "cell_type": "markdown",
   "id": "c1003368",
   "metadata": {
    "deletable": false,
    "id": "bad65432"
   },
   "source": [
    "<div class=\"alert-info\">\n",
    "\n",
    "В рамках проекта был проведена предобработка базы данных кредитных заемщиков, а именно удалены дубли и аномальные значения, заполнены пропущенные значения, по части данных изменен тип, проведена категоризация.\n",
    "\n",
    "Затем данные были исследованы и обнаружено, что есть небольшая зависимость между количеством детей, семейным положением, уровнем дохода, целями кредитования с возвратом кредита в срок.\n",
    "\n",
    "Заказчику рекомендуется устанавливать процентную ставку кредитования в зависимости от того, к какой категории относится заемщик. \n",
    "Проведя анализ, можно сделать вывод, что наиболее добросовестными являются заемщики без детей, овдовевшие, в разводе или в браке, с доходом от 30 до 50 тысяч рублей, которые берут деньги на операции с недвижимостью или проведение свадьбы. Данную категорию можно использовать как целевую для рекламных сообщений и привлечению для осуществления заема денежных средств. \n",
    "\n"
   ]
  }
 ],
 "metadata": {
  "ExecuteTimeLog": [
   {
    "duration": 497,
    "start_time": "2022-11-11T11:28:20.290Z"
   },
   {
    "duration": 26,
    "start_time": "2022-11-11T11:28:20.789Z"
   },
   {
    "duration": 17,
    "start_time": "2022-11-11T11:28:20.817Z"
   },
   {
    "duration": 11,
    "start_time": "2022-11-11T11:28:20.836Z"
   },
   {
    "duration": 41,
    "start_time": "2022-11-11T11:28:20.849Z"
   },
   {
    "duration": 3,
    "start_time": "2022-11-11T11:28:20.893Z"
   },
   {
    "duration": 30,
    "start_time": "2022-11-11T11:28:20.898Z"
   },
   {
    "duration": 5,
    "start_time": "2022-11-11T11:28:20.930Z"
   },
   {
    "duration": 10,
    "start_time": "2022-11-11T11:28:20.937Z"
   },
   {
    "duration": 8,
    "start_time": "2022-11-11T11:28:20.951Z"
   },
   {
    "duration": 62,
    "start_time": "2022-11-11T11:28:20.961Z"
   },
   {
    "duration": 11,
    "start_time": "2022-11-11T11:28:21.025Z"
   },
   {
    "duration": 4,
    "start_time": "2022-11-11T11:28:21.038Z"
   },
   {
    "duration": 13,
    "start_time": "2022-11-11T11:28:21.044Z"
   },
   {
    "duration": 22,
    "start_time": "2022-11-11T11:28:21.060Z"
   },
   {
    "duration": 49,
    "start_time": "2022-11-11T11:28:21.084Z"
   },
   {
    "duration": 5,
    "start_time": "2022-11-11T11:28:21.135Z"
   },
   {
    "duration": 13,
    "start_time": "2022-11-11T11:28:21.141Z"
   },
   {
    "duration": 6,
    "start_time": "2022-11-11T11:28:21.156Z"
   },
   {
    "duration": 4,
    "start_time": "2022-11-11T11:28:21.163Z"
   },
   {
    "duration": 14,
    "start_time": "2022-11-11T11:28:21.169Z"
   },
   {
    "duration": 7,
    "start_time": "2022-11-11T11:28:21.184Z"
   },
   {
    "duration": 29,
    "start_time": "2022-11-11T11:28:21.193Z"
   },
   {
    "duration": 13,
    "start_time": "2022-11-11T11:28:21.224Z"
   },
   {
    "duration": 6,
    "start_time": "2022-11-11T11:28:21.239Z"
   },
   {
    "duration": 39,
    "start_time": "2022-11-11T12:08:22.003Z"
   },
   {
    "duration": 22,
    "start_time": "2022-11-11T12:08:43.754Z"
   },
   {
    "duration": 20,
    "start_time": "2022-11-11T12:08:49.734Z"
   },
   {
    "duration": 27,
    "start_time": "2022-11-11T12:09:02.663Z"
   },
   {
    "duration": 24,
    "start_time": "2022-11-11T12:10:34.838Z"
   },
   {
    "duration": 96,
    "start_time": "2022-11-11T12:12:09.138Z"
   },
   {
    "duration": 545,
    "start_time": "2022-11-11T12:12:19.910Z"
   },
   {
    "duration": 27,
    "start_time": "2022-11-11T12:12:20.457Z"
   },
   {
    "duration": 48,
    "start_time": "2022-11-11T12:12:20.486Z"
   },
   {
    "duration": 12,
    "start_time": "2022-11-11T12:12:20.537Z"
   },
   {
    "duration": 47,
    "start_time": "2022-11-11T12:12:20.551Z"
   },
   {
    "duration": 3,
    "start_time": "2022-11-11T12:12:20.600Z"
   },
   {
    "duration": 25,
    "start_time": "2022-11-11T12:12:20.605Z"
   },
   {
    "duration": 36,
    "start_time": "2022-11-11T12:12:20.631Z"
   },
   {
    "duration": 21,
    "start_time": "2022-11-11T12:12:20.669Z"
   },
   {
    "duration": 25,
    "start_time": "2022-11-11T12:12:20.694Z"
   },
   {
    "duration": 66,
    "start_time": "2022-11-11T12:12:20.721Z"
   },
   {
    "duration": 10,
    "start_time": "2022-11-11T12:12:20.789Z"
   },
   {
    "duration": 24,
    "start_time": "2022-11-11T12:12:20.801Z"
   },
   {
    "duration": 39,
    "start_time": "2022-11-11T12:12:20.827Z"
   },
   {
    "duration": 24,
    "start_time": "2022-11-11T12:12:20.868Z"
   },
   {
    "duration": 18,
    "start_time": "2022-11-11T12:12:20.894Z"
   },
   {
    "duration": 28,
    "start_time": "2022-11-11T12:12:20.914Z"
   },
   {
    "duration": 16,
    "start_time": "2022-11-11T12:12:20.945Z"
   },
   {
    "duration": 40,
    "start_time": "2022-11-11T12:12:20.963Z"
   },
   {
    "duration": 4,
    "start_time": "2022-11-11T12:12:21.007Z"
   },
   {
    "duration": 32,
    "start_time": "2022-11-11T12:12:21.013Z"
   },
   {
    "duration": 43,
    "start_time": "2022-11-11T12:12:21.046Z"
   },
   {
    "duration": 75,
    "start_time": "2022-11-11T12:12:21.092Z"
   },
   {
    "duration": 0,
    "start_time": "2022-11-11T12:12:21.169Z"
   },
   {
    "duration": 0,
    "start_time": "2022-11-11T12:12:21.170Z"
   },
   {
    "duration": 0,
    "start_time": "2022-11-11T12:12:21.171Z"
   },
   {
    "duration": 1148,
    "start_time": "2022-11-11T12:12:39.149Z"
   },
   {
    "duration": 34,
    "start_time": "2022-11-11T12:21:45.040Z"
   },
   {
    "duration": 101,
    "start_time": "2022-11-11T12:26:54.576Z"
   },
   {
    "duration": 40,
    "start_time": "2022-11-11T12:27:07.815Z"
   },
   {
    "duration": 28,
    "start_time": "2022-11-11T12:28:09.547Z"
   },
   {
    "duration": 25,
    "start_time": "2022-11-11T12:28:16.672Z"
   },
   {
    "duration": 1252,
    "start_time": "2022-11-11T12:28:53.319Z"
   },
   {
    "duration": 627,
    "start_time": "2022-11-11T12:29:08.417Z"
   },
   {
    "duration": 1198,
    "start_time": "2022-11-11T12:29:30.323Z"
   },
   {
    "duration": 4,
    "start_time": "2022-11-11T12:29:38.889Z"
   },
   {
    "duration": 34,
    "start_time": "2022-11-11T12:29:47.393Z"
   },
   {
    "duration": 26,
    "start_time": "2022-11-11T12:34:53.665Z"
   },
   {
    "duration": 27,
    "start_time": "2022-11-11T12:35:27.755Z"
   },
   {
    "duration": 133,
    "start_time": "2022-11-11T12:35:29.261Z"
   },
   {
    "duration": 22,
    "start_time": "2022-11-11T12:35:31.068Z"
   },
   {
    "duration": 22,
    "start_time": "2022-11-11T12:35:45.295Z"
   },
   {
    "duration": 31,
    "start_time": "2022-11-11T12:37:23.853Z"
   },
   {
    "duration": 91,
    "start_time": "2022-11-11T12:37:36.735Z"
   },
   {
    "duration": 28,
    "start_time": "2022-11-11T12:37:44.876Z"
   },
   {
    "duration": 30,
    "start_time": "2022-11-11T12:38:18.815Z"
   },
   {
    "duration": 25,
    "start_time": "2022-11-11T12:48:49.454Z"
   },
   {
    "duration": 31,
    "start_time": "2022-11-11T12:48:58.519Z"
   },
   {
    "duration": 31,
    "start_time": "2022-11-11T12:49:12.371Z"
   },
   {
    "duration": 26,
    "start_time": "2022-11-11T12:49:25.910Z"
   },
   {
    "duration": 31,
    "start_time": "2022-11-11T12:56:10.830Z"
   },
   {
    "duration": 20,
    "start_time": "2022-11-11T12:56:24.121Z"
   },
   {
    "duration": 29,
    "start_time": "2022-11-11T12:56:52.352Z"
   },
   {
    "duration": 32,
    "start_time": "2022-11-11T13:33:42.307Z"
   },
   {
    "duration": 31,
    "start_time": "2022-11-11T13:33:59.433Z"
   },
   {
    "duration": 32,
    "start_time": "2022-11-11T13:34:15.934Z"
   },
   {
    "duration": 31,
    "start_time": "2022-11-11T13:34:43.031Z"
   },
   {
    "duration": 36,
    "start_time": "2022-11-11T13:34:53.816Z"
   },
   {
    "duration": 31,
    "start_time": "2022-11-11T13:35:12.492Z"
   },
   {
    "duration": 432,
    "start_time": "2022-11-11T13:35:24.472Z"
   },
   {
    "duration": 26,
    "start_time": "2022-11-11T13:35:24.906Z"
   },
   {
    "duration": 23,
    "start_time": "2022-11-11T13:35:24.934Z"
   },
   {
    "duration": 18,
    "start_time": "2022-11-11T13:35:24.959Z"
   },
   {
    "duration": 45,
    "start_time": "2022-11-11T13:35:24.979Z"
   },
   {
    "duration": 4,
    "start_time": "2022-11-11T13:35:25.025Z"
   },
   {
    "duration": 29,
    "start_time": "2022-11-11T13:35:25.031Z"
   },
   {
    "duration": 19,
    "start_time": "2022-11-11T13:35:25.061Z"
   },
   {
    "duration": 28,
    "start_time": "2022-11-11T13:35:25.081Z"
   },
   {
    "duration": 322,
    "start_time": "2022-11-11T13:35:25.111Z"
   },
   {
    "duration": 608,
    "start_time": "2022-11-11T13:35:25.435Z"
   },
   {
    "duration": 10,
    "start_time": "2022-11-11T13:35:26.045Z"
   },
   {
    "duration": 33,
    "start_time": "2022-11-11T13:35:26.056Z"
   },
   {
    "duration": 35,
    "start_time": "2022-11-11T13:35:26.091Z"
   },
   {
    "duration": 27,
    "start_time": "2022-11-11T13:35:26.128Z"
   },
   {
    "duration": 27,
    "start_time": "2022-11-11T13:35:26.156Z"
   },
   {
    "duration": 4,
    "start_time": "2022-11-11T13:35:26.185Z"
   },
   {
    "duration": 34,
    "start_time": "2022-11-11T13:35:26.191Z"
   },
   {
    "duration": 181,
    "start_time": "2022-11-11T13:35:26.227Z"
   },
   {
    "duration": 17,
    "start_time": "2022-11-11T13:35:26.410Z"
   },
   {
    "duration": 39,
    "start_time": "2022-11-11T13:35:26.429Z"
   },
   {
    "duration": 42,
    "start_time": "2022-11-11T13:35:26.470Z"
   },
   {
    "duration": 1302,
    "start_time": "2022-11-11T13:35:26.514Z"
   },
   {
    "duration": 148,
    "start_time": "2022-11-11T13:35:27.821Z"
   },
   {
    "duration": 0,
    "start_time": "2022-11-11T13:35:27.971Z"
   },
   {
    "duration": 0,
    "start_time": "2022-11-11T13:35:27.973Z"
   },
   {
    "duration": 33,
    "start_time": "2022-11-11T13:35:32.505Z"
   },
   {
    "duration": 35,
    "start_time": "2022-11-11T13:35:51.990Z"
   },
   {
    "duration": 32,
    "start_time": "2022-11-11T13:36:07.685Z"
   },
   {
    "duration": 34,
    "start_time": "2022-11-11T13:36:12.522Z"
   },
   {
    "duration": 30,
    "start_time": "2022-11-11T13:36:26.322Z"
   },
   {
    "duration": 28,
    "start_time": "2022-11-11T13:36:35.001Z"
   },
   {
    "duration": 33,
    "start_time": "2022-11-11T13:36:42.087Z"
   },
   {
    "duration": 34,
    "start_time": "2022-11-11T13:37:08.934Z"
   },
   {
    "duration": 32,
    "start_time": "2022-11-11T13:37:09.946Z"
   },
   {
    "duration": 33,
    "start_time": "2022-11-11T13:37:10.434Z"
   },
   {
    "duration": 32,
    "start_time": "2022-11-11T13:37:10.880Z"
   },
   {
    "duration": 137,
    "start_time": "2022-11-11T13:37:35.888Z"
   },
   {
    "duration": 124,
    "start_time": "2022-11-11T13:38:18.011Z"
   },
   {
    "duration": 509,
    "start_time": "2022-11-11T13:50:34.186Z"
   },
   {
    "duration": 23,
    "start_time": "2022-11-11T13:50:34.698Z"
   },
   {
    "duration": 16,
    "start_time": "2022-11-11T13:50:34.723Z"
   },
   {
    "duration": 10,
    "start_time": "2022-11-11T13:50:34.741Z"
   },
   {
    "duration": 34,
    "start_time": "2022-11-11T13:50:34.752Z"
   },
   {
    "duration": 3,
    "start_time": "2022-11-11T13:50:34.788Z"
   },
   {
    "duration": 36,
    "start_time": "2022-11-11T13:50:34.793Z"
   },
   {
    "duration": 6,
    "start_time": "2022-11-11T13:50:34.831Z"
   },
   {
    "duration": 10,
    "start_time": "2022-11-11T13:50:34.838Z"
   },
   {
    "duration": 6,
    "start_time": "2022-11-11T13:50:34.851Z"
   },
   {
    "duration": 37,
    "start_time": "2022-11-11T13:50:34.858Z"
   },
   {
    "duration": 34,
    "start_time": "2022-11-11T13:50:34.897Z"
   },
   {
    "duration": 4,
    "start_time": "2022-11-11T13:50:34.933Z"
   },
   {
    "duration": 21,
    "start_time": "2022-11-11T13:50:34.939Z"
   },
   {
    "duration": 20,
    "start_time": "2022-11-11T13:50:34.962Z"
   },
   {
    "duration": 48,
    "start_time": "2022-11-11T13:50:34.984Z"
   },
   {
    "duration": 6,
    "start_time": "2022-11-11T13:50:35.034Z"
   },
   {
    "duration": 24,
    "start_time": "2022-11-11T13:50:35.042Z"
   },
   {
    "duration": 29,
    "start_time": "2022-11-11T13:50:35.069Z"
   },
   {
    "duration": 11,
    "start_time": "2022-11-11T13:50:35.101Z"
   },
   {
    "duration": 25,
    "start_time": "2022-11-11T13:50:35.113Z"
   },
   {
    "duration": 37,
    "start_time": "2022-11-11T13:50:35.139Z"
   },
   {
    "duration": 950,
    "start_time": "2022-11-11T13:50:35.178Z"
   },
   {
    "duration": 34,
    "start_time": "2022-11-11T13:50:36.130Z"
   },
   {
    "duration": 32,
    "start_time": "2022-11-11T13:50:36.166Z"
   },
   {
    "duration": 34,
    "start_time": "2022-11-11T13:50:36.223Z"
   },
   {
    "duration": 435,
    "start_time": "2022-11-11T17:47:56.372Z"
   },
   {
    "duration": 21,
    "start_time": "2022-11-11T17:47:56.809Z"
   },
   {
    "duration": 13,
    "start_time": "2022-11-11T17:47:56.831Z"
   },
   {
    "duration": 8,
    "start_time": "2022-11-11T17:47:56.846Z"
   },
   {
    "duration": 36,
    "start_time": "2022-11-11T17:47:56.855Z"
   },
   {
    "duration": 21,
    "start_time": "2022-11-11T17:47:56.892Z"
   },
   {
    "duration": 11,
    "start_time": "2022-11-11T17:47:56.915Z"
   },
   {
    "duration": 5,
    "start_time": "2022-11-11T17:47:56.927Z"
   },
   {
    "duration": 10,
    "start_time": "2022-11-11T17:47:56.934Z"
   },
   {
    "duration": 5,
    "start_time": "2022-11-11T17:47:56.948Z"
   },
   {
    "duration": 62,
    "start_time": "2022-11-11T17:47:56.955Z"
   },
   {
    "duration": 9,
    "start_time": "2022-11-11T17:47:57.018Z"
   },
   {
    "duration": 5,
    "start_time": "2022-11-11T17:47:57.028Z"
   },
   {
    "duration": 11,
    "start_time": "2022-11-11T17:47:57.035Z"
   },
   {
    "duration": 18,
    "start_time": "2022-11-11T17:47:57.047Z"
   },
   {
    "duration": 15,
    "start_time": "2022-11-11T17:47:57.066Z"
   },
   {
    "duration": 3,
    "start_time": "2022-11-11T17:47:57.082Z"
   },
   {
    "duration": 34,
    "start_time": "2022-11-11T17:47:57.086Z"
   },
   {
    "duration": 6,
    "start_time": "2022-11-11T17:47:57.122Z"
   },
   {
    "duration": 10,
    "start_time": "2022-11-11T17:47:57.130Z"
   },
   {
    "duration": 13,
    "start_time": "2022-11-11T17:47:57.141Z"
   },
   {
    "duration": 29,
    "start_time": "2022-11-11T17:47:57.155Z"
   },
   {
    "duration": 850,
    "start_time": "2022-11-11T17:47:57.186Z"
   },
   {
    "duration": 29,
    "start_time": "2022-11-11T17:47:58.038Z"
   },
   {
    "duration": 25,
    "start_time": "2022-11-11T17:47:58.068Z"
   },
   {
    "duration": 46,
    "start_time": "2022-11-11T17:47:58.095Z"
   },
   {
    "duration": 48,
    "start_time": "2022-11-11T19:24:47.605Z"
   },
   {
    "duration": 7,
    "start_time": "2022-11-11T19:24:54.554Z"
   },
   {
    "duration": 527,
    "start_time": "2022-11-11T19:25:07.711Z"
   },
   {
    "duration": 22,
    "start_time": "2022-11-11T19:25:08.240Z"
   },
   {
    "duration": 14,
    "start_time": "2022-11-11T19:25:08.263Z"
   },
   {
    "duration": 9,
    "start_time": "2022-11-11T19:25:08.279Z"
   },
   {
    "duration": 52,
    "start_time": "2022-11-11T19:25:08.290Z"
   },
   {
    "duration": 4,
    "start_time": "2022-11-11T19:25:08.343Z"
   },
   {
    "duration": 11,
    "start_time": "2022-11-11T19:25:08.349Z"
   },
   {
    "duration": 5,
    "start_time": "2022-11-11T19:25:08.362Z"
   },
   {
    "duration": 8,
    "start_time": "2022-11-11T19:25:08.368Z"
   },
   {
    "duration": 4,
    "start_time": "2022-11-11T19:25:08.381Z"
   },
   {
    "duration": 63,
    "start_time": "2022-11-11T19:25:08.386Z"
   },
   {
    "duration": 9,
    "start_time": "2022-11-11T19:25:08.450Z"
   },
   {
    "duration": 4,
    "start_time": "2022-11-11T19:25:08.460Z"
   },
   {
    "duration": 14,
    "start_time": "2022-11-11T19:25:08.466Z"
   },
   {
    "duration": 44,
    "start_time": "2022-11-11T19:25:08.482Z"
   },
   {
    "duration": 18,
    "start_time": "2022-11-11T19:25:08.528Z"
   },
   {
    "duration": 10,
    "start_time": "2022-11-11T19:25:08.547Z"
   },
   {
    "duration": 13,
    "start_time": "2022-11-11T19:25:08.559Z"
   },
   {
    "duration": 7,
    "start_time": "2022-11-11T19:25:08.574Z"
   },
   {
    "duration": 5,
    "start_time": "2022-11-11T19:25:08.582Z"
   },
   {
    "duration": 14,
    "start_time": "2022-11-11T19:25:08.588Z"
   },
   {
    "duration": 44,
    "start_time": "2022-11-11T19:25:08.603Z"
   },
   {
    "duration": 1008,
    "start_time": "2022-11-11T19:25:08.648Z"
   },
   {
    "duration": 33,
    "start_time": "2022-11-11T19:25:09.658Z"
   },
   {
    "duration": 38,
    "start_time": "2022-11-11T19:25:09.693Z"
   },
   {
    "duration": 30,
    "start_time": "2022-11-11T19:25:09.732Z"
   },
   {
    "duration": 24,
    "start_time": "2022-11-11T19:25:53.377Z"
   },
   {
    "duration": 20,
    "start_time": "2022-11-11T19:26:27.886Z"
   },
   {
    "duration": 16,
    "start_time": "2022-11-11T19:26:37.507Z"
   },
   {
    "duration": 517,
    "start_time": "2022-11-12T15:57:35.592Z"
   },
   {
    "duration": 29,
    "start_time": "2022-11-12T15:57:36.111Z"
   },
   {
    "duration": 26,
    "start_time": "2022-11-12T15:57:36.141Z"
   },
   {
    "duration": 17,
    "start_time": "2022-11-12T15:57:36.170Z"
   },
   {
    "duration": 68,
    "start_time": "2022-11-12T15:57:36.190Z"
   },
   {
    "duration": 4,
    "start_time": "2022-11-12T15:57:36.260Z"
   },
   {
    "duration": 15,
    "start_time": "2022-11-12T15:57:36.267Z"
   },
   {
    "duration": 7,
    "start_time": "2022-11-12T15:57:36.284Z"
   },
   {
    "duration": 71,
    "start_time": "2022-11-12T15:57:36.293Z"
   },
   {
    "duration": 6,
    "start_time": "2022-11-12T15:57:36.369Z"
   },
   {
    "duration": 59,
    "start_time": "2022-11-12T15:57:36.377Z"
   },
   {
    "duration": 23,
    "start_time": "2022-11-12T15:57:36.438Z"
   },
   {
    "duration": 5,
    "start_time": "2022-11-12T15:57:36.463Z"
   },
   {
    "duration": 23,
    "start_time": "2022-11-12T15:57:36.471Z"
   },
   {
    "duration": 32,
    "start_time": "2022-11-12T15:57:36.496Z"
   },
   {
    "duration": 48,
    "start_time": "2022-11-12T15:57:36.530Z"
   },
   {
    "duration": 5,
    "start_time": "2022-11-12T15:57:36.580Z"
   },
   {
    "duration": 13,
    "start_time": "2022-11-12T15:57:36.587Z"
   },
   {
    "duration": 11,
    "start_time": "2022-11-12T15:57:36.602Z"
   },
   {
    "duration": 10,
    "start_time": "2022-11-12T15:57:36.614Z"
   },
   {
    "duration": 27,
    "start_time": "2022-11-12T15:57:36.626Z"
   },
   {
    "duration": 35,
    "start_time": "2022-11-12T15:57:36.655Z"
   },
   {
    "duration": 1062,
    "start_time": "2022-11-12T15:57:36.691Z"
   },
   {
    "duration": 38,
    "start_time": "2022-11-12T15:57:37.756Z"
   },
   {
    "duration": 31,
    "start_time": "2022-11-12T15:57:37.796Z"
   },
   {
    "duration": 54,
    "start_time": "2022-11-12T15:57:37.829Z"
   }
  ],
  "colab": {
   "name": "dpp_template_part2.ipynb",
   "provenance": []
  },
  "kernelspec": {
   "display_name": "Python 3 (ipykernel)",
   "language": "python",
   "name": "python3"
  },
  "language_info": {
   "codemirror_mode": {
    "name": "ipython",
    "version": 3
   },
   "file_extension": ".py",
   "mimetype": "text/x-python",
   "name": "python",
   "nbconvert_exporter": "python",
   "pygments_lexer": "ipython3",
   "version": "3.9.13"
  },
  "toc": {
   "base_numbering": 1,
   "nav_menu": {},
   "number_sections": true,
   "sideBar": true,
   "skip_h1_title": true,
   "title_cell": "Table of Contents",
   "title_sidebar": "Contents",
   "toc_cell": false,
   "toc_position": {},
   "toc_section_display": true,
   "toc_window_display": false
  }
 },
 "nbformat": 4,
 "nbformat_minor": 5
}

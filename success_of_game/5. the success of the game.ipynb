{
 "cells": [
  {
   "cell_type": "markdown",
   "metadata": {},
   "source": [
    "# Первый сборный проект\n",
    "\n",
    "Нам доступны исторические данные о продажах игр, оценки пользователей и экспертов, жанры и платформы (например, Xbox или PlayStation). Необходимо выявить определяющие успешность игры закономерности. Это позволит сделать ставку на потенциально популярный продукт и спланировать рекламные кампании."
   ]
  },
  {
   "cell_type": "markdown",
   "metadata": {},
   "source": [
    "**Цель проекта:** изучить данные о продаже игр, оценки пользователей и экспертов, жанры и платформы и выявить определяющие успешность игры закономерности.\n",
    "\n",
    "**Задачи проекта:** \n",
    "1. Привести данные в подходящий для анализа вид (определить и заполнить пропущенные значения, изменить тип данных где это требуется)\n",
    "2. Провести исследовательский анализ данных\n",
    "3. Составить портрет пользователя по регионам\n",
    "4. Проверить гипотезы\n",
    "5. Подготовить общий вывод и рекомендации"
   ]
  },
  {
   "cell_type": "markdown",
   "metadata": {},
   "source": [
    "## Открытие файла"
   ]
  },
  {
   "cell_type": "code",
   "execution_count": 1,
   "metadata": {},
   "outputs": [],
   "source": [
    "#импорт библиотек\n",
    "from scipy import stats as st\n",
    "import pandas as pd \n",
    "import seaborn as sns \n",
    "import numpy as np \n",
    "import matplotlib.pyplot as plt\n",
    "from datetime import datetime"
   ]
  },
  {
   "cell_type": "code",
   "execution_count": 2,
   "metadata": {},
   "outputs": [],
   "source": [
    "data = pd.read_csv('/datasets/games.csv') #открытие файла "
   ]
  },
  {
   "cell_type": "markdown",
   "metadata": {},
   "source": [
    "## Подготовка данных"
   ]
  },
  {
   "cell_type": "code",
   "execution_count": 3,
   "metadata": {},
   "outputs": [
    {
     "name": "stdout",
     "output_type": "stream",
     "text": [
      "<class 'pandas.core.frame.DataFrame'>\n",
      "RangeIndex: 16715 entries, 0 to 16714\n",
      "Data columns (total 11 columns):\n",
      " #   Column           Non-Null Count  Dtype  \n",
      "---  ------           --------------  -----  \n",
      " 0   Name             16713 non-null  object \n",
      " 1   Platform         16715 non-null  object \n",
      " 2   Year_of_Release  16446 non-null  float64\n",
      " 3   Genre            16713 non-null  object \n",
      " 4   NA_sales         16715 non-null  float64\n",
      " 5   EU_sales         16715 non-null  float64\n",
      " 6   JP_sales         16715 non-null  float64\n",
      " 7   Other_sales      16715 non-null  float64\n",
      " 8   Critic_Score     8137 non-null   float64\n",
      " 9   User_Score       10014 non-null  object \n",
      " 10  Rating           9949 non-null   object \n",
      "dtypes: float64(6), object(5)\n",
      "memory usage: 1.4+ MB\n"
     ]
    }
   ],
   "source": [
    "data.info() #получение информации о переменных"
   ]
  },
  {
   "cell_type": "code",
   "execution_count": 4,
   "metadata": {
    "scrolled": true
   },
   "outputs": [
    {
     "data": {
      "text/html": [
       "<div>\n",
       "<style scoped>\n",
       "    .dataframe tbody tr th:only-of-type {\n",
       "        vertical-align: middle;\n",
       "    }\n",
       "\n",
       "    .dataframe tbody tr th {\n",
       "        vertical-align: top;\n",
       "    }\n",
       "\n",
       "    .dataframe thead th {\n",
       "        text-align: right;\n",
       "    }\n",
       "</style>\n",
       "<table border=\"1\" class=\"dataframe\">\n",
       "  <thead>\n",
       "    <tr style=\"text-align: right;\">\n",
       "      <th></th>\n",
       "      <th>Name</th>\n",
       "      <th>Platform</th>\n",
       "      <th>Year_of_Release</th>\n",
       "      <th>Genre</th>\n",
       "      <th>NA_sales</th>\n",
       "      <th>EU_sales</th>\n",
       "      <th>JP_sales</th>\n",
       "      <th>Other_sales</th>\n",
       "      <th>Critic_Score</th>\n",
       "      <th>User_Score</th>\n",
       "      <th>Rating</th>\n",
       "    </tr>\n",
       "  </thead>\n",
       "  <tbody>\n",
       "    <tr>\n",
       "      <th>0</th>\n",
       "      <td>Wii Sports</td>\n",
       "      <td>Wii</td>\n",
       "      <td>2006.0</td>\n",
       "      <td>Sports</td>\n",
       "      <td>41.36</td>\n",
       "      <td>28.96</td>\n",
       "      <td>3.77</td>\n",
       "      <td>8.45</td>\n",
       "      <td>76.0</td>\n",
       "      <td>8</td>\n",
       "      <td>E</td>\n",
       "    </tr>\n",
       "    <tr>\n",
       "      <th>1</th>\n",
       "      <td>Super Mario Bros.</td>\n",
       "      <td>NES</td>\n",
       "      <td>1985.0</td>\n",
       "      <td>Platform</td>\n",
       "      <td>29.08</td>\n",
       "      <td>3.58</td>\n",
       "      <td>6.81</td>\n",
       "      <td>0.77</td>\n",
       "      <td>NaN</td>\n",
       "      <td>NaN</td>\n",
       "      <td>NaN</td>\n",
       "    </tr>\n",
       "    <tr>\n",
       "      <th>2</th>\n",
       "      <td>Mario Kart Wii</td>\n",
       "      <td>Wii</td>\n",
       "      <td>2008.0</td>\n",
       "      <td>Racing</td>\n",
       "      <td>15.68</td>\n",
       "      <td>12.76</td>\n",
       "      <td>3.79</td>\n",
       "      <td>3.29</td>\n",
       "      <td>82.0</td>\n",
       "      <td>8.3</td>\n",
       "      <td>E</td>\n",
       "    </tr>\n",
       "    <tr>\n",
       "      <th>3</th>\n",
       "      <td>Wii Sports Resort</td>\n",
       "      <td>Wii</td>\n",
       "      <td>2009.0</td>\n",
       "      <td>Sports</td>\n",
       "      <td>15.61</td>\n",
       "      <td>10.93</td>\n",
       "      <td>3.28</td>\n",
       "      <td>2.95</td>\n",
       "      <td>80.0</td>\n",
       "      <td>8</td>\n",
       "      <td>E</td>\n",
       "    </tr>\n",
       "    <tr>\n",
       "      <th>4</th>\n",
       "      <td>Pokemon Red/Pokemon Blue</td>\n",
       "      <td>GB</td>\n",
       "      <td>1996.0</td>\n",
       "      <td>Role-Playing</td>\n",
       "      <td>11.27</td>\n",
       "      <td>8.89</td>\n",
       "      <td>10.22</td>\n",
       "      <td>1.00</td>\n",
       "      <td>NaN</td>\n",
       "      <td>NaN</td>\n",
       "      <td>NaN</td>\n",
       "    </tr>\n",
       "  </tbody>\n",
       "</table>\n",
       "</div>"
      ],
      "text/plain": [
       "                       Name Platform  Year_of_Release         Genre  NA_sales  \\\n",
       "0                Wii Sports      Wii           2006.0        Sports     41.36   \n",
       "1         Super Mario Bros.      NES           1985.0      Platform     29.08   \n",
       "2            Mario Kart Wii      Wii           2008.0        Racing     15.68   \n",
       "3         Wii Sports Resort      Wii           2009.0        Sports     15.61   \n",
       "4  Pokemon Red/Pokemon Blue       GB           1996.0  Role-Playing     11.27   \n",
       "\n",
       "   EU_sales  JP_sales  Other_sales  Critic_Score User_Score Rating  \n",
       "0     28.96      3.77         8.45          76.0          8      E  \n",
       "1      3.58      6.81         0.77           NaN        NaN    NaN  \n",
       "2     12.76      3.79         3.29          82.0        8.3      E  \n",
       "3     10.93      3.28         2.95          80.0          8      E  \n",
       "4      8.89     10.22         1.00           NaN        NaN    NaN  "
      ]
     },
     "execution_count": 4,
     "metadata": {},
     "output_type": "execute_result"
    }
   ],
   "source": [
    "pd.set_option('display.max_columns', None)\n",
    "data.head() #выведем первых 5 строк"
   ]
  },
  {
   "cell_type": "code",
   "execution_count": 5,
   "metadata": {},
   "outputs": [
    {
     "data": {
      "text/plain": [
       "0"
      ]
     },
     "execution_count": 5,
     "metadata": {},
     "output_type": "execute_result"
    }
   ],
   "source": [
    "# проверка на дубликаты\n",
    "data.duplicated().sum()"
   ]
  },
  {
   "cell_type": "markdown",
   "metadata": {},
   "source": [
    "### Замена названия столбцов (приведение к нижнему регистру)"
   ]
  },
  {
   "cell_type": "code",
   "execution_count": 6,
   "metadata": {
    "scrolled": false
   },
   "outputs": [
    {
     "name": "stdout",
     "output_type": "stream",
     "text": [
      "<class 'pandas.core.frame.DataFrame'>\n",
      "RangeIndex: 16715 entries, 0 to 16714\n",
      "Data columns (total 11 columns):\n",
      " #   Column           Non-Null Count  Dtype  \n",
      "---  ------           --------------  -----  \n",
      " 0   name             16713 non-null  object \n",
      " 1   platform         16715 non-null  object \n",
      " 2   year_of_release  16446 non-null  float64\n",
      " 3   genre            16713 non-null  object \n",
      " 4   na_sales         16715 non-null  float64\n",
      " 5   eu_sales         16715 non-null  float64\n",
      " 6   jp_sales         16715 non-null  float64\n",
      " 7   other_sales      16715 non-null  float64\n",
      " 8   critic_score     8137 non-null   float64\n",
      " 9   user_score       10014 non-null  object \n",
      " 10  rating           9949 non-null   object \n",
      "dtypes: float64(6), object(5)\n",
      "memory usage: 1.4+ MB\n"
     ]
    }
   ],
   "source": [
    "data.columns = data.columns.str.lower() #приведем название столбцов к нижнему регистру\n",
    "data.info()"
   ]
  },
  {
   "cell_type": "markdown",
   "metadata": {},
   "source": [
    "### Преобразование данных в нужные типы"
   ]
  },
  {
   "cell_type": "markdown",
   "metadata": {},
   "source": [
    "Преобразуем переменную \"год выпуска\" к целочисленному значению"
   ]
  },
  {
   "cell_type": "code",
   "execution_count": 7,
   "metadata": {},
   "outputs": [
    {
     "data": {
      "text/plain": [
       "269"
      ]
     },
     "execution_count": 7,
     "metadata": {},
     "output_type": "execute_result"
    }
   ],
   "source": [
    "data['year_of_release'].isna().sum() #определим количество пропусков в переменной \"год выпуска\" "
   ]
  },
  {
   "cell_type": "code",
   "execution_count": 8,
   "metadata": {},
   "outputs": [
    {
     "data": {
      "text/plain": [
       "0.01609332934489979"
      ]
     },
     "execution_count": 8,
     "metadata": {},
     "output_type": "execute_result"
    }
   ],
   "source": [
    "269/16715 #определим долю пропущенных значений "
   ]
  },
  {
   "cell_type": "code",
   "execution_count": 9,
   "metadata": {
    "scrolled": true
   },
   "outputs": [
    {
     "data": {
      "text/plain": [
       "array([2006, 1985, 2008, 2009, 1996, 1989, 1984, 2005, 1999, 2007, 2010,\n",
       "       2013, 2004, 1990, 1988, 2002, 2001, 2011, 1998, 2015, 2012, 2014,\n",
       "       1992, 1997, 1993, 1994, 1982, 2016, 2003, 1986, 2000, 1995, 1991,\n",
       "       1981, 1987, 1980, 1983])"
      ]
     },
     "execution_count": 9,
     "metadata": {},
     "output_type": "execute_result"
    }
   ],
   "source": [
    "data = data.dropna(subset=['year_of_release'])    # меньше 2%, удаляем строки \n",
    "data['year_of_release'] = data['year_of_release'].astype('int')    # меняем тип данных \n",
    "data['year_of_release'].unique()"
   ]
  },
  {
   "cell_type": "code",
   "execution_count": 10,
   "metadata": {},
   "outputs": [
    {
     "name": "stdout",
     "output_type": "stream",
     "text": [
      "<class 'pandas.core.frame.DataFrame'>\n",
      "Int64Index: 16446 entries, 0 to 16714\n",
      "Data columns (total 11 columns):\n",
      " #   Column           Non-Null Count  Dtype  \n",
      "---  ------           --------------  -----  \n",
      " 0   name             16444 non-null  object \n",
      " 1   platform         16446 non-null  object \n",
      " 2   year_of_release  16446 non-null  int64  \n",
      " 3   genre            16444 non-null  object \n",
      " 4   na_sales         16446 non-null  float64\n",
      " 5   eu_sales         16446 non-null  float64\n",
      " 6   jp_sales         16446 non-null  float64\n",
      " 7   other_sales      16446 non-null  float64\n",
      " 8   critic_score     7983 non-null   float64\n",
      " 9   user_score       9839 non-null   object \n",
      " 10  rating           9768 non-null   object \n",
      "dtypes: float64(5), int64(1), object(5)\n",
      "memory usage: 1.5+ MB\n"
     ]
    }
   ],
   "source": [
    "data.info()"
   ]
  },
  {
   "cell_type": "markdown",
   "metadata": {},
   "source": [
    "Преобразуем переменную \"оценка пользователя\" к типу float, предварительно заменив знаение tbd (To Be Determined - с англ. Предстоит определить) на значение NaN </font><font color='Blue'><b>К пропускам могли привести ситуации, когда у игры не было оценок критиков и пользователей, а также рейтинга</b></font><br>"
   ]
  },
  {
   "cell_type": "code",
   "execution_count": 11,
   "metadata": {},
   "outputs": [
    {
     "data": {
      "text/plain": [
       "array([8. , nan, 8.3, 8.5, 6.6, 8.4, 8.6, 7.7, 6.3, 7.4, 8.2, 9. , 7.9,\n",
       "       8.1, 8.7, 7.1, 3.4, 5.3, 4.8, 3.2, 8.9, 6.4, 7.8, 7.5, 2.6, 7.2,\n",
       "       9.2, 7. , 7.3, 4.3, 7.6, 5.7, 5. , 9.1, 6.5, 8.8, 6.9, 9.4, 6.8,\n",
       "       6.1, 6.7, 5.4, 4. , 4.9, 4.5, 9.3, 6.2, 4.2, 6. , 3.7, 4.1, 5.8,\n",
       "       5.6, 5.5, 4.4, 4.6, 5.9, 3.9, 3.1, 2.9, 5.2, 3.3, 4.7, 5.1, 3.5,\n",
       "       2.5, 1.9, 3. , 2.7, 2.2, 2. , 9.5, 2.1, 3.6, 2.8, 1.8, 3.8, 0. ,\n",
       "       1.6, 9.6, 2.4, 1.7, 1.1, 0.3, 1.5, 0.7, 1.2, 2.3, 0.5, 1.3, 0.2,\n",
       "       0.6, 1.4, 0.9, 1. , 9.7])"
      ]
     },
     "execution_count": 11,
     "metadata": {},
     "output_type": "execute_result"
    }
   ],
   "source": [
    "data.user_score.replace('tbd', np.nan, inplace=True)\n",
    "data['user_score'] = data['user_score'].astype('float')\n",
    "data['user_score'].unique()"
   ]
  },
  {
   "cell_type": "code",
   "execution_count": 12,
   "metadata": {
    "scrolled": true
   },
   "outputs": [
    {
     "name": "stdout",
     "output_type": "stream",
     "text": [
      "<class 'pandas.core.frame.DataFrame'>\n",
      "Int64Index: 16446 entries, 0 to 16714\n",
      "Data columns (total 11 columns):\n",
      " #   Column           Non-Null Count  Dtype  \n",
      "---  ------           --------------  -----  \n",
      " 0   name             16444 non-null  object \n",
      " 1   platform         16446 non-null  object \n",
      " 2   year_of_release  16446 non-null  int64  \n",
      " 3   genre            16444 non-null  object \n",
      " 4   na_sales         16446 non-null  float64\n",
      " 5   eu_sales         16446 non-null  float64\n",
      " 6   jp_sales         16446 non-null  float64\n",
      " 7   other_sales      16446 non-null  float64\n",
      " 8   critic_score     7983 non-null   float64\n",
      " 9   user_score       7463 non-null   float64\n",
      " 10  rating           9768 non-null   object \n",
      "dtypes: float64(6), int64(1), object(4)\n",
      "memory usage: 1.5+ MB\n"
     ]
    }
   ],
   "source": [
    "data.info()"
   ]
  },
  {
   "cell_type": "code",
   "execution_count": 13,
   "metadata": {},
   "outputs": [
    {
     "data": {
      "text/html": [
       "<div>\n",
       "<style scoped>\n",
       "    .dataframe tbody tr th:only-of-type {\n",
       "        vertical-align: middle;\n",
       "    }\n",
       "\n",
       "    .dataframe tbody tr th {\n",
       "        vertical-align: top;\n",
       "    }\n",
       "\n",
       "    .dataframe thead th {\n",
       "        text-align: right;\n",
       "    }\n",
       "</style>\n",
       "<table border=\"1\" class=\"dataframe\">\n",
       "  <thead>\n",
       "    <tr style=\"text-align: right;\">\n",
       "      <th></th>\n",
       "      <th>name</th>\n",
       "      <th>platform</th>\n",
       "      <th>year_of_release</th>\n",
       "      <th>genre</th>\n",
       "      <th>na_sales</th>\n",
       "      <th>eu_sales</th>\n",
       "      <th>jp_sales</th>\n",
       "      <th>other_sales</th>\n",
       "      <th>critic_score</th>\n",
       "      <th>user_score</th>\n",
       "      <th>rating</th>\n",
       "    </tr>\n",
       "  </thead>\n",
       "  <tbody>\n",
       "    <tr>\n",
       "      <th>0</th>\n",
       "      <td>Wii Sports</td>\n",
       "      <td>Wii</td>\n",
       "      <td>2006</td>\n",
       "      <td>Sports</td>\n",
       "      <td>41.36</td>\n",
       "      <td>28.96</td>\n",
       "      <td>3.77</td>\n",
       "      <td>8.45</td>\n",
       "      <td>76.0</td>\n",
       "      <td>8.0</td>\n",
       "      <td>E</td>\n",
       "    </tr>\n",
       "    <tr>\n",
       "      <th>1</th>\n",
       "      <td>Super Mario Bros.</td>\n",
       "      <td>NES</td>\n",
       "      <td>1985</td>\n",
       "      <td>Platform</td>\n",
       "      <td>29.08</td>\n",
       "      <td>3.58</td>\n",
       "      <td>6.81</td>\n",
       "      <td>0.77</td>\n",
       "      <td>NaN</td>\n",
       "      <td>NaN</td>\n",
       "      <td>NaN</td>\n",
       "    </tr>\n",
       "    <tr>\n",
       "      <th>2</th>\n",
       "      <td>Mario Kart Wii</td>\n",
       "      <td>Wii</td>\n",
       "      <td>2008</td>\n",
       "      <td>Racing</td>\n",
       "      <td>15.68</td>\n",
       "      <td>12.76</td>\n",
       "      <td>3.79</td>\n",
       "      <td>3.29</td>\n",
       "      <td>82.0</td>\n",
       "      <td>8.3</td>\n",
       "      <td>E</td>\n",
       "    </tr>\n",
       "    <tr>\n",
       "      <th>3</th>\n",
       "      <td>Wii Sports Resort</td>\n",
       "      <td>Wii</td>\n",
       "      <td>2009</td>\n",
       "      <td>Sports</td>\n",
       "      <td>15.61</td>\n",
       "      <td>10.93</td>\n",
       "      <td>3.28</td>\n",
       "      <td>2.95</td>\n",
       "      <td>80.0</td>\n",
       "      <td>8.0</td>\n",
       "      <td>E</td>\n",
       "    </tr>\n",
       "    <tr>\n",
       "      <th>4</th>\n",
       "      <td>Pokemon Red/Pokemon Blue</td>\n",
       "      <td>GB</td>\n",
       "      <td>1996</td>\n",
       "      <td>Role-Playing</td>\n",
       "      <td>11.27</td>\n",
       "      <td>8.89</td>\n",
       "      <td>10.22</td>\n",
       "      <td>1.00</td>\n",
       "      <td>NaN</td>\n",
       "      <td>NaN</td>\n",
       "      <td>NaN</td>\n",
       "    </tr>\n",
       "  </tbody>\n",
       "</table>\n",
       "</div>"
      ],
      "text/plain": [
       "                       name platform  year_of_release         genre  na_sales  \\\n",
       "0                Wii Sports      Wii             2006        Sports     41.36   \n",
       "1         Super Mario Bros.      NES             1985      Platform     29.08   \n",
       "2            Mario Kart Wii      Wii             2008        Racing     15.68   \n",
       "3         Wii Sports Resort      Wii             2009        Sports     15.61   \n",
       "4  Pokemon Red/Pokemon Blue       GB             1996  Role-Playing     11.27   \n",
       "\n",
       "   eu_sales  jp_sales  other_sales  critic_score  user_score rating  \n",
       "0     28.96      3.77         8.45          76.0         8.0      E  \n",
       "1      3.58      6.81         0.77           NaN         NaN    NaN  \n",
       "2     12.76      3.79         3.29          82.0         8.3      E  \n",
       "3     10.93      3.28         2.95          80.0         8.0      E  \n",
       "4      8.89     10.22         1.00           NaN         NaN    NaN  "
      ]
     },
     "execution_count": 13,
     "metadata": {},
     "output_type": "execute_result"
    }
   ],
   "source": [
    "data.head()"
   ]
  },
  {
   "cell_type": "markdown",
   "metadata": {},
   "source": [
    "### Суммарные продажи во всех регионах"
   ]
  },
  {
   "cell_type": "markdown",
   "metadata": {},
   "source": [
    "Добавим новый столбец с суммой продаж по всем регионам"
   ]
  },
  {
   "cell_type": "code",
   "execution_count": 14,
   "metadata": {},
   "outputs": [],
   "source": [
    "data['total_sales'] = data['na_sales'] + data['eu_sales'] + data['jp_sales'] + data['other_sales'] "
   ]
  },
  {
   "cell_type": "code",
   "execution_count": 15,
   "metadata": {},
   "outputs": [
    {
     "data": {
      "text/html": [
       "<div>\n",
       "<style scoped>\n",
       "    .dataframe tbody tr th:only-of-type {\n",
       "        vertical-align: middle;\n",
       "    }\n",
       "\n",
       "    .dataframe tbody tr th {\n",
       "        vertical-align: top;\n",
       "    }\n",
       "\n",
       "    .dataframe thead th {\n",
       "        text-align: right;\n",
       "    }\n",
       "</style>\n",
       "<table border=\"1\" class=\"dataframe\">\n",
       "  <thead>\n",
       "    <tr style=\"text-align: right;\">\n",
       "      <th></th>\n",
       "      <th>name</th>\n",
       "      <th>platform</th>\n",
       "      <th>year_of_release</th>\n",
       "      <th>genre</th>\n",
       "      <th>na_sales</th>\n",
       "      <th>eu_sales</th>\n",
       "      <th>jp_sales</th>\n",
       "      <th>other_sales</th>\n",
       "      <th>critic_score</th>\n",
       "      <th>user_score</th>\n",
       "      <th>rating</th>\n",
       "      <th>total_sales</th>\n",
       "    </tr>\n",
       "  </thead>\n",
       "  <tbody>\n",
       "    <tr>\n",
       "      <th>0</th>\n",
       "      <td>Wii Sports</td>\n",
       "      <td>Wii</td>\n",
       "      <td>2006</td>\n",
       "      <td>Sports</td>\n",
       "      <td>41.36</td>\n",
       "      <td>28.96</td>\n",
       "      <td>3.77</td>\n",
       "      <td>8.45</td>\n",
       "      <td>76.0</td>\n",
       "      <td>8.0</td>\n",
       "      <td>E</td>\n",
       "      <td>82.54</td>\n",
       "    </tr>\n",
       "    <tr>\n",
       "      <th>1</th>\n",
       "      <td>Super Mario Bros.</td>\n",
       "      <td>NES</td>\n",
       "      <td>1985</td>\n",
       "      <td>Platform</td>\n",
       "      <td>29.08</td>\n",
       "      <td>3.58</td>\n",
       "      <td>6.81</td>\n",
       "      <td>0.77</td>\n",
       "      <td>NaN</td>\n",
       "      <td>NaN</td>\n",
       "      <td>NaN</td>\n",
       "      <td>40.24</td>\n",
       "    </tr>\n",
       "    <tr>\n",
       "      <th>2</th>\n",
       "      <td>Mario Kart Wii</td>\n",
       "      <td>Wii</td>\n",
       "      <td>2008</td>\n",
       "      <td>Racing</td>\n",
       "      <td>15.68</td>\n",
       "      <td>12.76</td>\n",
       "      <td>3.79</td>\n",
       "      <td>3.29</td>\n",
       "      <td>82.0</td>\n",
       "      <td>8.3</td>\n",
       "      <td>E</td>\n",
       "      <td>35.52</td>\n",
       "    </tr>\n",
       "    <tr>\n",
       "      <th>3</th>\n",
       "      <td>Wii Sports Resort</td>\n",
       "      <td>Wii</td>\n",
       "      <td>2009</td>\n",
       "      <td>Sports</td>\n",
       "      <td>15.61</td>\n",
       "      <td>10.93</td>\n",
       "      <td>3.28</td>\n",
       "      <td>2.95</td>\n",
       "      <td>80.0</td>\n",
       "      <td>8.0</td>\n",
       "      <td>E</td>\n",
       "      <td>32.77</td>\n",
       "    </tr>\n",
       "    <tr>\n",
       "      <th>4</th>\n",
       "      <td>Pokemon Red/Pokemon Blue</td>\n",
       "      <td>GB</td>\n",
       "      <td>1996</td>\n",
       "      <td>Role-Playing</td>\n",
       "      <td>11.27</td>\n",
       "      <td>8.89</td>\n",
       "      <td>10.22</td>\n",
       "      <td>1.00</td>\n",
       "      <td>NaN</td>\n",
       "      <td>NaN</td>\n",
       "      <td>NaN</td>\n",
       "      <td>31.38</td>\n",
       "    </tr>\n",
       "  </tbody>\n",
       "</table>\n",
       "</div>"
      ],
      "text/plain": [
       "                       name platform  year_of_release         genre  na_sales  \\\n",
       "0                Wii Sports      Wii             2006        Sports     41.36   \n",
       "1         Super Mario Bros.      NES             1985      Platform     29.08   \n",
       "2            Mario Kart Wii      Wii             2008        Racing     15.68   \n",
       "3         Wii Sports Resort      Wii             2009        Sports     15.61   \n",
       "4  Pokemon Red/Pokemon Blue       GB             1996  Role-Playing     11.27   \n",
       "\n",
       "   eu_sales  jp_sales  other_sales  critic_score  user_score rating  \\\n",
       "0     28.96      3.77         8.45          76.0         8.0      E   \n",
       "1      3.58      6.81         0.77           NaN         NaN    NaN   \n",
       "2     12.76      3.79         3.29          82.0         8.3      E   \n",
       "3     10.93      3.28         2.95          80.0         8.0      E   \n",
       "4      8.89     10.22         1.00           NaN         NaN    NaN   \n",
       "\n",
       "   total_sales  \n",
       "0        82.54  \n",
       "1        40.24  \n",
       "2        35.52  \n",
       "3        32.77  \n",
       "4        31.38  "
      ]
     },
     "execution_count": 15,
     "metadata": {},
     "output_type": "execute_result"
    }
   ],
   "source": [
    "data.head() # проверим"
   ]
  },
  {
   "cell_type": "code",
   "execution_count": 16,
   "metadata": {},
   "outputs": [
    {
     "name": "stdout",
     "output_type": "stream",
     "text": [
      "<class 'pandas.core.frame.DataFrame'>\n",
      "Int64Index: 16444 entries, 0 to 16714\n",
      "Data columns (total 12 columns):\n",
      " #   Column           Non-Null Count  Dtype  \n",
      "---  ------           --------------  -----  \n",
      " 0   name             16444 non-null  object \n",
      " 1   platform         16444 non-null  object \n",
      " 2   year_of_release  16444 non-null  int64  \n",
      " 3   genre            16444 non-null  object \n",
      " 4   na_sales         16444 non-null  float64\n",
      " 5   eu_sales         16444 non-null  float64\n",
      " 6   jp_sales         16444 non-null  float64\n",
      " 7   other_sales      16444 non-null  float64\n",
      " 8   critic_score     7983 non-null   float64\n",
      " 9   user_score       7463 non-null   float64\n",
      " 10  rating           9768 non-null   object \n",
      " 11  total_sales      16444 non-null  float64\n",
      "dtypes: float64(7), int64(1), object(4)\n",
      "memory usage: 1.6+ MB\n"
     ]
    }
   ],
   "source": [
    "#удалим строки с пропусками в столбцах name и genre\n",
    "data = data.dropna(subset=['name', 'genre']) \n",
    "data.info()"
   ]
  },
  {
   "cell_type": "code",
   "execution_count": 17,
   "metadata": {},
   "outputs": [
    {
     "name": "stdout",
     "output_type": "stream",
     "text": [
      "<class 'pandas.core.frame.DataFrame'>\n",
      "Int64Index: 16444 entries, 0 to 16714\n",
      "Data columns (total 12 columns):\n",
      " #   Column           Non-Null Count  Dtype  \n",
      "---  ------           --------------  -----  \n",
      " 0   name             16444 non-null  object \n",
      " 1   platform         16444 non-null  object \n",
      " 2   year_of_release  16444 non-null  int64  \n",
      " 3   genre            16444 non-null  object \n",
      " 4   na_sales         16444 non-null  float64\n",
      " 5   eu_sales         16444 non-null  float64\n",
      " 6   jp_sales         16444 non-null  float64\n",
      " 7   other_sales      16444 non-null  float64\n",
      " 8   critic_score     7983 non-null   float64\n",
      " 9   user_score       7463 non-null   float64\n",
      " 10  rating           9768 non-null   object \n",
      " 11  total_sales      16444 non-null  float64\n",
      "dtypes: float64(7), int64(1), object(4)\n",
      "memory usage: 1.6+ MB\n",
      "None\n",
      "-------------------------\n",
      "name [' Beyblade Burst' ' Fire Emblem Fates' \" Frozen: Olaf's Quest\" ...\n",
      " 'uDraw Studio' 'uDraw Studio: Instant Artist'\n",
      " '¡Shin Chan Flipa en colores!']\n",
      "name : кол-во NaN 0 , процент NaN 0.0 %\n",
      "-------------------------\n",
      "platform ['2600' '3DO' '3DS' 'DC' 'DS' 'GB' 'GBA' 'GC' 'GEN' 'GG' 'N64' 'NES' 'NG'\n",
      " 'PC' 'PCFX' 'PS' 'PS2' 'PS3' 'PS4' 'PSP' 'PSV' 'SAT' 'SCD' 'SNES' 'TG16'\n",
      " 'WS' 'Wii' 'WiiU' 'X360' 'XB' 'XOne']\n",
      "platform : кол-во NaN 0 , процент NaN 0.0 %\n",
      "-------------------------\n",
      "year_of_release [1980 1981 1982 1983 1984 1985 1986 1987 1988 1989 1990 1991 1992 1993\n",
      " 1994 1995 1996 1997 1998 1999 2000 2001 2002 2003 2004 2005 2006 2007\n",
      " 2008 2009 2010 2011 2012 2013 2014 2015 2016]\n",
      "year_of_release : кол-во NaN 0 , процент NaN 0.0 %\n",
      "-------------------------\n",
      "genre ['Action' 'Adventure' 'Fighting' 'Misc' 'Platform' 'Puzzle' 'Racing'\n",
      " 'Role-Playing' 'Shooter' 'Simulation' 'Sports' 'Strategy']\n",
      "genre : кол-во NaN 0 , процент NaN 0.0 %\n",
      "-------------------------\n",
      "critic_score [13. 17. 19. 20. 21. 23. 24. 25. 26. 27. 28. 29. 30. 31. 32. 33. 34. 35.\n",
      " 36. 37. 38. 39. 40. 41. 42. 43. 44. 45. 46. 47. 48. 49. 50. 51. 52. 53.\n",
      " 54. 55. 56. 57. 58. 59. 60. 61. 62. 63. 64. 65. 66. 67. 68. 69. 70. 71.\n",
      " 72. 73. 74. 75. 76. 77. 78. 79. 80. 81. 82. 83. 84. 85. 86. 87. 88. 89.\n",
      " 90. 91. 92. 93. 94. 95. 96. 97. 98. nan]\n",
      "critic_score : кол-во NaN 8461 , процент NaN 51.45 %\n",
      "-------------------------\n",
      "user_score [0.  0.2 0.3 0.5 0.6 0.7 0.9 1.  1.1 1.2 1.3 1.4 1.5 1.6 1.7 1.8 1.9 2.\n",
      " 2.1 2.2 2.3 2.4 2.5 2.6 2.7 2.8 2.9 3.  3.1 3.2 3.3 3.4 3.5 3.6 3.7 3.8\n",
      " 3.9 4.  4.1 4.2 4.3 4.4 4.5 4.6 4.7 4.8 4.9 5.  5.1 5.2 5.3 5.4 5.5 5.6\n",
      " 5.7 5.8 5.9 6.  6.1 6.2 6.3 6.4 6.5 6.6 6.7 6.8 6.9 7.  7.1 7.2 7.3 7.4\n",
      " 7.5 7.6 7.7 7.8 7.9 8.  8.1 8.2 8.3 8.4 8.5 8.6 8.7 8.8 8.9 9.  9.1 9.2\n",
      " 9.3 9.4 9.5 9.6 9.7 nan]\n",
      "user_score : кол-во NaN 8981 , процент NaN 54.62 %\n",
      "-------------------------\n",
      "rating ['AO' 'E' 'E10+' 'EC' 'K-A' 'M' 'RP' 'T' nan]\n",
      "rating : кол-во NaN 6676 , процент NaN 40.6 %\n"
     ]
    }
   ],
   "source": [
    "# Комментарий ревьюера\n",
    "# Посмотрим, что у нас осталось\n",
    "temp = data.copy() \n",
    "list_c = ['name', 'platform', 'year_of_release', 'genre', 'critic_score', 'user_score', 'rating']\n",
    "print(temp.info())\n",
    "for col_l in list_c:\n",
    "  print('-'* 25)\n",
    "  print(col_l, temp[col_l].sort_values().unique())\n",
    "  print(col_l,': кол-во NaN',temp[col_l].isna().sum(),\n",
    "        ', процент NaN', round(temp[col_l].isna().sum()/len(temp)*100, 2),'%')"
   ]
  },
  {
   "cell_type": "markdown",
   "metadata": {},
   "source": [
    "</font><font color='Blue'><b>Поставим заглушку в возрастном рейтинге</b></font><br>"
   ]
  },
  {
   "cell_type": "code",
   "execution_count": 18,
   "metadata": {},
   "outputs": [
    {
     "data": {
      "text/plain": [
       "E       3921\n",
       "T       2905\n",
       "M       1536\n",
       "E10+    1393\n",
       "EC         8\n",
       "K-A        3\n",
       "AO         1\n",
       "RP         1\n",
       "Name: rating, dtype: int64"
      ]
     },
     "execution_count": 18,
     "metadata": {},
     "output_type": "execute_result"
    }
   ],
   "source": [
    "data['rating'].value_counts() # посмотрим на возрастной рейтинг поближе"
   ]
  },
  {
   "cell_type": "code",
   "execution_count": 19,
   "metadata": {},
   "outputs": [],
   "source": [
    "data['rating'] = data['rating'].fillna('RP') #поставил заглушку RP - \"категория не присвоена\""
   ]
  },
  {
   "cell_type": "code",
   "execution_count": 20,
   "metadata": {},
   "outputs": [
    {
     "data": {
      "text/plain": [
       "RP      6677\n",
       "E       3921\n",
       "T       2905\n",
       "M       1536\n",
       "E10+    1393\n",
       "EC         8\n",
       "K-A        3\n",
       "AO         1\n",
       "Name: rating, dtype: int64"
      ]
     },
     "execution_count": 20,
     "metadata": {},
     "output_type": "execute_result"
    }
   ],
   "source": [
    "data['rating'].value_counts() #проверим"
   ]
  },
  {
   "cell_type": "markdown",
   "metadata": {},
   "source": [
    "## Исследовательский анализ данных"
   ]
  },
  {
   "cell_type": "markdown",
   "metadata": {},
   "source": [
    "### Сколько игр выпускалось в разные годы"
   ]
  },
  {
   "cell_type": "code",
   "execution_count": 21,
   "metadata": {},
   "outputs": [
    {
     "data": {
      "text/plain": [
       "count    16444.000000\n",
       "mean      2006.486256\n",
       "std          5.875525\n",
       "min       1980.000000\n",
       "25%       2003.000000\n",
       "50%       2007.000000\n",
       "75%       2010.000000\n",
       "max       2016.000000\n",
       "Name: year_of_release, dtype: float64"
      ]
     },
     "execution_count": 21,
     "metadata": {},
     "output_type": "execute_result"
    }
   ],
   "source": [
    "data['year_of_release'].describe()"
   ]
  },
  {
   "cell_type": "code",
   "execution_count": 22,
   "metadata": {
    "scrolled": true
   },
   "outputs": [
    {
     "data": {
      "text/plain": [
       "Text(0.5, 0, 'Год выпуска')"
      ]
     },
     "execution_count": 22,
     "metadata": {},
     "output_type": "execute_result"
    },
    {
     "data": {
      "image/png": "[encoded data removed]",
      "text/plain": [
       "<Figure size 432x288 with 1 Axes>"
      ]
     },
     "metadata": {
      "needs_background": "light"
     },
     "output_type": "display_data"
    }
   ],
   "source": [
    "data['year_of_release'].plot(kind='hist', bins=37, grid=True)\n",
    "plt.title('Число игр по годам выпуска')\n",
    "plt.ylabel('Количество выпущенных игр')\n",
    "plt.xlabel('Год выпуска')"
   ]
  },
  {
   "cell_type": "markdown",
   "metadata": {},
   "source": [
    "Данные берут начало в 1980 году, значительный рост наблюдается с 2002 года, пик приходится на 2007-2011 гг. Далее отмечается спад. Для построения прогноза на 2017 год нет необходимости брать все данные, достаточно учесть последние 5 лет (период новой волны - спада, вызванного предположительно активным развитием мобильных приложений). "
   ]
  },
  {
   "cell_type": "markdown",
   "metadata": {},
   "source": [
    "### Продажи по платформам"
   ]
  },
  {
   "cell_type": "code",
   "execution_count": 23,
   "metadata": {},
   "outputs": [
    {
     "data": {
      "text/html": [
       "<div>\n",
       "<style scoped>\n",
       "    .dataframe tbody tr th:only-of-type {\n",
       "        vertical-align: middle;\n",
       "    }\n",
       "\n",
       "    .dataframe tbody tr th {\n",
       "        vertical-align: top;\n",
       "    }\n",
       "\n",
       "    .dataframe thead th {\n",
       "        text-align: right;\n",
       "    }\n",
       "</style>\n",
       "<table border=\"1\" class=\"dataframe\">\n",
       "  <thead>\n",
       "    <tr style=\"text-align: right;\">\n",
       "      <th></th>\n",
       "      <th>platform</th>\n",
       "      <th>total_sales</th>\n",
       "    </tr>\n",
       "  </thead>\n",
       "  <tbody>\n",
       "    <tr>\n",
       "      <th>16</th>\n",
       "      <td>PS2</td>\n",
       "      <td>1233.56</td>\n",
       "    </tr>\n",
       "    <tr>\n",
       "      <th>28</th>\n",
       "      <td>X360</td>\n",
       "      <td>961.24</td>\n",
       "    </tr>\n",
       "    <tr>\n",
       "      <th>17</th>\n",
       "      <td>PS3</td>\n",
       "      <td>931.34</td>\n",
       "    </tr>\n",
       "    <tr>\n",
       "      <th>26</th>\n",
       "      <td>Wii</td>\n",
       "      <td>891.18</td>\n",
       "    </tr>\n",
       "    <tr>\n",
       "      <th>4</th>\n",
       "      <td>DS</td>\n",
       "      <td>802.78</td>\n",
       "    </tr>\n",
       "    <tr>\n",
       "      <th>15</th>\n",
       "      <td>PS</td>\n",
       "      <td>727.58</td>\n",
       "    </tr>\n",
       "    <tr>\n",
       "      <th>18</th>\n",
       "      <td>PS4</td>\n",
       "      <td>314.14</td>\n",
       "    </tr>\n",
       "    <tr>\n",
       "      <th>6</th>\n",
       "      <td>GBA</td>\n",
       "      <td>312.88</td>\n",
       "    </tr>\n",
       "    <tr>\n",
       "      <th>19</th>\n",
       "      <td>PSP</td>\n",
       "      <td>289.53</td>\n",
       "    </tr>\n",
       "    <tr>\n",
       "      <th>2</th>\n",
       "      <td>3DS</td>\n",
       "      <td>257.81</td>\n",
       "    </tr>\n",
       "  </tbody>\n",
       "</table>\n",
       "</div>"
      ],
      "text/plain": [
       "   platform  total_sales\n",
       "16      PS2      1233.56\n",
       "28     X360       961.24\n",
       "17      PS3       931.34\n",
       "26      Wii       891.18\n",
       "4        DS       802.78\n",
       "15       PS       727.58\n",
       "18      PS4       314.14\n",
       "6       GBA       312.88\n",
       "19      PSP       289.53\n",
       "2       3DS       257.81"
      ]
     },
     "execution_count": 23,
     "metadata": {},
     "output_type": "execute_result"
    }
   ],
   "source": [
    "#сгруппируем и отсортируем общие продажи по платформам\n",
    "data.groupby('platform').sum()['total_sales'].reset_index().sort_values(by='total_sales', ascending=False).head(10)\n"
   ]
  },
  {
   "cell_type": "code",
   "execution_count": 24,
   "metadata": {},
   "outputs": [
    {
     "data": {
      "image/png": "[encoded data removed]",
      "text/plain": [
       "<Figure size 720x360 with 1 Axes>"
      ]
     },
     "metadata": {
      "needs_background": "light"
     },
     "output_type": "display_data"
    }
   ],
   "source": [
    "# построим линейный график\n",
    "platform_top_sales = data.pivot_table(index = 'year_of_release', columns = 'platform', values = 'total_sales', aggfunc = 'sum')\n",
    "\n",
    "platform_top_sales = platform_top_sales[['PS2', 'X360','PS3','Wii', 'DS', 'PS']]\n",
    "platform_top_sales.plot(xticks=platform_top_sales.index,figsize=(10,5), rot=45);"
   ]
  },
  {
   "cell_type": "markdown",
   "metadata": {},
   "source": [
    "Характерная длительность существования платформы 10-12 лет.   "
   ]
  },
  {
   "cell_type": "code",
   "execution_count": 25,
   "metadata": {},
   "outputs": [],
   "source": [
    "# отберем данные за актуальный период, чтобы подробнее оценить прибыльность платформ за последние годы\n",
    "data_sales = data.query('year_of_release >= 2012').pivot_table(index = 'year_of_release', columns = 'platform', values = 'total_sales', aggfunc = 'sum')"
   ]
  },
  {
   "cell_type": "code",
   "execution_count": 26,
   "metadata": {},
   "outputs": [
    {
     "data": {
      "image/png": "[encoded data removed]",
      "text/plain": [
       "<Figure size 864x432 with 1 Axes>"
      ]
     },
     "metadata": {
      "needs_background": "light"
     },
     "output_type": "display_data"
    }
   ],
   "source": [
    "data_sales.plot(xticks=data_sales.index,figsize=(12,6), rot=45);"
   ]
  },
  {
   "cell_type": "markdown",
   "metadata": {},
   "source": [
    "Наиболее прибыльными платформами в последние 5 лет являются Sony PlayStation 4 и Xbox One. Какое-то время будут актуальны игры для платформы 3DS, WiiU, Xbox 360 и PlayStation 3, но для них наблюдается спад и вряд ли произойдет повторный взлет. В 2016 года спад наблюдается по всем платформам, но можно предположить, что по этому году еще нет всех необходимых данных."
   ]
  },
  {
   "cell_type": "markdown",
   "metadata": {},
   "source": [
    "### Глобальная продажа игр"
   ]
  },
  {
   "cell_type": "code",
   "execution_count": 27,
   "metadata": {},
   "outputs": [
    {
     "data": {
      "text/html": [
       "<div>\n",
       "<style scoped>\n",
       "    .dataframe tbody tr th:only-of-type {\n",
       "        vertical-align: middle;\n",
       "    }\n",
       "\n",
       "    .dataframe tbody tr th {\n",
       "        vertical-align: top;\n",
       "    }\n",
       "\n",
       "    .dataframe thead th {\n",
       "        text-align: right;\n",
       "    }\n",
       "</style>\n",
       "<table border=\"1\" class=\"dataframe\">\n",
       "  <thead>\n",
       "    <tr style=\"text-align: right;\">\n",
       "      <th></th>\n",
       "      <th>name</th>\n",
       "      <th>platform</th>\n",
       "      <th>year_of_release</th>\n",
       "      <th>genre</th>\n",
       "      <th>na_sales</th>\n",
       "      <th>eu_sales</th>\n",
       "      <th>jp_sales</th>\n",
       "      <th>other_sales</th>\n",
       "      <th>critic_score</th>\n",
       "      <th>user_score</th>\n",
       "      <th>rating</th>\n",
       "      <th>total_sales</th>\n",
       "    </tr>\n",
       "  </thead>\n",
       "  <tbody>\n",
       "    <tr>\n",
       "      <th>16</th>\n",
       "      <td>Grand Theft Auto V</td>\n",
       "      <td>PS3</td>\n",
       "      <td>2013</td>\n",
       "      <td>Action</td>\n",
       "      <td>7.02</td>\n",
       "      <td>9.09</td>\n",
       "      <td>0.98</td>\n",
       "      <td>3.96</td>\n",
       "      <td>97.0</td>\n",
       "      <td>8.2</td>\n",
       "      <td>M</td>\n",
       "      <td>21.05</td>\n",
       "    </tr>\n",
       "    <tr>\n",
       "      <th>23</th>\n",
       "      <td>Grand Theft Auto V</td>\n",
       "      <td>X360</td>\n",
       "      <td>2013</td>\n",
       "      <td>Action</td>\n",
       "      <td>9.66</td>\n",
       "      <td>5.14</td>\n",
       "      <td>0.06</td>\n",
       "      <td>1.41</td>\n",
       "      <td>97.0</td>\n",
       "      <td>8.1</td>\n",
       "      <td>M</td>\n",
       "      <td>16.27</td>\n",
       "    </tr>\n",
       "    <tr>\n",
       "      <th>31</th>\n",
       "      <td>Call of Duty: Black Ops 3</td>\n",
       "      <td>PS4</td>\n",
       "      <td>2015</td>\n",
       "      <td>Shooter</td>\n",
       "      <td>6.03</td>\n",
       "      <td>5.86</td>\n",
       "      <td>0.36</td>\n",
       "      <td>2.38</td>\n",
       "      <td>NaN</td>\n",
       "      <td>NaN</td>\n",
       "      <td>RP</td>\n",
       "      <td>14.63</td>\n",
       "    </tr>\n",
       "    <tr>\n",
       "      <th>33</th>\n",
       "      <td>Pokemon X/Pokemon Y</td>\n",
       "      <td>3DS</td>\n",
       "      <td>2013</td>\n",
       "      <td>Role-Playing</td>\n",
       "      <td>5.28</td>\n",
       "      <td>4.19</td>\n",
       "      <td>4.35</td>\n",
       "      <td>0.78</td>\n",
       "      <td>NaN</td>\n",
       "      <td>NaN</td>\n",
       "      <td>RP</td>\n",
       "      <td>14.60</td>\n",
       "    </tr>\n",
       "    <tr>\n",
       "      <th>34</th>\n",
       "      <td>Call of Duty: Black Ops II</td>\n",
       "      <td>PS3</td>\n",
       "      <td>2012</td>\n",
       "      <td>Shooter</td>\n",
       "      <td>4.99</td>\n",
       "      <td>5.73</td>\n",
       "      <td>0.65</td>\n",
       "      <td>2.42</td>\n",
       "      <td>83.0</td>\n",
       "      <td>5.3</td>\n",
       "      <td>M</td>\n",
       "      <td>13.79</td>\n",
       "    </tr>\n",
       "  </tbody>\n",
       "</table>\n",
       "</div>"
      ],
      "text/plain": [
       "                          name platform  year_of_release         genre  \\\n",
       "16          Grand Theft Auto V      PS3             2013        Action   \n",
       "23          Grand Theft Auto V     X360             2013        Action   \n",
       "31   Call of Duty: Black Ops 3      PS4             2015       Shooter   \n",
       "33         Pokemon X/Pokemon Y      3DS             2013  Role-Playing   \n",
       "34  Call of Duty: Black Ops II      PS3             2012       Shooter   \n",
       "\n",
       "    na_sales  eu_sales  jp_sales  other_sales  critic_score  user_score  \\\n",
       "16      7.02      9.09      0.98         3.96          97.0         8.2   \n",
       "23      9.66      5.14      0.06         1.41          97.0         8.1   \n",
       "31      6.03      5.86      0.36         2.38           NaN         NaN   \n",
       "33      5.28      4.19      4.35         0.78           NaN         NaN   \n",
       "34      4.99      5.73      0.65         2.42          83.0         5.3   \n",
       "\n",
       "   rating  total_sales  \n",
       "16      M        21.05  \n",
       "23      M        16.27  \n",
       "31     RP        14.63  \n",
       "33     RP        14.60  \n",
       "34      M        13.79  "
      ]
     },
     "execution_count": 27,
     "metadata": {},
     "output_type": "execute_result"
    }
   ],
   "source": [
    "# отберем данные за последние 5 лет по топовым платформам\n",
    "actual_period = data.query('year_of_release >= 2012') #отберем игры по актуальному периоду \n",
    "actual_period.head()"
   ]
  },
  {
   "cell_type": "code",
   "execution_count": 28,
   "metadata": {},
   "outputs": [
    {
     "data": {
      "text/html": [
       "<div>\n",
       "<style scoped>\n",
       "    .dataframe tbody tr th:only-of-type {\n",
       "        vertical-align: middle;\n",
       "    }\n",
       "\n",
       "    .dataframe tbody tr th {\n",
       "        vertical-align: top;\n",
       "    }\n",
       "\n",
       "    .dataframe thead th {\n",
       "        text-align: right;\n",
       "    }\n",
       "</style>\n",
       "<table border=\"1\" class=\"dataframe\">\n",
       "  <thead>\n",
       "    <tr style=\"text-align: right;\">\n",
       "      <th></th>\n",
       "      <th>total_sales</th>\n",
       "    </tr>\n",
       "    <tr>\n",
       "      <th>platform</th>\n",
       "      <th></th>\n",
       "    </tr>\n",
       "  </thead>\n",
       "  <tbody>\n",
       "    <tr>\n",
       "      <th>PS4</th>\n",
       "      <td>314.14</td>\n",
       "    </tr>\n",
       "    <tr>\n",
       "      <th>PS3</th>\n",
       "      <td>288.79</td>\n",
       "    </tr>\n",
       "    <tr>\n",
       "      <th>X360</th>\n",
       "      <td>236.54</td>\n",
       "    </tr>\n",
       "    <tr>\n",
       "      <th>3DS</th>\n",
       "      <td>194.61</td>\n",
       "    </tr>\n",
       "    <tr>\n",
       "      <th>XOne</th>\n",
       "      <td>159.32</td>\n",
       "    </tr>\n",
       "    <tr>\n",
       "      <th>WiiU</th>\n",
       "      <td>82.19</td>\n",
       "    </tr>\n",
       "    <tr>\n",
       "      <th>PC</th>\n",
       "      <td>62.65</td>\n",
       "    </tr>\n",
       "    <tr>\n",
       "      <th>PSV</th>\n",
       "      <td>49.18</td>\n",
       "    </tr>\n",
       "    <tr>\n",
       "      <th>Wii</th>\n",
       "      <td>35.37</td>\n",
       "    </tr>\n",
       "    <tr>\n",
       "      <th>DS</th>\n",
       "      <td>12.55</td>\n",
       "    </tr>\n",
       "    <tr>\n",
       "      <th>PSP</th>\n",
       "      <td>11.19</td>\n",
       "    </tr>\n",
       "  </tbody>\n",
       "</table>\n",
       "</div>"
      ],
      "text/plain": [
       "          total_sales\n",
       "platform             \n",
       "PS4            314.14\n",
       "PS3            288.79\n",
       "X360           236.54\n",
       "3DS            194.61\n",
       "XOne           159.32\n",
       "WiiU            82.19\n",
       "PC              62.65\n",
       "PSV             49.18\n",
       "Wii             35.37\n",
       "DS              12.55\n",
       "PSP             11.19"
      ]
     },
     "execution_count": 28,
     "metadata": {},
     "output_type": "execute_result"
    }
   ],
   "source": [
    "# посмотрим на продажи по топовым платформам за последние 5 лет\n",
    "actual_period.groupby('platform')[['total_sales']].agg('sum').sort_values(by='total_sales', ascending=False)"
   ]
  },
  {
   "cell_type": "code",
   "execution_count": 29,
   "metadata": {},
   "outputs": [
    {
     "data": {
      "image/png": "[encoded data removed]",
      "text/plain": [
       "<Figure size 720x360 with 1 Axes>"
      ]
     },
     "metadata": {
      "needs_background": "light"
     },
     "output_type": "display_data"
    }
   ],
   "source": [
    "# посмотрим на график \"ящик с усами\"\n",
    "plt.figure(figsize=(10,5))\n",
    "\n",
    "plot = sns.boxplot(x='platform', y='total_sales', data=actual_period)\n",
    "plot.set_ylim(0, 3)\n",
    "plot.set_ylabel('Продажи игр, млн ед.')\n",
    "plot.set_xlabel('Платформы')\n",
    "plot.set_title('Глобальные продажи игр в разбивке по платформам')\n",
    "plt.show()"
   ]
  },
  {
   "cell_type": "markdown",
   "metadata": {},
   "source": [
    "У всех платформ наблюдается большое количество игр, которые имеют небольшие продажи, т.к. медианы смещены вниз. Но также мы наблюдаем, что у всех есть топовые игры, продажи которых привышают средние значения."
   ]
  },
  {
   "cell_type": "markdown",
   "metadata": {},
   "source": [
    "### Влияние на продажи отзывов пользователей и критиков"
   ]
  },
  {
   "cell_type": "code",
   "execution_count": 30,
   "metadata": {},
   "outputs": [
    {
     "data": {
      "text/html": [
       "<div>\n",
       "<style scoped>\n",
       "    .dataframe tbody tr th:only-of-type {\n",
       "        vertical-align: middle;\n",
       "    }\n",
       "\n",
       "    .dataframe tbody tr th {\n",
       "        vertical-align: top;\n",
       "    }\n",
       "\n",
       "    .dataframe thead th {\n",
       "        text-align: right;\n",
       "    }\n",
       "</style>\n",
       "<table border=\"1\" class=\"dataframe\">\n",
       "  <thead>\n",
       "    <tr style=\"text-align: right;\">\n",
       "      <th></th>\n",
       "      <th>user_score</th>\n",
       "      <th>critic_score</th>\n",
       "    </tr>\n",
       "    <tr>\n",
       "      <th>platform</th>\n",
       "      <th></th>\n",
       "      <th></th>\n",
       "    </tr>\n",
       "  </thead>\n",
       "  <tbody>\n",
       "    <tr>\n",
       "      <th>3DS</th>\n",
       "      <td>7.0</td>\n",
       "      <td>69.8</td>\n",
       "    </tr>\n",
       "    <tr>\n",
       "      <th>DS</th>\n",
       "      <td>7.0</td>\n",
       "      <td>80.0</td>\n",
       "    </tr>\n",
       "    <tr>\n",
       "      <th>PC</th>\n",
       "      <td>6.4</td>\n",
       "      <td>75.8</td>\n",
       "    </tr>\n",
       "    <tr>\n",
       "      <th>PS3</th>\n",
       "      <td>6.5</td>\n",
       "      <td>71.6</td>\n",
       "    </tr>\n",
       "    <tr>\n",
       "      <th>PS4</th>\n",
       "      <td>6.7</td>\n",
       "      <td>72.1</td>\n",
       "    </tr>\n",
       "    <tr>\n",
       "      <th>PSP</th>\n",
       "      <td>6.0</td>\n",
       "      <td>74.0</td>\n",
       "    </tr>\n",
       "    <tr>\n",
       "      <th>PSV</th>\n",
       "      <td>7.4</td>\n",
       "      <td>71.3</td>\n",
       "    </tr>\n",
       "    <tr>\n",
       "      <th>Wii</th>\n",
       "      <td>6.1</td>\n",
       "      <td>76.2</td>\n",
       "    </tr>\n",
       "    <tr>\n",
       "      <th>WiiU</th>\n",
       "      <td>6.9</td>\n",
       "      <td>70.7</td>\n",
       "    </tr>\n",
       "    <tr>\n",
       "      <th>X360</th>\n",
       "      <td>6.2</td>\n",
       "      <td>70.9</td>\n",
       "    </tr>\n",
       "    <tr>\n",
       "      <th>XOne</th>\n",
       "      <td>6.5</td>\n",
       "      <td>73.3</td>\n",
       "    </tr>\n",
       "  </tbody>\n",
       "</table>\n",
       "</div>"
      ],
      "text/plain": [
       "          user_score  critic_score\n",
       "platform                          \n",
       "3DS              7.0          69.8\n",
       "DS               7.0          80.0\n",
       "PC               6.4          75.8\n",
       "PS3              6.5          71.6\n",
       "PS4              6.7          72.1\n",
       "PSP              6.0          74.0\n",
       "PSV              7.4          71.3\n",
       "Wii              6.1          76.2\n",
       "WiiU             6.9          70.7\n",
       "X360             6.2          70.9\n",
       "XOne             6.5          73.3"
      ]
     },
     "execution_count": 30,
     "metadata": {},
     "output_type": "execute_result"
    }
   ],
   "source": [
    "#определим средние оценки для платформ за последние 5 лет\n",
    "actual_period.groupby('platform')[['user_score', 'critic_score']].agg('mean').round(1) "
   ]
  },
  {
   "cell_type": "code",
   "execution_count": 31,
   "metadata": {},
   "outputs": [
    {
     "data": {
      "text/plain": [
       "-0.06892505328279412"
      ]
     },
     "execution_count": 31,
     "metadata": {},
     "output_type": "execute_result"
    }
   ],
   "source": [
    "# Корреляция между продажами и отзывами пользователей для платформы Xbox One\n",
    "actual_period.query('platform == \"XOne\"')['total_sales'].corr(actual_period.query('platform == \"XOne\"')['user_score'])\n"
   ]
  },
  {
   "cell_type": "code",
   "execution_count": 32,
   "metadata": {},
   "outputs": [
    {
     "data": {
      "text/plain": [
       "0.41699832800840175"
      ]
     },
     "execution_count": 32,
     "metadata": {},
     "output_type": "execute_result"
    }
   ],
   "source": [
    "# Корреляция между продажами и отзывами критиков для платформы Xbox One\n",
    "actual_period.query('platform == \"XOne\"')['total_sales'].corr(actual_period.query('platform == \"XOne\"')['critic_score'])"
   ]
  },
  {
   "cell_type": "code",
   "execution_count": 33,
   "metadata": {},
   "outputs": [
    {
     "data": {
      "image/png": "[encoded data removed]",
      "text/plain": [
       "<Figure size 360x360 with 1 Axes>"
      ]
     },
     "metadata": {
      "needs_background": "light"
     },
     "output_type": "display_data"
    },
    {
     "data": {
      "image/png": "[encoded data removed]",
      "text/plain": [
       "<Figure size 360x360 with 1 Axes>"
      ]
     },
     "metadata": {
      "needs_background": "light"
     },
     "output_type": "display_data"
    }
   ],
   "source": [
    "# визуализируем\n",
    "sns.relplot(x='total_sales', y='user_score',data=actual_period.query('platform == \"XOne\"'))\n",
    "plt.title('Зависимость продаж Xbox One от оценок пользователей')\n",
    "sns.relplot(x='total_sales', y='critic_score',data=actual_period.query('platform == \"XOne\"'))\n",
    "plt.title('Зависимость продаж Xbox One от оценок критиков')\n",
    "plt.show()"
   ]
  },
  {
   "cell_type": "markdown",
   "metadata": {},
   "source": [
    "Продажи на платформе Xbox One сильнее зависят от оценок критиков, чем пользователей."
   ]
  },
  {
   "cell_type": "code",
   "execution_count": 34,
   "metadata": {},
   "outputs": [
    {
     "data": {
      "text/plain": [
       "0.010406363227598463"
      ]
     },
     "execution_count": 34,
     "metadata": {},
     "output_type": "execute_result"
    }
   ],
   "source": [
    "# посмотрим на корреляцию оценок пользователей и продаж для остальных платформ\n",
    "actual_period.query('platform != \"XOne\"')['total_sales'].corr(actual_period.query('platform != \"XOne\"')['user_score'])"
   ]
  },
  {
   "cell_type": "code",
   "execution_count": 35,
   "metadata": {},
   "outputs": [
    {
     "data": {
      "text/plain": [
       "0.3004012384842725"
      ]
     },
     "execution_count": 35,
     "metadata": {},
     "output_type": "execute_result"
    }
   ],
   "source": [
    "# посмотрим на корреляцию оценок критиков и продаж для остальных платформ\n",
    "actual_period.query('platform != \"XOne\"')['total_sales'].corr(actual_period.query('platform != \"XOne\"')['critic_score'])"
   ]
  },
  {
   "cell_type": "markdown",
   "metadata": {},
   "source": [
    "Выводы для других платформ идентичны, единственное зависимость между продажами и оценками критиков для Xbox One чуть выше, чем для всех остальных платформ."
   ]
  },
  {
   "cell_type": "code",
   "execution_count": 36,
   "metadata": {},
   "outputs": [
    {
     "name": "stdout",
     "output_type": "stream",
     "text": [
      "XOne\n",
      "Корреляция продаж и оценок пользователей: -0.06892505328279412\n",
      "Корреляция продаж и оценок критиков: 0.41699832800840175\n",
      "3DS\n",
      "Корреляция продаж и оценок пользователей: 0.19758263411038596\n",
      "Корреляция продаж и оценок критиков: 0.32080286953607845\n",
      "PS3\n",
      "Корреляция продаж и оценок пользователей: -0.005143522887113828\n",
      "Корреляция продаж и оценок критиков: 0.3314972592629587\n",
      "WiiU\n",
      "Корреляция продаж и оценок пользователей: 0.4002190202148617\n",
      "Корреляция продаж и оценок критиков: 0.3483797601201749\n",
      "X360\n",
      "Корреляция продаж и оценок пользователей: 0.0061639786462133256\n",
      "Корреляция продаж и оценок критиков: 0.36057348885073365\n",
      "PS4\n",
      "Корреляция продаж и оценок пользователей: -0.031957110204556376\n",
      "Корреляция продаж и оценок критиков: 0.406567902061781\n"
     ]
    }
   ],
   "source": [
    "platforms = ['XOne', '3DS', 'PS3','WiiU', 'X360', 'PS4'] \n",
    "\n",
    "for platform in platforms:\n",
    "    print(platform)\n",
    "    print('Корреляция продаж и оценок пользователей:', actual_period.query('platform == @platform')['total_sales'].corr(actual_period.query('platform == @platform')['user_score']))\n",
    "    print('Корреляция продаж и оценок критиков:',actual_period.query('platform == @platform')['total_sales'].corr(actual_period.query('platform == @platform')['critic_score']))\n",
    "    "
   ]
  },
  {
   "cell_type": "code",
   "execution_count": 37,
   "metadata": {
    "scrolled": true
   },
   "outputs": [
    {
     "data": {
      "image/png": "[encoded data removed]",
      "text/plain": [
       "<Figure size 360x360 with 1 Axes>"
      ]
     },
     "metadata": {
      "needs_background": "light"
     },
     "output_type": "display_data"
    },
    {
     "data": {
      "image/png": "[encoded data removed]",
      "text/plain": [
       "<Figure size 360x360 with 1 Axes>"
      ]
     },
     "metadata": {
      "needs_background": "light"
     },
     "output_type": "display_data"
    },
    {
     "data": {
      "image/png": "[encoded data removed]",
      "text/plain": [
       "<Figure size 360x360 with 1 Axes>"
      ]
     },
     "metadata": {
      "needs_background": "light"
     },
     "output_type": "display_data"
    },
    {
     "data": {
      "image/png": "[encoded data removed]",
      "text/plain": [
       "<Figure size 360x360 with 1 Axes>"
      ]
     },
     "metadata": {
      "needs_background": "light"
     },
     "output_type": "display_data"
    },
    {
     "data": {
      "image/png": "[encoded data removed]",
      "text/plain": [
       "<Figure size 360x360 with 1 Axes>"
      ]
     },
     "metadata": {
      "needs_background": "light"
     },
     "output_type": "display_data"
    },
    {
     "data": {
      "image/png": "[encoded data removed]",
      "text/plain": [
       "<Figure size 360x360 with 1 Axes>"
      ]
     },
     "metadata": {
      "needs_background": "light"
     },
     "output_type": "display_data"
    },
    {
     "data": {
      "image/png": "[encoded data removed]",
      "text/plain": [
       "<Figure size 360x360 with 1 Axes>"
      ]
     },
     "metadata": {
      "needs_background": "light"
     },
     "output_type": "display_data"
    },
    {
     "data": {
      "image/png": "[encoded data removed]",
      "text/plain": [
       "<Figure size 360x360 with 1 Axes>"
      ]
     },
     "metadata": {
      "needs_background": "light"
     },
     "output_type": "display_data"
    },
    {
     "data": {
      "image/png": "[encoded data removed]",
      "text/plain": [
       "<Figure size 360x360 with 1 Axes>"
      ]
     },
     "metadata": {
      "needs_background": "light"
     },
     "output_type": "display_data"
    },
    {
     "data": {
      "image/png": "[encoded data removed]",
      "text/plain": [
       "<Figure size 360x360 with 1 Axes>"
      ]
     },
     "metadata": {
      "needs_background": "light"
     },
     "output_type": "display_data"
    },
    {
     "data": {
      "image/png": "[encoded data removed]",
      "text/plain": [
       "<Figure size 360x360 with 1 Axes>"
      ]
     },
     "metadata": {
      "needs_background": "light"
     },
     "output_type": "display_data"
    },
    {
     "data": {
      "image/png": "[encoded data removed]",
      "text/plain": [
       "<Figure size 360x360 with 1 Axes>"
      ]
     },
     "metadata": {
      "needs_background": "light"
     },
     "output_type": "display_data"
    }
   ],
   "source": [
    "platforms = ['XOne', '3DS', 'PS3','WiiU', 'X360', 'PS4']\n",
    "\n",
    "for platform in platforms:\n",
    "    sns.relplot(x='total_sales', y='user_score',data=actual_period.query('platform == @platform'))\n",
    "    plt.title(f'Корреляция продаж и оценок пользователей {platform}')\n",
    "    sns.relplot(x='total_sales', y='critic_score',data=actual_period.query('platform == @platform'))\n",
    "    plt.title(f'Корреляция продаж и оценок критиков {platform}')\n",
    "    plt.show()\n",
    "   "
   ]
  },
  {
   "cell_type": "markdown",
   "metadata": {},
   "source": [
    "Из диаграмм рассеяния и расчета корреляции мы видим, что на платформе WiiU наблюдается самая большая связь между продажами и оценками пользователей. Что касается оценок критиков, то здесь связь наибольшая с продажами платформы Xbox One, как было отмечено выше."
   ]
  },
  {
   "cell_type": "markdown",
   "metadata": {},
   "source": [
    "### Распределение игр по жанрам"
   ]
  },
  {
   "cell_type": "code",
   "execution_count": 38,
   "metadata": {},
   "outputs": [
    {
     "data": {
      "text/plain": [
       "(1446.5300000000002, 1446.5300000000002, 0.0)"
      ]
     },
     "execution_count": 38,
     "metadata": {},
     "output_type": "execute_result"
    }
   ],
   "source": [
    "# Комментарий ревьюера\n",
    "temp1, temp2 = actual_period.total_sales.sum(), data.query('year_of_release >= 2012').total_sales.sum()\n",
    "temp1, temp2, round((temp2-temp1)/temp2*100, 2)"
   ]
  },
  {
   "cell_type": "code",
   "execution_count": 39,
   "metadata": {
    "scrolled": false
   },
   "outputs": [
    {
     "data": {
      "text/html": [
       "<div>\n",
       "<style scoped>\n",
       "    .dataframe tbody tr th:only-of-type {\n",
       "        vertical-align: middle;\n",
       "    }\n",
       "\n",
       "    .dataframe tbody tr th {\n",
       "        vertical-align: top;\n",
       "    }\n",
       "\n",
       "    .dataframe thead th {\n",
       "        text-align: right;\n",
       "    }\n",
       "</style>\n",
       "<table border=\"1\" class=\"dataframe\">\n",
       "  <thead>\n",
       "    <tr style=\"text-align: right;\">\n",
       "      <th></th>\n",
       "      <th>total_sales</th>\n",
       "    </tr>\n",
       "    <tr>\n",
       "      <th>genre</th>\n",
       "      <th></th>\n",
       "    </tr>\n",
       "  </thead>\n",
       "  <tbody>\n",
       "    <tr>\n",
       "      <th>Action</th>\n",
       "      <td>441.12</td>\n",
       "    </tr>\n",
       "    <tr>\n",
       "      <th>Shooter</th>\n",
       "      <td>304.73</td>\n",
       "    </tr>\n",
       "    <tr>\n",
       "      <th>Role-Playing</th>\n",
       "      <td>192.80</td>\n",
       "    </tr>\n",
       "    <tr>\n",
       "      <th>Sports</th>\n",
       "      <td>181.07</td>\n",
       "    </tr>\n",
       "    <tr>\n",
       "      <th>Misc</th>\n",
       "      <td>85.04</td>\n",
       "    </tr>\n",
       "    <tr>\n",
       "      <th>Platform</th>\n",
       "      <td>61.00</td>\n",
       "    </tr>\n",
       "    <tr>\n",
       "      <th>Racing</th>\n",
       "      <td>53.50</td>\n",
       "    </tr>\n",
       "    <tr>\n",
       "      <th>Fighting</th>\n",
       "      <td>44.49</td>\n",
       "    </tr>\n",
       "    <tr>\n",
       "      <th>Simulation</th>\n",
       "      <td>35.12</td>\n",
       "    </tr>\n",
       "    <tr>\n",
       "      <th>Adventure</th>\n",
       "      <td>29.43</td>\n",
       "    </tr>\n",
       "    <tr>\n",
       "      <th>Strategy</th>\n",
       "      <td>13.34</td>\n",
       "    </tr>\n",
       "    <tr>\n",
       "      <th>Puzzle</th>\n",
       "      <td>4.89</td>\n",
       "    </tr>\n",
       "  </tbody>\n",
       "</table>\n",
       "</div>"
      ],
      "text/plain": [
       "              total_sales\n",
       "genre                    \n",
       "Action             441.12\n",
       "Shooter            304.73\n",
       "Role-Playing       192.80\n",
       "Sports             181.07\n",
       "Misc                85.04\n",
       "Platform            61.00\n",
       "Racing              53.50\n",
       "Fighting            44.49\n",
       "Simulation          35.12\n",
       "Adventure           29.43\n",
       "Strategy            13.34\n",
       "Puzzle               4.89"
      ]
     },
     "execution_count": 39,
     "metadata": {},
     "output_type": "execute_result"
    }
   ],
   "source": [
    "# проранжируем продажи по жанрам\n",
    "actual_period.pivot_table(index = 'genre', values = 'total_sales', aggfunc='sum').sort_values(by='total_sales', ascending=False)"
   ]
  },
  {
   "cell_type": "markdown",
   "metadata": {},
   "source": [
    "Наиболее продаваемыми жанрами в играх являются Action, Shooter и Sports. </font><font color='Blue'><b>Но посмотрим на данные подробнее построив диаграмму размаха.</b></font><br>"
   ]
  },
  {
   "cell_type": "code",
   "execution_count": 40,
   "metadata": {
    "scrolled": true
   },
   "outputs": [
    {
     "data": {
      "text/html": [
       "<div>\n",
       "<style scoped>\n",
       "    .dataframe tbody tr th:only-of-type {\n",
       "        vertical-align: middle;\n",
       "    }\n",
       "\n",
       "    .dataframe tbody tr th {\n",
       "        vertical-align: top;\n",
       "    }\n",
       "\n",
       "    .dataframe thead th {\n",
       "        text-align: right;\n",
       "    }\n",
       "</style>\n",
       "<table border=\"1\" class=\"dataframe\">\n",
       "  <thead>\n",
       "    <tr style=\"text-align: right;\">\n",
       "      <th></th>\n",
       "      <th>total_sales</th>\n",
       "    </tr>\n",
       "    <tr>\n",
       "      <th>genre</th>\n",
       "      <th></th>\n",
       "    </tr>\n",
       "  </thead>\n",
       "  <tbody>\n",
       "    <tr>\n",
       "      <th>Shooter</th>\n",
       "      <td>0.440</td>\n",
       "    </tr>\n",
       "    <tr>\n",
       "      <th>Sports</th>\n",
       "      <td>0.240</td>\n",
       "    </tr>\n",
       "    <tr>\n",
       "      <th>Platform</th>\n",
       "      <td>0.210</td>\n",
       "    </tr>\n",
       "    <tr>\n",
       "      <th>Role-Playing</th>\n",
       "      <td>0.140</td>\n",
       "    </tr>\n",
       "    <tr>\n",
       "      <th>Racing</th>\n",
       "      <td>0.140</td>\n",
       "    </tr>\n",
       "    <tr>\n",
       "      <th>Fighting</th>\n",
       "      <td>0.130</td>\n",
       "    </tr>\n",
       "    <tr>\n",
       "      <th>Action</th>\n",
       "      <td>0.120</td>\n",
       "    </tr>\n",
       "    <tr>\n",
       "      <th>Misc</th>\n",
       "      <td>0.120</td>\n",
       "    </tr>\n",
       "    <tr>\n",
       "      <th>Simulation</th>\n",
       "      <td>0.120</td>\n",
       "    </tr>\n",
       "    <tr>\n",
       "      <th>Strategy</th>\n",
       "      <td>0.080</td>\n",
       "    </tr>\n",
       "    <tr>\n",
       "      <th>Puzzle</th>\n",
       "      <td>0.045</td>\n",
       "    </tr>\n",
       "    <tr>\n",
       "      <th>Adventure</th>\n",
       "      <td>0.030</td>\n",
       "    </tr>\n",
       "  </tbody>\n",
       "</table>\n",
       "</div>"
      ],
      "text/plain": [
       "              total_sales\n",
       "genre                    \n",
       "Shooter             0.440\n",
       "Sports              0.240\n",
       "Platform            0.210\n",
       "Role-Playing        0.140\n",
       "Racing              0.140\n",
       "Fighting            0.130\n",
       "Action              0.120\n",
       "Misc                0.120\n",
       "Simulation          0.120\n",
       "Strategy            0.080\n",
       "Puzzle              0.045\n",
       "Adventure           0.030"
      ]
     },
     "execution_count": 40,
     "metadata": {},
     "output_type": "execute_result"
    }
   ],
   "source": [
    "actual_period.pivot_table(index = 'genre', values = 'total_sales', aggfunc='median').sort_values(by='total_sales', ascending=False)"
   ]
  },
  {
   "cell_type": "code",
   "execution_count": 41,
   "metadata": {
    "scrolled": true
   },
   "outputs": [
    {
     "data": {
      "image/png": "[encoded data removed]",
      "text/plain": [
       "<Figure size 1080x360 with 1 Axes>"
      ]
     },
     "metadata": {
      "needs_background": "light"
     },
     "output_type": "display_data"
    }
   ],
   "source": [
    "# посмотрим на диаграмму размаха\n",
    "plt.figure(figsize=(15,5))\n",
    "\n",
    "plot = sns.boxplot(x='genre', y='total_sales', data=actual_period)\n",
    "plot.set_ylim(0, 3)\n",
    "plot.set_ylabel('Продажи игр, млн ед.')\n",
    "plot.set_xlabel('Жанры')\n",
    "plot.set_title('Глобальные продажи игр в разбивке по жанрам')\n",
    "plt.show()"
   ]
  },
  {
   "cell_type": "markdown",
   "metadata": {},
   "source": [
    "Но когда мы смотрим на медианные значения, то видим, что жанр Shooter не имеет большого количества выбросов, что приводит к максимальным сумам продаж, но при этом самый успешный с точки зрения медианны продаж."
   ]
  },
  {
   "cell_type": "markdown",
   "metadata": {},
   "source": [
    "##  Портрет пользователя каждого региона"
   ]
  },
  {
   "cell_type": "markdown",
   "metadata": {},
   "source": [
    "### Самые популярные платформы по регионам"
   ]
  },
  {
   "cell_type": "code",
   "execution_count": 42,
   "metadata": {},
   "outputs": [
    {
     "data": {
      "text/html": [
       "<style  type=\"text/css\" >\n",
       "</style><table id=\"T_3928a_\" ><thead>    <tr>        <th class=\"blank level0\" ></th>        <th class=\"col_heading level0 col0\" >eu_sales</th>        <th class=\"col_heading level0 col1\" >jp_sales</th>        <th class=\"col_heading level0 col2\" >na_sales</th>    </tr>    <tr>        <th class=\"index_name level0\" >platform</th>        <th class=\"blank\" ></th>        <th class=\"blank\" ></th>        <th class=\"blank\" ></th>    </tr></thead><tbody>\n",
       "                <tr>\n",
       "                        <th id=\"T_3928a_level0_row0\" class=\"row_heading level0 row0\" >3DS</th>\n",
       "                        <td id=\"T_3928a_row0_col0\" class=\"data row0 col0\" >8%</td>\n",
       "                        <td id=\"T_3928a_row0_col1\" class=\"data row0 col1\" >46%</td>\n",
       "                        <td id=\"T_3928a_row0_col2\" class=\"data row0 col2\" >9%</td>\n",
       "            </tr>\n",
       "            <tr>\n",
       "                        <th id=\"T_3928a_level0_row1\" class=\"row_heading level0 row1\" >DS</th>\n",
       "                        <td id=\"T_3928a_row1_col0\" class=\"data row1 col0\" >1%</td>\n",
       "                        <td id=\"T_3928a_row1_col1\" class=\"data row1 col1\" >2%</td>\n",
       "                        <td id=\"T_3928a_row1_col2\" class=\"data row1 col2\" >1%</td>\n",
       "            </tr>\n",
       "            <tr>\n",
       "                        <th id=\"T_3928a_level0_row2\" class=\"row_heading level0 row2\" >PC</th>\n",
       "                        <td id=\"T_3928a_row2_col0\" class=\"data row2 col0\" >7%</td>\n",
       "                        <td id=\"T_3928a_row2_col1\" class=\"data row2 col1\" >0%</td>\n",
       "                        <td id=\"T_3928a_row2_col2\" class=\"data row2 col2\" >3%</td>\n",
       "            </tr>\n",
       "            <tr>\n",
       "                        <th id=\"T_3928a_level0_row3\" class=\"row_heading level0 row3\" >PS3</th>\n",
       "                        <td id=\"T_3928a_row3_col0\" class=\"data row3 col0\" >21%</td>\n",
       "                        <td id=\"T_3928a_row3_col1\" class=\"data row3 col1\" >18%</td>\n",
       "                        <td id=\"T_3928a_row3_col2\" class=\"data row3 col2\" >17%</td>\n",
       "            </tr>\n",
       "            <tr>\n",
       "                        <th id=\"T_3928a_level0_row4\" class=\"row_heading level0 row4\" >PS4</th>\n",
       "                        <td id=\"T_3928a_row4_col0\" class=\"data row4 col0\" >28%</td>\n",
       "                        <td id=\"T_3928a_row4_col1\" class=\"data row4 col1\" >8%</td>\n",
       "                        <td id=\"T_3928a_row4_col2\" class=\"data row4 col2\" >18%</td>\n",
       "            </tr>\n",
       "            <tr>\n",
       "                        <th id=\"T_3928a_level0_row5\" class=\"row_heading level0 row5\" >PSP</th>\n",
       "                        <td id=\"T_3928a_row5_col0\" class=\"data row5 col0\" >0%</td>\n",
       "                        <td id=\"T_3928a_row5_col1\" class=\"data row5 col1\" >5%</td>\n",
       "                        <td id=\"T_3928a_row5_col2\" class=\"data row5 col2\" >0%</td>\n",
       "            </tr>\n",
       "            <tr>\n",
       "                        <th id=\"T_3928a_level0_row6\" class=\"row_heading level0 row6\" >PSV</th>\n",
       "                        <td id=\"T_3928a_row6_col0\" class=\"data row6 col0\" >2%</td>\n",
       "                        <td id=\"T_3928a_row6_col1\" class=\"data row6 col1\" >11%</td>\n",
       "                        <td id=\"T_3928a_row6_col2\" class=\"data row6 col2\" >2%</td>\n",
       "            </tr>\n",
       "            <tr>\n",
       "                        <th id=\"T_3928a_level0_row7\" class=\"row_heading level0 row7\" >Wii</th>\n",
       "                        <td id=\"T_3928a_row7_col0\" class=\"data row7 col0\" >2%</td>\n",
       "                        <td id=\"T_3928a_row7_col1\" class=\"data row7 col1\" >2%</td>\n",
       "                        <td id=\"T_3928a_row7_col2\" class=\"data row7 col2\" >3%</td>\n",
       "            </tr>\n",
       "            <tr>\n",
       "                        <th id=\"T_3928a_level0_row8\" class=\"row_heading level0 row8\" >WiiU</th>\n",
       "                        <td id=\"T_3928a_row8_col0\" class=\"data row8 col0\" >5%</td>\n",
       "                        <td id=\"T_3928a_row8_col1\" class=\"data row8 col1\" >7%</td>\n",
       "                        <td id=\"T_3928a_row8_col2\" class=\"data row8 col2\" >6%</td>\n",
       "            </tr>\n",
       "            <tr>\n",
       "                        <th id=\"T_3928a_level0_row9\" class=\"row_heading level0 row9\" >X360</th>\n",
       "                        <td id=\"T_3928a_row9_col0\" class=\"data row9 col0\" >15%</td>\n",
       "                        <td id=\"T_3928a_row9_col1\" class=\"data row9 col1\" >1%</td>\n",
       "                        <td id=\"T_3928a_row9_col2\" class=\"data row9 col2\" >24%</td>\n",
       "            </tr>\n",
       "            <tr>\n",
       "                        <th id=\"T_3928a_level0_row10\" class=\"row_heading level0 row10\" >XOne</th>\n",
       "                        <td id=\"T_3928a_row10_col0\" class=\"data row10 col0\" >10%</td>\n",
       "                        <td id=\"T_3928a_row10_col1\" class=\"data row10 col1\" >0%</td>\n",
       "                        <td id=\"T_3928a_row10_col2\" class=\"data row10 col2\" >16%</td>\n",
       "            </tr>\n",
       "    </tbody></table>"
      ],
      "text/plain": [
       "<pandas.io.formats.style.Styler at 0x7f131b4c1370>"
      ]
     },
     "execution_count": 42,
     "metadata": {},
     "output_type": "execute_result"
    }
   ],
   "source": [
    "# определим наиболее популярные платформы в каждом регионе\n",
    "actual_period.pivot_table(index = 'platform', values = ['na_sales', 'eu_sales', 'jp_sales'], aggfunc = 'sum').apply(lambda col: col / col.sum(), axis=0).style.format(\"{:.0%}\")"
   ]
  },
  {
   "cell_type": "markdown",
   "metadata": {},
   "source": [
    "В Европе отдают предпочтение Sony PlayStation (56% пользователей), в Северной Америке XBox - 43% пользователей и в Японии 3DS  (57%)."
   ]
  },
  {
   "cell_type": "markdown",
   "metadata": {},
   "source": [
    "### Самые популярные жанры по регионам"
   ]
  },
  {
   "cell_type": "code",
   "execution_count": 43,
   "metadata": {},
   "outputs": [
    {
     "data": {
      "text/html": [
       "<style  type=\"text/css\" >\n",
       "</style><table id=\"T_fa954_\" ><thead>    <tr>        <th class=\"blank level0\" ></th>        <th class=\"col_heading level0 col0\" >eu_sales</th>        <th class=\"col_heading level0 col1\" >jp_sales</th>        <th class=\"col_heading level0 col2\" >na_sales</th>    </tr>    <tr>        <th class=\"index_name level0\" >genre</th>        <th class=\"blank\" ></th>        <th class=\"blank\" ></th>        <th class=\"blank\" ></th>    </tr></thead><tbody>\n",
       "                <tr>\n",
       "                        <th id=\"T_fa954_level0_row0\" class=\"row_heading level0 row0\" >Action</th>\n",
       "                        <td id=\"T_fa954_row0_col0\" class=\"data row0 col0\" >31%</td>\n",
       "                        <td id=\"T_fa954_row0_col1\" class=\"data row0 col1\" >27%</td>\n",
       "                        <td id=\"T_fa954_row0_col2\" class=\"data row0 col2\" >30%</td>\n",
       "            </tr>\n",
       "            <tr>\n",
       "                        <th id=\"T_fa954_level0_row1\" class=\"row_heading level0 row1\" >Adventure</th>\n",
       "                        <td id=\"T_fa954_row1_col0\" class=\"data row1 col0\" >2%</td>\n",
       "                        <td id=\"T_fa954_row1_col1\" class=\"data row1 col1\" >4%</td>\n",
       "                        <td id=\"T_fa954_row1_col2\" class=\"data row1 col2\" >2%</td>\n",
       "            </tr>\n",
       "            <tr>\n",
       "                        <th id=\"T_fa954_level0_row2\" class=\"row_heading level0 row2\" >Fighting</th>\n",
       "                        <td id=\"T_fa954_row2_col0\" class=\"data row2 col0\" >2%</td>\n",
       "                        <td id=\"T_fa954_row2_col1\" class=\"data row2 col1\" >5%</td>\n",
       "                        <td id=\"T_fa954_row2_col2\" class=\"data row2 col2\" >3%</td>\n",
       "            </tr>\n",
       "            <tr>\n",
       "                        <th id=\"T_fa954_level0_row3\" class=\"row_heading level0 row3\" >Misc</th>\n",
       "                        <td id=\"T_fa954_row3_col0\" class=\"data row3 col0\" >5%</td>\n",
       "                        <td id=\"T_fa954_row3_col1\" class=\"data row3 col1\" >7%</td>\n",
       "                        <td id=\"T_fa954_row3_col2\" class=\"data row3 col2\" >6%</td>\n",
       "            </tr>\n",
       "            <tr>\n",
       "                        <th id=\"T_fa954_level0_row4\" class=\"row_heading level0 row4\" >Platform</th>\n",
       "                        <td id=\"T_fa954_row4_col0\" class=\"data row4 col0\" >4%</td>\n",
       "                        <td id=\"T_fa954_row4_col1\" class=\"data row4 col1\" >4%</td>\n",
       "                        <td id=\"T_fa954_row4_col2\" class=\"data row4 col2\" >4%</td>\n",
       "            </tr>\n",
       "            <tr>\n",
       "                        <th id=\"T_fa954_level0_row5\" class=\"row_heading level0 row5\" >Puzzle</th>\n",
       "                        <td id=\"T_fa954_row5_col0\" class=\"data row5 col0\" >0%</td>\n",
       "                        <td id=\"T_fa954_row5_col1\" class=\"data row5 col1\" >1%</td>\n",
       "                        <td id=\"T_fa954_row5_col2\" class=\"data row5 col2\" >0%</td>\n",
       "            </tr>\n",
       "            <tr>\n",
       "                        <th id=\"T_fa954_level0_row6\" class=\"row_heading level0 row6\" >Racing</th>\n",
       "                        <td id=\"T_fa954_row6_col0\" class=\"data row6 col0\" >5%</td>\n",
       "                        <td id=\"T_fa954_row6_col1\" class=\"data row6 col1\" >1%</td>\n",
       "                        <td id=\"T_fa954_row6_col2\" class=\"data row6 col2\" >3%</td>\n",
       "            </tr>\n",
       "            <tr>\n",
       "                        <th id=\"T_fa954_level0_row7\" class=\"row_heading level0 row7\" >Role-Playing</th>\n",
       "                        <td id=\"T_fa954_row7_col0\" class=\"data row7 col0\" >10%</td>\n",
       "                        <td id=\"T_fa954_row7_col1\" class=\"data row7 col1\" >34%</td>\n",
       "                        <td id=\"T_fa954_row7_col2\" class=\"data row7 col2\" >11%</td>\n",
       "            </tr>\n",
       "            <tr>\n",
       "                        <th id=\"T_fa954_level0_row8\" class=\"row_heading level0 row8\" >Shooter</th>\n",
       "                        <td id=\"T_fa954_row8_col0\" class=\"data row8 col0\" >22%</td>\n",
       "                        <td id=\"T_fa954_row8_col1\" class=\"data row8 col1\" >5%</td>\n",
       "                        <td id=\"T_fa954_row8_col2\" class=\"data row8 col2\" >24%</td>\n",
       "            </tr>\n",
       "            <tr>\n",
       "                        <th id=\"T_fa954_level0_row9\" class=\"row_heading level0 row9\" >Simulation</th>\n",
       "                        <td id=\"T_fa954_row9_col0\" class=\"data row9 col0\" >3%</td>\n",
       "                        <td id=\"T_fa954_row9_col1\" class=\"data row9 col1\" >5%</td>\n",
       "                        <td id=\"T_fa954_row9_col2\" class=\"data row9 col2\" >1%</td>\n",
       "            </tr>\n",
       "            <tr>\n",
       "                        <th id=\"T_fa954_level0_row10\" class=\"row_heading level0 row10\" >Sports</th>\n",
       "                        <td id=\"T_fa954_row10_col0\" class=\"data row10 col0\" >14%</td>\n",
       "                        <td id=\"T_fa954_row10_col1\" class=\"data row10 col1\" >4%</td>\n",
       "                        <td id=\"T_fa954_row10_col2\" class=\"data row10 col2\" >14%</td>\n",
       "            </tr>\n",
       "            <tr>\n",
       "                        <th id=\"T_fa954_level0_row11\" class=\"row_heading level0 row11\" >Strategy</th>\n",
       "                        <td id=\"T_fa954_row11_col0\" class=\"data row11 col0\" >1%</td>\n",
       "                        <td id=\"T_fa954_row11_col1\" class=\"data row11 col1\" >1%</td>\n",
       "                        <td id=\"T_fa954_row11_col2\" class=\"data row11 col2\" >1%</td>\n",
       "            </tr>\n",
       "    </tbody></table>"
      ],
      "text/plain": [
       "<pandas.io.formats.style.Styler at 0x7f13237cbfd0>"
      ]
     },
     "execution_count": 43,
     "metadata": {},
     "output_type": "execute_result"
    }
   ],
   "source": [
    "# определим наиболее популярные жанры в каждом регионе\n",
    "popular_genres = actual_period.pivot_table(index = 'genre', values = ['na_sales', 'eu_sales', 'jp_sales'], aggfunc = 'sum').apply(lambda col: col / col.sum(), axis=0).style.format(\"{:.0%}\")\n",
    "popular_genres"
   ]
  },
  {
   "cell_type": "code",
   "execution_count": 44,
   "metadata": {
    "scrolled": true
   },
   "outputs": [
    {
     "data": {
      "text/plain": [
       "Text(0.5, 1.0, 'EU')"
      ]
     },
     "execution_count": 44,
     "metadata": {},
     "output_type": "execute_result"
    },
    {
     "data": {
      "image/png": "[encoded data removed]",
      "text/plain": [
       "<Figure size 1440x360 with 3 Axes>"
      ]
     },
     "metadata": {
      "needs_background": "light"
     },
     "output_type": "display_data"
    }
   ],
   "source": [
    "fig, axs = plt.subplots(1, 3, figsize=(20, 5));\n",
    "fig.autofmt_xdate(rotation=45)\n",
    "\n",
    "platforms_na_sales =  pd.pivot_table(actual_period, index='platform', values='na_sales',aggfunc='sum').sort_values('na_sales', ascending=False).reset_index()\n",
    " \n",
    "platforms_jp_sales =  pd.pivot_table(actual_period, index='platform', values='jp_sales',aggfunc='sum').sort_values('jp_sales', ascending=False).reset_index()\n",
    " \n",
    "platforms_eu_sales =  pd.pivot_table(actual_period, index='platform', values='eu_sales',aggfunc='sum').sort_values('eu_sales', ascending = False).reset_index()\n",
    " \n",
    " \n",
    "axs[0].bar(platforms_na_sales['platform'], platforms_na_sales['na_sales'])\n",
    "axs[0].set_title('NA')\n",
    "\n",
    "axs[1].bar(platforms_jp_sales['platform'], platforms_jp_sales['jp_sales'])\n",
    "axs[1].set_title('JP')\n",
    "\n",
    "axs[2].bar(platforms_eu_sales['platform'], platforms_eu_sales['eu_sales'])\n",
    "axs[2].set_title('EU')"
   ]
  },
  {
   "cell_type": "code",
   "execution_count": 45,
   "metadata": {},
   "outputs": [
    {
     "data": {
      "text/plain": [
       "Text(0.5, 1.0, 'EU')"
      ]
     },
     "execution_count": 45,
     "metadata": {},
     "output_type": "execute_result"
    },
    {
     "data": {
      "image/png": "[encoded data removed]",
      "text/plain": [
       "<Figure size 1080x360 with 3 Axes>"
      ]
     },
     "metadata": {
      "needs_background": "light"
     },
     "output_type": "display_data"
    }
   ],
   "source": [
    "fig, axs = plt.subplots(1, 3, figsize=(15, 5))\n",
    "fig.autofmt_xdate(rotation=45)\n",
    " \n",
    "genres_na_sales =  pd.pivot_table(actual_period, index='genre', values='na_sales',aggfunc='sum').sort_values('na_sales', ascending=False).reset_index()\n",
    " \n",
    "genres_jp_sales =  pd.pivot_table(actual_period, index='genre', values='jp_sales',aggfunc='sum').sort_values('jp_sales', ascending=False).reset_index()\n",
    " \n",
    "genres_eu_sales =  pd.pivot_table(actual_period, index='genre', values='eu_sales',aggfunc='sum').sort_values('eu_sales', ascending = False).reset_index()\n",
    " \n",
    " \n",
    "axs[0].bar(genres_na_sales['genre'], genres_na_sales['na_sales'])\n",
    "axs[0].set_title('NA')\n",
    "\n",
    "axs[1].bar(genres_jp_sales['genre'], genres_jp_sales['jp_sales'])\n",
    "axs[1].set_title('JP')\n",
    "\n",
    "axs[2].bar(genres_eu_sales['genre'], genres_eu_sales['eu_sales'])\n",
    "axs[2].set_title('EU')"
   ]
  },
  {
   "cell_type": "markdown",
   "metadata": {},
   "source": [
    "Любимые жанры в Европе и Северной Америке практически совпадают - это \"Action\", \"Shooters\", \"Sports\" и \"Role_playing\" на первых 4 позициях, а на 5 строчкев Европе \"Racing\", а в Северной Америке - \"Misc\". В Японии картина абсолютно другая: \"Role-Playing\", \"Action\", \"Simulation\", \"Shooters\" и \"Misc\"."
   ]
  },
  {
   "cell_type": "code",
   "execution_count": 54,
   "metadata": {
    "scrolled": true
   },
   "outputs": [
    {
     "data": {
      "image/png": "[encoded data removed]",
      "text/plain": [
       "<Figure size 1080x360 with 3 Axes>"
      ]
     },
     "metadata": {},
     "output_type": "display_data"
    }
   ],
   "source": [
    "# Комментарий ревьюера 2\n",
    "games_fresh = actual_period.copy()\n",
    "countries = games_fresh.columns[4:7]\n",
    "# начертим круговую диаграмму для каждого региона\n",
    "fig, axs = plt.subplots(1, 3, figsize=(15, 5))\n",
    "fig.suptitle('ТОП-5 жанров в регионах')\n",
    "for i in range(3):\n",
    "  # выберем 5 самых продающих жанров\n",
    "  df_i = (games_fresh.groupby('genre')[countries[i]].sum().\n",
    "             reset_index().\n",
    "             sort_values(countries[i], ascending = False, ignore_index = True).\n",
    "             head(5))\n",
    "  # занесем все остальыне продажи в другие жанры\n",
    "  df_i = df_i.append({'genre': 'Other_genre', countries[i]: games_fresh[countries[i]].sum() - df_i[countries[i]].sum()}, ignore_index= True)\n",
    "  axs[i].pie(df_i[countries[i]], labels = df_i['genre'], autopct='%1.1f%%')\n",
    "  # Зададим название региона.\n",
    "  axs[i].set_title(df_i.columns[1].split('_')[0].upper())\n",
    "plt.show()"
   ]
  },
  {
   "cell_type": "markdown",
   "metadata": {},
   "source": [
    "### Влияние рейтинга ESRB по регионам"
   ]
  },
  {
   "cell_type": "code",
   "execution_count": 46,
   "metadata": {},
   "outputs": [
    {
     "data": {
      "text/html": [
       "<style  type=\"text/css\" >\n",
       "</style><table id=\"T_0b5b5_\" ><thead>    <tr>        <th class=\"blank level0\" ></th>        <th class=\"col_heading level0 col0\" >eu_sales</th>        <th class=\"col_heading level0 col1\" >jp_sales</th>        <th class=\"col_heading level0 col2\" >na_sales</th>    </tr>    <tr>        <th class=\"index_name level0\" >rating</th>        <th class=\"blank\" ></th>        <th class=\"blank\" ></th>        <th class=\"blank\" ></th>    </tr></thead><tbody>\n",
       "                <tr>\n",
       "                        <th id=\"T_0b5b5_level0_row0\" class=\"row_heading level0 row0\" >E</th>\n",
       "                        <td id=\"T_0b5b5_row0_col0\" class=\"data row0 col0\" >22%</td>\n",
       "                        <td id=\"T_0b5b5_row0_col1\" class=\"data row0 col1\" >15%</td>\n",
       "                        <td id=\"T_0b5b5_row0_col2\" class=\"data row0 col2\" >19%</td>\n",
       "            </tr>\n",
       "            <tr>\n",
       "                        <th id=\"T_0b5b5_level0_row1\" class=\"row_heading level0 row1\" >E10+</th>\n",
       "                        <td id=\"T_0b5b5_row1_col0\" class=\"data row1 col0\" >11%</td>\n",
       "                        <td id=\"T_0b5b5_row1_col1\" class=\"data row1 col1\" >4%</td>\n",
       "                        <td id=\"T_0b5b5_row1_col2\" class=\"data row1 col2\" >13%</td>\n",
       "            </tr>\n",
       "            <tr>\n",
       "                        <th id=\"T_0b5b5_level0_row2\" class=\"row_heading level0 row2\" >M</th>\n",
       "                        <td id=\"T_0b5b5_row2_col0\" class=\"data row2 col0\" >38%</td>\n",
       "                        <td id=\"T_0b5b5_row2_col1\" class=\"data row2 col1\" >11%</td>\n",
       "                        <td id=\"T_0b5b5_row2_col2\" class=\"data row2 col2\" >39%</td>\n",
       "            </tr>\n",
       "            <tr>\n",
       "                        <th id=\"T_0b5b5_level0_row3\" class=\"row_heading level0 row3\" >RP</th>\n",
       "                        <td id=\"T_0b5b5_row3_col0\" class=\"data row3 col0\" >18%</td>\n",
       "                        <td id=\"T_0b5b5_row3_col1\" class=\"data row3 col1\" >57%</td>\n",
       "                        <td id=\"T_0b5b5_row3_col2\" class=\"data row3 col2\" >17%</td>\n",
       "            </tr>\n",
       "            <tr>\n",
       "                        <th id=\"T_0b5b5_level0_row4\" class=\"row_heading level0 row4\" >T</th>\n",
       "                        <td id=\"T_0b5b5_row4_col0\" class=\"data row4 col0\" >10%</td>\n",
       "                        <td id=\"T_0b5b5_row4_col1\" class=\"data row4 col1\" >14%</td>\n",
       "                        <td id=\"T_0b5b5_row4_col2\" class=\"data row4 col2\" >11%</td>\n",
       "            </tr>\n",
       "    </tbody></table>"
      ],
      "text/plain": [
       "<pandas.io.formats.style.Styler at 0x7f1319904a00>"
      ]
     },
     "execution_count": 46,
     "metadata": {},
     "output_type": "execute_result"
    }
   ],
   "source": [
    "# посмотрим на доли возрастных рейтингов по регионам\n",
    "actual_period.pivot_table(index = 'rating', values = ['na_sales', 'eu_sales', 'jp_sales'], aggfunc = 'sum').apply(lambda col: col / col.sum(), axis=0).style.format(\"{:.0%}\")"
   ]
  },
  {
   "cell_type": "markdown",
   "metadata": {},
   "source": [
    "В Европе и Америке больше продаются игры с рейтингом М - зрелые, а в Японии - без рейтинга. "
   ]
  },
  {
   "cell_type": "code",
   "execution_count": 47,
   "metadata": {},
   "outputs": [
    {
     "name": "stdout",
     "output_type": "stream",
     "text": [
      "0 0.0\n"
     ]
    },
    {
     "data": {
      "text/plain": [
       "RP      1275\n",
       "M        498\n",
       "T        412\n",
       "E        395\n",
       "E10+     306\n",
       "Name: rating, dtype: int64"
      ]
     },
     "execution_count": 47,
     "metadata": {},
     "output_type": "execute_result"
    }
   ],
   "source": [
    "# Комментарий ревьюера\n",
    "temp = data.query('year_of_release >= 2012').copy()\n",
    "print(temp.rating.isna().sum(), temp.rating.isna().sum()/len(temp))\n",
    "temp.rating.value_counts()"
   ]
  },
  {
   "cell_type": "markdown",
   "metadata": {},
   "source": [
    "## Проверка гипотез"
   ]
  },
  {
   "cell_type": "markdown",
   "metadata": {},
   "source": [
    "### Средние пользовательские рейтинги платформ Xbox One и PC одинаковые"
   ]
  },
  {
   "cell_type": "markdown",
   "metadata": {},
   "source": [
    "H0: Средние пользовательские рейтинги платформ Xbox One и PC одинаковые  \n",
    "H1: Средние пользовательские рейтинги платформ Xbox One и PC различаются"
   ]
  },
  {
   "cell_type": "code",
   "execution_count": 48,
   "metadata": {},
   "outputs": [],
   "source": [
    "# введем переменные платформ и удалим пропуски\n",
    "xone = actual_period.query('platform == \"XOne\"').user_score.dropna().reset_index(drop=True)\n",
    "pc = actual_period.query('platform == \"PC\"').user_score.dropna().reset_index(drop=True)"
   ]
  },
  {
   "cell_type": "code",
   "execution_count": 49,
   "metadata": {
    "scrolled": true
   },
   "outputs": [
    {
     "name": "stdout",
     "output_type": "stream",
     "text": [
      "p-значение:  0.5489537965134912\n",
      "Не получилось отвергнуть нулевую гипотезу\n"
     ]
    }
   ],
   "source": [
    "alpha = .05 \n",
    "\n",
    "results = st.ttest_ind(xone, pc, equal_var=False)\n",
    "print('p-значение: ', results.pvalue)    \n",
    "if results.pvalue < alpha:\n",
    "    print(\"Отвергаем нулевую гипотезу\")\n",
    "else:\n",
    "    print(\"Не получилось отвергнуть нулевую гипотезу\")"
   ]
  },
  {
   "cell_type": "code",
   "execution_count": 50,
   "metadata": {},
   "outputs": [
    {
     "data": {
      "text/html": [
       "<div>\n",
       "<style scoped>\n",
       "    .dataframe tbody tr th:only-of-type {\n",
       "        vertical-align: middle;\n",
       "    }\n",
       "\n",
       "    .dataframe tbody tr th {\n",
       "        vertical-align: top;\n",
       "    }\n",
       "\n",
       "    .dataframe thead th {\n",
       "        text-align: right;\n",
       "    }\n",
       "</style>\n",
       "<table border=\"1\" class=\"dataframe\">\n",
       "  <thead>\n",
       "    <tr style=\"text-align: right;\">\n",
       "      <th></th>\n",
       "      <th>user_score</th>\n",
       "    </tr>\n",
       "    <tr>\n",
       "      <th>platform</th>\n",
       "      <th></th>\n",
       "    </tr>\n",
       "  </thead>\n",
       "  <tbody>\n",
       "    <tr>\n",
       "      <th>PC</th>\n",
       "      <td>6.428641</td>\n",
       "    </tr>\n",
       "    <tr>\n",
       "      <th>XOne</th>\n",
       "      <td>6.521429</td>\n",
       "    </tr>\n",
       "  </tbody>\n",
       "</table>\n",
       "</div>"
      ],
      "text/plain": [
       "          user_score\n",
       "platform            \n",
       "PC          6.428641\n",
       "XOne        6.521429"
      ]
     },
     "metadata": {},
     "output_type": "display_data"
    }
   ],
   "source": [
    "# взглянем на средние оценки пользователей\n",
    "display(actual_period.query('platform in [\"XOne\", \"PC\"]').pivot_table(index='platform', values='user_score'))"
   ]
  },
  {
   "cell_type": "markdown",
   "metadata": {},
   "source": [
    "Вывод: средние пользовательские рейтинги Xbox One и PC одинаковые"
   ]
  },
  {
   "cell_type": "markdown",
   "metadata": {},
   "source": [
    "### Средние пользовательские рейтинги жанров Action и Sports разные."
   ]
  },
  {
   "cell_type": "markdown",
   "metadata": {},
   "source": [
    "H0: Cредние пользовательские рейтинги жанров Action (англ. «действие») и Sports (англ. «виды спорта») одинаковые  \n",
    "H1: Cредние пользовательские рейтинги жанров Action (англ. «действие») и Sports (англ. «виды спорта») разные"
   ]
  },
  {
   "cell_type": "code",
   "execution_count": 51,
   "metadata": {},
   "outputs": [],
   "source": [
    "# введем переменные жанров и удалим пропуски\n",
    "action = actual_period.query('genre == \"Action\"').user_score.dropna().reset_index(drop=True)\n",
    "sports = actual_period.query('genre == \"Sports\"').user_score.dropna().reset_index(drop=True)"
   ]
  },
  {
   "cell_type": "code",
   "execution_count": 52,
   "metadata": {},
   "outputs": [
    {
     "name": "stdout",
     "output_type": "stream",
     "text": [
      "p-значение:  4.24307776572644e-20\n",
      "Отвергаем нулевую гипотезу\n"
     ]
    }
   ],
   "source": [
    "alpha = .05\n",
    "\n",
    "results = st.ttest_ind(action, sports, equal_var=False)\n",
    "\n",
    "print('p-значение: ', results.pvalue)\n",
    "if results.pvalue < alpha:\n",
    "    print(\"Отвергаем нулевую гипотезу\")\n",
    "else:\n",
    "    print(\"Не получилось отвергнуть нулевую гипотезу\")"
   ]
  },
  {
   "cell_type": "code",
   "execution_count": 53,
   "metadata": {},
   "outputs": [
    {
     "data": {
      "text/html": [
       "<div>\n",
       "<style scoped>\n",
       "    .dataframe tbody tr th:only-of-type {\n",
       "        vertical-align: middle;\n",
       "    }\n",
       "\n",
       "    .dataframe tbody tr th {\n",
       "        vertical-align: top;\n",
       "    }\n",
       "\n",
       "    .dataframe thead th {\n",
       "        text-align: right;\n",
       "    }\n",
       "</style>\n",
       "<table border=\"1\" class=\"dataframe\">\n",
       "  <thead>\n",
       "    <tr style=\"text-align: right;\">\n",
       "      <th></th>\n",
       "      <th>user_score</th>\n",
       "    </tr>\n",
       "    <tr>\n",
       "      <th>genre</th>\n",
       "      <th></th>\n",
       "    </tr>\n",
       "  </thead>\n",
       "  <tbody>\n",
       "    <tr>\n",
       "      <th>Action</th>\n",
       "      <td>6.825048</td>\n",
       "    </tr>\n",
       "    <tr>\n",
       "      <th>Sports</th>\n",
       "      <td>5.455897</td>\n",
       "    </tr>\n",
       "  </tbody>\n",
       "</table>\n",
       "</div>"
      ],
      "text/plain": [
       "        user_score\n",
       "genre             \n",
       "Action    6.825048\n",
       "Sports    5.455897"
      ]
     },
     "metadata": {},
     "output_type": "display_data"
    }
   ],
   "source": [
    "# взглянем на средние оценки пользователей\n",
    "display(actual_period.query('genre in [\"Action\", \"Sports\"]').pivot_table(index='genre', values='user_score'))"
   ]
  },
  {
   "cell_type": "markdown",
   "metadata": {},
   "source": [
    "Вывод: Cредние пользовательские рейтинги жанров Action (англ. «действие») и Sports (англ. «виды спорта») разные"
   ]
  },
  {
   "cell_type": "markdown",
   "metadata": {},
   "source": [
    "## Выводы и рекомендации"
   ]
  },
  {
   "cell_type": "markdown",
   "metadata": {},
   "source": [
    "**Выводы:**\n",
    " - Индстрия компьютерных игр появляется в конце 70-х - начале 80-х, значительный рывок наблюдается с 1994 года, а пик приходится на 2007-2011 гг. Начиная с 2012 года наблюдается резкое падение продаж компьютерных игр, что возможно связано с развитием индустрии мобильных приложений.\n",
    " - Лидером по количеству проданных игр является PS2 (продано более 1 млрд игр). Лидером временного интервала 2012-2016 является PS4 (общие продажи составляют 314 млн копий).\n",
    " - Оценки пользователей не коррелируют с продажами, а вот критики видимо несильно, но влияют на продажи, по крайней мере наблюдается небольшая корреляция.\n",
    " - Самыми популярными жанрами являются: Action, Shooter, Sports, Role-Playing (особенно в Японии), Misc\t\n",
    " - Предпочтения пользователей в Японии отличаются по платформам, жанрам и рейтингу игр, в то время как жители Европы и Северной Америки имеют похожие вкусы. Это стоит учитывать при разроботке игр, если производитель хочет выйти на японский рынок.\n",
    "\n",
    "\n",
    "**Рекомендации:**\n",
    " - Рекомендуется делать ставку на платформы PlayStation 4 или Xbox One для игр рынка Европы и Северной Америкиа для рынка Японии на Nintendo 3DS.\n",
    " - Рекомендованные жанры для Европы и Северной Америки - Action, Shooter и Sports для Японии - Role-Playing и Action.\n",
    " - Рекомендованный рейтинги для Америки и Европы М - \"зрелые\"."
   ]
  }
 ],
 "metadata": {
  "ExecuteTimeLog": [
   {
    "duration": 1303,
    "start_time": "2022-12-17T09:34:31.119Z"
   },
   {
    "duration": 427,
    "start_time": "2022-12-17T09:35:09.611Z"
   },
   {
    "duration": 192,
    "start_time": "2022-12-17T09:35:27.610Z"
   },
   {
    "duration": 12,
    "start_time": "2022-12-17T09:35:48.330Z"
   },
   {
    "duration": 55,
    "start_time": "2022-12-17T09:36:41.914Z"
   },
   {
    "duration": 14,
    "start_time": "2022-12-17T09:36:42.565Z"
   },
   {
    "duration": 21,
    "start_time": "2022-12-17T09:37:10.153Z"
   },
   {
    "duration": 30,
    "start_time": "2022-12-17T09:37:46.582Z"
   },
   {
    "duration": 5,
    "start_time": "2022-12-17T10:01:55.080Z"
   },
   {
    "duration": 12,
    "start_time": "2022-12-17T10:03:03.603Z"
   },
   {
    "duration": 4,
    "start_time": "2022-12-17T10:06:41.301Z"
   },
   {
    "duration": 5,
    "start_time": "2022-12-17T10:07:52.136Z"
   },
   {
    "duration": 15,
    "start_time": "2022-12-17T10:09:28.719Z"
   },
   {
    "duration": 10,
    "start_time": "2022-12-17T10:09:35.047Z"
   },
   {
    "duration": 4,
    "start_time": "2022-12-17T10:11:55.506Z"
   },
   {
    "duration": 16,
    "start_time": "2022-12-17T10:11:57.391Z"
   },
   {
    "duration": 7,
    "start_time": "2022-12-17T10:16:00.626Z"
   },
   {
    "duration": 14,
    "start_time": "2022-12-17T10:16:32.674Z"
   },
   {
    "duration": 6,
    "start_time": "2022-12-17T10:19:45.033Z"
   },
   {
    "duration": 6,
    "start_time": "2022-12-17T10:20:12.526Z"
   },
   {
    "duration": 14,
    "start_time": "2022-12-17T10:20:24.450Z"
   },
   {
    "duration": 1394,
    "start_time": "2022-12-17T10:33:51.447Z"
   },
   {
    "duration": 133,
    "start_time": "2022-12-17T10:33:52.843Z"
   },
   {
    "duration": 28,
    "start_time": "2022-12-17T10:33:52.978Z"
   },
   {
    "duration": 60,
    "start_time": "2022-12-17T10:33:53.009Z"
   },
   {
    "duration": 46,
    "start_time": "2022-12-17T10:33:53.071Z"
   },
   {
    "duration": 26,
    "start_time": "2022-12-17T10:33:53.123Z"
   },
   {
    "duration": 9,
    "start_time": "2022-12-17T10:33:53.151Z"
   },
   {
    "duration": 22,
    "start_time": "2022-12-17T10:33:53.162Z"
   },
   {
    "duration": 51,
    "start_time": "2022-12-17T10:33:53.185Z"
   },
   {
    "duration": 31,
    "start_time": "2022-12-17T10:33:53.238Z"
   },
   {
    "duration": 18,
    "start_time": "2022-12-17T10:33:53.270Z"
   },
   {
    "duration": 48,
    "start_time": "2022-12-17T10:33:53.290Z"
   },
   {
    "duration": 41,
    "start_time": "2022-12-17T10:33:53.340Z"
   },
   {
    "duration": 49,
    "start_time": "2022-12-18T14:25:33.510Z"
   },
   {
    "duration": 1356,
    "start_time": "2022-12-18T14:25:40.201Z"
   },
   {
    "duration": 107,
    "start_time": "2022-12-18T14:25:41.559Z"
   },
   {
    "duration": 15,
    "start_time": "2022-12-18T14:25:41.668Z"
   },
   {
    "duration": 18,
    "start_time": "2022-12-18T14:25:41.684Z"
   },
   {
    "duration": 30,
    "start_time": "2022-12-18T14:25:41.705Z"
   },
   {
    "duration": 14,
    "start_time": "2022-12-18T14:25:41.736Z"
   },
   {
    "duration": 29,
    "start_time": "2022-12-18T14:25:41.752Z"
   },
   {
    "duration": 5,
    "start_time": "2022-12-18T14:25:41.783Z"
   },
   {
    "duration": 14,
    "start_time": "2022-12-18T14:25:41.789Z"
   },
   {
    "duration": 10,
    "start_time": "2022-12-18T14:25:41.805Z"
   },
   {
    "duration": 14,
    "start_time": "2022-12-18T14:25:41.817Z"
   },
   {
    "duration": 5,
    "start_time": "2022-12-18T14:25:41.833Z"
   },
   {
    "duration": 15,
    "start_time": "2022-12-18T14:25:41.879Z"
   },
   {
    "duration": 205,
    "start_time": "2022-12-18T14:28:11.596Z"
   },
   {
    "duration": 238,
    "start_time": "2022-12-18T14:29:08.287Z"
   },
   {
    "duration": 209,
    "start_time": "2022-12-18T14:29:13.005Z"
   },
   {
    "duration": 198,
    "start_time": "2022-12-18T14:29:24.405Z"
   },
   {
    "duration": 199,
    "start_time": "2022-12-18T14:29:31.871Z"
   },
   {
    "duration": 195,
    "start_time": "2022-12-18T14:29:42.908Z"
   },
   {
    "duration": 226,
    "start_time": "2022-12-18T14:30:38.671Z"
   },
   {
    "duration": 191,
    "start_time": "2022-12-18T14:30:47.160Z"
   },
   {
    "duration": 213,
    "start_time": "2022-12-18T14:31:04.851Z"
   },
   {
    "duration": 375,
    "start_time": "2022-12-18T14:31:39.478Z"
   },
   {
    "duration": 230,
    "start_time": "2022-12-18T14:31:48.425Z"
   },
   {
    "duration": 215,
    "start_time": "2022-12-18T14:31:56.242Z"
   },
   {
    "duration": 202,
    "start_time": "2022-12-18T14:32:03.770Z"
   },
   {
    "duration": 212,
    "start_time": "2022-12-18T14:35:26.544Z"
   },
   {
    "duration": 211,
    "start_time": "2022-12-18T14:35:40.419Z"
   },
   {
    "duration": 235,
    "start_time": "2022-12-18T14:35:48.217Z"
   },
   {
    "duration": 108,
    "start_time": "2022-12-18T14:36:16.828Z"
   },
   {
    "duration": 9,
    "start_time": "2022-12-18T14:36:30.531Z"
   },
   {
    "duration": 1204,
    "start_time": "2022-12-18T14:36:36.852Z"
   },
   {
    "duration": 53,
    "start_time": "2022-12-18T14:36:38.058Z"
   },
   {
    "duration": 17,
    "start_time": "2022-12-18T14:36:38.113Z"
   },
   {
    "duration": 18,
    "start_time": "2022-12-18T14:36:38.132Z"
   },
   {
    "duration": 41,
    "start_time": "2022-12-18T14:36:38.151Z"
   },
   {
    "duration": 13,
    "start_time": "2022-12-18T14:36:38.194Z"
   },
   {
    "duration": 4,
    "start_time": "2022-12-18T14:36:38.209Z"
   },
   {
    "duration": 9,
    "start_time": "2022-12-18T14:36:38.215Z"
   },
   {
    "duration": 23,
    "start_time": "2022-12-18T14:36:38.226Z"
   },
   {
    "duration": 37,
    "start_time": "2022-12-18T14:36:38.253Z"
   },
   {
    "duration": 24,
    "start_time": "2022-12-18T14:36:38.291Z"
   },
   {
    "duration": 5,
    "start_time": "2022-12-18T14:36:38.317Z"
   },
   {
    "duration": 25,
    "start_time": "2022-12-18T14:36:38.324Z"
   },
   {
    "duration": 142,
    "start_time": "2022-12-18T14:36:38.351Z"
   },
   {
    "duration": 0,
    "start_time": "2022-12-18T14:36:38.495Z"
   },
   {
    "duration": 9,
    "start_time": "2022-12-18T14:36:42.865Z"
   },
   {
    "duration": 237,
    "start_time": "2022-12-18T14:36:50.396Z"
   },
   {
    "duration": 236,
    "start_time": "2022-12-18T14:36:58.024Z"
   },
   {
    "duration": 212,
    "start_time": "2022-12-18T14:37:07.742Z"
   },
   {
    "duration": 201,
    "start_time": "2022-12-18T14:37:20.497Z"
   },
   {
    "duration": 198,
    "start_time": "2022-12-18T14:37:26.061Z"
   },
   {
    "duration": 194,
    "start_time": "2022-12-18T14:42:34.271Z"
   },
   {
    "duration": 195,
    "start_time": "2022-12-18T14:42:39.001Z"
   },
   {
    "duration": 189,
    "start_time": "2022-12-18T14:43:05.281Z"
   },
   {
    "duration": 294,
    "start_time": "2022-12-18T14:44:14.749Z"
   },
   {
    "duration": 10,
    "start_time": "2022-12-18T14:47:19.633Z"
   },
   {
    "duration": 11,
    "start_time": "2022-12-18T14:47:24.177Z"
   },
   {
    "duration": 7,
    "start_time": "2022-12-18T14:48:10.768Z"
   },
   {
    "duration": 14,
    "start_time": "2022-12-18T14:48:28.590Z"
   },
   {
    "duration": 36,
    "start_time": "2022-12-18T14:48:48.285Z"
   },
   {
    "duration": 23,
    "start_time": "2022-12-18T14:48:55.461Z"
   },
   {
    "duration": 13,
    "start_time": "2022-12-18T14:56:58.858Z"
   },
   {
    "duration": 98,
    "start_time": "2022-12-18T14:58:14.642Z"
   },
   {
    "duration": 2848,
    "start_time": "2022-12-18T14:58:45.403Z"
   },
   {
    "duration": 3299,
    "start_time": "2022-12-18T14:59:08.434Z"
   },
   {
    "duration": 16,
    "start_time": "2022-12-18T15:01:06.017Z"
   },
   {
    "duration": 14,
    "start_time": "2022-12-18T15:01:14.269Z"
   },
   {
    "duration": 12,
    "start_time": "2022-12-18T15:01:39.535Z"
   },
   {
    "duration": 11,
    "start_time": "2022-12-18T15:01:59.303Z"
   },
   {
    "duration": 11,
    "start_time": "2022-12-18T15:02:05.331Z"
   },
   {
    "duration": 13,
    "start_time": "2022-12-18T15:02:11.568Z"
   },
   {
    "duration": 13,
    "start_time": "2022-12-18T15:02:42.856Z"
   },
   {
    "duration": 10,
    "start_time": "2022-12-18T15:03:43.033Z"
   },
   {
    "duration": 15,
    "start_time": "2022-12-18T15:03:51.908Z"
   },
   {
    "duration": 11,
    "start_time": "2022-12-18T15:05:30.236Z"
   },
   {
    "duration": 17,
    "start_time": "2022-12-18T15:06:29.104Z"
   },
   {
    "duration": 11,
    "start_time": "2022-12-18T15:07:27.299Z"
   },
   {
    "duration": 16,
    "start_time": "2022-12-18T15:07:37.662Z"
   },
   {
    "duration": 17,
    "start_time": "2022-12-18T15:10:59.107Z"
   },
   {
    "duration": 16,
    "start_time": "2022-12-18T15:11:23.049Z"
   },
   {
    "duration": 14,
    "start_time": "2022-12-18T15:12:00.245Z"
   },
   {
    "duration": 3,
    "start_time": "2022-12-18T15:12:54.766Z"
   },
   {
    "duration": 932,
    "start_time": "2022-12-18T15:12:58.092Z"
   },
   {
    "duration": 15,
    "start_time": "2022-12-18T15:13:14.461Z"
   },
   {
    "duration": 548,
    "start_time": "2022-12-18T15:13:15.632Z"
   },
   {
    "duration": 15,
    "start_time": "2022-12-18T15:13:24.006Z"
   },
   {
    "duration": 511,
    "start_time": "2022-12-18T15:13:26.272Z"
   },
   {
    "duration": 15,
    "start_time": "2022-12-18T15:14:27.173Z"
   },
   {
    "duration": 17,
    "start_time": "2022-12-18T15:14:52.827Z"
   },
   {
    "duration": 51,
    "start_time": "2022-12-18T15:27:47.567Z"
   },
   {
    "duration": 358,
    "start_time": "2022-12-18T15:28:04.389Z"
   },
   {
    "duration": 183,
    "start_time": "2022-12-18T15:28:40.615Z"
   },
   {
    "duration": 4,
    "start_time": "2022-12-18T15:28:46.960Z"
   },
   {
    "duration": 343,
    "start_time": "2022-12-18T15:28:57.010Z"
   },
   {
    "duration": 43,
    "start_time": "2022-12-18T15:29:47.765Z"
   },
   {
    "duration": 432,
    "start_time": "2022-12-18T15:29:58.176Z"
   },
   {
    "duration": 355,
    "start_time": "2022-12-18T15:30:30.299Z"
   },
   {
    "duration": 44,
    "start_time": "2022-12-18T15:30:45.709Z"
   },
   {
    "duration": 354,
    "start_time": "2022-12-18T15:30:51.085Z"
   },
   {
    "duration": 27,
    "start_time": "2022-12-18T15:38:01.321Z"
   },
   {
    "duration": 307,
    "start_time": "2022-12-18T15:38:29.056Z"
   },
   {
    "duration": 11,
    "start_time": "2022-12-18T15:53:28.264Z"
   },
   {
    "duration": 26,
    "start_time": "2022-12-18T15:53:37.833Z"
   },
   {
    "duration": 20,
    "start_time": "2022-12-18T15:54:56.975Z"
   },
   {
    "duration": 405,
    "start_time": "2022-12-18T15:58:23.284Z"
   },
   {
    "duration": 51,
    "start_time": "2022-12-18T15:58:29.436Z"
   },
   {
    "duration": 175,
    "start_time": "2022-12-18T15:58:32.845Z"
   },
   {
    "duration": 153,
    "start_time": "2022-12-18T15:58:50.851Z"
   },
   {
    "duration": 180,
    "start_time": "2022-12-18T15:58:58.066Z"
   },
   {
    "duration": 217,
    "start_time": "2022-12-18T15:59:53.148Z"
   },
   {
    "duration": 208,
    "start_time": "2022-12-18T15:59:59.963Z"
   },
   {
    "duration": 208,
    "start_time": "2022-12-18T16:00:20.241Z"
   },
   {
    "duration": 130,
    "start_time": "2022-12-18T16:01:52.571Z"
   },
   {
    "duration": 136,
    "start_time": "2022-12-18T16:02:21.965Z"
   },
   {
    "duration": 13,
    "start_time": "2022-12-18T16:02:52.633Z"
   },
   {
    "duration": 4,
    "start_time": "2022-12-18T16:03:26.222Z"
   },
   {
    "duration": 12,
    "start_time": "2022-12-18T16:03:29.587Z"
   },
   {
    "duration": 11,
    "start_time": "2022-12-18T16:03:37.534Z"
   },
   {
    "duration": 78,
    "start_time": "2022-12-18T16:03:45.818Z"
   },
   {
    "duration": 48,
    "start_time": "2022-12-18T16:03:48.653Z"
   },
   {
    "duration": 47,
    "start_time": "2022-12-18T16:03:52.175Z"
   },
   {
    "duration": 15,
    "start_time": "2022-12-18T16:03:55.736Z"
   },
   {
    "duration": 154,
    "start_time": "2022-12-18T16:04:19.375Z"
   },
   {
    "duration": 209,
    "start_time": "2022-12-18T16:04:25.260Z"
   },
   {
    "duration": 146,
    "start_time": "2022-12-18T16:04:33.805Z"
   },
   {
    "duration": 14,
    "start_time": "2022-12-18T16:04:56.019Z"
   },
   {
    "duration": 196,
    "start_time": "2022-12-18T16:05:26.730Z"
   },
   {
    "duration": 208,
    "start_time": "2022-12-18T16:05:47.206Z"
   },
   {
    "duration": 207,
    "start_time": "2022-12-18T16:06:30.964Z"
   },
   {
    "duration": 13,
    "start_time": "2022-12-18T16:13:05.045Z"
   },
   {
    "duration": 17,
    "start_time": "2022-12-18T16:13:38.265Z"
   },
   {
    "duration": 16,
    "start_time": "2022-12-18T16:14:36.085Z"
   },
   {
    "duration": 13,
    "start_time": "2022-12-18T16:18:55.488Z"
   },
   {
    "duration": 13,
    "start_time": "2022-12-18T16:19:34.259Z"
   },
   {
    "duration": 691,
    "start_time": "2022-12-18T16:21:27.587Z"
   },
   {
    "duration": 630,
    "start_time": "2022-12-18T16:26:12.548Z"
   },
   {
    "duration": 54,
    "start_time": "2022-12-18T16:26:55.938Z"
   },
   {
    "duration": 14,
    "start_time": "2022-12-18T16:27:05.015Z"
   },
   {
    "duration": 7,
    "start_time": "2022-12-18T16:32:09.332Z"
   },
   {
    "duration": 6,
    "start_time": "2022-12-18T16:32:27.869Z"
   },
   {
    "duration": 11,
    "start_time": "2022-12-18T16:34:12.821Z"
   },
   {
    "duration": 13,
    "start_time": "2022-12-18T16:34:15.056Z"
   },
   {
    "duration": 9,
    "start_time": "2022-12-18T16:37:29.874Z"
   },
   {
    "duration": 16,
    "start_time": "2022-12-18T16:41:33.867Z"
   },
   {
    "duration": 17,
    "start_time": "2022-12-18T16:41:45.352Z"
   },
   {
    "duration": 15,
    "start_time": "2022-12-18T16:42:14.195Z"
   },
   {
    "duration": 50,
    "start_time": "2022-12-18T16:42:26.499Z"
   },
   {
    "duration": 18,
    "start_time": "2022-12-18T16:42:32.166Z"
   },
   {
    "duration": 14,
    "start_time": "2022-12-18T16:42:44.802Z"
   },
   {
    "duration": 14,
    "start_time": "2022-12-18T16:45:09.541Z"
   },
   {
    "duration": 16,
    "start_time": "2022-12-18T16:49:53.561Z"
   },
   {
    "duration": 54,
    "start_time": "2022-12-18T16:51:02.804Z"
   },
   {
    "duration": 20,
    "start_time": "2022-12-18T16:51:07.568Z"
   },
   {
    "duration": 19,
    "start_time": "2022-12-18T17:04:25.696Z"
   },
   {
    "duration": 54,
    "start_time": "2022-12-18T19:00:41.455Z"
   },
   {
    "duration": 1405,
    "start_time": "2022-12-18T19:00:50.315Z"
   },
   {
    "duration": 114,
    "start_time": "2022-12-18T19:00:51.722Z"
   },
   {
    "duration": 17,
    "start_time": "2022-12-18T19:00:51.838Z"
   },
   {
    "duration": 46,
    "start_time": "2022-12-18T19:00:51.857Z"
   },
   {
    "duration": 33,
    "start_time": "2022-12-18T19:00:51.905Z"
   },
   {
    "duration": 15,
    "start_time": "2022-12-18T19:00:51.939Z"
   },
   {
    "duration": 19,
    "start_time": "2022-12-18T19:00:51.956Z"
   },
   {
    "duration": 27,
    "start_time": "2022-12-18T19:00:51.976Z"
   },
   {
    "duration": 51,
    "start_time": "2022-12-18T19:00:52.005Z"
   },
   {
    "duration": 10,
    "start_time": "2022-12-18T19:00:52.059Z"
   },
   {
    "duration": 51,
    "start_time": "2022-12-18T19:00:52.071Z"
   },
   {
    "duration": 25,
    "start_time": "2022-12-18T19:00:52.124Z"
   },
   {
    "duration": 38,
    "start_time": "2022-12-18T19:00:52.150Z"
   },
   {
    "duration": 27,
    "start_time": "2022-12-18T19:00:52.190Z"
   },
   {
    "duration": 250,
    "start_time": "2022-12-18T19:00:52.219Z"
   },
   {
    "duration": 23,
    "start_time": "2022-12-18T19:00:52.474Z"
   },
   {
    "duration": 404,
    "start_time": "2022-12-18T19:00:52.499Z"
   },
   {
    "duration": 31,
    "start_time": "2022-12-18T19:00:52.905Z"
   },
   {
    "duration": 303,
    "start_time": "2022-12-18T19:00:52.938Z"
   },
   {
    "duration": 20,
    "start_time": "2022-12-18T19:00:53.243Z"
   },
   {
    "duration": 205,
    "start_time": "2022-12-18T19:00:53.265Z"
   },
   {
    "duration": 13,
    "start_time": "2022-12-18T19:00:53.472Z"
   },
   {
    "duration": 24,
    "start_time": "2022-12-18T19:00:53.487Z"
   },
   {
    "duration": 20,
    "start_time": "2022-12-18T19:00:53.513Z"
   },
   {
    "duration": 652,
    "start_time": "2022-12-18T19:00:53.536Z"
   },
   {
    "duration": 11,
    "start_time": "2022-12-18T19:00:54.190Z"
   },
   {
    "duration": 12,
    "start_time": "2022-12-18T19:00:54.202Z"
   },
   {
    "duration": 31,
    "start_time": "2022-12-18T19:00:54.217Z"
   },
   {
    "duration": 60,
    "start_time": "2022-12-18T19:00:54.249Z"
   },
   {
    "duration": 25,
    "start_time": "2022-12-18T19:00:54.311Z"
   },
   {
    "duration": 17,
    "start_time": "2022-12-18T19:01:46.762Z"
   },
   {
    "duration": 166,
    "start_time": "2022-12-18T19:02:22.553Z"
   },
   {
    "duration": 17,
    "start_time": "2022-12-18T19:02:53.018Z"
   },
   {
    "duration": 22,
    "start_time": "2022-12-18T19:03:03.144Z"
   },
   {
    "duration": 49,
    "start_time": "2022-12-18T19:03:08.682Z"
   },
   {
    "duration": 19,
    "start_time": "2022-12-18T19:03:15.741Z"
   },
   {
    "duration": 26,
    "start_time": "2022-12-18T19:03:33.265Z"
   },
   {
    "duration": 21,
    "start_time": "2022-12-18T19:03:45.646Z"
   },
   {
    "duration": 15,
    "start_time": "2022-12-18T19:13:19.608Z"
   },
   {
    "duration": 12,
    "start_time": "2022-12-18T19:22:56.723Z"
   },
   {
    "duration": 10,
    "start_time": "2022-12-18T19:23:17.387Z"
   },
   {
    "duration": 23,
    "start_time": "2022-12-18T19:23:26.037Z"
   },
   {
    "duration": 22,
    "start_time": "2022-12-18T19:24:32.555Z"
   },
   {
    "duration": 10,
    "start_time": "2022-12-18T19:24:34.541Z"
   },
   {
    "duration": 11,
    "start_time": "2022-12-18T19:24:36.697Z"
   },
   {
    "duration": 3,
    "start_time": "2022-12-18T19:25:34.476Z"
   },
   {
    "duration": 1192,
    "start_time": "2022-12-18T19:25:39.808Z"
   },
   {
    "duration": 68,
    "start_time": "2022-12-18T19:25:41.002Z"
   },
   {
    "duration": 17,
    "start_time": "2022-12-18T19:25:41.074Z"
   },
   {
    "duration": 18,
    "start_time": "2022-12-18T19:25:41.093Z"
   },
   {
    "duration": 32,
    "start_time": "2022-12-18T19:25:41.136Z"
   },
   {
    "duration": 16,
    "start_time": "2022-12-18T19:25:41.169Z"
   },
   {
    "duration": 9,
    "start_time": "2022-12-18T19:25:41.186Z"
   },
   {
    "duration": 12,
    "start_time": "2022-12-18T19:25:41.196Z"
   },
   {
    "duration": 35,
    "start_time": "2022-12-18T19:25:41.210Z"
   },
   {
    "duration": 15,
    "start_time": "2022-12-18T19:25:41.247Z"
   },
   {
    "duration": 19,
    "start_time": "2022-12-18T19:25:41.263Z"
   },
   {
    "duration": 5,
    "start_time": "2022-12-18T19:25:41.283Z"
   },
   {
    "duration": 26,
    "start_time": "2022-12-18T19:25:41.290Z"
   },
   {
    "duration": 24,
    "start_time": "2022-12-18T19:25:41.317Z"
   },
   {
    "duration": 242,
    "start_time": "2022-12-18T19:25:41.342Z"
   },
   {
    "duration": 18,
    "start_time": "2022-12-18T19:25:41.585Z"
   },
   {
    "duration": 374,
    "start_time": "2022-12-18T19:25:41.605Z"
   },
   {
    "duration": 22,
    "start_time": "2022-12-18T19:25:41.982Z"
   },
   {
    "duration": 338,
    "start_time": "2022-12-18T19:25:42.007Z"
   },
   {
    "duration": 20,
    "start_time": "2022-12-18T19:25:42.347Z"
   },
   {
    "duration": 257,
    "start_time": "2022-12-18T19:25:42.369Z"
   },
   {
    "duration": 18,
    "start_time": "2022-12-18T19:25:42.628Z"
   },
   {
    "duration": 23,
    "start_time": "2022-12-18T19:25:42.648Z"
   },
   {
    "duration": 19,
    "start_time": "2022-12-18T19:25:42.673Z"
   },
   {
    "duration": 666,
    "start_time": "2022-12-18T19:25:42.694Z"
   },
   {
    "duration": 11,
    "start_time": "2022-12-18T19:25:43.362Z"
   },
   {
    "duration": 19,
    "start_time": "2022-12-18T19:25:43.376Z"
   },
   {
    "duration": 26,
    "start_time": "2022-12-18T19:25:43.398Z"
   },
   {
    "duration": 69,
    "start_time": "2022-12-18T19:25:43.435Z"
   },
   {
    "duration": 17,
    "start_time": "2022-12-18T19:25:43.506Z"
   },
   {
    "duration": 24,
    "start_time": "2022-12-18T19:25:43.535Z"
   },
   {
    "duration": 25,
    "start_time": "2022-12-18T19:25:43.561Z"
   },
   {
    "duration": 8,
    "start_time": "2022-12-18T19:25:43.588Z"
   },
   {
    "duration": 118,
    "start_time": "2022-12-18T19:25:43.598Z"
   },
   {
    "duration": 10,
    "start_time": "2022-12-18T19:27:10.803Z"
   },
   {
    "duration": 6,
    "start_time": "2022-12-18T19:27:12.996Z"
   },
   {
    "duration": 1271,
    "start_time": "2022-12-18T19:28:01.990Z"
   },
   {
    "duration": 60,
    "start_time": "2022-12-18T19:28:03.264Z"
   },
   {
    "duration": 18,
    "start_time": "2022-12-18T19:28:03.326Z"
   },
   {
    "duration": 62,
    "start_time": "2022-12-18T19:28:03.347Z"
   },
   {
    "duration": 67,
    "start_time": "2022-12-18T19:28:03.411Z"
   },
   {
    "duration": 15,
    "start_time": "2022-12-18T19:28:03.480Z"
   },
   {
    "duration": 19,
    "start_time": "2022-12-18T19:28:03.498Z"
   },
   {
    "duration": 23,
    "start_time": "2022-12-18T19:28:03.518Z"
   },
   {
    "duration": 16,
    "start_time": "2022-12-18T19:28:03.543Z"
   },
   {
    "duration": 25,
    "start_time": "2022-12-18T19:28:03.563Z"
   },
   {
    "duration": 23,
    "start_time": "2022-12-18T19:28:03.590Z"
   },
   {
    "duration": 14,
    "start_time": "2022-12-18T19:28:03.615Z"
   },
   {
    "duration": 40,
    "start_time": "2022-12-18T19:28:03.630Z"
   },
   {
    "duration": 26,
    "start_time": "2022-12-18T19:28:03.672Z"
   },
   {
    "duration": 232,
    "start_time": "2022-12-18T19:28:03.700Z"
   },
   {
    "duration": 17,
    "start_time": "2022-12-18T19:28:03.935Z"
   },
   {
    "duration": 359,
    "start_time": "2022-12-18T19:28:03.954Z"
   },
   {
    "duration": 29,
    "start_time": "2022-12-18T19:28:04.315Z"
   },
   {
    "duration": 334,
    "start_time": "2022-12-18T19:28:04.347Z"
   },
   {
    "duration": 19,
    "start_time": "2022-12-18T19:28:04.683Z"
   },
   {
    "duration": 197,
    "start_time": "2022-12-18T19:28:04.704Z"
   },
   {
    "duration": 13,
    "start_time": "2022-12-18T19:28:04.903Z"
   },
   {
    "duration": 60,
    "start_time": "2022-12-18T19:28:04.917Z"
   },
   {
    "duration": 29,
    "start_time": "2022-12-18T19:28:04.979Z"
   },
   {
    "duration": 659,
    "start_time": "2022-12-18T19:28:05.010Z"
   },
   {
    "duration": 10,
    "start_time": "2022-12-18T19:28:05.671Z"
   },
   {
    "duration": 20,
    "start_time": "2022-12-18T19:28:05.683Z"
   },
   {
    "duration": 14,
    "start_time": "2022-12-18T19:28:05.706Z"
   },
   {
    "duration": 51,
    "start_time": "2022-12-18T19:28:05.735Z"
   },
   {
    "duration": 15,
    "start_time": "2022-12-18T19:28:05.788Z"
   },
   {
    "duration": 35,
    "start_time": "2022-12-18T19:28:05.805Z"
   },
   {
    "duration": 17,
    "start_time": "2022-12-18T19:28:05.842Z"
   },
   {
    "duration": 9,
    "start_time": "2022-12-18T19:28:05.860Z"
   },
   {
    "duration": 119,
    "start_time": "2022-12-18T19:28:05.871Z"
   },
   {
    "duration": 6,
    "start_time": "2022-12-18T19:28:20.482Z"
   },
   {
    "duration": 3,
    "start_time": "2022-12-18T19:30:42.858Z"
   },
   {
    "duration": 1227,
    "start_time": "2022-12-18T19:30:48.062Z"
   },
   {
    "duration": 57,
    "start_time": "2022-12-18T19:30:49.291Z"
   },
   {
    "duration": 15,
    "start_time": "2022-12-18T19:30:49.350Z"
   },
   {
    "duration": 28,
    "start_time": "2022-12-18T19:30:49.366Z"
   },
   {
    "duration": 41,
    "start_time": "2022-12-18T19:30:49.396Z"
   },
   {
    "duration": 15,
    "start_time": "2022-12-18T19:30:49.438Z"
   },
   {
    "duration": 8,
    "start_time": "2022-12-18T19:30:49.455Z"
   },
   {
    "duration": 8,
    "start_time": "2022-12-18T19:30:49.465Z"
   },
   {
    "duration": 32,
    "start_time": "2022-12-18T19:30:49.475Z"
   },
   {
    "duration": 18,
    "start_time": "2022-12-18T19:30:49.509Z"
   },
   {
    "duration": 29,
    "start_time": "2022-12-18T19:30:49.529Z"
   },
   {
    "duration": 12,
    "start_time": "2022-12-18T19:30:49.560Z"
   },
   {
    "duration": 29,
    "start_time": "2022-12-18T19:30:49.574Z"
   },
   {
    "duration": 18,
    "start_time": "2022-12-18T19:30:49.606Z"
   },
   {
    "duration": 239,
    "start_time": "2022-12-18T19:30:49.626Z"
   },
   {
    "duration": 17,
    "start_time": "2022-12-18T19:30:49.866Z"
   },
   {
    "duration": 392,
    "start_time": "2022-12-18T19:30:49.885Z"
   },
   {
    "duration": 17,
    "start_time": "2022-12-18T19:30:50.278Z"
   },
   {
    "duration": 344,
    "start_time": "2022-12-18T19:30:50.297Z"
   },
   {
    "duration": 22,
    "start_time": "2022-12-18T19:30:50.644Z"
   },
   {
    "duration": 215,
    "start_time": "2022-12-18T19:30:50.667Z"
   },
   {
    "duration": 13,
    "start_time": "2022-12-18T19:30:50.884Z"
   },
   {
    "duration": 29,
    "start_time": "2022-12-18T19:30:50.899Z"
   },
   {
    "duration": 24,
    "start_time": "2022-12-18T19:30:50.930Z"
   },
   {
    "duration": 614,
    "start_time": "2022-12-18T19:30:50.956Z"
   },
   {
    "duration": 12,
    "start_time": "2022-12-18T19:30:51.572Z"
   },
   {
    "duration": 15,
    "start_time": "2022-12-18T19:30:51.586Z"
   },
   {
    "duration": 35,
    "start_time": "2022-12-18T19:30:51.603Z"
   },
   {
    "duration": 181,
    "start_time": "2022-12-18T19:30:51.640Z"
   },
   {
    "duration": 21,
    "start_time": "2022-12-18T19:30:51.823Z"
   },
   {
    "duration": 16,
    "start_time": "2022-12-18T19:30:51.846Z"
   },
   {
    "duration": 30,
    "start_time": "2022-12-18T19:30:51.864Z"
   },
   {
    "duration": 22,
    "start_time": "2022-12-18T19:30:51.896Z"
   },
   {
    "duration": 21,
    "start_time": "2022-12-18T19:30:51.920Z"
   },
   {
    "duration": 113,
    "start_time": "2022-12-18T19:31:07.182Z"
   },
   {
    "duration": 11,
    "start_time": "2022-12-18T19:31:21.916Z"
   },
   {
    "duration": 6,
    "start_time": "2022-12-18T19:31:32.348Z"
   },
   {
    "duration": 17,
    "start_time": "2022-12-18T19:32:06.540Z"
   },
   {
    "duration": 5,
    "start_time": "2022-12-18T19:32:17.354Z"
   },
   {
    "duration": 6,
    "start_time": "2022-12-18T19:35:11.839Z"
   },
   {
    "duration": 9,
    "start_time": "2022-12-18T19:46:28.523Z"
   },
   {
    "duration": 26,
    "start_time": "2022-12-18T19:47:03.525Z"
   },
   {
    "duration": 10,
    "start_time": "2022-12-18T19:48:02.949Z"
   },
   {
    "duration": 13,
    "start_time": "2022-12-18T19:48:12.415Z"
   },
   {
    "duration": 6,
    "start_time": "2022-12-18T19:48:58.360Z"
   },
   {
    "duration": 18,
    "start_time": "2022-12-18T19:53:38.710Z"
   },
   {
    "duration": 12,
    "start_time": "2022-12-18T20:03:50.119Z"
   },
   {
    "duration": 13,
    "start_time": "2022-12-18T20:04:02.028Z"
   },
   {
    "duration": 16,
    "start_time": "2022-12-18T20:04:16.388Z"
   },
   {
    "duration": 13,
    "start_time": "2022-12-18T20:04:26.512Z"
   },
   {
    "duration": 13,
    "start_time": "2022-12-18T20:04:38.453Z"
   },
   {
    "duration": 11,
    "start_time": "2022-12-18T20:04:51.434Z"
   },
   {
    "duration": 18,
    "start_time": "2022-12-18T20:33:47.424Z"
   },
   {
    "duration": 4,
    "start_time": "2022-12-18T20:35:07.341Z"
   },
   {
    "duration": 9,
    "start_time": "2022-12-18T20:35:11.318Z"
   },
   {
    "duration": 10,
    "start_time": "2022-12-18T20:35:21.810Z"
   },
   {
    "duration": 23,
    "start_time": "2022-12-18T20:37:04.028Z"
   },
   {
    "duration": 18,
    "start_time": "2022-12-18T20:38:25.281Z"
   },
   {
    "duration": 6,
    "start_time": "2022-12-18T20:38:39.641Z"
   },
   {
    "duration": 16,
    "start_time": "2022-12-18T20:38:40.173Z"
   },
   {
    "duration": 24,
    "start_time": "2022-12-18T20:40:11.534Z"
   },
   {
    "duration": 27,
    "start_time": "2022-12-18T20:40:50.328Z"
   },
   {
    "duration": 472,
    "start_time": "2022-12-18T20:41:11.442Z"
   },
   {
    "duration": 23,
    "start_time": "2022-12-18T20:42:13.262Z"
   },
   {
    "duration": 300,
    "start_time": "2022-12-18T20:42:18.453Z"
   },
   {
    "duration": 11,
    "start_time": "2022-12-18T20:43:26.249Z"
   },
   {
    "duration": 214,
    "start_time": "2022-12-18T20:44:38.422Z"
   },
   {
    "duration": 1367,
    "start_time": "2022-12-18T20:48:35.322Z"
   },
   {
    "duration": 75,
    "start_time": "2022-12-18T20:48:36.692Z"
   },
   {
    "duration": 16,
    "start_time": "2022-12-18T20:48:36.769Z"
   },
   {
    "duration": 34,
    "start_time": "2022-12-18T20:48:36.787Z"
   },
   {
    "duration": 29,
    "start_time": "2022-12-18T20:48:36.823Z"
   },
   {
    "duration": 13,
    "start_time": "2022-12-18T20:48:36.854Z"
   },
   {
    "duration": 25,
    "start_time": "2022-12-18T20:48:36.869Z"
   },
   {
    "duration": 38,
    "start_time": "2022-12-18T20:48:36.895Z"
   },
   {
    "duration": 22,
    "start_time": "2022-12-18T20:48:36.935Z"
   },
   {
    "duration": 17,
    "start_time": "2022-12-18T20:48:36.960Z"
   },
   {
    "duration": 27,
    "start_time": "2022-12-18T20:48:36.979Z"
   },
   {
    "duration": 5,
    "start_time": "2022-12-18T20:48:37.008Z"
   },
   {
    "duration": 32,
    "start_time": "2022-12-18T20:48:37.014Z"
   },
   {
    "duration": 12,
    "start_time": "2022-12-18T20:48:37.048Z"
   },
   {
    "duration": 249,
    "start_time": "2022-12-18T20:48:37.062Z"
   },
   {
    "duration": 24,
    "start_time": "2022-12-18T20:48:37.313Z"
   },
   {
    "duration": 377,
    "start_time": "2022-12-18T20:48:37.338Z"
   },
   {
    "duration": 26,
    "start_time": "2022-12-18T20:48:37.717Z"
   },
   {
    "duration": 312,
    "start_time": "2022-12-18T20:48:37.745Z"
   },
   {
    "duration": 29,
    "start_time": "2022-12-18T20:48:38.060Z"
   },
   {
    "duration": 21,
    "start_time": "2022-12-18T20:48:38.091Z"
   },
   {
    "duration": 228,
    "start_time": "2022-12-18T20:48:38.114Z"
   },
   {
    "duration": 12,
    "start_time": "2022-12-18T20:48:38.344Z"
   },
   {
    "duration": 29,
    "start_time": "2022-12-18T20:48:38.358Z"
   },
   {
    "duration": 31,
    "start_time": "2022-12-18T20:48:38.389Z"
   },
   {
    "duration": 644,
    "start_time": "2022-12-18T20:48:38.422Z"
   },
   {
    "duration": 14,
    "start_time": "2022-12-18T20:48:39.067Z"
   },
   {
    "duration": 20,
    "start_time": "2022-12-18T20:48:39.084Z"
   },
   {
    "duration": 29,
    "start_time": "2022-12-18T20:48:39.106Z"
   },
   {
    "duration": 61,
    "start_time": "2022-12-18T20:48:39.137Z"
   },
   {
    "duration": 18,
    "start_time": "2022-12-18T20:48:39.200Z"
   },
   {
    "duration": 24,
    "start_time": "2022-12-18T20:48:39.236Z"
   },
   {
    "duration": 16,
    "start_time": "2022-12-18T20:48:39.262Z"
   },
   {
    "duration": 12,
    "start_time": "2022-12-18T20:48:39.280Z"
   },
   {
    "duration": 23,
    "start_time": "2022-12-18T20:48:39.294Z"
   },
   {
    "duration": 18,
    "start_time": "2022-12-18T20:48:39.318Z"
   },
   {
    "duration": 23,
    "start_time": "2022-12-18T20:48:39.338Z"
   },
   {
    "duration": 27,
    "start_time": "2022-12-18T20:48:39.362Z"
   },
   {
    "duration": 1239,
    "start_time": "2022-12-18T20:49:39.342Z"
   },
   {
    "duration": 56,
    "start_time": "2022-12-18T20:49:40.583Z"
   },
   {
    "duration": 15,
    "start_time": "2022-12-18T20:49:40.641Z"
   },
   {
    "duration": 20,
    "start_time": "2022-12-18T20:49:40.658Z"
   },
   {
    "duration": 14,
    "start_time": "2022-12-18T20:49:40.680Z"
   },
   {
    "duration": 5,
    "start_time": "2022-12-18T20:49:40.696Z"
   },
   {
    "duration": 33,
    "start_time": "2022-12-18T20:49:40.703Z"
   },
   {
    "duration": 11,
    "start_time": "2022-12-18T20:49:40.738Z"
   },
   {
    "duration": 17,
    "start_time": "2022-12-18T20:49:40.751Z"
   },
   {
    "duration": 9,
    "start_time": "2022-12-18T20:49:40.770Z"
   },
   {
    "duration": 26,
    "start_time": "2022-12-18T20:49:40.780Z"
   },
   {
    "duration": 26,
    "start_time": "2022-12-18T20:49:40.809Z"
   },
   {
    "duration": 15,
    "start_time": "2022-12-18T20:49:40.837Z"
   },
   {
    "duration": 10,
    "start_time": "2022-12-18T20:49:40.854Z"
   },
   {
    "duration": 231,
    "start_time": "2022-12-18T20:49:40.867Z"
   },
   {
    "duration": 17,
    "start_time": "2022-12-18T20:49:41.100Z"
   },
   {
    "duration": 346,
    "start_time": "2022-12-18T20:49:41.119Z"
   },
   {
    "duration": 17,
    "start_time": "2022-12-18T20:49:41.468Z"
   },
   {
    "duration": 326,
    "start_time": "2022-12-18T20:49:41.487Z"
   },
   {
    "duration": 23,
    "start_time": "2022-12-18T20:49:41.815Z"
   },
   {
    "duration": 11,
    "start_time": "2022-12-18T20:49:41.840Z"
   },
   {
    "duration": 220,
    "start_time": "2022-12-18T20:49:41.852Z"
   },
   {
    "duration": 12,
    "start_time": "2022-12-18T20:49:42.074Z"
   },
   {
    "duration": 41,
    "start_time": "2022-12-18T20:49:42.088Z"
   },
   {
    "duration": 32,
    "start_time": "2022-12-18T20:49:42.132Z"
   },
   {
    "duration": 725,
    "start_time": "2022-12-18T20:49:42.167Z"
   },
   {
    "duration": 13,
    "start_time": "2022-12-18T20:49:42.894Z"
   },
   {
    "duration": 27,
    "start_time": "2022-12-18T20:49:42.912Z"
   },
   {
    "duration": 21,
    "start_time": "2022-12-18T20:49:42.942Z"
   },
   {
    "duration": 70,
    "start_time": "2022-12-18T20:49:42.965Z"
   },
   {
    "duration": 17,
    "start_time": "2022-12-18T20:49:43.036Z"
   },
   {
    "duration": 15,
    "start_time": "2022-12-18T20:49:43.054Z"
   },
   {
    "duration": 17,
    "start_time": "2022-12-18T20:49:43.071Z"
   },
   {
    "duration": 5,
    "start_time": "2022-12-18T20:49:43.090Z"
   },
   {
    "duration": 43,
    "start_time": "2022-12-18T20:49:43.097Z"
   },
   {
    "duration": 12,
    "start_time": "2022-12-18T20:49:43.142Z"
   },
   {
    "duration": 7,
    "start_time": "2022-12-18T20:49:43.156Z"
   },
   {
    "duration": 30,
    "start_time": "2022-12-18T20:49:43.164Z"
   },
   {
    "duration": 17,
    "start_time": "2022-12-18T20:50:18.288Z"
   },
   {
    "duration": 1205,
    "start_time": "2022-12-18T20:50:32.189Z"
   },
   {
    "duration": 55,
    "start_time": "2022-12-18T20:50:33.396Z"
   },
   {
    "duration": 15,
    "start_time": "2022-12-18T20:50:33.453Z"
   },
   {
    "duration": 21,
    "start_time": "2022-12-18T20:50:33.470Z"
   },
   {
    "duration": 16,
    "start_time": "2022-12-18T20:50:33.493Z"
   },
   {
    "duration": 12,
    "start_time": "2022-12-18T20:50:33.511Z"
   },
   {
    "duration": 7,
    "start_time": "2022-12-18T20:50:33.535Z"
   },
   {
    "duration": 19,
    "start_time": "2022-12-18T20:50:33.544Z"
   },
   {
    "duration": 21,
    "start_time": "2022-12-18T20:50:33.565Z"
   },
   {
    "duration": 15,
    "start_time": "2022-12-18T20:50:33.589Z"
   },
   {
    "duration": 29,
    "start_time": "2022-12-18T20:50:33.606Z"
   },
   {
    "duration": 15,
    "start_time": "2022-12-18T20:50:33.637Z"
   },
   {
    "duration": 11,
    "start_time": "2022-12-18T20:50:33.653Z"
   },
   {
    "duration": 19,
    "start_time": "2022-12-18T20:50:33.666Z"
   },
   {
    "duration": 12,
    "start_time": "2022-12-18T20:50:33.687Z"
   },
   {
    "duration": 253,
    "start_time": "2022-12-18T20:50:33.701Z"
   },
   {
    "duration": 17,
    "start_time": "2022-12-18T20:50:33.955Z"
   },
   {
    "duration": 379,
    "start_time": "2022-12-18T20:50:33.973Z"
   },
   {
    "duration": 22,
    "start_time": "2022-12-18T20:50:34.354Z"
   },
   {
    "duration": 327,
    "start_time": "2022-12-18T20:50:34.378Z"
   },
   {
    "duration": 21,
    "start_time": "2022-12-18T20:50:34.707Z"
   },
   {
    "duration": 11,
    "start_time": "2022-12-18T20:50:34.730Z"
   },
   {
    "duration": 215,
    "start_time": "2022-12-18T20:50:34.744Z"
   },
   {
    "duration": 12,
    "start_time": "2022-12-18T20:50:34.962Z"
   },
   {
    "duration": 24,
    "start_time": "2022-12-18T20:50:34.976Z"
   },
   {
    "duration": 18,
    "start_time": "2022-12-18T20:50:35.001Z"
   },
   {
    "duration": 638,
    "start_time": "2022-12-18T20:50:35.021Z"
   },
   {
    "duration": 10,
    "start_time": "2022-12-18T20:50:35.663Z"
   },
   {
    "duration": 20,
    "start_time": "2022-12-18T20:50:35.675Z"
   },
   {
    "duration": 28,
    "start_time": "2022-12-18T20:50:35.697Z"
   },
   {
    "duration": 68,
    "start_time": "2022-12-18T20:50:35.726Z"
   },
   {
    "duration": 18,
    "start_time": "2022-12-18T20:50:35.796Z"
   },
   {
    "duration": 37,
    "start_time": "2022-12-18T20:50:35.817Z"
   },
   {
    "duration": 13,
    "start_time": "2022-12-18T20:50:35.856Z"
   },
   {
    "duration": 7,
    "start_time": "2022-12-18T20:50:35.871Z"
   },
   {
    "duration": 21,
    "start_time": "2022-12-18T20:50:35.880Z"
   },
   {
    "duration": 33,
    "start_time": "2022-12-18T20:50:35.903Z"
   },
   {
    "duration": 6,
    "start_time": "2022-12-18T20:50:35.938Z"
   },
   {
    "duration": 33,
    "start_time": "2022-12-18T20:50:35.946Z"
   },
   {
    "duration": 1266,
    "start_time": "2022-12-18T20:52:46.064Z"
   },
   {
    "duration": 57,
    "start_time": "2022-12-18T20:52:47.334Z"
   },
   {
    "duration": 18,
    "start_time": "2022-12-18T20:52:47.392Z"
   },
   {
    "duration": 44,
    "start_time": "2022-12-18T20:52:47.413Z"
   },
   {
    "duration": 17,
    "start_time": "2022-12-18T20:52:47.460Z"
   },
   {
    "duration": 5,
    "start_time": "2022-12-18T20:52:47.480Z"
   },
   {
    "duration": 16,
    "start_time": "2022-12-18T20:52:47.487Z"
   },
   {
    "duration": 17,
    "start_time": "2022-12-18T20:52:47.505Z"
   },
   {
    "duration": 20,
    "start_time": "2022-12-18T20:52:47.524Z"
   },
   {
    "duration": 11,
    "start_time": "2022-12-18T20:52:47.548Z"
   },
   {
    "duration": 15,
    "start_time": "2022-12-18T20:52:47.561Z"
   },
   {
    "duration": 24,
    "start_time": "2022-12-18T20:52:47.577Z"
   },
   {
    "duration": 13,
    "start_time": "2022-12-18T20:52:47.603Z"
   },
   {
    "duration": 29,
    "start_time": "2022-12-18T20:52:47.634Z"
   },
   {
    "duration": 22,
    "start_time": "2022-12-18T20:52:47.666Z"
   },
   {
    "duration": 251,
    "start_time": "2022-12-18T20:52:47.690Z"
   },
   {
    "duration": 18,
    "start_time": "2022-12-18T20:52:47.943Z"
   },
   {
    "duration": 375,
    "start_time": "2022-12-18T20:52:47.963Z"
   },
   {
    "duration": 24,
    "start_time": "2022-12-18T20:52:48.340Z"
   },
   {
    "duration": 315,
    "start_time": "2022-12-18T20:52:48.366Z"
   },
   {
    "duration": 30,
    "start_time": "2022-12-18T20:52:48.684Z"
   },
   {
    "duration": 13,
    "start_time": "2022-12-18T20:52:48.716Z"
   },
   {
    "duration": 208,
    "start_time": "2022-12-18T20:52:48.731Z"
   },
   {
    "duration": 14,
    "start_time": "2022-12-18T20:52:48.940Z"
   },
   {
    "duration": 29,
    "start_time": "2022-12-18T20:52:48.956Z"
   },
   {
    "duration": 24,
    "start_time": "2022-12-18T20:52:48.987Z"
   },
   {
    "duration": 773,
    "start_time": "2022-12-18T20:52:49.013Z"
   },
   {
    "duration": 13,
    "start_time": "2022-12-18T20:52:49.791Z"
   },
   {
    "duration": 31,
    "start_time": "2022-12-18T20:52:49.805Z"
   },
   {
    "duration": 24,
    "start_time": "2022-12-18T20:52:49.839Z"
   },
   {
    "duration": 87,
    "start_time": "2022-12-18T20:52:49.865Z"
   },
   {
    "duration": 19,
    "start_time": "2022-12-18T20:52:49.954Z"
   },
   {
    "duration": 23,
    "start_time": "2022-12-18T20:52:49.974Z"
   },
   {
    "duration": 22,
    "start_time": "2022-12-18T20:52:49.998Z"
   },
   {
    "duration": 14,
    "start_time": "2022-12-18T20:52:50.034Z"
   },
   {
    "duration": 33,
    "start_time": "2022-12-18T20:52:50.050Z"
   },
   {
    "duration": 32,
    "start_time": "2022-12-18T20:52:50.085Z"
   },
   {
    "duration": 46,
    "start_time": "2022-12-18T20:52:50.119Z"
   },
   {
    "duration": 36,
    "start_time": "2022-12-18T20:52:50.167Z"
   },
   {
    "duration": 1269,
    "start_time": "2022-12-18T20:55:06.039Z"
   },
   {
    "duration": 58,
    "start_time": "2022-12-18T20:55:07.310Z"
   },
   {
    "duration": 16,
    "start_time": "2022-12-18T20:55:07.369Z"
   },
   {
    "duration": 21,
    "start_time": "2022-12-18T20:55:07.388Z"
   },
   {
    "duration": 34,
    "start_time": "2022-12-18T20:55:07.411Z"
   },
   {
    "duration": 10,
    "start_time": "2022-12-18T20:55:07.447Z"
   },
   {
    "duration": 12,
    "start_time": "2022-12-18T20:55:07.459Z"
   },
   {
    "duration": 41,
    "start_time": "2022-12-18T20:55:07.474Z"
   },
   {
    "duration": 43,
    "start_time": "2022-12-18T20:55:07.517Z"
   },
   {
    "duration": 23,
    "start_time": "2022-12-18T20:55:07.564Z"
   },
   {
    "duration": 22,
    "start_time": "2022-12-18T20:55:07.589Z"
   },
   {
    "duration": 22,
    "start_time": "2022-12-18T20:55:07.613Z"
   },
   {
    "duration": 9,
    "start_time": "2022-12-18T20:55:07.637Z"
   },
   {
    "duration": 41,
    "start_time": "2022-12-18T20:55:07.648Z"
   },
   {
    "duration": 17,
    "start_time": "2022-12-18T20:55:07.691Z"
   },
   {
    "duration": 288,
    "start_time": "2022-12-18T20:55:07.710Z"
   },
   {
    "duration": 19,
    "start_time": "2022-12-18T20:55:08.000Z"
   },
   {
    "duration": 379,
    "start_time": "2022-12-18T20:55:08.021Z"
   },
   {
    "duration": 16,
    "start_time": "2022-12-18T20:55:08.402Z"
   },
   {
    "duration": 321,
    "start_time": "2022-12-18T20:55:08.420Z"
   },
   {
    "duration": 29,
    "start_time": "2022-12-18T20:55:08.744Z"
   },
   {
    "duration": 14,
    "start_time": "2022-12-18T20:55:08.776Z"
   },
   {
    "duration": 218,
    "start_time": "2022-12-18T20:55:08.792Z"
   },
   {
    "duration": 23,
    "start_time": "2022-12-18T20:55:09.013Z"
   },
   {
    "duration": 25,
    "start_time": "2022-12-18T20:55:09.038Z"
   },
   {
    "duration": 26,
    "start_time": "2022-12-18T20:55:09.065Z"
   },
   {
    "duration": 682,
    "start_time": "2022-12-18T20:55:09.093Z"
   },
   {
    "duration": 11,
    "start_time": "2022-12-18T20:55:09.779Z"
   },
   {
    "duration": 14,
    "start_time": "2022-12-18T20:55:09.792Z"
   },
   {
    "duration": 32,
    "start_time": "2022-12-18T20:55:09.808Z"
   },
   {
    "duration": 71,
    "start_time": "2022-12-18T20:55:09.842Z"
   },
   {
    "duration": 16,
    "start_time": "2022-12-18T20:55:09.915Z"
   },
   {
    "duration": 18,
    "start_time": "2022-12-18T20:55:09.935Z"
   },
   {
    "duration": 28,
    "start_time": "2022-12-18T20:55:09.955Z"
   },
   {
    "duration": 31,
    "start_time": "2022-12-18T20:55:09.986Z"
   },
   {
    "duration": 27,
    "start_time": "2022-12-18T20:55:10.019Z"
   },
   {
    "duration": 25,
    "start_time": "2022-12-18T20:55:10.048Z"
   },
   {
    "duration": 26,
    "start_time": "2022-12-18T20:55:10.076Z"
   },
   {
    "duration": 29,
    "start_time": "2022-12-18T20:55:10.104Z"
   },
   {
    "duration": 1212,
    "start_time": "2022-12-18T20:57:53.944Z"
   },
   {
    "duration": 57,
    "start_time": "2022-12-18T20:57:55.157Z"
   },
   {
    "duration": 16,
    "start_time": "2022-12-18T20:57:55.216Z"
   },
   {
    "duration": 26,
    "start_time": "2022-12-18T20:57:55.234Z"
   },
   {
    "duration": 19,
    "start_time": "2022-12-18T20:57:55.263Z"
   },
   {
    "duration": 27,
    "start_time": "2022-12-18T20:57:55.284Z"
   },
   {
    "duration": 21,
    "start_time": "2022-12-18T20:57:55.313Z"
   },
   {
    "duration": 35,
    "start_time": "2022-12-18T20:57:55.336Z"
   },
   {
    "duration": 25,
    "start_time": "2022-12-18T20:57:55.373Z"
   },
   {
    "duration": 11,
    "start_time": "2022-12-18T20:57:55.400Z"
   },
   {
    "duration": 22,
    "start_time": "2022-12-18T20:57:55.413Z"
   },
   {
    "duration": 15,
    "start_time": "2022-12-18T20:57:55.437Z"
   },
   {
    "duration": 12,
    "start_time": "2022-12-18T20:57:55.454Z"
   },
   {
    "duration": 35,
    "start_time": "2022-12-18T20:57:55.469Z"
   },
   {
    "duration": 43,
    "start_time": "2022-12-18T20:57:55.506Z"
   },
   {
    "duration": 233,
    "start_time": "2022-12-18T20:57:55.551Z"
   },
   {
    "duration": 18,
    "start_time": "2022-12-18T20:57:55.786Z"
   },
   {
    "duration": 379,
    "start_time": "2022-12-18T20:57:55.806Z"
   },
   {
    "duration": 17,
    "start_time": "2022-12-18T20:57:56.187Z"
   },
   {
    "duration": 323,
    "start_time": "2022-12-18T20:57:56.206Z"
   },
   {
    "duration": 21,
    "start_time": "2022-12-18T20:57:56.531Z"
   },
   {
    "duration": 13,
    "start_time": "2022-12-18T20:57:56.554Z"
   },
   {
    "duration": 250,
    "start_time": "2022-12-18T20:57:56.569Z"
   },
   {
    "duration": 20,
    "start_time": "2022-12-18T20:57:56.822Z"
   },
   {
    "duration": 22,
    "start_time": "2022-12-18T20:57:56.844Z"
   },
   {
    "duration": 20,
    "start_time": "2022-12-18T20:57:56.868Z"
   },
   {
    "duration": 656,
    "start_time": "2022-12-18T20:57:56.890Z"
   },
   {
    "duration": 12,
    "start_time": "2022-12-18T20:57:57.548Z"
   },
   {
    "duration": 36,
    "start_time": "2022-12-18T20:57:57.562Z"
   },
   {
    "duration": 49,
    "start_time": "2022-12-18T20:57:57.600Z"
   },
   {
    "duration": 67,
    "start_time": "2022-12-18T20:57:57.650Z"
   },
   {
    "duration": 21,
    "start_time": "2022-12-18T20:57:57.719Z"
   },
   {
    "duration": 19,
    "start_time": "2022-12-18T20:57:57.742Z"
   },
   {
    "duration": 23,
    "start_time": "2022-12-18T20:57:57.762Z"
   },
   {
    "duration": 25,
    "start_time": "2022-12-18T20:57:57.787Z"
   },
   {
    "duration": 23,
    "start_time": "2022-12-18T20:57:57.813Z"
   },
   {
    "duration": 19,
    "start_time": "2022-12-18T20:57:57.838Z"
   },
   {
    "duration": 18,
    "start_time": "2022-12-18T20:57:57.858Z"
   },
   {
    "duration": 28,
    "start_time": "2022-12-18T20:57:57.878Z"
   },
   {
    "duration": 2097,
    "start_time": "2022-12-18T21:40:27.004Z"
   },
   {
    "duration": 105,
    "start_time": "2022-12-18T21:40:29.103Z"
   },
   {
    "duration": 19,
    "start_time": "2022-12-18T21:40:29.210Z"
   },
   {
    "duration": 120,
    "start_time": "2022-12-18T21:40:29.232Z"
   },
   {
    "duration": 24,
    "start_time": "2022-12-18T21:40:29.403Z"
   },
   {
    "duration": 6,
    "start_time": "2022-12-18T21:40:29.429Z"
   },
   {
    "duration": 62,
    "start_time": "2022-12-18T21:40:29.436Z"
   },
   {
    "duration": 19,
    "start_time": "2022-12-18T21:40:29.500Z"
   },
   {
    "duration": 13,
    "start_time": "2022-12-18T21:40:29.522Z"
   },
   {
    "duration": 67,
    "start_time": "2022-12-18T21:40:29.537Z"
   },
   {
    "duration": 33,
    "start_time": "2022-12-18T21:40:29.605Z"
   },
   {
    "duration": 71,
    "start_time": "2022-12-18T21:40:29.640Z"
   },
   {
    "duration": 25,
    "start_time": "2022-12-18T21:40:29.713Z"
   },
   {
    "duration": 67,
    "start_time": "2022-12-18T21:40:29.741Z"
   },
   {
    "duration": 38,
    "start_time": "2022-12-18T21:40:29.810Z"
   },
   {
    "duration": 547,
    "start_time": "2022-12-18T21:40:29.850Z"
   },
   {
    "duration": 23,
    "start_time": "2022-12-18T21:40:30.399Z"
   },
   {
    "duration": 796,
    "start_time": "2022-12-18T21:40:30.424Z"
   },
   {
    "duration": 78,
    "start_time": "2022-12-18T21:40:31.222Z"
   },
   {
    "duration": 696,
    "start_time": "2022-12-18T21:40:31.302Z"
   },
   {
    "duration": 20,
    "start_time": "2022-12-18T21:40:32.000Z"
   },
   {
    "duration": 17,
    "start_time": "2022-12-18T21:40:32.022Z"
   },
   {
    "duration": 436,
    "start_time": "2022-12-18T21:40:32.096Z"
   },
   {
    "duration": 74,
    "start_time": "2022-12-18T21:40:32.534Z"
   },
   {
    "duration": 14,
    "start_time": "2022-12-18T21:40:32.610Z"
   },
   {
    "duration": 117,
    "start_time": "2022-12-18T21:40:32.628Z"
   },
   {
    "duration": 1259,
    "start_time": "2022-12-18T21:40:32.747Z"
   },
   {
    "duration": 14,
    "start_time": "2022-12-18T21:40:34.008Z"
   },
   {
    "duration": 76,
    "start_time": "2022-12-18T21:40:34.024Z"
   },
   {
    "duration": 19,
    "start_time": "2022-12-18T21:40:34.102Z"
   },
   {
    "duration": 181,
    "start_time": "2022-12-18T21:40:34.123Z"
   },
   {
    "duration": 25,
    "start_time": "2022-12-18T21:40:34.307Z"
   },
   {
    "duration": 76,
    "start_time": "2022-12-18T21:40:34.334Z"
   },
   {
    "duration": 12,
    "start_time": "2022-12-18T21:40:34.413Z"
   },
   {
    "duration": 70,
    "start_time": "2022-12-18T21:40:34.427Z"
   },
   {
    "duration": 26,
    "start_time": "2022-12-18T21:40:34.499Z"
   },
   {
    "duration": 74,
    "start_time": "2022-12-18T21:40:34.527Z"
   },
   {
    "duration": 6,
    "start_time": "2022-12-18T21:40:34.604Z"
   },
   {
    "duration": 22,
    "start_time": "2022-12-18T21:40:34.612Z"
   },
   {
    "duration": 76,
    "start_time": "2022-12-18T23:03:01.183Z"
   },
   {
    "duration": 8,
    "start_time": "2022-12-18T23:11:14.183Z"
   },
   {
    "duration": 1136,
    "start_time": "2022-12-18T23:11:29.547Z"
   },
   {
    "duration": 53,
    "start_time": "2022-12-18T23:11:30.685Z"
   },
   {
    "duration": 15,
    "start_time": "2022-12-18T23:11:30.739Z"
   },
   {
    "duration": 21,
    "start_time": "2022-12-18T23:11:30.756Z"
   },
   {
    "duration": 27,
    "start_time": "2022-12-18T23:11:30.780Z"
   },
   {
    "duration": 18,
    "start_time": "2022-12-18T23:11:30.809Z"
   },
   {
    "duration": 9,
    "start_time": "2022-12-18T23:11:30.829Z"
   },
   {
    "duration": 26,
    "start_time": "2022-12-18T23:11:30.840Z"
   },
   {
    "duration": 34,
    "start_time": "2022-12-18T23:11:30.868Z"
   },
   {
    "duration": 13,
    "start_time": "2022-12-18T23:11:30.905Z"
   },
   {
    "duration": 23,
    "start_time": "2022-12-18T23:11:30.920Z"
   },
   {
    "duration": 15,
    "start_time": "2022-12-18T23:11:30.946Z"
   },
   {
    "duration": 21,
    "start_time": "2022-12-18T23:11:30.962Z"
   },
   {
    "duration": 40,
    "start_time": "2022-12-18T23:11:30.986Z"
   },
   {
    "duration": 96,
    "start_time": "2022-12-18T23:11:31.027Z"
   },
   {
    "duration": 9,
    "start_time": "2022-12-18T23:11:31.125Z"
   },
   {
    "duration": 235,
    "start_time": "2022-12-18T23:11:31.135Z"
   },
   {
    "duration": 26,
    "start_time": "2022-12-18T23:11:31.371Z"
   },
   {
    "duration": 336,
    "start_time": "2022-12-18T23:11:31.399Z"
   },
   {
    "duration": 17,
    "start_time": "2022-12-18T23:11:31.736Z"
   },
   {
    "duration": 280,
    "start_time": "2022-12-18T23:11:31.755Z"
   },
   {
    "duration": 20,
    "start_time": "2022-12-18T23:11:32.037Z"
   },
   {
    "duration": 11,
    "start_time": "2022-12-18T23:11:32.059Z"
   },
   {
    "duration": 226,
    "start_time": "2022-12-18T23:11:32.071Z"
   },
   {
    "duration": 13,
    "start_time": "2022-12-18T23:11:32.299Z"
   },
   {
    "duration": 15,
    "start_time": "2022-12-18T23:11:32.314Z"
   },
   {
    "duration": 11,
    "start_time": "2022-12-18T23:11:32.331Z"
   },
   {
    "duration": 720,
    "start_time": "2022-12-18T23:11:32.345Z"
   },
   {
    "duration": 12,
    "start_time": "2022-12-18T23:11:33.067Z"
   },
   {
    "duration": 26,
    "start_time": "2022-12-18T23:11:33.081Z"
   },
   {
    "duration": 11,
    "start_time": "2022-12-18T23:11:33.109Z"
   },
   {
    "duration": 15,
    "start_time": "2022-12-18T23:11:33.122Z"
   },
   {
    "duration": 81,
    "start_time": "2022-12-18T23:11:33.138Z"
   },
   {
    "duration": 17,
    "start_time": "2022-12-18T23:11:33.221Z"
   },
   {
    "duration": 27,
    "start_time": "2022-12-18T23:11:33.239Z"
   },
   {
    "duration": 10,
    "start_time": "2022-12-18T23:11:33.268Z"
   },
   {
    "duration": 6,
    "start_time": "2022-12-18T23:11:33.297Z"
   },
   {
    "duration": 31,
    "start_time": "2022-12-18T23:11:33.304Z"
   },
   {
    "duration": 13,
    "start_time": "2022-12-18T23:11:33.337Z"
   },
   {
    "duration": 7,
    "start_time": "2022-12-18T23:11:33.352Z"
   },
   {
    "duration": 46,
    "start_time": "2022-12-18T23:11:33.363Z"
   },
   {
    "duration": 10,
    "start_time": "2022-12-18T23:14:41.486Z"
   },
   {
    "duration": 50,
    "start_time": "2022-12-20T15:19:05.489Z"
   },
   {
    "duration": 1367,
    "start_time": "2022-12-20T15:19:11.641Z"
   },
   {
    "duration": 95,
    "start_time": "2022-12-20T15:19:13.010Z"
   },
   {
    "duration": 18,
    "start_time": "2022-12-20T15:19:13.107Z"
   },
   {
    "duration": 20,
    "start_time": "2022-12-20T15:19:13.127Z"
   },
   {
    "duration": 30,
    "start_time": "2022-12-20T15:19:13.148Z"
   },
   {
    "duration": 14,
    "start_time": "2022-12-20T15:19:13.180Z"
   },
   {
    "duration": 5,
    "start_time": "2022-12-20T15:19:13.195Z"
   },
   {
    "duration": 6,
    "start_time": "2022-12-20T15:19:13.201Z"
   },
   {
    "duration": 13,
    "start_time": "2022-12-20T15:19:13.209Z"
   },
   {
    "duration": 15,
    "start_time": "2022-12-20T15:19:13.225Z"
   },
   {
    "duration": 45,
    "start_time": "2022-12-20T15:19:13.242Z"
   },
   {
    "duration": 15,
    "start_time": "2022-12-20T15:19:13.289Z"
   },
   {
    "duration": 14,
    "start_time": "2022-12-20T15:19:13.306Z"
   },
   {
    "duration": 10,
    "start_time": "2022-12-20T15:19:13.322Z"
   },
   {
    "duration": 25,
    "start_time": "2022-12-20T15:19:13.333Z"
   },
   {
    "duration": 75,
    "start_time": "2022-12-20T15:19:13.378Z"
   },
   {
    "duration": 28,
    "start_time": "2022-12-20T15:19:13.455Z"
   },
   {
    "duration": 230,
    "start_time": "2022-12-20T15:19:13.485Z"
   },
   {
    "duration": 18,
    "start_time": "2022-12-20T15:19:13.717Z"
   },
   {
    "duration": 381,
    "start_time": "2022-12-20T15:19:13.737Z"
   },
   {
    "duration": 17,
    "start_time": "2022-12-20T15:19:14.120Z"
   },
   {
    "duration": 316,
    "start_time": "2022-12-20T15:19:14.140Z"
   },
   {
    "duration": 21,
    "start_time": "2022-12-20T15:19:14.458Z"
   },
   {
    "duration": 16,
    "start_time": "2022-12-20T15:19:14.481Z"
   },
   {
    "duration": 203,
    "start_time": "2022-12-20T15:19:14.498Z"
   },
   {
    "duration": 12,
    "start_time": "2022-12-20T15:19:14.703Z"
   },
   {
    "duration": 12,
    "start_time": "2022-12-20T15:19:14.717Z"
   },
   {
    "duration": 9,
    "start_time": "2022-12-20T15:19:14.734Z"
   },
   {
    "duration": 746,
    "start_time": "2022-12-20T15:19:14.745Z"
   },
   {
    "duration": 12,
    "start_time": "2022-12-20T15:19:15.493Z"
   },
   {
    "duration": 13,
    "start_time": "2022-12-20T15:19:15.506Z"
   },
   {
    "duration": 10,
    "start_time": "2022-12-20T15:19:15.520Z"
   },
   {
    "duration": 14,
    "start_time": "2022-12-20T15:19:15.533Z"
   },
   {
    "duration": 51,
    "start_time": "2022-12-20T15:19:15.578Z"
   },
   {
    "duration": 19,
    "start_time": "2022-12-20T15:19:15.631Z"
   },
   {
    "duration": 37,
    "start_time": "2022-12-20T15:19:15.652Z"
   },
   {
    "duration": 24,
    "start_time": "2022-12-20T15:19:15.691Z"
   },
   {
    "duration": 10,
    "start_time": "2022-12-20T15:19:15.717Z"
   },
   {
    "duration": 9,
    "start_time": "2022-12-20T15:19:15.729Z"
   },
   {
    "duration": 53,
    "start_time": "2022-12-20T15:19:15.740Z"
   },
   {
    "duration": 13,
    "start_time": "2022-12-20T15:19:15.795Z"
   },
   {
    "duration": 7,
    "start_time": "2022-12-20T15:19:15.810Z"
   },
   {
    "duration": 23,
    "start_time": "2022-12-20T15:19:15.818Z"
   },
   {
    "duration": 26,
    "start_time": "2022-12-20T15:25:55.844Z"
   },
   {
    "duration": 18,
    "start_time": "2022-12-20T15:29:22.541Z"
   },
   {
    "duration": 31,
    "start_time": "2022-12-20T15:39:57.014Z"
   },
   {
    "duration": 13,
    "start_time": "2022-12-20T15:40:06.881Z"
   },
   {
    "duration": 104,
    "start_time": "2022-12-20T15:41:09.208Z"
   },
   {
    "duration": 19,
    "start_time": "2022-12-20T15:41:12.485Z"
   },
   {
    "duration": 12,
    "start_time": "2022-12-20T15:41:15.016Z"
   },
   {
    "duration": 273,
    "start_time": "2022-12-20T15:41:56.292Z"
   },
   {
    "duration": 345,
    "start_time": "2022-12-20T15:42:13.033Z"
   },
   {
    "duration": 15,
    "start_time": "2022-12-20T15:51:38.188Z"
   },
   {
    "duration": 1053,
    "start_time": "2022-12-20T15:51:44.533Z"
   },
   {
    "duration": 54,
    "start_time": "2022-12-20T15:51:45.588Z"
   },
   {
    "duration": 17,
    "start_time": "2022-12-20T15:51:45.644Z"
   },
   {
    "duration": 20,
    "start_time": "2022-12-20T15:51:45.664Z"
   },
   {
    "duration": 17,
    "start_time": "2022-12-20T15:51:45.686Z"
   },
   {
    "duration": 17,
    "start_time": "2022-12-20T15:51:45.705Z"
   },
   {
    "duration": 14,
    "start_time": "2022-12-20T15:51:45.724Z"
   },
   {
    "duration": 7,
    "start_time": "2022-12-20T15:51:45.740Z"
   },
   {
    "duration": 34,
    "start_time": "2022-12-20T15:51:45.748Z"
   },
   {
    "duration": 15,
    "start_time": "2022-12-20T15:51:45.785Z"
   },
   {
    "duration": 11,
    "start_time": "2022-12-20T15:51:45.801Z"
   },
   {
    "duration": 17,
    "start_time": "2022-12-20T15:51:45.814Z"
   },
   {
    "duration": 50,
    "start_time": "2022-12-20T15:51:45.834Z"
   },
   {
    "duration": 25,
    "start_time": "2022-12-20T15:51:45.886Z"
   },
   {
    "duration": 18,
    "start_time": "2022-12-20T15:51:45.914Z"
   },
   {
    "duration": 20,
    "start_time": "2022-12-20T15:51:45.934Z"
   },
   {
    "duration": 84,
    "start_time": "2022-12-20T15:51:45.956Z"
   },
   {
    "duration": 9,
    "start_time": "2022-12-20T15:51:46.042Z"
   },
   {
    "duration": 239,
    "start_time": "2022-12-20T15:51:46.052Z"
   },
   {
    "duration": 16,
    "start_time": "2022-12-20T15:51:46.293Z"
   },
   {
    "duration": 350,
    "start_time": "2022-12-20T15:51:46.311Z"
   },
   {
    "duration": 23,
    "start_time": "2022-12-20T15:51:46.663Z"
   },
   {
    "duration": 293,
    "start_time": "2022-12-20T15:51:46.688Z"
   },
   {
    "duration": 109,
    "start_time": "2022-12-20T15:51:46.982Z"
   },
   {
    "duration": 0,
    "start_time": "2022-12-20T15:51:47.093Z"
   },
   {
    "duration": 0,
    "start_time": "2022-12-20T15:51:47.094Z"
   },
   {
    "duration": 0,
    "start_time": "2022-12-20T15:51:47.096Z"
   },
   {
    "duration": 0,
    "start_time": "2022-12-20T15:51:47.096Z"
   },
   {
    "duration": 0,
    "start_time": "2022-12-20T15:51:47.098Z"
   },
   {
    "duration": 0,
    "start_time": "2022-12-20T15:51:47.098Z"
   },
   {
    "duration": 0,
    "start_time": "2022-12-20T15:51:47.100Z"
   },
   {
    "duration": 0,
    "start_time": "2022-12-20T15:51:47.101Z"
   },
   {
    "duration": 0,
    "start_time": "2022-12-20T15:51:47.102Z"
   },
   {
    "duration": 0,
    "start_time": "2022-12-20T15:51:47.104Z"
   },
   {
    "duration": 0,
    "start_time": "2022-12-20T15:51:47.104Z"
   },
   {
    "duration": 0,
    "start_time": "2022-12-20T15:51:47.105Z"
   },
   {
    "duration": 0,
    "start_time": "2022-12-20T15:51:47.106Z"
   },
   {
    "duration": 0,
    "start_time": "2022-12-20T15:51:47.107Z"
   },
   {
    "duration": 0,
    "start_time": "2022-12-20T15:51:47.109Z"
   },
   {
    "duration": 0,
    "start_time": "2022-12-20T15:51:47.109Z"
   },
   {
    "duration": 0,
    "start_time": "2022-12-20T15:51:47.111Z"
   },
   {
    "duration": 0,
    "start_time": "2022-12-20T15:51:47.112Z"
   },
   {
    "duration": 0,
    "start_time": "2022-12-20T15:51:47.113Z"
   },
   {
    "duration": 0,
    "start_time": "2022-12-20T15:51:47.114Z"
   },
   {
    "duration": 0,
    "start_time": "2022-12-20T15:51:47.115Z"
   },
   {
    "duration": 20,
    "start_time": "2022-12-20T15:52:22.736Z"
   },
   {
    "duration": 12,
    "start_time": "2022-12-20T15:52:25.355Z"
   },
   {
    "duration": 292,
    "start_time": "2022-12-20T15:52:29.768Z"
   },
   {
    "duration": 1215,
    "start_time": "2022-12-20T15:53:21.759Z"
   },
   {
    "duration": 57,
    "start_time": "2022-12-20T15:53:22.977Z"
   },
   {
    "duration": 18,
    "start_time": "2022-12-20T15:53:23.036Z"
   },
   {
    "duration": 28,
    "start_time": "2022-12-20T15:53:23.057Z"
   },
   {
    "duration": 20,
    "start_time": "2022-12-20T15:53:23.087Z"
   },
   {
    "duration": 15,
    "start_time": "2022-12-20T15:53:23.108Z"
   },
   {
    "duration": 8,
    "start_time": "2022-12-20T15:53:23.125Z"
   },
   {
    "duration": 5,
    "start_time": "2022-12-20T15:53:23.135Z"
   },
   {
    "duration": 39,
    "start_time": "2022-12-20T15:53:23.142Z"
   },
   {
    "duration": 15,
    "start_time": "2022-12-20T15:53:23.184Z"
   },
   {
    "duration": 10,
    "start_time": "2022-12-20T15:53:23.201Z"
   },
   {
    "duration": 17,
    "start_time": "2022-12-20T15:53:23.212Z"
   },
   {
    "duration": 49,
    "start_time": "2022-12-20T15:53:23.231Z"
   },
   {
    "duration": 8,
    "start_time": "2022-12-20T15:53:23.282Z"
   },
   {
    "duration": 23,
    "start_time": "2022-12-20T15:53:23.292Z"
   },
   {
    "duration": 30,
    "start_time": "2022-12-20T15:53:23.317Z"
   },
   {
    "duration": 99,
    "start_time": "2022-12-20T15:53:23.349Z"
   },
   {
    "duration": 32,
    "start_time": "2022-12-20T15:53:23.450Z"
   },
   {
    "duration": 246,
    "start_time": "2022-12-20T15:53:23.484Z"
   },
   {
    "duration": 18,
    "start_time": "2022-12-20T15:53:23.732Z"
   },
   {
    "duration": 379,
    "start_time": "2022-12-20T15:53:23.752Z"
   },
   {
    "duration": 17,
    "start_time": "2022-12-20T15:53:24.133Z"
   },
   {
    "duration": 317,
    "start_time": "2022-12-20T15:53:24.152Z"
   },
   {
    "duration": 18,
    "start_time": "2022-12-20T15:53:24.471Z"
   },
   {
    "duration": 11,
    "start_time": "2022-12-20T15:53:24.491Z"
   },
   {
    "duration": 279,
    "start_time": "2022-12-20T15:53:24.503Z"
   },
   {
    "duration": 13,
    "start_time": "2022-12-20T15:53:24.784Z"
   },
   {
    "duration": 125,
    "start_time": "2022-12-20T15:53:24.800Z"
   },
   {
    "duration": 0,
    "start_time": "2022-12-20T15:53:24.927Z"
   },
   {
    "duration": 0,
    "start_time": "2022-12-20T15:53:24.928Z"
   },
   {
    "duration": 0,
    "start_time": "2022-12-20T15:53:24.929Z"
   },
   {
    "duration": 0,
    "start_time": "2022-12-20T15:53:24.930Z"
   },
   {
    "duration": 0,
    "start_time": "2022-12-20T15:53:24.932Z"
   },
   {
    "duration": 0,
    "start_time": "2022-12-20T15:53:24.933Z"
   },
   {
    "duration": 0,
    "start_time": "2022-12-20T15:53:24.934Z"
   },
   {
    "duration": 0,
    "start_time": "2022-12-20T15:53:24.935Z"
   },
   {
    "duration": 0,
    "start_time": "2022-12-20T15:53:24.936Z"
   },
   {
    "duration": 0,
    "start_time": "2022-12-20T15:53:24.937Z"
   },
   {
    "duration": 0,
    "start_time": "2022-12-20T15:53:24.938Z"
   },
   {
    "duration": 0,
    "start_time": "2022-12-20T15:53:24.939Z"
   },
   {
    "duration": 0,
    "start_time": "2022-12-20T15:53:24.940Z"
   },
   {
    "duration": 0,
    "start_time": "2022-12-20T15:53:24.941Z"
   },
   {
    "duration": 0,
    "start_time": "2022-12-20T15:53:24.943Z"
   },
   {
    "duration": 0,
    "start_time": "2022-12-20T15:53:24.944Z"
   },
   {
    "duration": 0,
    "start_time": "2022-12-20T15:53:24.945Z"
   },
   {
    "duration": 13,
    "start_time": "2022-12-20T15:53:53.289Z"
   },
   {
    "duration": 10,
    "start_time": "2022-12-20T15:54:01.972Z"
   },
   {
    "duration": 11,
    "start_time": "2022-12-20T15:54:06.961Z"
   },
   {
    "duration": 635,
    "start_time": "2022-12-20T15:54:11.577Z"
   },
   {
    "duration": 13,
    "start_time": "2022-12-20T15:54:21.661Z"
   },
   {
    "duration": 11,
    "start_time": "2022-12-20T15:54:27.748Z"
   },
   {
    "duration": 15,
    "start_time": "2022-12-20T15:54:32.901Z"
   },
   {
    "duration": 130,
    "start_time": "2022-12-20T15:54:48.159Z"
   },
   {
    "duration": 742,
    "start_time": "2022-12-20T15:55:01.680Z"
   },
   {
    "duration": 613,
    "start_time": "2022-12-20T15:55:10.406Z"
   },
   {
    "duration": 3301,
    "start_time": "2022-12-20T15:57:36.699Z"
   },
   {
    "duration": 3004,
    "start_time": "2022-12-20T15:58:02.201Z"
   },
   {
    "duration": 3111,
    "start_time": "2022-12-20T15:58:38.101Z"
   },
   {
    "duration": 3763,
    "start_time": "2022-12-20T15:59:11.615Z"
   },
   {
    "duration": 3254,
    "start_time": "2022-12-20T16:00:09.543Z"
   },
   {
    "duration": 639,
    "start_time": "2022-12-20T16:02:21.590Z"
   },
   {
    "duration": 3,
    "start_time": "2022-12-20T16:02:51.670Z"
   },
   {
    "duration": 91,
    "start_time": "2022-12-20T16:03:04.533Z"
   },
   {
    "duration": 1182,
    "start_time": "2022-12-20T16:03:16.876Z"
   },
   {
    "duration": 54,
    "start_time": "2022-12-20T16:03:18.060Z"
   },
   {
    "duration": 15,
    "start_time": "2022-12-20T16:03:18.116Z"
   },
   {
    "duration": 20,
    "start_time": "2022-12-20T16:03:18.133Z"
   },
   {
    "duration": 32,
    "start_time": "2022-12-20T16:03:18.156Z"
   },
   {
    "duration": 21,
    "start_time": "2022-12-20T16:03:18.190Z"
   },
   {
    "duration": 6,
    "start_time": "2022-12-20T16:03:18.213Z"
   },
   {
    "duration": 8,
    "start_time": "2022-12-20T16:03:18.221Z"
   },
   {
    "duration": 19,
    "start_time": "2022-12-20T16:03:18.231Z"
   },
   {
    "duration": 39,
    "start_time": "2022-12-20T16:03:18.252Z"
   },
   {
    "duration": 14,
    "start_time": "2022-12-20T16:03:18.293Z"
   },
   {
    "duration": 30,
    "start_time": "2022-12-20T16:03:18.309Z"
   },
   {
    "duration": 18,
    "start_time": "2022-12-20T16:03:18.341Z"
   },
   {
    "duration": 27,
    "start_time": "2022-12-20T16:03:18.383Z"
   },
   {
    "duration": 29,
    "start_time": "2022-12-20T16:03:18.412Z"
   },
   {
    "duration": 27,
    "start_time": "2022-12-20T16:03:18.442Z"
   },
   {
    "duration": 113,
    "start_time": "2022-12-20T16:03:18.471Z"
   },
   {
    "duration": 11,
    "start_time": "2022-12-20T16:03:18.586Z"
   },
   {
    "duration": 251,
    "start_time": "2022-12-20T16:03:18.599Z"
   },
   {
    "duration": 30,
    "start_time": "2022-12-20T16:03:18.853Z"
   },
   {
    "duration": 387,
    "start_time": "2022-12-20T16:03:18.886Z"
   },
   {
    "duration": 19,
    "start_time": "2022-12-20T16:03:19.275Z"
   },
   {
    "duration": 319,
    "start_time": "2022-12-20T16:03:19.297Z"
   },
   {
    "duration": 24,
    "start_time": "2022-12-20T16:03:19.619Z"
   },
   {
    "duration": 11,
    "start_time": "2022-12-20T16:03:19.644Z"
   },
   {
    "duration": 267,
    "start_time": "2022-12-20T16:03:19.657Z"
   },
   {
    "duration": 13,
    "start_time": "2022-12-20T16:03:19.926Z"
   },
   {
    "duration": 17,
    "start_time": "2022-12-20T16:03:19.940Z"
   },
   {
    "duration": 24,
    "start_time": "2022-12-20T16:03:19.958Z"
   },
   {
    "duration": 791,
    "start_time": "2022-12-20T16:03:19.984Z"
   },
   {
    "duration": 12,
    "start_time": "2022-12-20T16:03:20.777Z"
   },
   {
    "duration": 13,
    "start_time": "2022-12-20T16:03:20.790Z"
   },
   {
    "duration": 40,
    "start_time": "2022-12-20T16:03:20.805Z"
   },
   {
    "duration": 0,
    "start_time": "2022-12-20T16:03:20.847Z"
   },
   {
    "duration": 0,
    "start_time": "2022-12-20T16:03:20.848Z"
   },
   {
    "duration": 0,
    "start_time": "2022-12-20T16:03:20.849Z"
   },
   {
    "duration": 0,
    "start_time": "2022-12-20T16:03:20.850Z"
   },
   {
    "duration": 0,
    "start_time": "2022-12-20T16:03:20.851Z"
   },
   {
    "duration": 0,
    "start_time": "2022-12-20T16:03:20.955Z"
   },
   {
    "duration": 0,
    "start_time": "2022-12-20T16:03:20.957Z"
   },
   {
    "duration": 0,
    "start_time": "2022-12-20T16:03:20.958Z"
   },
   {
    "duration": 0,
    "start_time": "2022-12-20T16:03:20.959Z"
   },
   {
    "duration": 0,
    "start_time": "2022-12-20T16:03:20.961Z"
   },
   {
    "duration": 0,
    "start_time": "2022-12-20T16:03:20.963Z"
   },
   {
    "duration": 0,
    "start_time": "2022-12-20T16:03:20.981Z"
   },
   {
    "duration": 37,
    "start_time": "2022-12-20T16:47:58.720Z"
   },
   {
    "duration": 40,
    "start_time": "2022-12-20T16:48:23.325Z"
   },
   {
    "duration": 47,
    "start_time": "2022-12-20T16:48:34.432Z"
   },
   {
    "duration": 3248,
    "start_time": "2022-12-20T16:49:10.065Z"
   },
   {
    "duration": 48,
    "start_time": "2022-12-20T16:49:44.408Z"
   },
   {
    "duration": 57,
    "start_time": "2022-12-20T16:50:17.799Z"
   },
   {
    "duration": 55,
    "start_time": "2022-12-20T16:51:01.682Z"
   },
   {
    "duration": 61,
    "start_time": "2022-12-20T16:52:24.460Z"
   },
   {
    "duration": 60,
    "start_time": "2022-12-20T16:54:00.723Z"
   },
   {
    "duration": 4,
    "start_time": "2022-12-20T16:56:09.267Z"
   },
   {
    "duration": 3,
    "start_time": "2022-12-20T16:56:19.661Z"
   },
   {
    "duration": 3,
    "start_time": "2022-12-20T16:56:32.507Z"
   },
   {
    "duration": 4,
    "start_time": "2022-12-20T16:56:54.039Z"
   },
   {
    "duration": 3688,
    "start_time": "2022-12-20T16:57:00.789Z"
   },
   {
    "duration": 3751,
    "start_time": "2022-12-20T16:59:49.758Z"
   },
   {
    "duration": 110,
    "start_time": "2022-12-20T17:01:48.770Z"
   },
   {
    "duration": 57,
    "start_time": "2022-12-20T18:16:23.561Z"
   },
   {
    "duration": 1224,
    "start_time": "2022-12-20T18:16:39.943Z"
   },
   {
    "duration": 54,
    "start_time": "2022-12-20T18:16:41.169Z"
   },
   {
    "duration": 15,
    "start_time": "2022-12-20T18:16:41.225Z"
   },
   {
    "duration": 21,
    "start_time": "2022-12-20T18:16:41.242Z"
   },
   {
    "duration": 25,
    "start_time": "2022-12-20T18:16:41.265Z"
   },
   {
    "duration": 15,
    "start_time": "2022-12-20T18:16:41.292Z"
   },
   {
    "duration": 13,
    "start_time": "2022-12-20T18:16:41.309Z"
   },
   {
    "duration": 13,
    "start_time": "2022-12-20T18:16:41.324Z"
   },
   {
    "duration": 31,
    "start_time": "2022-12-20T18:16:41.339Z"
   },
   {
    "duration": 23,
    "start_time": "2022-12-20T18:16:41.373Z"
   },
   {
    "duration": 17,
    "start_time": "2022-12-20T18:16:41.398Z"
   },
   {
    "duration": 26,
    "start_time": "2022-12-20T18:16:41.417Z"
   },
   {
    "duration": 16,
    "start_time": "2022-12-20T18:16:41.445Z"
   },
   {
    "duration": 15,
    "start_time": "2022-12-20T18:16:41.465Z"
   },
   {
    "duration": 20,
    "start_time": "2022-12-20T18:16:41.481Z"
   },
   {
    "duration": 25,
    "start_time": "2022-12-20T18:16:41.503Z"
   },
   {
    "duration": 83,
    "start_time": "2022-12-20T18:16:41.529Z"
   },
   {
    "duration": 9,
    "start_time": "2022-12-20T18:16:41.613Z"
   },
   {
    "duration": 243,
    "start_time": "2022-12-20T18:16:41.624Z"
   },
   {
    "duration": 19,
    "start_time": "2022-12-20T18:16:41.869Z"
   },
   {
    "duration": 350,
    "start_time": "2022-12-20T18:16:41.890Z"
   },
   {
    "duration": 16,
    "start_time": "2022-12-20T18:16:42.242Z"
   },
   {
    "duration": 305,
    "start_time": "2022-12-20T18:16:42.259Z"
   },
   {
    "duration": 19,
    "start_time": "2022-12-20T18:16:42.566Z"
   },
   {
    "duration": 11,
    "start_time": "2022-12-20T18:16:42.587Z"
   },
   {
    "duration": 263,
    "start_time": "2022-12-20T18:16:42.599Z"
   },
   {
    "duration": 21,
    "start_time": "2022-12-20T18:16:42.863Z"
   },
   {
    "duration": 9,
    "start_time": "2022-12-20T18:16:42.886Z"
   },
   {
    "duration": 11,
    "start_time": "2022-12-20T18:16:42.897Z"
   },
   {
    "duration": 664,
    "start_time": "2022-12-20T18:16:42.910Z"
   },
   {
    "duration": 12,
    "start_time": "2022-12-20T18:16:43.578Z"
   },
   {
    "duration": 10,
    "start_time": "2022-12-20T18:16:43.592Z"
   },
   {
    "duration": 81,
    "start_time": "2022-12-20T18:16:43.604Z"
   },
   {
    "duration": 3711,
    "start_time": "2022-12-20T18:16:43.687Z"
   },
   {
    "duration": 47,
    "start_time": "2022-12-20T18:16:47.400Z"
   },
   {
    "duration": 0,
    "start_time": "2022-12-20T18:16:47.449Z"
   },
   {
    "duration": 0,
    "start_time": "2022-12-20T18:16:47.450Z"
   },
   {
    "duration": 0,
    "start_time": "2022-12-20T18:16:47.451Z"
   },
   {
    "duration": 0,
    "start_time": "2022-12-20T18:16:47.453Z"
   },
   {
    "duration": 0,
    "start_time": "2022-12-20T18:16:47.454Z"
   },
   {
    "duration": 0,
    "start_time": "2022-12-20T18:16:47.455Z"
   },
   {
    "duration": 0,
    "start_time": "2022-12-20T18:16:47.456Z"
   },
   {
    "duration": 0,
    "start_time": "2022-12-20T18:16:47.458Z"
   },
   {
    "duration": 0,
    "start_time": "2022-12-20T18:16:47.459Z"
   },
   {
    "duration": 0,
    "start_time": "2022-12-20T18:16:47.460Z"
   },
   {
    "duration": 0,
    "start_time": "2022-12-20T18:16:47.461Z"
   },
   {
    "duration": 9,
    "start_time": "2022-12-20T18:19:37.355Z"
   },
   {
    "duration": 102,
    "start_time": "2022-12-20T18:20:11.441Z"
   },
   {
    "duration": 9,
    "start_time": "2022-12-20T18:20:22.442Z"
   },
   {
    "duration": 15,
    "start_time": "2022-12-20T18:20:33.894Z"
   },
   {
    "duration": 47,
    "start_time": "2022-12-20T18:23:01.676Z"
   },
   {
    "duration": 47,
    "start_time": "2022-12-20T18:23:07.743Z"
   },
   {
    "duration": 16,
    "start_time": "2022-12-20T18:23:16.433Z"
   },
   {
    "duration": 16,
    "start_time": "2022-12-20T18:23:19.413Z"
   },
   {
    "duration": 15,
    "start_time": "2022-12-20T18:23:53.672Z"
   },
   {
    "duration": 16,
    "start_time": "2022-12-20T18:25:31.993Z"
   },
   {
    "duration": 289,
    "start_time": "2022-12-20T18:25:35.491Z"
   },
   {
    "duration": 303,
    "start_time": "2022-12-20T18:26:51.658Z"
   },
   {
    "duration": 416,
    "start_time": "2022-12-20T18:26:58.354Z"
   },
   {
    "duration": 14,
    "start_time": "2022-12-20T18:32:24.783Z"
   },
   {
    "duration": 84,
    "start_time": "2022-12-20T18:33:09.369Z"
   },
   {
    "duration": 13,
    "start_time": "2022-12-20T18:34:15.946Z"
   },
   {
    "duration": 12,
    "start_time": "2022-12-20T18:34:21.947Z"
   },
   {
    "duration": 16,
    "start_time": "2022-12-20T18:34:33.742Z"
   },
   {
    "duration": 12,
    "start_time": "2022-12-20T18:34:52.734Z"
   },
   {
    "duration": 9,
    "start_time": "2022-12-20T18:34:58.515Z"
   },
   {
    "duration": 116,
    "start_time": "2022-12-20T18:36:11.853Z"
   },
   {
    "duration": 11,
    "start_time": "2022-12-20T18:38:08.609Z"
   },
   {
    "duration": 9,
    "start_time": "2022-12-20T18:38:14.561Z"
   },
   {
    "duration": 13,
    "start_time": "2022-12-20T18:38:38.407Z"
   },
   {
    "duration": 11,
    "start_time": "2022-12-20T18:38:56.510Z"
   },
   {
    "duration": 10,
    "start_time": "2022-12-20T18:39:36.365Z"
   },
   {
    "duration": 11,
    "start_time": "2022-12-20T18:40:02.017Z"
   },
   {
    "duration": 9,
    "start_time": "2022-12-20T18:40:06.946Z"
   },
   {
    "duration": 113,
    "start_time": "2022-12-20T18:43:49.745Z"
   },
   {
    "duration": 11,
    "start_time": "2022-12-20T18:50:20.984Z"
   },
   {
    "duration": 9,
    "start_time": "2022-12-20T18:50:23.958Z"
   },
   {
    "duration": 16,
    "start_time": "2022-12-20T18:50:49.947Z"
   },
   {
    "duration": 29,
    "start_time": "2022-12-20T18:54:34.086Z"
   },
   {
    "duration": 46,
    "start_time": "2022-12-20T18:54:53.701Z"
   },
   {
    "duration": 335,
    "start_time": "2022-12-20T18:55:05.057Z"
   },
   {
    "duration": 13,
    "start_time": "2022-12-20T19:00:56.784Z"
   },
   {
    "duration": 11,
    "start_time": "2022-12-20T19:01:20.615Z"
   },
   {
    "duration": 13,
    "start_time": "2022-12-20T19:01:38.615Z"
   },
   {
    "duration": 17,
    "start_time": "2022-12-20T19:02:47.200Z"
   },
   {
    "duration": 14,
    "start_time": "2022-12-20T19:03:20.393Z"
   },
   {
    "duration": 14,
    "start_time": "2022-12-20T19:03:49.857Z"
   },
   {
    "duration": 22,
    "start_time": "2022-12-20T19:04:35.090Z"
   },
   {
    "duration": 151,
    "start_time": "2022-12-20T19:06:58.469Z"
   },
   {
    "duration": 272,
    "start_time": "2022-12-20T19:14:50.973Z"
   },
   {
    "duration": 134,
    "start_time": "2022-12-20T19:15:10.331Z"
   },
   {
    "duration": 303,
    "start_time": "2022-12-20T19:15:16.289Z"
   },
   {
    "duration": 255,
    "start_time": "2022-12-20T19:23:43.420Z"
   },
   {
    "duration": 538,
    "start_time": "2022-12-20T19:24:19.389Z"
   },
   {
    "duration": 383,
    "start_time": "2022-12-20T19:24:34.468Z"
   },
   {
    "duration": 300,
    "start_time": "2022-12-20T19:24:46.861Z"
   },
   {
    "duration": 411,
    "start_time": "2022-12-20T19:26:46.952Z"
   },
   {
    "duration": 401,
    "start_time": "2022-12-20T19:28:16.561Z"
   },
   {
    "duration": 481,
    "start_time": "2022-12-20T19:29:30.100Z"
   },
   {
    "duration": 52,
    "start_time": "2022-12-20T19:29:50.605Z"
   },
   {
    "duration": 365,
    "start_time": "2022-12-20T19:29:59.373Z"
   },
   {
    "duration": 414,
    "start_time": "2022-12-20T19:31:50.567Z"
   },
   {
    "duration": 437,
    "start_time": "2022-12-20T19:33:06.459Z"
   },
   {
    "duration": 306,
    "start_time": "2022-12-20T19:35:41.505Z"
   },
   {
    "duration": 281,
    "start_time": "2022-12-20T19:36:38.778Z"
   },
   {
    "duration": 285,
    "start_time": "2022-12-20T19:37:01.208Z"
   },
   {
    "duration": 627,
    "start_time": "2022-12-20T19:37:21.551Z"
   },
   {
    "duration": 364,
    "start_time": "2022-12-20T19:38:53.137Z"
   },
   {
    "duration": 454,
    "start_time": "2022-12-20T19:39:02.139Z"
   },
   {
    "duration": 422,
    "start_time": "2022-12-20T19:39:19.145Z"
   },
   {
    "duration": 415,
    "start_time": "2022-12-20T19:39:26.881Z"
   },
   {
    "duration": 564,
    "start_time": "2022-12-20T19:41:32.816Z"
   },
   {
    "duration": 444,
    "start_time": "2022-12-20T19:42:32.847Z"
   },
   {
    "duration": 426,
    "start_time": "2022-12-20T19:42:58.765Z"
   },
   {
    "duration": 435,
    "start_time": "2022-12-20T19:43:07.881Z"
   },
   {
    "duration": 20,
    "start_time": "2022-12-20T19:43:20.981Z"
   },
   {
    "duration": 439,
    "start_time": "2022-12-20T19:43:34.658Z"
   },
   {
    "duration": 48,
    "start_time": "2022-12-20T19:45:05.739Z"
   },
   {
    "duration": 429,
    "start_time": "2022-12-20T19:45:29.300Z"
   },
   {
    "duration": 56,
    "start_time": "2022-12-20T19:45:54.952Z"
   },
   {
    "duration": 409,
    "start_time": "2022-12-20T19:46:00.658Z"
   },
   {
    "duration": 702,
    "start_time": "2022-12-20T19:46:11.149Z"
   },
   {
    "duration": 473,
    "start_time": "2022-12-20T19:47:40.676Z"
   },
   {
    "duration": 440,
    "start_time": "2022-12-20T19:47:48.549Z"
   },
   {
    "duration": 1115,
    "start_time": "2022-12-20T19:49:04.445Z"
   },
   {
    "duration": 1234,
    "start_time": "2022-12-20T19:49:17.600Z"
   },
   {
    "duration": 1156,
    "start_time": "2022-12-20T19:49:53.350Z"
   },
   {
    "duration": 1179,
    "start_time": "2022-12-20T19:50:04.178Z"
   },
   {
    "duration": 53,
    "start_time": "2022-12-20T19:50:05.359Z"
   },
   {
    "duration": 16,
    "start_time": "2022-12-20T19:50:05.416Z"
   },
   {
    "duration": 18,
    "start_time": "2022-12-20T19:50:05.433Z"
   },
   {
    "duration": 32,
    "start_time": "2022-12-20T19:50:05.452Z"
   },
   {
    "duration": 14,
    "start_time": "2022-12-20T19:50:05.486Z"
   },
   {
    "duration": 8,
    "start_time": "2022-12-20T19:50:05.502Z"
   },
   {
    "duration": 9,
    "start_time": "2022-12-20T19:50:05.512Z"
   },
   {
    "duration": 12,
    "start_time": "2022-12-20T19:50:05.524Z"
   },
   {
    "duration": 41,
    "start_time": "2022-12-20T19:50:05.538Z"
   },
   {
    "duration": 9,
    "start_time": "2022-12-20T19:50:05.581Z"
   },
   {
    "duration": 18,
    "start_time": "2022-12-20T19:50:05.593Z"
   },
   {
    "duration": 15,
    "start_time": "2022-12-20T19:50:05.612Z"
   },
   {
    "duration": 7,
    "start_time": "2022-12-20T19:50:05.629Z"
   },
   {
    "duration": 46,
    "start_time": "2022-12-20T19:50:05.638Z"
   },
   {
    "duration": 20,
    "start_time": "2022-12-20T19:50:05.687Z"
   },
   {
    "duration": 89,
    "start_time": "2022-12-20T19:50:05.709Z"
   },
   {
    "duration": 8,
    "start_time": "2022-12-20T19:50:05.799Z"
   },
   {
    "duration": 235,
    "start_time": "2022-12-20T19:50:05.809Z"
   },
   {
    "duration": 15,
    "start_time": "2022-12-20T19:50:06.046Z"
   },
   {
    "duration": 334,
    "start_time": "2022-12-20T19:50:06.063Z"
   },
   {
    "duration": 16,
    "start_time": "2022-12-20T19:50:06.399Z"
   },
   {
    "duration": 303,
    "start_time": "2022-12-20T19:50:06.417Z"
   },
   {
    "duration": 19,
    "start_time": "2022-12-20T19:50:06.722Z"
   },
   {
    "duration": 11,
    "start_time": "2022-12-20T19:50:06.743Z"
   },
   {
    "duration": 262,
    "start_time": "2022-12-20T19:50:06.756Z"
   },
   {
    "duration": 12,
    "start_time": "2022-12-20T19:50:07.022Z"
   },
   {
    "duration": 12,
    "start_time": "2022-12-20T19:50:07.036Z"
   },
   {
    "duration": 10,
    "start_time": "2022-12-20T19:50:07.049Z"
   },
   {
    "duration": 636,
    "start_time": "2022-12-20T19:50:07.077Z"
   },
   {
    "duration": 11,
    "start_time": "2022-12-20T19:50:07.715Z"
   },
   {
    "duration": 11,
    "start_time": "2022-12-20T19:50:07.728Z"
   },
   {
    "duration": 79,
    "start_time": "2022-12-20T19:50:07.740Z"
   },
   {
    "duration": 3787,
    "start_time": "2022-12-20T19:50:07.821Z"
   },
   {
    "duration": 9,
    "start_time": "2022-12-20T19:50:11.611Z"
   },
   {
    "duration": 28,
    "start_time": "2022-12-20T19:50:11.622Z"
   },
   {
    "duration": 17,
    "start_time": "2022-12-20T19:50:11.652Z"
   },
   {
    "duration": 315,
    "start_time": "2022-12-20T19:50:11.677Z"
   },
   {
    "duration": 110,
    "start_time": "2022-12-20T19:50:11.994Z"
   },
   {
    "duration": 0,
    "start_time": "2022-12-20T19:50:12.106Z"
   },
   {
    "duration": 0,
    "start_time": "2022-12-20T19:50:12.107Z"
   },
   {
    "duration": 0,
    "start_time": "2022-12-20T19:50:12.108Z"
   },
   {
    "duration": 0,
    "start_time": "2022-12-20T19:50:12.109Z"
   },
   {
    "duration": 0,
    "start_time": "2022-12-20T19:50:12.110Z"
   },
   {
    "duration": 0,
    "start_time": "2022-12-20T19:50:12.111Z"
   },
   {
    "duration": 0,
    "start_time": "2022-12-20T19:50:12.113Z"
   },
   {
    "duration": 0,
    "start_time": "2022-12-20T19:50:12.114Z"
   },
   {
    "duration": 0,
    "start_time": "2022-12-20T19:50:12.115Z"
   },
   {
    "duration": 0,
    "start_time": "2022-12-20T19:50:12.116Z"
   },
   {
    "duration": 0,
    "start_time": "2022-12-20T19:50:12.117Z"
   },
   {
    "duration": 57,
    "start_time": "2022-12-20T19:50:48.656Z"
   },
   {
    "duration": 18,
    "start_time": "2022-12-20T19:50:58.897Z"
   },
   {
    "duration": 1130,
    "start_time": "2022-12-20T19:51:03.360Z"
   },
   {
    "duration": 1212,
    "start_time": "2022-12-20T19:51:30.649Z"
   },
   {
    "duration": 386,
    "start_time": "2022-12-20T19:51:56.046Z"
   },
   {
    "duration": 406,
    "start_time": "2022-12-20T19:52:15.016Z"
   },
   {
    "duration": 473,
    "start_time": "2022-12-20T19:52:27.966Z"
   },
   {
    "duration": 15,
    "start_time": "2022-12-20T19:52:59.663Z"
   },
   {
    "duration": 12,
    "start_time": "2022-12-20T19:53:47.449Z"
   },
   {
    "duration": 11,
    "start_time": "2022-12-20T19:56:10.462Z"
   },
   {
    "duration": 6,
    "start_time": "2022-12-20T19:56:38.522Z"
   },
   {
    "duration": 12,
    "start_time": "2022-12-20T19:58:53.201Z"
   },
   {
    "duration": 14,
    "start_time": "2022-12-20T19:58:59.885Z"
   },
   {
    "duration": 12,
    "start_time": "2022-12-20T19:59:09.138Z"
   },
   {
    "duration": 55,
    "start_time": "2022-12-20T19:59:56.206Z"
   },
   {
    "duration": 10,
    "start_time": "2022-12-20T19:59:59.933Z"
   },
   {
    "duration": 5,
    "start_time": "2022-12-20T20:01:34.540Z"
   },
   {
    "duration": 9,
    "start_time": "2022-12-20T20:01:41.794Z"
   },
   {
    "duration": 5,
    "start_time": "2022-12-20T20:02:04.185Z"
   },
   {
    "duration": 5,
    "start_time": "2022-12-20T20:03:24.461Z"
   },
   {
    "duration": 5,
    "start_time": "2022-12-20T20:03:26.081Z"
   },
   {
    "duration": 7,
    "start_time": "2022-12-20T20:05:18.809Z"
   },
   {
    "duration": 1208,
    "start_time": "2022-12-20T20:05:27.470Z"
   },
   {
    "duration": 52,
    "start_time": "2022-12-20T20:05:28.680Z"
   },
   {
    "duration": 14,
    "start_time": "2022-12-20T20:05:28.734Z"
   },
   {
    "duration": 17,
    "start_time": "2022-12-20T20:05:28.749Z"
   },
   {
    "duration": 15,
    "start_time": "2022-12-20T20:05:28.768Z"
   },
   {
    "duration": 13,
    "start_time": "2022-12-20T20:05:28.784Z"
   },
   {
    "duration": 8,
    "start_time": "2022-12-20T20:05:28.799Z"
   },
   {
    "duration": 9,
    "start_time": "2022-12-20T20:05:28.808Z"
   },
   {
    "duration": 12,
    "start_time": "2022-12-20T20:05:28.819Z"
   },
   {
    "duration": 15,
    "start_time": "2022-12-20T20:05:28.832Z"
   },
   {
    "duration": 30,
    "start_time": "2022-12-20T20:05:28.849Z"
   },
   {
    "duration": 14,
    "start_time": "2022-12-20T20:05:28.881Z"
   },
   {
    "duration": 13,
    "start_time": "2022-12-20T20:05:28.896Z"
   },
   {
    "duration": 8,
    "start_time": "2022-12-20T20:05:28.913Z"
   },
   {
    "duration": 15,
    "start_time": "2022-12-20T20:05:28.923Z"
   },
   {
    "duration": 45,
    "start_time": "2022-12-20T20:05:28.940Z"
   },
   {
    "duration": 68,
    "start_time": "2022-12-20T20:05:28.987Z"
   },
   {
    "duration": 23,
    "start_time": "2022-12-20T20:05:29.056Z"
   },
   {
    "duration": 12,
    "start_time": "2022-12-20T20:05:29.081Z"
   },
   {
    "duration": 7,
    "start_time": "2022-12-20T20:05:29.095Z"
   },
   {
    "duration": 12,
    "start_time": "2022-12-20T20:05:29.103Z"
   },
   {
    "duration": 226,
    "start_time": "2022-12-20T20:05:29.116Z"
   },
   {
    "duration": 16,
    "start_time": "2022-12-20T20:05:29.343Z"
   },
   {
    "duration": 339,
    "start_time": "2022-12-20T20:05:29.361Z"
   },
   {
    "duration": 16,
    "start_time": "2022-12-20T20:05:29.701Z"
   },
   {
    "duration": 297,
    "start_time": "2022-12-20T20:05:29.719Z"
   },
   {
    "duration": 18,
    "start_time": "2022-12-20T20:05:30.018Z"
   },
   {
    "duration": 26,
    "start_time": "2022-12-20T20:05:30.038Z"
   },
   {
    "duration": 275,
    "start_time": "2022-12-20T20:05:30.066Z"
   },
   {
    "duration": 12,
    "start_time": "2022-12-20T20:05:30.343Z"
   },
   {
    "duration": 25,
    "start_time": "2022-12-20T20:05:30.357Z"
   },
   {
    "duration": 35,
    "start_time": "2022-12-20T20:05:30.384Z"
   },
   {
    "duration": 683,
    "start_time": "2022-12-20T20:05:30.421Z"
   },
   {
    "duration": 10,
    "start_time": "2022-12-20T20:05:31.106Z"
   },
   {
    "duration": 19,
    "start_time": "2022-12-20T20:05:31.117Z"
   },
   {
    "duration": 64,
    "start_time": "2022-12-20T20:05:31.137Z"
   },
   {
    "duration": 3695,
    "start_time": "2022-12-20T20:05:31.203Z"
   },
   {
    "duration": 10,
    "start_time": "2022-12-20T20:05:34.900Z"
   },
   {
    "duration": 16,
    "start_time": "2022-12-20T20:05:34.912Z"
   },
   {
    "duration": 14,
    "start_time": "2022-12-20T20:05:34.930Z"
   },
   {
    "duration": 331,
    "start_time": "2022-12-20T20:05:34.949Z"
   },
   {
    "duration": 54,
    "start_time": "2022-12-20T20:05:35.282Z"
   },
   {
    "duration": 17,
    "start_time": "2022-12-20T20:05:35.338Z"
   },
   {
    "duration": 411,
    "start_time": "2022-12-20T20:05:35.378Z"
   },
   {
    "duration": 577,
    "start_time": "2022-12-20T20:05:35.790Z"
   },
   {
    "duration": 17,
    "start_time": "2022-12-20T20:05:36.369Z"
   },
   {
    "duration": 24,
    "start_time": "2022-12-20T20:05:36.387Z"
   },
   {
    "duration": 19,
    "start_time": "2022-12-20T20:05:36.413Z"
   },
   {
    "duration": 21,
    "start_time": "2022-12-20T20:05:36.434Z"
   },
   {
    "duration": 29,
    "start_time": "2022-12-20T20:05:36.456Z"
   },
   {
    "duration": 31,
    "start_time": "2022-12-20T20:05:36.486Z"
   },
   {
    "duration": 19,
    "start_time": "2022-12-20T20:05:36.519Z"
   },
   {
    "duration": 35,
    "start_time": "2022-12-20T20:05:36.539Z"
   },
   {
    "duration": 7,
    "start_time": "2022-12-20T20:07:14.575Z"
   },
   {
    "duration": 400,
    "start_time": "2022-12-20T20:10:56.705Z"
   },
   {
    "duration": 472,
    "start_time": "2022-12-20T20:11:10.079Z"
   },
   {
    "duration": 9,
    "start_time": "2022-12-20T20:15:33.798Z"
   },
   {
    "duration": 5,
    "start_time": "2022-12-20T20:15:37.552Z"
   },
   {
    "duration": 14,
    "start_time": "2022-12-20T20:15:56.232Z"
   },
   {
    "duration": 10,
    "start_time": "2022-12-20T20:18:03.383Z"
   },
   {
    "duration": 5,
    "start_time": "2022-12-20T20:18:04.464Z"
   },
   {
    "duration": 16,
    "start_time": "2022-12-20T20:18:46.834Z"
   },
   {
    "duration": 1175,
    "start_time": "2022-12-20T20:29:07.720Z"
   },
   {
    "duration": 54,
    "start_time": "2022-12-20T20:29:08.897Z"
   },
   {
    "duration": 16,
    "start_time": "2022-12-20T20:29:08.953Z"
   },
   {
    "duration": 18,
    "start_time": "2022-12-20T20:29:08.973Z"
   },
   {
    "duration": 18,
    "start_time": "2022-12-20T20:29:08.993Z"
   },
   {
    "duration": 15,
    "start_time": "2022-12-20T20:29:09.013Z"
   },
   {
    "duration": 5,
    "start_time": "2022-12-20T20:29:09.030Z"
   },
   {
    "duration": 9,
    "start_time": "2022-12-20T20:29:09.037Z"
   },
   {
    "duration": 12,
    "start_time": "2022-12-20T20:29:09.079Z"
   },
   {
    "duration": 13,
    "start_time": "2022-12-20T20:29:09.093Z"
   },
   {
    "duration": 11,
    "start_time": "2022-12-20T20:29:09.108Z"
   },
   {
    "duration": 15,
    "start_time": "2022-12-20T20:29:09.120Z"
   },
   {
    "duration": 49,
    "start_time": "2022-12-20T20:29:09.137Z"
   },
   {
    "duration": 6,
    "start_time": "2022-12-20T20:29:09.188Z"
   },
   {
    "duration": 17,
    "start_time": "2022-12-20T20:29:09.196Z"
   },
   {
    "duration": 22,
    "start_time": "2022-12-20T20:29:09.215Z"
   },
   {
    "duration": 101,
    "start_time": "2022-12-20T20:29:09.239Z"
   },
   {
    "duration": 7,
    "start_time": "2022-12-20T20:29:09.342Z"
   },
   {
    "duration": 29,
    "start_time": "2022-12-20T20:29:09.350Z"
   },
   {
    "duration": 10,
    "start_time": "2022-12-20T20:29:09.381Z"
   },
   {
    "duration": 13,
    "start_time": "2022-12-20T20:29:09.392Z"
   },
   {
    "duration": 252,
    "start_time": "2022-12-20T20:29:09.407Z"
   },
   {
    "duration": 23,
    "start_time": "2022-12-20T20:29:09.660Z"
   },
   {
    "duration": 367,
    "start_time": "2022-12-20T20:29:09.685Z"
   },
   {
    "duration": 16,
    "start_time": "2022-12-20T20:29:10.054Z"
   },
   {
    "duration": 297,
    "start_time": "2022-12-20T20:29:10.071Z"
   },
   {
    "duration": 19,
    "start_time": "2022-12-20T20:29:10.370Z"
   },
   {
    "duration": 10,
    "start_time": "2022-12-20T20:29:10.393Z"
   },
   {
    "duration": 290,
    "start_time": "2022-12-20T20:29:10.404Z"
   },
   {
    "duration": 15,
    "start_time": "2022-12-20T20:29:10.696Z"
   },
   {
    "duration": 15,
    "start_time": "2022-12-20T20:29:10.713Z"
   },
   {
    "duration": 11,
    "start_time": "2022-12-20T20:29:10.730Z"
   },
   {
    "duration": 748,
    "start_time": "2022-12-20T20:29:10.742Z"
   },
   {
    "duration": 10,
    "start_time": "2022-12-20T20:29:11.492Z"
   },
   {
    "duration": 15,
    "start_time": "2022-12-20T20:29:11.504Z"
   },
   {
    "duration": 80,
    "start_time": "2022-12-20T20:29:11.520Z"
   },
   {
    "duration": 3713,
    "start_time": "2022-12-20T20:29:11.602Z"
   },
   {
    "duration": 9,
    "start_time": "2022-12-20T20:29:15.316Z"
   },
   {
    "duration": 20,
    "start_time": "2022-12-20T20:29:15.327Z"
   },
   {
    "duration": 29,
    "start_time": "2022-12-20T20:29:15.349Z"
   },
   {
    "duration": 315,
    "start_time": "2022-12-20T20:29:15.380Z"
   },
   {
    "duration": 54,
    "start_time": "2022-12-20T20:29:15.697Z"
   },
   {
    "duration": 35,
    "start_time": "2022-12-20T20:29:15.753Z"
   },
   {
    "duration": 474,
    "start_time": "2022-12-20T20:29:15.790Z"
   },
   {
    "duration": 589,
    "start_time": "2022-12-20T20:29:16.266Z"
   },
   {
    "duration": 27,
    "start_time": "2022-12-20T20:29:16.857Z"
   },
   {
    "duration": 31,
    "start_time": "2022-12-20T20:29:16.885Z"
   },
   {
    "duration": 29,
    "start_time": "2022-12-20T20:29:16.918Z"
   },
   {
    "duration": 12,
    "start_time": "2022-12-20T20:29:16.948Z"
   },
   {
    "duration": 39,
    "start_time": "2022-12-20T20:29:16.962Z"
   },
   {
    "duration": 26,
    "start_time": "2022-12-20T20:29:17.003Z"
   },
   {
    "duration": 30,
    "start_time": "2022-12-20T20:29:17.031Z"
   },
   {
    "duration": 33,
    "start_time": "2022-12-20T20:29:17.063Z"
   },
   {
    "duration": 1256,
    "start_time": "2022-12-20T20:33:14.301Z"
   },
   {
    "duration": 56,
    "start_time": "2022-12-20T20:33:15.559Z"
   },
   {
    "duration": 16,
    "start_time": "2022-12-20T20:33:15.617Z"
   },
   {
    "duration": 37,
    "start_time": "2022-12-20T20:33:15.635Z"
   },
   {
    "duration": 19,
    "start_time": "2022-12-20T20:33:15.674Z"
   },
   {
    "duration": 18,
    "start_time": "2022-12-20T20:33:15.695Z"
   },
   {
    "duration": 22,
    "start_time": "2022-12-20T20:33:15.715Z"
   },
   {
    "duration": 26,
    "start_time": "2022-12-20T20:33:15.739Z"
   },
   {
    "duration": 42,
    "start_time": "2022-12-20T20:33:15.767Z"
   },
   {
    "duration": 22,
    "start_time": "2022-12-20T20:33:15.812Z"
   },
   {
    "duration": 28,
    "start_time": "2022-12-20T20:33:15.836Z"
   },
   {
    "duration": 31,
    "start_time": "2022-12-20T20:33:15.866Z"
   },
   {
    "duration": 34,
    "start_time": "2022-12-20T20:33:15.899Z"
   },
   {
    "duration": 15,
    "start_time": "2022-12-20T20:33:15.935Z"
   },
   {
    "duration": 24,
    "start_time": "2022-12-20T20:33:15.952Z"
   },
   {
    "duration": 32,
    "start_time": "2022-12-20T20:33:15.978Z"
   },
   {
    "duration": 84,
    "start_time": "2022-12-20T20:33:16.013Z"
   },
   {
    "duration": 8,
    "start_time": "2022-12-20T20:33:16.100Z"
   },
   {
    "duration": 21,
    "start_time": "2022-12-20T20:33:16.109Z"
   },
   {
    "duration": 19,
    "start_time": "2022-12-20T20:33:16.132Z"
   },
   {
    "duration": 16,
    "start_time": "2022-12-20T20:33:16.152Z"
   },
   {
    "duration": 229,
    "start_time": "2022-12-20T20:33:16.170Z"
   },
   {
    "duration": 17,
    "start_time": "2022-12-20T20:33:16.401Z"
   },
   {
    "duration": 354,
    "start_time": "2022-12-20T20:33:16.421Z"
   },
   {
    "duration": 17,
    "start_time": "2022-12-20T20:33:16.778Z"
   },
   {
    "duration": 307,
    "start_time": "2022-12-20T20:33:16.797Z"
   },
   {
    "duration": 19,
    "start_time": "2022-12-20T20:33:17.107Z"
   },
   {
    "duration": 22,
    "start_time": "2022-12-20T20:33:17.131Z"
   },
   {
    "duration": 283,
    "start_time": "2022-12-20T20:33:17.155Z"
   },
   {
    "duration": 14,
    "start_time": "2022-12-20T20:33:17.440Z"
   },
   {
    "duration": 27,
    "start_time": "2022-12-20T20:33:17.456Z"
   },
   {
    "duration": 32,
    "start_time": "2022-12-20T20:33:17.484Z"
   },
   {
    "duration": 674,
    "start_time": "2022-12-20T20:33:17.518Z"
   },
   {
    "duration": 11,
    "start_time": "2022-12-20T20:33:18.194Z"
   },
   {
    "duration": 11,
    "start_time": "2022-12-20T20:33:18.207Z"
   },
   {
    "duration": 99,
    "start_time": "2022-12-20T20:33:18.220Z"
   },
   {
    "duration": 3972,
    "start_time": "2022-12-20T20:33:18.321Z"
   },
   {
    "duration": 9,
    "start_time": "2022-12-20T20:33:22.295Z"
   },
   {
    "duration": 16,
    "start_time": "2022-12-20T20:33:22.306Z"
   },
   {
    "duration": 18,
    "start_time": "2022-12-20T20:33:22.324Z"
   },
   {
    "duration": 325,
    "start_time": "2022-12-20T20:33:22.344Z"
   },
   {
    "duration": 57,
    "start_time": "2022-12-20T20:33:22.670Z"
   },
   {
    "duration": 16,
    "start_time": "2022-12-20T20:33:22.729Z"
   },
   {
    "duration": 441,
    "start_time": "2022-12-20T20:33:22.747Z"
   },
   {
    "duration": 593,
    "start_time": "2022-12-20T20:33:23.189Z"
   },
   {
    "duration": 15,
    "start_time": "2022-12-20T20:33:23.784Z"
   },
   {
    "duration": 24,
    "start_time": "2022-12-20T20:33:23.800Z"
   },
   {
    "duration": 9,
    "start_time": "2022-12-20T20:33:23.825Z"
   },
   {
    "duration": 9,
    "start_time": "2022-12-20T20:33:23.835Z"
   },
   {
    "duration": 39,
    "start_time": "2022-12-20T20:33:23.845Z"
   },
   {
    "duration": 10,
    "start_time": "2022-12-20T20:33:23.886Z"
   },
   {
    "duration": 16,
    "start_time": "2022-12-20T20:33:23.898Z"
   },
   {
    "duration": 22,
    "start_time": "2022-12-20T20:33:23.916Z"
   },
   {
    "duration": 1275,
    "start_time": "2022-12-20T20:36:40.743Z"
   },
   {
    "duration": 54,
    "start_time": "2022-12-20T20:36:42.020Z"
   },
   {
    "duration": 21,
    "start_time": "2022-12-20T20:36:42.076Z"
   },
   {
    "duration": 20,
    "start_time": "2022-12-20T20:36:42.099Z"
   },
   {
    "duration": 37,
    "start_time": "2022-12-20T20:36:42.121Z"
   },
   {
    "duration": 24,
    "start_time": "2022-12-20T20:36:42.160Z"
   },
   {
    "duration": 14,
    "start_time": "2022-12-20T20:36:42.186Z"
   },
   {
    "duration": 9,
    "start_time": "2022-12-20T20:36:42.202Z"
   },
   {
    "duration": 16,
    "start_time": "2022-12-20T20:36:42.212Z"
   },
   {
    "duration": 17,
    "start_time": "2022-12-20T20:36:42.232Z"
   },
   {
    "duration": 30,
    "start_time": "2022-12-20T20:36:42.251Z"
   },
   {
    "duration": 17,
    "start_time": "2022-12-20T20:36:42.284Z"
   },
   {
    "duration": 15,
    "start_time": "2022-12-20T20:36:42.303Z"
   },
   {
    "duration": 7,
    "start_time": "2022-12-20T20:36:42.320Z"
   },
   {
    "duration": 17,
    "start_time": "2022-12-20T20:36:42.329Z"
   },
   {
    "duration": 48,
    "start_time": "2022-12-20T20:36:42.348Z"
   },
   {
    "duration": 99,
    "start_time": "2022-12-20T20:36:42.398Z"
   },
   {
    "duration": 7,
    "start_time": "2022-12-20T20:36:42.499Z"
   },
   {
    "duration": 6,
    "start_time": "2022-12-20T20:36:42.508Z"
   },
   {
    "duration": 8,
    "start_time": "2022-12-20T20:36:42.516Z"
   },
   {
    "duration": 9,
    "start_time": "2022-12-20T20:36:42.526Z"
   },
   {
    "duration": 281,
    "start_time": "2022-12-20T20:36:42.537Z"
   },
   {
    "duration": 17,
    "start_time": "2022-12-20T20:36:42.820Z"
   },
   {
    "duration": 381,
    "start_time": "2022-12-20T20:36:42.839Z"
   },
   {
    "duration": 17,
    "start_time": "2022-12-20T20:36:43.222Z"
   },
   {
    "duration": 327,
    "start_time": "2022-12-20T20:36:43.241Z"
   },
   {
    "duration": 25,
    "start_time": "2022-12-20T20:36:43.570Z"
   },
   {
    "duration": 18,
    "start_time": "2022-12-20T20:36:43.601Z"
   },
   {
    "duration": 336,
    "start_time": "2022-12-20T20:36:43.621Z"
   },
   {
    "duration": 21,
    "start_time": "2022-12-20T20:36:43.958Z"
   },
   {
    "duration": 15,
    "start_time": "2022-12-20T20:36:43.981Z"
   },
   {
    "duration": 15,
    "start_time": "2022-12-20T20:36:43.998Z"
   },
   {
    "duration": 730,
    "start_time": "2022-12-20T20:36:44.014Z"
   },
   {
    "duration": 11,
    "start_time": "2022-12-20T20:36:44.746Z"
   },
   {
    "duration": 22,
    "start_time": "2022-12-20T20:36:44.758Z"
   },
   {
    "duration": 71,
    "start_time": "2022-12-20T20:36:44.783Z"
   },
   {
    "duration": 3993,
    "start_time": "2022-12-20T20:36:44.855Z"
   },
   {
    "duration": 10,
    "start_time": "2022-12-20T20:36:48.851Z"
   },
   {
    "duration": 31,
    "start_time": "2022-12-20T20:36:48.863Z"
   },
   {
    "duration": 23,
    "start_time": "2022-12-20T20:36:48.896Z"
   },
   {
    "duration": 366,
    "start_time": "2022-12-20T20:36:48.922Z"
   },
   {
    "duration": 57,
    "start_time": "2022-12-20T20:36:49.290Z"
   },
   {
    "duration": 37,
    "start_time": "2022-12-20T20:36:49.349Z"
   },
   {
    "duration": 460,
    "start_time": "2022-12-20T20:36:49.388Z"
   },
   {
    "duration": 621,
    "start_time": "2022-12-20T20:36:49.850Z"
   },
   {
    "duration": 27,
    "start_time": "2022-12-20T20:36:50.473Z"
   },
   {
    "duration": 13,
    "start_time": "2022-12-20T20:36:50.502Z"
   },
   {
    "duration": 17,
    "start_time": "2022-12-20T20:36:50.517Z"
   },
   {
    "duration": 7,
    "start_time": "2022-12-20T20:36:50.536Z"
   },
   {
    "duration": 46,
    "start_time": "2022-12-20T20:36:50.545Z"
   },
   {
    "duration": 17,
    "start_time": "2022-12-20T20:36:50.594Z"
   },
   {
    "duration": 5,
    "start_time": "2022-12-20T20:36:50.613Z"
   },
   {
    "duration": 28,
    "start_time": "2022-12-20T20:36:50.620Z"
   },
   {
    "duration": 1166,
    "start_time": "2022-12-21T19:11:21.948Z"
   },
   {
    "duration": 66,
    "start_time": "2022-12-21T19:11:23.116Z"
   },
   {
    "duration": 13,
    "start_time": "2022-12-21T19:11:23.184Z"
   },
   {
    "duration": 16,
    "start_time": "2022-12-21T19:11:23.199Z"
   },
   {
    "duration": 30,
    "start_time": "2022-12-21T19:11:23.217Z"
   },
   {
    "duration": 15,
    "start_time": "2022-12-21T19:11:23.252Z"
   },
   {
    "duration": 6,
    "start_time": "2022-12-21T19:11:23.269Z"
   },
   {
    "duration": 44,
    "start_time": "2022-12-21T19:11:23.276Z"
   },
   {
    "duration": 33,
    "start_time": "2022-12-21T19:11:23.322Z"
   },
   {
    "duration": 21,
    "start_time": "2022-12-21T19:11:23.356Z"
   },
   {
    "duration": 9,
    "start_time": "2022-12-21T19:11:23.378Z"
   },
   {
    "duration": 17,
    "start_time": "2022-12-21T19:11:23.389Z"
   },
   {
    "duration": 12,
    "start_time": "2022-12-21T19:11:23.408Z"
   },
   {
    "duration": 26,
    "start_time": "2022-12-21T19:11:23.433Z"
   },
   {
    "duration": 19,
    "start_time": "2022-12-21T19:11:23.461Z"
   },
   {
    "duration": 20,
    "start_time": "2022-12-21T19:11:23.481Z"
   },
   {
    "duration": 84,
    "start_time": "2022-12-21T19:11:23.503Z"
   },
   {
    "duration": 6,
    "start_time": "2022-12-21T19:11:23.589Z"
   },
   {
    "duration": 5,
    "start_time": "2022-12-21T19:11:23.597Z"
   },
   {
    "duration": 10,
    "start_time": "2022-12-21T19:11:23.603Z"
   },
   {
    "duration": 10,
    "start_time": "2022-12-21T19:11:23.614Z"
   },
   {
    "duration": 253,
    "start_time": "2022-12-21T19:11:23.625Z"
   },
   {
    "duration": 13,
    "start_time": "2022-12-21T19:11:23.880Z"
   },
   {
    "duration": 340,
    "start_time": "2022-12-21T19:11:23.895Z"
   },
   {
    "duration": 18,
    "start_time": "2022-12-21T19:11:24.238Z"
   },
   {
    "duration": 289,
    "start_time": "2022-12-21T19:11:24.258Z"
   },
   {
    "duration": 17,
    "start_time": "2022-12-21T19:11:24.549Z"
   },
   {
    "duration": 11,
    "start_time": "2022-12-21T19:11:24.568Z"
   },
   {
    "duration": 276,
    "start_time": "2022-12-21T19:11:24.580Z"
   },
   {
    "duration": 12,
    "start_time": "2022-12-21T19:11:24.857Z"
   },
   {
    "duration": 11,
    "start_time": "2022-12-21T19:11:24.870Z"
   },
   {
    "duration": 8,
    "start_time": "2022-12-21T19:11:24.882Z"
   },
   {
    "duration": 685,
    "start_time": "2022-12-21T19:11:24.891Z"
   },
   {
    "duration": 11,
    "start_time": "2022-12-21T19:11:25.578Z"
   },
   {
    "duration": 16,
    "start_time": "2022-12-21T19:11:25.591Z"
   },
   {
    "duration": 88,
    "start_time": "2022-12-21T19:11:25.609Z"
   },
   {
    "duration": 3758,
    "start_time": "2022-12-21T19:11:25.700Z"
   },
   {
    "duration": 9,
    "start_time": "2022-12-21T19:11:29.460Z"
   },
   {
    "duration": 13,
    "start_time": "2022-12-21T19:11:29.471Z"
   },
   {
    "duration": 13,
    "start_time": "2022-12-21T19:11:29.486Z"
   },
   {
    "duration": 309,
    "start_time": "2022-12-21T19:11:29.521Z"
   },
   {
    "duration": 53,
    "start_time": "2022-12-21T19:11:29.832Z"
   },
   {
    "duration": 14,
    "start_time": "2022-12-21T19:11:29.886Z"
   },
   {
    "duration": 456,
    "start_time": "2022-12-21T19:11:29.902Z"
   },
   {
    "duration": 588,
    "start_time": "2022-12-21T19:11:30.360Z"
   },
   {
    "duration": 15,
    "start_time": "2022-12-21T19:11:30.951Z"
   },
   {
    "duration": 148,
    "start_time": "2022-12-21T19:11:30.967Z"
   },
   {
    "duration": 50,
    "start_time": "2022-12-21T19:11:31.117Z"
   },
   {
    "duration": 38,
    "start_time": "2022-12-21T19:11:31.169Z"
   },
   {
    "duration": 61,
    "start_time": "2022-12-21T19:11:31.209Z"
   },
   {
    "duration": 26,
    "start_time": "2022-12-21T19:11:31.272Z"
   },
   {
    "duration": 16,
    "start_time": "2022-12-21T19:11:31.300Z"
   },
   {
    "duration": 49,
    "start_time": "2022-12-21T19:11:31.317Z"
   },
   {
    "duration": 1200,
    "start_time": "2022-12-21T19:15:32.771Z"
   },
   {
    "duration": 70,
    "start_time": "2022-12-21T19:15:33.973Z"
   },
   {
    "duration": 18,
    "start_time": "2022-12-21T19:15:34.045Z"
   },
   {
    "duration": 48,
    "start_time": "2022-12-21T19:15:34.065Z"
   },
   {
    "duration": 45,
    "start_time": "2022-12-21T19:15:34.115Z"
   },
   {
    "duration": 20,
    "start_time": "2022-12-21T19:15:34.162Z"
   },
   {
    "duration": 9,
    "start_time": "2022-12-21T19:15:34.184Z"
   },
   {
    "duration": 43,
    "start_time": "2022-12-21T19:15:34.194Z"
   },
   {
    "duration": 37,
    "start_time": "2022-12-21T19:15:34.239Z"
   },
   {
    "duration": 22,
    "start_time": "2022-12-21T19:15:34.277Z"
   },
   {
    "duration": 16,
    "start_time": "2022-12-21T19:15:34.301Z"
   },
   {
    "duration": 57,
    "start_time": "2022-12-21T19:15:34.318Z"
   },
   {
    "duration": 25,
    "start_time": "2022-12-21T19:15:34.376Z"
   },
   {
    "duration": 43,
    "start_time": "2022-12-21T19:15:34.404Z"
   },
   {
    "duration": 33,
    "start_time": "2022-12-21T19:15:34.449Z"
   },
   {
    "duration": 32,
    "start_time": "2022-12-21T19:15:34.484Z"
   },
   {
    "duration": 102,
    "start_time": "2022-12-21T19:15:34.517Z"
   },
   {
    "duration": 15,
    "start_time": "2022-12-21T19:15:34.640Z"
   },
   {
    "duration": 8,
    "start_time": "2022-12-21T19:15:34.657Z"
   },
   {
    "duration": 25,
    "start_time": "2022-12-21T19:15:34.667Z"
   },
   {
    "duration": 45,
    "start_time": "2022-12-21T19:15:34.693Z"
   },
   {
    "duration": 253,
    "start_time": "2022-12-21T19:15:34.743Z"
   },
   {
    "duration": 15,
    "start_time": "2022-12-21T19:15:34.998Z"
   },
   {
    "duration": 419,
    "start_time": "2022-12-21T19:15:35.015Z"
   },
   {
    "duration": 22,
    "start_time": "2022-12-21T19:15:35.437Z"
   },
   {
    "duration": 406,
    "start_time": "2022-12-21T19:15:35.461Z"
   },
   {
    "duration": 24,
    "start_time": "2022-12-21T19:15:35.870Z"
   },
   {
    "duration": 13,
    "start_time": "2022-12-21T19:15:35.896Z"
   },
   {
    "duration": 308,
    "start_time": "2022-12-21T19:15:35.911Z"
   },
   {
    "duration": 33,
    "start_time": "2022-12-21T19:15:36.220Z"
   },
   {
    "duration": 26,
    "start_time": "2022-12-21T19:15:36.255Z"
   },
   {
    "duration": 29,
    "start_time": "2022-12-21T19:15:36.283Z"
   },
   {
    "duration": 663,
    "start_time": "2022-12-21T19:15:36.314Z"
   },
   {
    "duration": 10,
    "start_time": "2022-12-21T19:15:36.978Z"
   },
   {
    "duration": 10,
    "start_time": "2022-12-21T19:15:36.989Z"
   },
   {
    "duration": 78,
    "start_time": "2022-12-21T19:15:37.001Z"
   },
   {
    "duration": 3895,
    "start_time": "2022-12-21T19:15:37.081Z"
   },
   {
    "duration": 8,
    "start_time": "2022-12-21T19:15:40.978Z"
   },
   {
    "duration": 24,
    "start_time": "2022-12-21T19:15:40.987Z"
   },
   {
    "duration": 33,
    "start_time": "2022-12-21T19:15:41.013Z"
   },
   {
    "duration": 337,
    "start_time": "2022-12-21T19:15:41.049Z"
   },
   {
    "duration": 65,
    "start_time": "2022-12-21T19:15:41.388Z"
   },
   {
    "duration": 16,
    "start_time": "2022-12-21T19:15:41.455Z"
   },
   {
    "duration": 473,
    "start_time": "2022-12-21T19:15:41.473Z"
   },
   {
    "duration": 611,
    "start_time": "2022-12-21T19:15:41.948Z"
   },
   {
    "duration": 16,
    "start_time": "2022-12-21T19:15:42.561Z"
   },
   {
    "duration": 24,
    "start_time": "2022-12-21T19:15:42.579Z"
   },
   {
    "duration": 14,
    "start_time": "2022-12-21T19:15:42.605Z"
   },
   {
    "duration": 34,
    "start_time": "2022-12-21T19:15:42.626Z"
   },
   {
    "duration": 27,
    "start_time": "2022-12-21T19:15:42.662Z"
   },
   {
    "duration": 20,
    "start_time": "2022-12-21T19:15:42.691Z"
   },
   {
    "duration": 44,
    "start_time": "2022-12-21T19:15:42.713Z"
   },
   {
    "duration": 15,
    "start_time": "2022-12-21T19:15:42.759Z"
   },
   {
    "duration": 350,
    "start_time": "2022-12-21T19:18:51.501Z"
   }
  ],
  "kernelspec": {
   "display_name": "Python 3 (ipykernel)",
   "language": "python",
   "name": "python3"
  },
  "language_info": {
   "codemirror_mode": {
    "name": "ipython",
    "version": 3
   },
   "file_extension": ".py",
   "mimetype": "text/x-python",
   "name": "python",
   "nbconvert_exporter": "python",
   "pygments_lexer": "ipython3",
   "version": "3.9.13"
  },
  "toc": {
   "base_numbering": 1,
   "nav_menu": {},
   "number_sections": true,
   "sideBar": true,
   "skip_h1_title": true,
   "title_cell": "Table of Contents",
   "title_sidebar": "Contents",
   "toc_cell": false,
   "toc_position": {},
   "toc_section_display": true,
   "toc_window_display": true
  }
 },
 "nbformat": 4,
 "nbformat_minor": 2
}

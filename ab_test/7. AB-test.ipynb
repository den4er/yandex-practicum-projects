{
 "cells": [
  {
   "cell_type": "markdown",
   "metadata": {},
   "source": [
    "# Принятие решений в бизнесе"
   ]
  },
  {
   "cell_type": "markdown",
   "metadata": {},
   "source": [
    "**Заказчик**\n",
    "Крупный интернет-магазин\n",
    "\n",
    "**Цель исследования**\n",
    "1. Приоритизировать гипотезы из списка, предоставленных отделом маркетинга;\n",
    "2. Проанализировать результаты проведенного А/В-тестирования и аргументировать решение по результатам теста.\n",
    "\n",
    "**Задачи 1 части исследования:**\n",
    "1. Применить фреймворк ICE для приоритизации гипотез. Отсортировать их по убыванию приоритета.\n",
    "2. Применить фреймворк RICE для приоритизации гипотез. Отсортировать их по убыванию приоритета.\n",
    "3. Указать, как изменилась приоритизация гипотез при применении RICE вместо ICE. Объяснить, почему так произошло.\n",
    "\n",
    "**Задачи 2 части исследования:**\n",
    "1. Построить график кумулятивной выручки по группам. Сделать выводы и предположения.\n",
    "2. Построить график кумулятивного среднего чека по группам. Сделать выводы и предположения.\n",
    "3. Построить график относительного изменения кумулятивного среднего чека группы B к группе A. Сделать выводы и предположения.\n",
    "4. Построить график кумулятивного среднего количества заказов на посетителя по группам. Сделать выводы и предположения.\n",
    "5. Построить график относительного изменения кумулятивного среднего количества заказов на посетителя группы B к группе A. Сделать выводы и предположения.\n",
    "6. Построить точечный график количества заказов по пользователям. Сделать выводы и предположения.\n",
    "7. Посчитать 95-й и 99-й перцентили количества заказов на пользователя. Выбрать границу для определения аномальных пользователей.\n",
    "8. Построить точечный график стоимостей заказов. Сделать выводы и предположения.\n",
    "9. Посчитать 95-й и 99-й перцентили стоимости заказов. Выбрать границу для определения аномальных заказов.\n",
    "10. Посчитать статистическую значимость различий в среднем количестве заказов на посетителя между группами по «сырым» данным. Сделать выводы и предположения.\n",
    "11. Посчитать статистическую значимость различий в среднем чеке заказа между группами по «сырым» данным. Сделать выводы и предположения.\n",
    "12. Посчитать статистическую значимость различий в среднем количестве заказов на посетителя между группами по «очищенным» данным. Сделать выводы и предположения.\n",
    "13. Посчитать статистическую значимость различий в среднем чеке заказа между группами по «очищенным» данным. Сделать выводы и предположения.\n",
    "14. Принять решение по результатам теста и объясните его. \n",
    "\n",
    "Варианты решений:\n",
    "\n",
    "1. Остановить тест, зафиксировать победу одной из групп.\n",
    "2. Остановить тест, зафиксировать отсутствие различий между группами.\n",
    "3. Продолжить тест.\n",
    "\n",
    "**Описание данных**\n",
    "\n",
    "Список гипотез (файл hypothesis.csv)\n",
    "Hypothesis — краткое описание гипотезы;\n",
    "Reach — охват пользователей по 10-балльной шкале;\n",
    "Impact — влияние на пользователей по 10-балльной шкале;\n",
    "Confidence — уверенность в гипотезе по 10-балльной шкале;\n",
    "Efforts — затраты ресурсов на проверку гипотезы по 10-балльной шкале. \n",
    "\n",
    "Информация о заказах пользователей в интернет-магазине (файл orders.csv):\n",
    "transactionId — идентификатор заказа;\n",
    "visitorId — идентификатор пользователя, совершившего заказ;\n",
    "date — дата, когда был совершён заказ;\n",
    "revenue — выручка заказа;\n",
    "group — группа A/B-теста, в которую попал заказ.\n",
    "\n",
    "Информация о посещениях пользователями интернет-магазина (файл visitors.csv):\n",
    "date — дата;\n",
    "group — группа A/B-теста;\n",
    "visitors — количество пользователей в указанную дату в указанной группе A/B-теста."
   ]
  },
  {
   "cell_type": "code",
   "execution_count": 1,
   "metadata": {},
   "outputs": [],
   "source": [
    "#импорт библиотек\n",
    "\n",
    "import pandas as pd\n",
    "import datetime as dt\n",
    "import numpy as np\n",
    "import matplotlib.pyplot as plt\n",
    "from datetime import datetime, timedelta\n",
    "import scipy.stats as stats\n",
    "pd.options.display.max_colwidth = 130"
   ]
  },
  {
   "cell_type": "markdown",
   "metadata": {},
   "source": [
    "# Часть 1: Приоритезация гипотез"
   ]
  },
  {
   "cell_type": "code",
   "execution_count": 2,
   "metadata": {},
   "outputs": [],
   "source": [
    "data = pd.read_csv('/datasets/hypothesis.csv')"
   ]
  },
  {
   "cell_type": "code",
   "execution_count": 3,
   "metadata": {},
   "outputs": [
    {
     "data": {
      "text/html": [
       "<div>\n",
       "<style scoped>\n",
       "    .dataframe tbody tr th:only-of-type {\n",
       "        vertical-align: middle;\n",
       "    }\n",
       "\n",
       "    .dataframe tbody tr th {\n",
       "        vertical-align: top;\n",
       "    }\n",
       "\n",
       "    .dataframe thead th {\n",
       "        text-align: right;\n",
       "    }\n",
       "</style>\n",
       "<table border=\"1\" class=\"dataframe\">\n",
       "  <thead>\n",
       "    <tr style=\"text-align: right;\">\n",
       "      <th></th>\n",
       "      <th>Hypothesis</th>\n",
       "      <th>Reach</th>\n",
       "      <th>Impact</th>\n",
       "      <th>Confidence</th>\n",
       "      <th>Efforts</th>\n",
       "    </tr>\n",
       "  </thead>\n",
       "  <tbody>\n",
       "    <tr>\n",
       "      <th>0</th>\n",
       "      <td>Добавить два новых канала привлечения трафика, что позволит привлекать на 30% больше пользователей</td>\n",
       "      <td>3</td>\n",
       "      <td>10</td>\n",
       "      <td>8</td>\n",
       "      <td>6</td>\n",
       "    </tr>\n",
       "    <tr>\n",
       "      <th>1</th>\n",
       "      <td>Запустить собственную службу доставки, что сократит срок доставки заказов</td>\n",
       "      <td>2</td>\n",
       "      <td>5</td>\n",
       "      <td>4</td>\n",
       "      <td>10</td>\n",
       "    </tr>\n",
       "    <tr>\n",
       "      <th>2</th>\n",
       "      <td>Добавить блоки рекомендаций товаров на сайт интернет магазина, чтобы повысить конверсию и средний чек заказа</td>\n",
       "      <td>8</td>\n",
       "      <td>3</td>\n",
       "      <td>7</td>\n",
       "      <td>3</td>\n",
       "    </tr>\n",
       "    <tr>\n",
       "      <th>3</th>\n",
       "      <td>Изменить структура категорий, что увеличит конверсию, т.к. пользователи быстрее найдут нужный товар</td>\n",
       "      <td>8</td>\n",
       "      <td>3</td>\n",
       "      <td>3</td>\n",
       "      <td>8</td>\n",
       "    </tr>\n",
       "    <tr>\n",
       "      <th>4</th>\n",
       "      <td>Изменить цвет фона главной страницы, чтобы увеличить вовлеченность пользователей</td>\n",
       "      <td>3</td>\n",
       "      <td>1</td>\n",
       "      <td>1</td>\n",
       "      <td>1</td>\n",
       "    </tr>\n",
       "    <tr>\n",
       "      <th>5</th>\n",
       "      <td>Добавить страницу отзывов клиентов о магазине, что позволит увеличить количество заказов</td>\n",
       "      <td>3</td>\n",
       "      <td>2</td>\n",
       "      <td>2</td>\n",
       "      <td>3</td>\n",
       "    </tr>\n",
       "    <tr>\n",
       "      <th>6</th>\n",
       "      <td>Показать на главной странице баннеры с актуальными акциями и распродажами, чтобы увеличить конверсию</td>\n",
       "      <td>5</td>\n",
       "      <td>3</td>\n",
       "      <td>8</td>\n",
       "      <td>3</td>\n",
       "    </tr>\n",
       "    <tr>\n",
       "      <th>7</th>\n",
       "      <td>Добавить форму подписки на все основные страницы, чтобы собрать базу клиентов для email-рассылок</td>\n",
       "      <td>10</td>\n",
       "      <td>7</td>\n",
       "      <td>8</td>\n",
       "      <td>5</td>\n",
       "    </tr>\n",
       "    <tr>\n",
       "      <th>8</th>\n",
       "      <td>Запустить акцию, дающую скидку на товар в день рождения</td>\n",
       "      <td>1</td>\n",
       "      <td>9</td>\n",
       "      <td>9</td>\n",
       "      <td>5</td>\n",
       "    </tr>\n",
       "  </tbody>\n",
       "</table>\n",
       "</div>"
      ],
      "text/plain": [
       "                                                                                                     Hypothesis  \\\n",
       "0            Добавить два новых канала привлечения трафика, что позволит привлекать на 30% больше пользователей   \n",
       "1                                     Запустить собственную службу доставки, что сократит срок доставки заказов   \n",
       "2  Добавить блоки рекомендаций товаров на сайт интернет магазина, чтобы повысить конверсию и средний чек заказа   \n",
       "3           Изменить структура категорий, что увеличит конверсию, т.к. пользователи быстрее найдут нужный товар   \n",
       "4                              Изменить цвет фона главной страницы, чтобы увеличить вовлеченность пользователей   \n",
       "5                      Добавить страницу отзывов клиентов о магазине, что позволит увеличить количество заказов   \n",
       "6          Показать на главной странице баннеры с актуальными акциями и распродажами, чтобы увеличить конверсию   \n",
       "7              Добавить форму подписки на все основные страницы, чтобы собрать базу клиентов для email-рассылок   \n",
       "8                                                       Запустить акцию, дающую скидку на товар в день рождения   \n",
       "\n",
       "   Reach  Impact  Confidence  Efforts  \n",
       "0      3      10           8        6  \n",
       "1      2       5           4       10  \n",
       "2      8       3           7        3  \n",
       "3      8       3           3        8  \n",
       "4      3       1           1        1  \n",
       "5      3       2           2        3  \n",
       "6      5       3           8        3  \n",
       "7     10       7           8        5  \n",
       "8      1       9           9        5  "
      ]
     },
     "execution_count": 3,
     "metadata": {},
     "output_type": "execute_result"
    }
   ],
   "source": [
    "data.head(10)"
   ]
  },
  {
   "cell_type": "markdown",
   "metadata": {},
   "source": [
    "Применим фреймворк ICE для приоритизации гипотез. Отсортируем их по убыванию приоритета."
   ]
  },
  {
   "cell_type": "code",
   "execution_count": 4,
   "metadata": {},
   "outputs": [
    {
     "data": {
      "text/html": [
       "<div>\n",
       "<style scoped>\n",
       "    .dataframe tbody tr th:only-of-type {\n",
       "        vertical-align: middle;\n",
       "    }\n",
       "\n",
       "    .dataframe tbody tr th {\n",
       "        vertical-align: top;\n",
       "    }\n",
       "\n",
       "    .dataframe thead th {\n",
       "        text-align: right;\n",
       "    }\n",
       "</style>\n",
       "<table border=\"1\" class=\"dataframe\">\n",
       "  <thead>\n",
       "    <tr style=\"text-align: right;\">\n",
       "      <th></th>\n",
       "      <th>Hypothesis</th>\n",
       "      <th>ICE</th>\n",
       "    </tr>\n",
       "  </thead>\n",
       "  <tbody>\n",
       "    <tr>\n",
       "      <th>8</th>\n",
       "      <td>Запустить акцию, дающую скидку на товар в день рождения</td>\n",
       "      <td>16.20</td>\n",
       "    </tr>\n",
       "    <tr>\n",
       "      <th>0</th>\n",
       "      <td>Добавить два новых канала привлечения трафика, что позволит привлекать на 30% больше пользователей</td>\n",
       "      <td>13.33</td>\n",
       "    </tr>\n",
       "    <tr>\n",
       "      <th>7</th>\n",
       "      <td>Добавить форму подписки на все основные страницы, чтобы собрать базу клиентов для email-рассылок</td>\n",
       "      <td>11.20</td>\n",
       "    </tr>\n",
       "    <tr>\n",
       "      <th>6</th>\n",
       "      <td>Показать на главной странице баннеры с актуальными акциями и распродажами, чтобы увеличить конверсию</td>\n",
       "      <td>8.00</td>\n",
       "    </tr>\n",
       "    <tr>\n",
       "      <th>2</th>\n",
       "      <td>Добавить блоки рекомендаций товаров на сайт интернет магазина, чтобы повысить конверсию и средний чек заказа</td>\n",
       "      <td>7.00</td>\n",
       "    </tr>\n",
       "    <tr>\n",
       "      <th>1</th>\n",
       "      <td>Запустить собственную службу доставки, что сократит срок доставки заказов</td>\n",
       "      <td>2.00</td>\n",
       "    </tr>\n",
       "    <tr>\n",
       "      <th>5</th>\n",
       "      <td>Добавить страницу отзывов клиентов о магазине, что позволит увеличить количество заказов</td>\n",
       "      <td>1.33</td>\n",
       "    </tr>\n",
       "    <tr>\n",
       "      <th>3</th>\n",
       "      <td>Изменить структура категорий, что увеличит конверсию, т.к. пользователи быстрее найдут нужный товар</td>\n",
       "      <td>1.12</td>\n",
       "    </tr>\n",
       "    <tr>\n",
       "      <th>4</th>\n",
       "      <td>Изменить цвет фона главной страницы, чтобы увеличить вовлеченность пользователей</td>\n",
       "      <td>1.00</td>\n",
       "    </tr>\n",
       "  </tbody>\n",
       "</table>\n",
       "</div>"
      ],
      "text/plain": [
       "                                                                                                     Hypothesis  \\\n",
       "8                                                       Запустить акцию, дающую скидку на товар в день рождения   \n",
       "0            Добавить два новых канала привлечения трафика, что позволит привлекать на 30% больше пользователей   \n",
       "7              Добавить форму подписки на все основные страницы, чтобы собрать базу клиентов для email-рассылок   \n",
       "6          Показать на главной странице баннеры с актуальными акциями и распродажами, чтобы увеличить конверсию   \n",
       "2  Добавить блоки рекомендаций товаров на сайт интернет магазина, чтобы повысить конверсию и средний чек заказа   \n",
       "1                                     Запустить собственную службу доставки, что сократит срок доставки заказов   \n",
       "5                      Добавить страницу отзывов клиентов о магазине, что позволит увеличить количество заказов   \n",
       "3           Изменить структура категорий, что увеличит конверсию, т.к. пользователи быстрее найдут нужный товар   \n",
       "4                              Изменить цвет фона главной страницы, чтобы увеличить вовлеченность пользователей   \n",
       "\n",
       "     ICE  \n",
       "8  16.20  \n",
       "0  13.33  \n",
       "7  11.20  \n",
       "6   8.00  \n",
       "2   7.00  \n",
       "1   2.00  \n",
       "5   1.33  \n",
       "3   1.12  \n",
       "4   1.00  "
      ]
     },
     "execution_count": 4,
     "metadata": {},
     "output_type": "execute_result"
    }
   ],
   "source": [
    "data['ICE'] = (data['Impact'] * data['Confidence']) / data['Efforts']\n",
    "ICE = data[['Hypothesis', 'ICE']].sort_values(by='ICE', ascending=False)\n",
    "round(ICE, 2)"
   ]
  },
  {
   "cell_type": "markdown",
   "metadata": {},
   "source": [
    "**По ICE лидируют следующие гипотезы:** \n",
    "\n",
    "- \"Запустить акцию, дающую скидку на товар в день рождения\"\n",
    "- \"Добавить два новых канала привлечения трафика, что позволит привлекать на 30% больше пользователей\"\n",
    "- \"Добавить форму подписки на все основные страницы, чтобы собрать базу клиентов для email-рассылок\".\n",
    "\n",
    "Применим фреймворк RICE для приоритизации гипотез. Отсортируем их по убыванию приоритета:"
   ]
  },
  {
   "cell_type": "code",
   "execution_count": 5,
   "metadata": {
    "scrolled": true
   },
   "outputs": [
    {
     "data": {
      "text/html": [
       "<div>\n",
       "<style scoped>\n",
       "    .dataframe tbody tr th:only-of-type {\n",
       "        vertical-align: middle;\n",
       "    }\n",
       "\n",
       "    .dataframe tbody tr th {\n",
       "        vertical-align: top;\n",
       "    }\n",
       "\n",
       "    .dataframe thead th {\n",
       "        text-align: right;\n",
       "    }\n",
       "</style>\n",
       "<table border=\"1\" class=\"dataframe\">\n",
       "  <thead>\n",
       "    <tr style=\"text-align: right;\">\n",
       "      <th></th>\n",
       "      <th>Hypothesis</th>\n",
       "      <th>RICE</th>\n",
       "    </tr>\n",
       "  </thead>\n",
       "  <tbody>\n",
       "    <tr>\n",
       "      <th>7</th>\n",
       "      <td>Добавить форму подписки на все основные страницы, чтобы собрать базу клиентов для email-рассылок</td>\n",
       "      <td>112.0</td>\n",
       "    </tr>\n",
       "    <tr>\n",
       "      <th>2</th>\n",
       "      <td>Добавить блоки рекомендаций товаров на сайт интернет магазина, чтобы повысить конверсию и средний чек заказа</td>\n",
       "      <td>56.0</td>\n",
       "    </tr>\n",
       "    <tr>\n",
       "      <th>0</th>\n",
       "      <td>Добавить два новых канала привлечения трафика, что позволит привлекать на 30% больше пользователей</td>\n",
       "      <td>40.0</td>\n",
       "    </tr>\n",
       "    <tr>\n",
       "      <th>6</th>\n",
       "      <td>Показать на главной странице баннеры с актуальными акциями и распродажами, чтобы увеличить конверсию</td>\n",
       "      <td>40.0</td>\n",
       "    </tr>\n",
       "    <tr>\n",
       "      <th>8</th>\n",
       "      <td>Запустить акцию, дающую скидку на товар в день рождения</td>\n",
       "      <td>16.2</td>\n",
       "    </tr>\n",
       "    <tr>\n",
       "      <th>3</th>\n",
       "      <td>Изменить структура категорий, что увеличит конверсию, т.к. пользователи быстрее найдут нужный товар</td>\n",
       "      <td>9.0</td>\n",
       "    </tr>\n",
       "    <tr>\n",
       "      <th>1</th>\n",
       "      <td>Запустить собственную службу доставки, что сократит срок доставки заказов</td>\n",
       "      <td>4.0</td>\n",
       "    </tr>\n",
       "    <tr>\n",
       "      <th>5</th>\n",
       "      <td>Добавить страницу отзывов клиентов о магазине, что позволит увеличить количество заказов</td>\n",
       "      <td>4.0</td>\n",
       "    </tr>\n",
       "    <tr>\n",
       "      <th>4</th>\n",
       "      <td>Изменить цвет фона главной страницы, чтобы увеличить вовлеченность пользователей</td>\n",
       "      <td>3.0</td>\n",
       "    </tr>\n",
       "  </tbody>\n",
       "</table>\n",
       "</div>"
      ],
      "text/plain": [
       "                                                                                                     Hypothesis  \\\n",
       "7              Добавить форму подписки на все основные страницы, чтобы собрать базу клиентов для email-рассылок   \n",
       "2  Добавить блоки рекомендаций товаров на сайт интернет магазина, чтобы повысить конверсию и средний чек заказа   \n",
       "0            Добавить два новых канала привлечения трафика, что позволит привлекать на 30% больше пользователей   \n",
       "6          Показать на главной странице баннеры с актуальными акциями и распродажами, чтобы увеличить конверсию   \n",
       "8                                                       Запустить акцию, дающую скидку на товар в день рождения   \n",
       "3           Изменить структура категорий, что увеличит конверсию, т.к. пользователи быстрее найдут нужный товар   \n",
       "1                                     Запустить собственную службу доставки, что сократит срок доставки заказов   \n",
       "5                      Добавить страницу отзывов клиентов о магазине, что позволит увеличить количество заказов   \n",
       "4                              Изменить цвет фона главной страницы, чтобы увеличить вовлеченность пользователей   \n",
       "\n",
       "    RICE  \n",
       "7  112.0  \n",
       "2   56.0  \n",
       "0   40.0  \n",
       "6   40.0  \n",
       "8   16.2  \n",
       "3    9.0  \n",
       "1    4.0  \n",
       "5    4.0  \n",
       "4    3.0  "
      ]
     },
     "execution_count": 5,
     "metadata": {},
     "output_type": "execute_result"
    }
   ],
   "source": [
    "data['RICE'] = (data['Reach'] * data['Impact'] * data['Confidence']) / data['Efforts']\n",
    "data[['Hypothesis', 'RICE']].sort_values(by='RICE', ascending=False)"
   ]
  },
  {
   "cell_type": "markdown",
   "metadata": {},
   "source": [
    "По RICE лидируют следующие гипотезы:\n",
    "\n",
    "- \"Добавить форму подписки на все основные страницы, чтобы собрать базу клиентов для email-рассылок\"\n",
    "- \"Добавить блоки рекомендаций товаров на сайт интернет магазина, чтобы повысить конверсию и средний чек заказа\"\n",
    "- \"Добавить два новых канала привлечения трафика, что позволит привлекать на 30% больше пользователей\"\n",
    "\n",
    "У 7-ой гипотезы самое большое значение, которое равно 112, в то время как у остальных гипотез оно меньше, причем с большим отрывом от первой - например, у следующей гипотезы оно меньше ровно в 2 раза. Reach помогает нам понять, как много пользователей затронет гипотеза."
   ]
  },
  {
   "cell_type": "markdown",
   "metadata": {},
   "source": [
    "У ICE и RICE отличается формула одним параметром. И если этот параметр у гипотезы большой, то и RICE будет выше соответственно.\n",
    "\n",
    "Нумерация гипотез ICE:\n",
    "\n",
    "- 8\n",
    "- 0\n",
    "- 7\n",
    "- 6\n",
    "- 2\n",
    "\n",
    "Нумерация гипотез RICE:\n",
    "\n",
    "- 7\n",
    "- 2\n",
    "- 0\n",
    "- 6\n",
    "- 8\n",
    "\n",
    "Приоритизация разная, т.к. формулы разные, одна учитывает охват, а другая — нет."
   ]
  },
  {
   "cell_type": "markdown",
   "metadata": {},
   "source": [
    "**Выводы по приоритезации гипотез**\n",
    "\n",
    "Изучен файл с 9 гипотезами по увеличению выручки интернет-магазина с указанными параметрами Reach, Impact, Confidence, Effort.\n",
    "\n",
    "Применен фреймворк ICE для приоритизации гипотез. Самые топовые гипотезы по ICE - это гипотезы \"Запустить акцию, дающую скидку на товар в день рождения\", \"Добавить два новых канала привлечения трафика, что позволит привлекать на 30% больше пользователей\", \"Добавить форму подписки на все основные страницы, чтобы собрать базу клиентов для email-рассылок\".\n",
    "\n",
    "Применен фреймворк RICE для приоритизации гипотез. Самые топовые гипотезы по RICE - гипотезы \"Добавить форму подписки на все основные страницы, чтобы собрать базу клиентов для email-рассылок\", \"Добавить блоки рекомендаций товаров на сайт интернет магазина, чтобы повысить конверсию и средний чек заказа\", \"Добавить два новых канала увеличения трафика, что позволит привлекать на 30% больше пользователей\". На первом месте уже гипотеза \"Добавить форму подписки на все основные страницы, чтобы собрать базу клиентов для email-рассылок\". Это связано с тем, что ее параметр Reach равен 10, в то время как у остальных гипотез он меньше. Reach помогает нам понять, скольких пользователей затронет гипотеза."
   ]
  },
  {
   "cell_type": "markdown",
   "metadata": {},
   "source": [
    "# Часть 2: Анализ A/B-теста"
   ]
  },
  {
   "cell_type": "markdown",
   "metadata": {},
   "source": [
    "## Предобработка данных\n"
   ]
  },
  {
   "cell_type": "code",
   "execution_count": 6,
   "metadata": {},
   "outputs": [
    {
     "data": {
      "text/html": [
       "<div>\n",
       "<style scoped>\n",
       "    .dataframe tbody tr th:only-of-type {\n",
       "        vertical-align: middle;\n",
       "    }\n",
       "\n",
       "    .dataframe tbody tr th {\n",
       "        vertical-align: top;\n",
       "    }\n",
       "\n",
       "    .dataframe thead th {\n",
       "        text-align: right;\n",
       "    }\n",
       "</style>\n",
       "<table border=\"1\" class=\"dataframe\">\n",
       "  <thead>\n",
       "    <tr style=\"text-align: right;\">\n",
       "      <th></th>\n",
       "      <th>transactionId</th>\n",
       "      <th>visitorId</th>\n",
       "      <th>date</th>\n",
       "      <th>revenue</th>\n",
       "      <th>group</th>\n",
       "    </tr>\n",
       "  </thead>\n",
       "  <tbody>\n",
       "    <tr>\n",
       "      <th>0</th>\n",
       "      <td>3667963787</td>\n",
       "      <td>3312258926</td>\n",
       "      <td>2019-08-15</td>\n",
       "      <td>1650</td>\n",
       "      <td>B</td>\n",
       "    </tr>\n",
       "    <tr>\n",
       "      <th>1</th>\n",
       "      <td>2804400009</td>\n",
       "      <td>3642806036</td>\n",
       "      <td>2019-08-15</td>\n",
       "      <td>730</td>\n",
       "      <td>B</td>\n",
       "    </tr>\n",
       "    <tr>\n",
       "      <th>2</th>\n",
       "      <td>2961555356</td>\n",
       "      <td>4069496402</td>\n",
       "      <td>2019-08-15</td>\n",
       "      <td>400</td>\n",
       "      <td>A</td>\n",
       "    </tr>\n",
       "    <tr>\n",
       "      <th>3</th>\n",
       "      <td>3797467345</td>\n",
       "      <td>1196621759</td>\n",
       "      <td>2019-08-15</td>\n",
       "      <td>9759</td>\n",
       "      <td>B</td>\n",
       "    </tr>\n",
       "    <tr>\n",
       "      <th>4</th>\n",
       "      <td>2282983706</td>\n",
       "      <td>2322279887</td>\n",
       "      <td>2019-08-15</td>\n",
       "      <td>2308</td>\n",
       "      <td>B</td>\n",
       "    </tr>\n",
       "  </tbody>\n",
       "</table>\n",
       "</div>"
      ],
      "text/plain": [
       "   transactionId   visitorId        date  revenue group\n",
       "0     3667963787  3312258926  2019-08-15     1650     B\n",
       "1     2804400009  3642806036  2019-08-15      730     B\n",
       "2     2961555356  4069496402  2019-08-15      400     A\n",
       "3     3797467345  1196621759  2019-08-15     9759     B\n",
       "4     2282983706  2322279887  2019-08-15     2308     B"
      ]
     },
     "execution_count": 6,
     "metadata": {},
     "output_type": "execute_result"
    }
   ],
   "source": [
    "# загрузка данных\n",
    "orders = pd.read_csv('/datasets/orders.csv')\n",
    "orders.head()"
   ]
  },
  {
   "cell_type": "code",
   "execution_count": 7,
   "metadata": {},
   "outputs": [
    {
     "name": "stdout",
     "output_type": "stream",
     "text": [
      "<class 'pandas.core.frame.DataFrame'>\n",
      "RangeIndex: 1197 entries, 0 to 1196\n",
      "Data columns (total 5 columns):\n",
      " #   Column         Non-Null Count  Dtype \n",
      "---  ------         --------------  ----- \n",
      " 0   transactionId  1197 non-null   int64 \n",
      " 1   visitorId      1197 non-null   int64 \n",
      " 2   date           1197 non-null   object\n",
      " 3   revenue        1197 non-null   int64 \n",
      " 4   group          1197 non-null   object\n",
      "dtypes: int64(3), object(2)\n",
      "memory usage: 46.9+ KB\n"
     ]
    }
   ],
   "source": [
    "# смотрим инфо о данных\n",
    "orders.info()"
   ]
  },
  {
   "cell_type": "code",
   "execution_count": 8,
   "metadata": {},
   "outputs": [
    {
     "data": {
      "text/plain": [
       "0"
      ]
     },
     "execution_count": 8,
     "metadata": {},
     "output_type": "execute_result"
    }
   ],
   "source": [
    "#проверим наличие дубликатов\n",
    "\n",
    "orders.duplicated().sum()"
   ]
  },
  {
   "cell_type": "markdown",
   "metadata": {},
   "source": [
    "дубликатов нет"
   ]
  },
  {
   "cell_type": "code",
   "execution_count": 9,
   "metadata": {},
   "outputs": [
    {
     "data": {
      "text/plain": [
       "transactionId    0\n",
       "visitorId        0\n",
       "date             0\n",
       "revenue          0\n",
       "group            0\n",
       "dtype: int64"
      ]
     },
     "execution_count": 9,
     "metadata": {},
     "output_type": "execute_result"
    }
   ],
   "source": [
    " # проверим на нулевые значения\n",
    "    \n",
    "orders.isna().sum()"
   ]
  },
  {
   "cell_type": "markdown",
   "metadata": {},
   "source": [
    "нулевых значений нет"
   ]
  },
  {
   "cell_type": "code",
   "execution_count": 10,
   "metadata": {},
   "outputs": [],
   "source": [
    "# преобразуем столбец \"дата\" в формат datetime\n",
    "\n",
    "orders['date'] = pd.to_datetime(orders['date'], format='%Y.%m.%d')"
   ]
  },
  {
   "cell_type": "code",
   "execution_count": 11,
   "metadata": {},
   "outputs": [
    {
     "data": {
      "text/html": [
       "<div>\n",
       "<style scoped>\n",
       "    .dataframe tbody tr th:only-of-type {\n",
       "        vertical-align: middle;\n",
       "    }\n",
       "\n",
       "    .dataframe tbody tr th {\n",
       "        vertical-align: top;\n",
       "    }\n",
       "\n",
       "    .dataframe thead th {\n",
       "        text-align: right;\n",
       "    }\n",
       "</style>\n",
       "<table border=\"1\" class=\"dataframe\">\n",
       "  <thead>\n",
       "    <tr style=\"text-align: right;\">\n",
       "      <th></th>\n",
       "      <th>groups</th>\n",
       "      <th>group_names</th>\n",
       "    </tr>\n",
       "    <tr>\n",
       "      <th>visitorId</th>\n",
       "      <th></th>\n",
       "      <th></th>\n",
       "    </tr>\n",
       "  </thead>\n",
       "  <tbody>\n",
       "    <tr>\n",
       "      <th>8300375</th>\n",
       "      <td>2</td>\n",
       "      <td>[B, A]</td>\n",
       "    </tr>\n",
       "    <tr>\n",
       "      <th>199603092</th>\n",
       "      <td>2</td>\n",
       "      <td>[A, B]</td>\n",
       "    </tr>\n",
       "    <tr>\n",
       "      <th>232979603</th>\n",
       "      <td>2</td>\n",
       "      <td>[B, A]</td>\n",
       "    </tr>\n",
       "    <tr>\n",
       "      <th>237748145</th>\n",
       "      <td>2</td>\n",
       "      <td>[B, A]</td>\n",
       "    </tr>\n",
       "    <tr>\n",
       "      <th>276558944</th>\n",
       "      <td>2</td>\n",
       "      <td>[B, A]</td>\n",
       "    </tr>\n",
       "  </tbody>\n",
       "</table>\n",
       "</div>"
      ],
      "text/plain": [
       "           groups group_names\n",
       "visitorId                    \n",
       "8300375         2      [B, A]\n",
       "199603092       2      [A, B]\n",
       "232979603       2      [B, A]\n",
       "237748145       2      [B, A]\n",
       "276558944       2      [B, A]"
      ]
     },
     "metadata": {},
     "output_type": "display_data"
    }
   ],
   "source": [
    "# проверим на попадание в обе группы\n",
    "duplicated_users = orders.groupby('visitorId').agg({'group': ['nunique', 'unique']})\n",
    "duplicated_users.columns = ['groups', 'group_names']\n",
    "duplicated_users = duplicated_users.query('groups > 1')\n",
    "display(duplicated_users.head())"
   ]
  },
  {
   "cell_type": "markdown",
   "metadata": {},
   "source": [
    "Пересечения обнаружены, но делать с ними ничего не будем.\n",
    "\n"
   ]
  },
  {
   "cell_type": "code",
   "execution_count": 12,
   "metadata": {},
   "outputs": [
    {
     "data": {
      "text/html": [
       "<div>\n",
       "<style scoped>\n",
       "    .dataframe tbody tr th:only-of-type {\n",
       "        vertical-align: middle;\n",
       "    }\n",
       "\n",
       "    .dataframe tbody tr th {\n",
       "        vertical-align: top;\n",
       "    }\n",
       "\n",
       "    .dataframe thead th {\n",
       "        text-align: right;\n",
       "    }\n",
       "</style>\n",
       "<table border=\"1\" class=\"dataframe\">\n",
       "  <thead>\n",
       "    <tr style=\"text-align: right;\">\n",
       "      <th></th>\n",
       "      <th>date</th>\n",
       "      <th>group</th>\n",
       "      <th>visitors</th>\n",
       "    </tr>\n",
       "  </thead>\n",
       "  <tbody>\n",
       "    <tr>\n",
       "      <th>0</th>\n",
       "      <td>2019-08-01</td>\n",
       "      <td>A</td>\n",
       "      <td>719</td>\n",
       "    </tr>\n",
       "    <tr>\n",
       "      <th>1</th>\n",
       "      <td>2019-08-02</td>\n",
       "      <td>A</td>\n",
       "      <td>619</td>\n",
       "    </tr>\n",
       "    <tr>\n",
       "      <th>2</th>\n",
       "      <td>2019-08-03</td>\n",
       "      <td>A</td>\n",
       "      <td>507</td>\n",
       "    </tr>\n",
       "    <tr>\n",
       "      <th>3</th>\n",
       "      <td>2019-08-04</td>\n",
       "      <td>A</td>\n",
       "      <td>717</td>\n",
       "    </tr>\n",
       "    <tr>\n",
       "      <th>4</th>\n",
       "      <td>2019-08-05</td>\n",
       "      <td>A</td>\n",
       "      <td>756</td>\n",
       "    </tr>\n",
       "  </tbody>\n",
       "</table>\n",
       "</div>"
      ],
      "text/plain": [
       "         date group  visitors\n",
       "0  2019-08-01     A       719\n",
       "1  2019-08-02     A       619\n",
       "2  2019-08-03     A       507\n",
       "3  2019-08-04     A       717\n",
       "4  2019-08-05     A       756"
      ]
     },
     "execution_count": 12,
     "metadata": {},
     "output_type": "execute_result"
    }
   ],
   "source": [
    "visitors = pd.read_csv('/datasets/visitors.csv')\n",
    "visitors.head()"
   ]
  },
  {
   "cell_type": "code",
   "execution_count": 13,
   "metadata": {},
   "outputs": [
    {
     "data": {
      "text/plain": [
       "0"
      ]
     },
     "execution_count": 13,
     "metadata": {},
     "output_type": "execute_result"
    }
   ],
   "source": [
    "# проверим на дубликаты\n",
    "\n",
    "visitors.duplicated().sum()"
   ]
  },
  {
   "cell_type": "markdown",
   "metadata": {},
   "source": [
    "дубликатов нет\n"
   ]
  },
  {
   "cell_type": "code",
   "execution_count": 14,
   "metadata": {
    "scrolled": true
   },
   "outputs": [
    {
     "data": {
      "text/plain": [
       "date        0\n",
       "group       0\n",
       "visitors    0\n",
       "dtype: int64"
      ]
     },
     "execution_count": 14,
     "metadata": {},
     "output_type": "execute_result"
    }
   ],
   "source": [
    " # проверим на нулевые значения\n",
    "\n",
    "visitors.isna().sum()\n"
   ]
  },
  {
   "cell_type": "markdown",
   "metadata": {},
   "source": [
    "нулевых значений нет"
   ]
  },
  {
   "cell_type": "code",
   "execution_count": 15,
   "metadata": {},
   "outputs": [],
   "source": [
    "# преобразуем столбец \"дата\" в формат datetime\n",
    "\n",
    "visitors['date'] = pd.to_datetime(visitors['date'])"
   ]
  },
  {
   "cell_type": "code",
   "execution_count": 16,
   "metadata": {},
   "outputs": [
    {
     "data": {
      "text/html": [
       "<div>\n",
       "<style scoped>\n",
       "    .dataframe tbody tr th:only-of-type {\n",
       "        vertical-align: middle;\n",
       "    }\n",
       "\n",
       "    .dataframe tbody tr th {\n",
       "        vertical-align: top;\n",
       "    }\n",
       "\n",
       "    .dataframe thead th {\n",
       "        text-align: right;\n",
       "    }\n",
       "</style>\n",
       "<table border=\"1\" class=\"dataframe\">\n",
       "  <thead>\n",
       "    <tr style=\"text-align: right;\">\n",
       "      <th></th>\n",
       "      <th>date</th>\n",
       "      <th>group</th>\n",
       "      <th>orders</th>\n",
       "      <th>buyers</th>\n",
       "      <th>revenue</th>\n",
       "      <th>visitors</th>\n",
       "    </tr>\n",
       "  </thead>\n",
       "  <tbody>\n",
       "    <tr>\n",
       "      <th>0</th>\n",
       "      <td>2019-08-01</td>\n",
       "      <td>A</td>\n",
       "      <td>24</td>\n",
       "      <td>20</td>\n",
       "      <td>148579</td>\n",
       "      <td>719</td>\n",
       "    </tr>\n",
       "    <tr>\n",
       "      <th>1</th>\n",
       "      <td>2019-08-01</td>\n",
       "      <td>B</td>\n",
       "      <td>21</td>\n",
       "      <td>20</td>\n",
       "      <td>101217</td>\n",
       "      <td>713</td>\n",
       "    </tr>\n",
       "    <tr>\n",
       "      <th>2</th>\n",
       "      <td>2019-08-02</td>\n",
       "      <td>A</td>\n",
       "      <td>44</td>\n",
       "      <td>38</td>\n",
       "      <td>242401</td>\n",
       "      <td>1338</td>\n",
       "    </tr>\n",
       "    <tr>\n",
       "      <th>3</th>\n",
       "      <td>2019-08-02</td>\n",
       "      <td>B</td>\n",
       "      <td>45</td>\n",
       "      <td>43</td>\n",
       "      <td>266748</td>\n",
       "      <td>1294</td>\n",
       "    </tr>\n",
       "    <tr>\n",
       "      <th>4</th>\n",
       "      <td>2019-08-03</td>\n",
       "      <td>A</td>\n",
       "      <td>68</td>\n",
       "      <td>62</td>\n",
       "      <td>354874</td>\n",
       "      <td>1845</td>\n",
       "    </tr>\n",
       "  </tbody>\n",
       "</table>\n",
       "</div>"
      ],
      "text/plain": [
       "        date group  orders  buyers  revenue  visitors\n",
       "0 2019-08-01     A      24      20   148579       719\n",
       "1 2019-08-01     B      21      20   101217       713\n",
       "2 2019-08-02     A      44      38   242401      1338\n",
       "3 2019-08-02     B      45      43   266748      1294\n",
       "4 2019-08-03     A      68      62   354874      1845"
      ]
     },
     "execution_count": 16,
     "metadata": {},
     "output_type": "execute_result"
    }
   ],
   "source": [
    "# создаем массив уникальных пар значений дат и групп теста\n",
    "datesGroups = orders[['date','group']].drop_duplicates()\n",
    "\n",
    "# получаем агрегированные кумулятивные по дням данные о заказах \n",
    "ordersAggregated = datesGroups.apply(lambda x: orders[np.logical_and(orders['date'] <= x['date'], orders['group'] == x['group'])].agg({'date' : 'max', 'group' : 'max', 'transactionId' : 'nunique', 'visitorId' : 'nunique', 'revenue' : 'sum'}), axis=1).sort_values(by=['date','group'])\n",
    "\n",
    "# получаем агрегированные кумулятивные по дням данные о посетителях интернет-магазина \n",
    "visitorsAggregated = datesGroups.apply(lambda x: visitors[np.logical_and(visitors['date'] <= x['date'], visitors['group'] == x['group'])].agg({'date' : 'max', 'group' : 'max', 'visitors' : 'sum'}), axis=1).sort_values(by=['date','group'])\n",
    "\n",
    "# объединяем кумулятивные данные в одной таблице и даем столбцам названия\n",
    "cumulativeData = ordersAggregated.merge(visitorsAggregated, left_on=['date', 'group'], right_on=['date', 'group'])\n",
    "cumulativeData.columns = ['date', 'group', 'orders', 'buyers', 'revenue', 'visitors']\n",
    "\n",
    "cumulativeData.head()"
   ]
  },
  {
   "cell_type": "markdown",
   "metadata": {},
   "source": [
    "## График кумулятивной выручки по группам "
   ]
  },
  {
   "cell_type": "code",
   "execution_count": 17,
   "metadata": {},
   "outputs": [
    {
     "data": {
      "image/png": "[encoded data removed]",
      "text/plain": [
       "<Figure size 864x576 with 1 Axes>"
      ]
     },
     "metadata": {
      "needs_background": "light"
     },
     "output_type": "display_data"
    }
   ],
   "source": [
    "# датафрейм с кумулятивным количеством заказов и кумулятивной выручкой по дням в группе А\n",
    "cumulativeRevenueA = cumulativeData[cumulativeData['group']=='A'][['date','revenue', 'orders']]\n",
    "\n",
    "# датафрейм с кумулятивным количеством заказов и кумулятивной выручкой по дням в группе B\n",
    "cumulativeRevenueB = cumulativeData[cumulativeData['group']=='B'][['date','revenue', 'orders']]\n",
    "\n",
    "plt.figure(figsize=(12, 8))\n",
    "# Строим график выручки группы А\n",
    "plt.plot(cumulativeRevenueA['date'], cumulativeRevenueA['revenue'], label='A')\n",
    "\n",
    "# Строим график выручки группы B\n",
    "\n",
    "plt.plot(cumulativeRevenueB['date'], cumulativeRevenueB['revenue'], label='B')\n",
    "\n",
    "plt.xlabel('дата')\n",
    "plt.ylabel('выручка')\n",
    "plt.title('График кумулятивной выручки');\n",
    "plt.legend();\n",
    "plt.ticklabel_format(axis = 'y', style = 'plain')"
   ]
  },
  {
   "cell_type": "markdown",
   "metadata": {},
   "source": [
    "Выручка растет почти равномерно. В группе B наблюдается резкий скачок на 19 дне теста (возможно выброс), но позже рост линейный. "
   ]
  },
  {
   "cell_type": "markdown",
   "metadata": {},
   "source": [
    "## График кумулятивного среднего чека по группам\n"
   ]
  },
  {
   "cell_type": "code",
   "execution_count": 18,
   "metadata": {},
   "outputs": [
    {
     "data": {
      "image/png": "[encoded data removed]",
      "text/plain": [
       "<Figure size 864x576 with 1 Axes>"
      ]
     },
     "metadata": {
      "needs_background": "light"
     },
     "output_type": "display_data"
    }
   ],
   "source": [
    "plt.figure(figsize=(12, 8))\n",
    "plt.plot(cumulativeRevenueA['date'], cumulativeRevenueA['revenue']/cumulativeRevenueA['orders'], label='A')\n",
    "plt.plot(cumulativeRevenueB['date'], cumulativeRevenueB['revenue']/cumulativeRevenueB['orders'], label='B')\n",
    "plt.xlabel('дата')\n",
    "plt.ylabel('средний чек')\n",
    "plt.title('График кумулятивного среднего чека')\n",
    "plt.legend();"
   ]
  },
  {
   "cell_type": "markdown",
   "metadata": {},
   "source": [
    "Покупки 18 числа в группе В сильно отразились на среднем чеке - срежний чек скакнул до 10000, после 19 числа начал падать, что также указывает на наличие отдельных выбросов в сумме или количестве заказов.\n",
    "\n",
    "Средний чек группы А относительно стабилен вокруг значения 7000."
   ]
  },
  {
   "cell_type": "markdown",
   "metadata": {},
   "source": [
    "## График относительного изменения кумулятивного среднего чека группы B к группе A "
   ]
  },
  {
   "cell_type": "code",
   "execution_count": 19,
   "metadata": {},
   "outputs": [
    {
     "data": {
      "image/png": "[encoded data removed]",
      "text/plain": [
       "<Figure size 864x576 with 1 Axes>"
      ]
     },
     "metadata": {
      "needs_background": "light"
     },
     "output_type": "display_data"
    }
   ],
   "source": [
    "#собираем данные в одном датафрейме\n",
    "mergedCumulativeRevenue = cumulativeRevenueA.merge(cumulativeRevenueB, left_on='date', right_on='date', how='left', suffixes=['A', 'B'])\n",
    "\n",
    "# cтроим отношение средних чеков\n",
    "plt.figure(figsize=(12, 8))\n",
    "plt.plot(mergedCumulativeRevenue['date'], (mergedCumulativeRevenue['revenueB']/mergedCumulativeRevenue['ordersB'])/(mergedCumulativeRevenue['revenueA']/mergedCumulativeRevenue['ordersA'])-1)\n",
    "\n",
    "# добавляем ось X\n",
    "plt.axhline(y=0, color='black', linestyle='--')\n",
    "plt.xlabel('дата')\n",
    "plt.ylabel('разница')\n",
    "plt.title('График относительного изменения кумулятивного среднего чека группы B к группе A');"
   ]
  },
  {
   "cell_type": "markdown",
   "metadata": {},
   "source": [
    "График сильно \"скачет\", что также намекает на наличие выбросов и аномалий, поэтому пока не будем делать заключений о превосходстве той или иной группы."
   ]
  },
  {
   "cell_type": "markdown",
   "metadata": {},
   "source": [
    "## График кумулятивного среднего количества заказов на посетителя по группам "
   ]
  },
  {
   "cell_type": "code",
   "execution_count": 20,
   "metadata": {
    "scrolled": false
   },
   "outputs": [
    {
     "data": {
      "image/png": "[encoded data removed]",
      "text/plain": [
       "<Figure size 864x576 with 1 Axes>"
      ]
     },
     "metadata": {
      "needs_background": "light"
     },
     "output_type": "display_data"
    }
   ],
   "source": [
    "# считаем кумулятивную конверсию\n",
    "cumulativeData['conversion'] = cumulativeData['orders']/cumulativeData['visitors']\n",
    "\n",
    "# отделяем данные по группе A\n",
    "cumulativeDataA = cumulativeData[cumulativeData['group']=='A']\n",
    "\n",
    "# отделяем данные по группе B\n",
    "cumulativeDataB = cumulativeData[cumulativeData['group']=='B']\n",
    "\n",
    "# строим графики\n",
    "plt.figure(figsize=(12, 8))\n",
    "plt.plot(cumulativeDataA['date'], cumulativeDataA['conversion'], label='A')\n",
    "plt.plot(cumulativeDataB['date'], cumulativeDataB['conversion'], label='B')\n",
    "plt.legend()\n",
    "plt.xlabel('дата')\n",
    "plt.ylabel('среднее количества заказов на посетителя')\n",
    "plt.title('График кумулятивного среднего количества заказов на посетителя по группам');"
   ]
  },
  {
   "cell_type": "markdown",
   "metadata": {},
   "source": [
    "После пика у обоех групп А-конверсия находится в пределах 0,029 и до 0,031. В-конверсия от 0,037 и до 0,033. B-конверсия пока выглядит лучше.\n",
    "\n"
   ]
  },
  {
   "cell_type": "markdown",
   "metadata": {},
   "source": [
    "##  График относительного изменения кумулятивного среднего количества заказов на посетителя группы B к группе A"
   ]
  },
  {
   "cell_type": "code",
   "execution_count": 21,
   "metadata": {},
   "outputs": [
    {
     "data": {
      "image/png": "[encoded data removed]",
      "text/plain": [
       "<Figure size 1080x576 with 1 Axes>"
      ]
     },
     "metadata": {
      "needs_background": "light"
     },
     "output_type": "display_data"
    }
   ],
   "source": [
    "mergedCumulativeConversions = cumulativeDataA[['date','conversion']].merge(cumulativeDataB[['date','conversion']], left_on='date', right_on='date', how='left', suffixes=['A', 'B'])\n",
    "plt.figure(figsize=(15, 8))\n",
    "plt.plot(mergedCumulativeConversions['date'], mergedCumulativeConversions['conversionB']/mergedCumulativeConversions['conversionA']-1, label=\"Относительный прирост кумулятивного среднего количества заказов на посетителя группы B относительно группы A\")\n",
    "\n",
    "plt.legend()\n",
    "\n",
    "plt.axhline(y=0, color='black', linestyle='--')\n",
    "plt.axhline(y=-0.1, color='grey', linestyle='--')\n",
    "plt.xlabel('дата')\n",
    "plt.ylabel('относительное изменение')\n",
    "plt.title('График относительного изменения кумулятивного среднего количества заказов на посетителя группы B к группе A');"
   ]
  },
  {
   "cell_type": "markdown",
   "metadata": {},
   "source": [
    "Сначала кумулятивное среднее количество заказов на посетителя в группе В уступало, затем вырвалось вперед и с 9 числа установилось на уровне +10/20% от группы А.\n",
    "\n"
   ]
  },
  {
   "cell_type": "markdown",
   "metadata": {},
   "source": [
    "## Точечный график количества заказов по пользователям"
   ]
  },
  {
   "cell_type": "code",
   "execution_count": 22,
   "metadata": {
    "scrolled": true
   },
   "outputs": [
    {
     "data": {
      "image/png": "[encoded data removed]",
      "text/plain": [
       "<Figure size 432x288 with 1 Axes>"
      ]
     },
     "metadata": {
      "needs_background": "light"
     },
     "output_type": "display_data"
    }
   ],
   "source": [
    "ordersByUsers = (\n",
    "    orders.groupby('visitorId', as_index=False)\n",
    "    .agg({'transactionId': 'nunique'})\n",
    ")\n",
    "ordersByUsers.columns = ['userId', 'orders']\n",
    "\n",
    "x_values = pd.Series(range(0,len(ordersByUsers)))\n",
    "\n",
    "plt.scatter(x_values, ordersByUsers['orders'])\n",
    "plt.xlabel('число пользователей')\n",
    "plt.ylabel('количество заказов')\n",
    "plt.title('График количества заказов по пользователям');"
   ]
  },
  {
   "cell_type": "markdown",
   "metadata": {},
   "source": [
    "Большинство пользователей сделали 1-2 покупки, но есть и те, кто сделал более 10 заказов. \n",
    "\n"
   ]
  },
  {
   "cell_type": "markdown",
   "metadata": {},
   "source": [
    "## 95-й и 99-й перцентили количества заказов на пользователя. Выбор границы для определения аномальных пользователей"
   ]
  },
  {
   "cell_type": "code",
   "execution_count": 23,
   "metadata": {
    "scrolled": true
   },
   "outputs": [
    {
     "data": {
      "text/plain": [
       "array([2., 4.])"
      ]
     },
     "execution_count": 23,
     "metadata": {},
     "output_type": "execute_result"
    }
   ],
   "source": [
    "np.percentile(ordersByUsers['orders'], [95, 99])\n"
   ]
  },
  {
   "cell_type": "markdown",
   "metadata": {},
   "source": [
    "Не более 5% пользователей совершали больше 2-х покупок в течение тестирования. И только 1% - четыре и более.\n",
    "Примем за верхнюю границу 4 заказа на одного пользователя."
   ]
  },
  {
   "cell_type": "markdown",
   "metadata": {},
   "source": [
    "## Точечный график стоимостей заказов"
   ]
  },
  {
   "cell_type": "code",
   "execution_count": 24,
   "metadata": {},
   "outputs": [
    {
     "data": {
      "image/png": "[encoded data removed]",
      "text/plain": [
       "<Figure size 1080x504 with 1 Axes>"
      ]
     },
     "metadata": {
      "needs_background": "light"
     },
     "output_type": "display_data"
    }
   ],
   "source": [
    "x_values = pd.Series(range(0,len(orders['revenue'])))\n",
    "plt.figure(figsize=(15, 7))\n",
    "plt.scatter(x_values, orders['revenue'])\n",
    "plt.ticklabel_format(axis = 'y', style = 'plain')\n",
    "plt.ylim([50, 100000])\n",
    "plt.xlabel('число пользователей')\n",
    "plt.ylabel('стоимость заказа')\n",
    "plt.title('График стоимости заказов');"
   ]
  },
  {
   "cell_type": "markdown",
   "metadata": {},
   "source": [
    "Судя по графикам, большинство покупателей тратят не больше 25-30 т.р."
   ]
  },
  {
   "cell_type": "markdown",
   "metadata": {},
   "source": [
    "## 95-й и 99-й перцентили стоимости заказов. Выбор границы для определения аномальных заказов."
   ]
  },
  {
   "cell_type": "code",
   "execution_count": 25,
   "metadata": {},
   "outputs": [
    {
     "data": {
      "text/plain": [
       "array([28000. , 58233.2])"
      ]
     },
     "execution_count": 25,
     "metadata": {},
     "output_type": "execute_result"
    }
   ],
   "source": [
    "np.percentile(orders['revenue'], [95, 99])\n"
   ]
  },
  {
   "cell_type": "markdown",
   "metadata": {},
   "source": [
    "\n",
    "Всего 5% заказов дороже 28 т.р. Определяем границу по величине 99% перцентиля (58233)."
   ]
  },
  {
   "cell_type": "markdown",
   "metadata": {},
   "source": [
    "## Cтатистическая значимость различий в среднем количестве заказов на посетителя между группами по «сырым» данным"
   ]
  },
  {
   "cell_type": "markdown",
   "metadata": {},
   "source": [
    "Сформулируем гипотезы.\n",
    "\n",
    "- H0: различий в среднем количестве заказов на посетителя между группами нет.\n",
    "- H1: различия в среднем количестве заказов на посетителя между группами есть.\n",
    "\n",
    "Уровень значимости alpha = 0.05\n",
    "Так как данные о продажах и средних чеках редко бывают нормально распределены (это классический пример переменных, подверженных выбросам), для проверки гипотез будем использовать непараметрический тест Уилкоксона-Манна-Уитни."
   ]
  },
  {
   "cell_type": "code",
   "execution_count": 26,
   "metadata": {
    "scrolled": true
   },
   "outputs": [],
   "source": [
    "visitorsADaily = visitors[visitors['group'] == 'A'][['date', 'visitors']]\n",
    "visitorsADaily.columns = ['date', 'visitorsPerDateA']\n",
    "\n",
    "visitorsACummulative = visitorsADaily.apply(\n",
    "    lambda x: visitorsADaily[visitorsADaily['date'] <= x['date']].agg(\n",
    "        {'date': 'max', 'visitorsPerDateA': 'sum'}\n",
    "    ),\n",
    "    axis=1,\n",
    ")\n",
    "visitorsACummulative.columns = ['date', 'visitorsCummulativeA']\n",
    "\n",
    "visitorsBDaily = visitors[visitors['group'] == 'B'][['date', 'visitors']]\n",
    "visitorsBDaily.columns = ['date', 'visitorsPerDateB']\n",
    "\n",
    "visitorsBCummulative = visitorsBDaily.apply(\n",
    "    lambda x: visitorsBDaily[visitorsBDaily['date'] <= x['date']].agg(\n",
    "        {'date': 'max', 'visitorsPerDateB': 'sum'}\n",
    "    ),\n",
    "    axis=1,\n",
    ")\n",
    "visitorsBCummulative.columns = ['date', 'visitorsCummulativeB']\n",
    "\n",
    "ordersADaily = (\n",
    "    orders[orders['group'] == 'A'][['date', 'transactionId', 'visitorId', 'revenue']]\n",
    "    .groupby('date', as_index=False)\n",
    "    .agg({'transactionId': pd.Series.nunique, 'revenue': 'sum'})\n",
    ")\n",
    "ordersADaily.columns = ['date', 'ordersPerDateA', 'revenuePerDateA']\n",
    "\n",
    "ordersACummulative = ordersADaily.apply(\n",
    "    lambda x: ordersADaily[ordersADaily['date'] <= x['date']].agg(\n",
    "        {'date': 'max', 'ordersPerDateA': 'sum', 'revenuePerDateA': 'sum'}\n",
    "    ),\n",
    "    axis=1,\n",
    ").sort_values(by=['date'])\n",
    "ordersACummulative.columns = [\n",
    "    'date',\n",
    "    'ordersCummulativeA',\n",
    "    'revenueCummulativeA',\n",
    "]\n",
    "\n",
    "ordersBDaily = (\n",
    "    orders[orders['group'] == 'B'][['date', 'transactionId', 'visitorId', 'revenue']]\n",
    "    .groupby('date', as_index=False)\n",
    "    .agg({'transactionId': pd.Series.nunique, 'revenue': 'sum'})\n",
    ")\n",
    "ordersBDaily.columns = ['date', 'ordersPerDateB', 'revenuePerDateB']\n",
    "\n",
    "ordersBCummulative = ordersBDaily.apply(\n",
    "    lambda x: ordersBDaily[ordersBDaily['date'] <= x['date']].agg(\n",
    "        {'date': 'max', 'ordersPerDateB': 'sum', 'revenuePerDateB': 'sum'}\n",
    "    ),\n",
    "    axis=1,\n",
    ").sort_values(by=['date'])\n",
    "ordersBCummulative.columns = [\n",
    "    'date',\n",
    "    'ordersCummulativeB',\n",
    "    'revenueCummulativeB',\n",
    "]\n",
    "\n",
    "data = (\n",
    "    ordersADaily.merge(\n",
    "        ordersBDaily, left_on='date', right_on='date', how='left'\n",
    "    )\n",
    "    .merge(ordersACummulative, left_on='date', right_on='date', how='left')\n",
    "    .merge(ordersBCummulative, left_on='date', right_on='date', how='left')\n",
    "    .merge(visitorsADaily, left_on='date', right_on='date', how='left')\n",
    "    .merge(visitorsBDaily, left_on='date', right_on='date', how='left')\n",
    "    .merge(visitorsACummulative, left_on='date', right_on='date', how='left')\n",
    "    .merge(visitorsBCummulative, left_on='date', right_on='date', how='left')\n",
    ")"
   ]
  },
  {
   "cell_type": "code",
   "execution_count": 27,
   "metadata": {},
   "outputs": [
    {
     "name": "stdout",
     "output_type": "stream",
     "text": [
      "p-значение:  0.017\n",
      "Отвергаем нулевую гипотезу\n",
      "относительный выигрыш группы B: 0.138\n"
     ]
    }
   ],
   "source": [
    "ordersByUsersA = (\n",
    "    orders[orders['group'] == 'A']\n",
    "    .groupby('visitorId', as_index=False)\n",
    "    .agg({'transactionId': pd.Series.nunique})\n",
    ")\n",
    "ordersByUsersA.columns = ['visitorId', 'orders']\n",
    "\n",
    "ordersByUsersB = (\n",
    "    orders[orders['group'] == 'B']\n",
    "    .groupby('visitorId', as_index=False)\n",
    "    .agg({'transactionId': pd.Series.nunique})\n",
    ")\n",
    "ordersByUsersB.columns = ['visitorId', 'orders'] \n",
    "pd.Series(0, index=np.arange(data['visitorsPerDateA'].sum() - len(ordersByUsersA['orders'])), name='orders')\n",
    "[ordersByUsersA['orders'],pd.Series(0, index=np.arange(data['visitorsPerDateA'].sum() - len(ordersByUsersA['orders'])), name='orders')] \n",
    "sampleA = pd.concat([ordersByUsersA['orders'],pd.Series(0, index=np.arange(data['visitorsPerDateA'].sum() - len(ordersByUsersA['orders'])), name='orders')],axis=0)\n",
    "\n",
    "sampleB = pd.concat([ordersByUsersB['orders'],pd.Series(0, index=np.arange(data['visitorsPerDateB'].sum() - len(ordersByUsersB['orders'])), name='orders')],axis=0) \n",
    "ordersByUsersA = (\n",
    "    orders[orders['group'] == 'A']\n",
    "    .groupby('visitorId', as_index=False)\n",
    "    .agg({'transactionId': pd.Series.nunique})\n",
    ")\n",
    "ordersByUsersA.columns = ['visitorId', 'orders']\n",
    "\n",
    "ordersByUsersB = (\n",
    "    orders[orders['group'] == 'B']\n",
    "    .groupby('visitorId', as_index=False)\n",
    "    .agg({'transactionId': pd.Series.nunique})\n",
    ")\n",
    "ordersByUsersB.columns = ['visitorId', 'orders']\n",
    "\n",
    "sampleA = pd.concat(\n",
    "    [\n",
    "        ordersByUsersA['orders'],\n",
    "        pd.Series(\n",
    "            0,\n",
    "            index=np.arange(\n",
    "                data['visitorsPerDateA'].sum() - len(ordersByUsersA['orders'])\n",
    "            ),\n",
    "            name='orders',\n",
    "        ),\n",
    "    ],\n",
    "    axis=0,\n",
    ")\n",
    "\n",
    "sampleB = pd.concat(\n",
    "    [\n",
    "        ordersByUsersB['orders'],\n",
    "        pd.Series(\n",
    "            0,\n",
    "            index=np.arange(\n",
    "                data['visitorsPerDateB'].sum() - len(ordersByUsersB['orders'])\n",
    "            ),\n",
    "            name='orders',\n",
    "        ),\n",
    "    ],\n",
    "    axis=0,\n",
    ")\n",
    "alpha = .05 \n",
    "results = stats.mannwhitneyu(sampleA, sampleB)\n",
    "\n",
    "\n",
    "print('p-значение: ', \"{0:.3f}\".format(results.pvalue))\n",
    "\n",
    "if results.pvalue < alpha:\n",
    "    print(\"Отвергаем нулевую гипотезу\")\n",
    "else:\n",
    "    print(\"Не получилось отвергнуть нулевую гипотезу\") \n",
    "\n",
    "print('относительный выигрыш группы B:', \"{0:.3f}\".format(sampleB.mean() / sampleA.mean() - 1))"
   ]
  },
  {
   "cell_type": "markdown",
   "metadata": {},
   "source": [
    "Метрика группы B значительно больше, статзначимость есть."
   ]
  },
  {
   "cell_type": "markdown",
   "metadata": {},
   "source": [
    "## Статистическая значимость различий в среднем чеке заказа между группами по «сырым» данным"
   ]
  },
  {
   "cell_type": "markdown",
   "metadata": {},
   "source": [
    "Сформулируем гипотезы.\n",
    "\n",
    "H0: различий в среднем чеке между группами нет.\n",
    "\n",
    "H1: различия в среднем чеке между группами есть.\n",
    "\n",
    "Чтобы рассчитать статистическую значимость различий в среднем чеке, передадим критерию mannwhitneyu() данные о выручке с заказов, также найдём относительные различия в среднем чеке между группами."
   ]
  },
  {
   "cell_type": "code",
   "execution_count": 28,
   "metadata": {
    "scrolled": true
   },
   "outputs": [
    {
     "name": "stdout",
     "output_type": "stream",
     "text": [
      "p-значение:  0.729\n",
      "Не получилось отвергнуть нулевую гипотезу\n",
      "отношение средний чек группы B / средний чек группы A: 0.259\n"
     ]
    }
   ],
   "source": [
    "alpha = .05 \n",
    "results = stats.mannwhitneyu(orders[orders['group']=='A']['revenue'], orders[orders['group']=='B']['revenue'])\n",
    "\n",
    "\n",
    "print('p-значение: ', \"{0:.3f}\".format(results.pvalue))\n",
    "\n",
    "if results.pvalue < alpha:\n",
    "    print(\"Отвергаем нулевую гипотезу\")\n",
    "else:\n",
    "    print(\"Не получилось отвергнуть нулевую гипотезу\") \n",
    "print('отношение средний чек группы B / средний чек группы A:', \"{0:.3f}\".format(orders[orders['group']=='B']['revenue'].mean()/orders[orders['group']=='A']['revenue'].mean()-1))"
   ]
  },
  {
   "cell_type": "markdown",
   "metadata": {},
   "source": [
    "p-value больше 0.05. Мы не можем отвергнуть нулевую гипотезу потому, что в среднем чеке нет различий. "
   ]
  },
  {
   "cell_type": "markdown",
   "metadata": {},
   "source": [
    "## Cтатистическая значимость различий в среднем количестве заказов на посетителя между группами по «очищенным» данным"
   ]
  },
  {
   "cell_type": "code",
   "execution_count": 29,
   "metadata": {},
   "outputs": [
    {
     "data": {
      "text/plain": [
       "(74,)"
      ]
     },
     "execution_count": 29,
     "metadata": {},
     "output_type": "execute_result"
    }
   ],
   "source": [
    "usersWithManyOrders = pd.concat(\n",
    "    [\n",
    "        ordersByUsersA[ordersByUsersA['orders'] > ordersByUsers['orders'].quantile(0.95)]['visitorId'],\n",
    "        ordersByUsersB[ordersByUsersB['orders'] > ordersByUsers['orders'].quantile(0.95)]['visitorId'],\n",
    "    ],\n",
    "    axis=0,\n",
    ")\n",
    "usersWithExpensiveOrders = orders[orders['revenue'] > orders['revenue'].quantile(0.95)]['visitorId']\n",
    "abnormalUsers = (\n",
    "    pd.concat([usersWithManyOrders, usersWithExpensiveOrders], axis=0)\n",
    "    .drop_duplicates()\n",
    "    .sort_values()\n",
    ")\n",
    "\n",
    "abnormalUsers.shape"
   ]
  },
  {
   "cell_type": "code",
   "execution_count": 30,
   "metadata": {
    "scrolled": true
   },
   "outputs": [
    {
     "data": {
      "text/plain": [
       "0.07177497575169738"
      ]
     },
     "execution_count": 30,
     "metadata": {},
     "output_type": "execute_result"
    }
   ],
   "source": [
    "abnormalUsers.value_counts().count()/len(orders['visitorId'].unique())"
   ]
  },
  {
   "cell_type": "markdown",
   "metadata": {},
   "source": [
    "Сформулируем гипотезы.\n",
    "\n",
    "- H0: различий в среднем количестве заказов на посетителя между группами нет.\n",
    "- H1: различия в среднем количестве заказов на посетителя между группами есть."
   ]
  },
  {
   "cell_type": "code",
   "execution_count": 31,
   "metadata": {
    "scrolled": true
   },
   "outputs": [
    {
     "name": "stdout",
     "output_type": "stream",
     "text": [
      "p-значение:  0.013\n",
      "Отвергаем нулевую гипотезу\n",
      "относительный выигрыш группы B: 0.173\n"
     ]
    }
   ],
   "source": [
    "sampleAFiltered = pd.concat(\n",
    "    [\n",
    "        ordersByUsersA[\n",
    "            np.logical_not(ordersByUsersA['visitorId'].isin(abnormalUsers))\n",
    "        ]['orders'],\n",
    "        pd.Series(\n",
    "            0,\n",
    "            index=np.arange(\n",
    "                data['visitorsPerDateA'].sum() - len(ordersByUsersA['orders'])\n",
    "            ),\n",
    "            name='orders',\n",
    "        ),\n",
    "    ],\n",
    "    axis=0,\n",
    ")\n",
    "\n",
    "sampleBFiltered = pd.concat(\n",
    "    [\n",
    "        ordersByUsersB[\n",
    "            np.logical_not(ordersByUsersB['visitorId'].isin(abnormalUsers))\n",
    "        ]['orders'],\n",
    "        pd.Series(\n",
    "            0,\n",
    "            index=np.arange(\n",
    "                data['visitorsPerDateB'].sum() - len(ordersByUsersB['orders'])\n",
    "            ),\n",
    "            name='orders',\n",
    "        ),\n",
    "    ],\n",
    "    axis=0,\n",
    ")\n",
    "\n",
    "\n",
    "alpha = .05 \n",
    "results = stats.mannwhitneyu(sampleAFiltered, sampleBFiltered)\n",
    "\n",
    "\n",
    "print('p-значение: ', \"{0:.3f}\".format(results.pvalue))\n",
    "\n",
    "if results.pvalue < alpha:\n",
    "    print(\"Отвергаем нулевую гипотезу\")\n",
    "else:\n",
    "    print(\"Не получилось отвергнуть нулевую гипотезу\") \n",
    "\n",
    "print('относительный выигрыш группы B:', \"{0:.3f}\".format(sampleBFiltered.mean()/sampleAFiltered.mean()-1))"
   ]
  },
  {
   "cell_type": "markdown",
   "metadata": {},
   "source": [
    "Метрика группы B снова превышает метрику группы А со статзначимостью."
   ]
  },
  {
   "cell_type": "markdown",
   "metadata": {},
   "source": [
    "## Статистическая значимость различий в среднем чеке заказа между группами по «очищенным» данным"
   ]
  },
  {
   "cell_type": "markdown",
   "metadata": {},
   "source": [
    "Воспользуемся критерием Манна-Уитни\n",
    "Сформулируем гипотезы.\n",
    "\n",
    "H0: различий в среднем чеке между группами нет.\n",
    "\n",
    "H1: различия в среднем чеке между группами есть."
   ]
  },
  {
   "cell_type": "code",
   "execution_count": 32,
   "metadata": {
    "scrolled": true
   },
   "outputs": [
    {
     "name": "stdout",
     "output_type": "stream",
     "text": [
      "p-значение:  0.738\n",
      "Не получилось отвергнуть нулевую гипотезу\n",
      "отношение средний чек группы B / средний чек группы A: -0.020\n"
     ]
    }
   ],
   "source": [
    "alpha = .05 \n",
    "results = stats.mannwhitneyu(\n",
    "            orders[\n",
    "                np.logical_and(\n",
    "                    orders['group'] == 'A',\n",
    "                    np.logical_not(orders['visitorId'].isin(abnormalUsers)),\n",
    "                )\n",
    "            ]['revenue'],\n",
    "            orders[\n",
    "                np.logical_and(\n",
    "                    orders['group'] == 'B',\n",
    "                    np.logical_not(orders['visitorId'].isin(abnormalUsers)),\n",
    "                )\n",
    "            ]['revenue'],\n",
    "        )\n",
    "\n",
    "print('p-значение: ', \"{0:.3f}\".format(results.pvalue))\n",
    "if results.pvalue < alpha:\n",
    "    print(\"Отвергаем нулевую гипотезу\")\n",
    "else:\n",
    "    print(\"Не получилось отвергнуть нулевую гипотезу\") \n",
    "print('отношение средний чек группы B / средний чек группы A:',\n",
    "    \"{0:.3f}\".format(\n",
    "        orders[\n",
    "            np.logical_and(\n",
    "                orders['group'] == 'B',\n",
    "                np.logical_not(orders['visitorId'].isin(abnormalUsers)),\n",
    "            )\n",
    "        ]['revenue'].mean()\n",
    "        / orders[\n",
    "            np.logical_and(\n",
    "                orders['group'] == 'A',\n",
    "                np.logical_not(orders['visitorId'].isin(abnormalUsers)),\n",
    "            )\n",
    "        ]['revenue'].mean()\n",
    "        - 1\n",
    "    )\n",
    ")"
   ]
  },
  {
   "cell_type": "markdown",
   "metadata": {},
   "source": [
    "p-value значительно больше 0.05. Мы не можем отвергнуть нулевую гипотезу, в среднем чеке нет различий. При этом средний чек группы B стал меньше среднего чека группы A, слишком дорогие заказы (похожие на выбросы) повлияли на результаты A/B-теста."
   ]
  },
  {
   "cell_type": "markdown",
   "metadata": {},
   "source": [
    "## Решение по результатам теста"
   ]
  },
  {
   "cell_type": "markdown",
   "metadata": {},
   "source": [
    "По результатам теста принимаем решение остановить тест и зафиксировать победу группы В.\n",
    "Обнаружены статистически значимые различия в конверсии между группами, прирост конверсии в группе В относительно группы А составил около 17%.\n",
    "\n",
    "Статистически значимых различий в среднем чеке не обнаружено, прирост среднего чека группы В также незначительный и составляет 2% над группой А, по очищенным данным различия еще меньше.\n",
    "\n",
    "Это говорит о том, что, несмотря на то, что средний чек покупки не изменился, общее количество покупок выросло, следовательно выросла целевая метрика - выручка."
   ]
  }
 ],
 "metadata": {
  "ExecuteTimeLog": [
   {
    "duration": 3,
    "start_time": "2023-02-19T09:38:59.112Z"
   },
   {
    "duration": 1312,
    "start_time": "2023-02-25T14:53:37.618Z"
   },
   {
    "duration": 111,
    "start_time": "2023-02-25T14:54:09.623Z"
   },
   {
    "duration": 59,
    "start_time": "2023-02-25T14:54:20.771Z"
   },
   {
    "duration": 11,
    "start_time": "2023-02-25T14:54:26.335Z"
   },
   {
    "duration": 18,
    "start_time": "2023-02-25T14:56:01.909Z"
   },
   {
    "duration": 12,
    "start_time": "2023-02-25T14:58:50.078Z"
   },
   {
    "duration": 116,
    "start_time": "2023-02-25T15:09:48.585Z"
   },
   {
    "duration": 53,
    "start_time": "2023-02-25T15:10:04.686Z"
   },
   {
    "duration": 12,
    "start_time": "2023-02-25T15:10:57.383Z"
   },
   {
    "duration": 5,
    "start_time": "2023-02-25T15:12:17.406Z"
   },
   {
    "duration": 6,
    "start_time": "2023-02-25T15:13:02.229Z"
   },
   {
    "duration": 7,
    "start_time": "2023-02-25T15:13:32.849Z"
   },
   {
    "duration": 65,
    "start_time": "2023-02-25T15:13:57.768Z"
   },
   {
    "duration": 61,
    "start_time": "2023-02-25T15:14:36.384Z"
   },
   {
    "duration": 87,
    "start_time": "2023-02-25T15:15:19.178Z"
   },
   {
    "duration": 6,
    "start_time": "2023-02-25T15:15:34.665Z"
   },
   {
    "duration": 4,
    "start_time": "2023-02-25T15:16:02.134Z"
   },
   {
    "duration": 6,
    "start_time": "2023-02-25T15:16:30.387Z"
   },
   {
    "duration": 5,
    "start_time": "2023-02-25T15:17:27.544Z"
   },
   {
    "duration": 274,
    "start_time": "2023-02-25T15:17:41.222Z"
   },
   {
    "duration": 288,
    "start_time": "2023-02-25T15:17:51.128Z"
   },
   {
    "duration": 241,
    "start_time": "2023-02-25T15:20:09.137Z"
   },
   {
    "duration": 229,
    "start_time": "2023-02-25T15:20:13.037Z"
   },
   {
    "duration": 129,
    "start_time": "2023-02-25T15:25:00.439Z"
   },
   {
    "duration": 231,
    "start_time": "2023-02-25T15:25:08.499Z"
   },
   {
    "duration": 323,
    "start_time": "2023-02-25T15:26:46.092Z"
   },
   {
    "duration": 198,
    "start_time": "2023-02-25T16:06:56.479Z"
   },
   {
    "duration": 221,
    "start_time": "2023-02-25T16:07:26.999Z"
   },
   {
    "duration": 77,
    "start_time": "2023-02-26T06:36:56.521Z"
   },
   {
    "duration": 1269,
    "start_time": "2023-02-26T06:37:06.497Z"
   },
   {
    "duration": 87,
    "start_time": "2023-02-26T06:37:07.768Z"
   },
   {
    "duration": 17,
    "start_time": "2023-02-26T06:37:07.857Z"
   },
   {
    "duration": 16,
    "start_time": "2023-02-26T06:37:07.876Z"
   },
   {
    "duration": 16,
    "start_time": "2023-02-26T06:37:07.894Z"
   },
   {
    "duration": 104,
    "start_time": "2023-02-26T06:37:07.912Z"
   },
   {
    "duration": 12,
    "start_time": "2023-02-26T06:37:08.018Z"
   },
   {
    "duration": 8,
    "start_time": "2023-02-26T06:37:08.032Z"
   },
   {
    "duration": 8,
    "start_time": "2023-02-26T06:37:08.042Z"
   },
   {
    "duration": 9,
    "start_time": "2023-02-26T06:37:08.052Z"
   },
   {
    "duration": 81,
    "start_time": "2023-02-26T06:37:08.062Z"
   },
   {
    "duration": 78,
    "start_time": "2023-02-26T06:37:08.144Z"
   },
   {
    "duration": 7,
    "start_time": "2023-02-26T06:37:08.224Z"
   },
   {
    "duration": 14,
    "start_time": "2023-02-26T06:37:08.236Z"
   },
   {
    "duration": 18,
    "start_time": "2023-02-26T06:37:08.252Z"
   },
   {
    "duration": 313,
    "start_time": "2023-02-26T06:37:08.272Z"
   },
   {
    "duration": 333,
    "start_time": "2023-02-26T06:37:08.587Z"
   },
   {
    "duration": 358,
    "start_time": "2023-02-26T06:37:08.922Z"
   },
   {
    "duration": 404,
    "start_time": "2023-02-26T06:37:09.283Z"
   },
   {
    "duration": 250,
    "start_time": "2023-02-26T06:37:09.689Z"
   },
   {
    "duration": 396,
    "start_time": "2023-02-26T06:37:09.941Z"
   },
   {
    "duration": 372,
    "start_time": "2023-02-26T06:39:21.241Z"
   },
   {
    "duration": 166,
    "start_time": "2023-02-26T06:42:37.860Z"
   },
   {
    "duration": 6,
    "start_time": "2023-02-26T06:44:37.472Z"
   },
   {
    "duration": 238,
    "start_time": "2023-02-26T06:44:58.528Z"
   },
   {
    "duration": 9,
    "start_time": "2023-02-26T06:46:04.649Z"
   },
   {
    "duration": 650,
    "start_time": "2023-02-26T06:47:51.315Z"
   },
   {
    "duration": 13,
    "start_time": "2023-02-26T06:50:08.524Z"
   },
   {
    "duration": 14,
    "start_time": "2023-02-26T06:53:01.265Z"
   },
   {
    "duration": 31,
    "start_time": "2023-02-26T06:53:22.177Z"
   },
   {
    "duration": 19,
    "start_time": "2023-02-26T06:55:51.120Z"
   },
   {
    "duration": 1090,
    "start_time": "2023-02-26T07:08:11.734Z"
   },
   {
    "duration": 30,
    "start_time": "2023-02-26T07:08:12.826Z"
   },
   {
    "duration": 12,
    "start_time": "2023-02-26T07:08:12.861Z"
   },
   {
    "duration": 10,
    "start_time": "2023-02-26T07:08:12.875Z"
   },
   {
    "duration": 10,
    "start_time": "2023-02-26T07:08:12.888Z"
   },
   {
    "duration": 46,
    "start_time": "2023-02-26T07:08:12.899Z"
   },
   {
    "duration": 21,
    "start_time": "2023-02-26T07:08:12.946Z"
   },
   {
    "duration": 10,
    "start_time": "2023-02-26T07:08:12.969Z"
   },
   {
    "duration": 6,
    "start_time": "2023-02-26T07:08:12.980Z"
   },
   {
    "duration": 9,
    "start_time": "2023-02-26T07:08:12.988Z"
   },
   {
    "duration": 86,
    "start_time": "2023-02-26T07:08:12.998Z"
   },
   {
    "duration": 24,
    "start_time": "2023-02-26T07:08:13.085Z"
   },
   {
    "duration": 6,
    "start_time": "2023-02-26T07:08:13.110Z"
   },
   {
    "duration": 6,
    "start_time": "2023-02-26T07:08:13.120Z"
   },
   {
    "duration": 10,
    "start_time": "2023-02-26T07:08:13.128Z"
   },
   {
    "duration": 316,
    "start_time": "2023-02-26T07:08:13.148Z"
   },
   {
    "duration": 337,
    "start_time": "2023-02-26T07:08:13.466Z"
   },
   {
    "duration": 260,
    "start_time": "2023-02-26T07:08:13.805Z"
   },
   {
    "duration": 350,
    "start_time": "2023-02-26T07:08:14.067Z"
   },
   {
    "duration": 268,
    "start_time": "2023-02-26T07:08:14.419Z"
   },
   {
    "duration": 333,
    "start_time": "2023-02-26T07:08:14.689Z"
   },
   {
    "duration": 154,
    "start_time": "2023-02-26T07:08:15.024Z"
   },
   {
    "duration": 5,
    "start_time": "2023-02-26T07:08:15.180Z"
   },
   {
    "duration": 200,
    "start_time": "2023-02-26T07:08:15.187Z"
   },
   {
    "duration": 5,
    "start_time": "2023-02-26T07:08:15.390Z"
   },
   {
    "duration": 535,
    "start_time": "2023-02-26T07:08:15.396Z"
   },
   {
    "duration": 18,
    "start_time": "2023-02-26T07:08:15.933Z"
   },
   {
    "duration": 15,
    "start_time": "2023-02-26T07:08:15.954Z"
   },
   {
    "duration": 29,
    "start_time": "2023-02-26T07:08:15.971Z"
   },
   {
    "duration": 27,
    "start_time": "2023-02-26T07:08:16.002Z"
   },
   {
    "duration": 1122,
    "start_time": "2023-02-26T07:13:49.961Z"
   },
   {
    "duration": 29,
    "start_time": "2023-02-26T07:13:51.086Z"
   },
   {
    "duration": 13,
    "start_time": "2023-02-26T07:13:51.116Z"
   },
   {
    "duration": 20,
    "start_time": "2023-02-26T07:13:51.131Z"
   },
   {
    "duration": 16,
    "start_time": "2023-02-26T07:13:51.154Z"
   },
   {
    "duration": 44,
    "start_time": "2023-02-26T07:13:51.172Z"
   },
   {
    "duration": 11,
    "start_time": "2023-02-26T07:13:51.217Z"
   },
   {
    "duration": 14,
    "start_time": "2023-02-26T07:13:51.229Z"
   },
   {
    "duration": 8,
    "start_time": "2023-02-26T07:13:51.245Z"
   },
   {
    "duration": 18,
    "start_time": "2023-02-26T07:13:51.254Z"
   },
   {
    "duration": 67,
    "start_time": "2023-02-26T07:13:51.274Z"
   },
   {
    "duration": 24,
    "start_time": "2023-02-26T07:13:51.342Z"
   },
   {
    "duration": 5,
    "start_time": "2023-02-26T07:13:51.367Z"
   },
   {
    "duration": 10,
    "start_time": "2023-02-26T07:13:51.374Z"
   },
   {
    "duration": 10,
    "start_time": "2023-02-26T07:13:51.385Z"
   },
   {
    "duration": 291,
    "start_time": "2023-02-26T07:13:51.397Z"
   },
   {
    "duration": 316,
    "start_time": "2023-02-26T07:13:51.689Z"
   },
   {
    "duration": 213,
    "start_time": "2023-02-26T07:13:52.007Z"
   },
   {
    "duration": 363,
    "start_time": "2023-02-26T07:13:52.222Z"
   },
   {
    "duration": 254,
    "start_time": "2023-02-26T07:13:52.586Z"
   },
   {
    "duration": 374,
    "start_time": "2023-02-26T07:13:52.842Z"
   },
   {
    "duration": 149,
    "start_time": "2023-02-26T07:13:53.218Z"
   },
   {
    "duration": 5,
    "start_time": "2023-02-26T07:13:53.369Z"
   },
   {
    "duration": 204,
    "start_time": "2023-02-26T07:13:53.376Z"
   },
   {
    "duration": 5,
    "start_time": "2023-02-26T07:13:53.581Z"
   },
   {
    "duration": 515,
    "start_time": "2023-02-26T07:13:53.588Z"
   },
   {
    "duration": 10,
    "start_time": "2023-02-26T07:13:54.105Z"
   },
   {
    "duration": 13,
    "start_time": "2023-02-26T07:13:54.116Z"
   },
   {
    "duration": 52,
    "start_time": "2023-02-26T07:13:54.130Z"
   },
   {
    "duration": 13,
    "start_time": "2023-02-26T07:13:54.183Z"
   },
   {
    "duration": 1463,
    "start_time": "2023-03-07T18:43:56.826Z"
   },
   {
    "duration": 93,
    "start_time": "2023-03-07T18:43:58.291Z"
   },
   {
    "duration": 16,
    "start_time": "2023-03-07T18:43:58.386Z"
   },
   {
    "duration": 14,
    "start_time": "2023-03-07T18:43:58.405Z"
   },
   {
    "duration": 40,
    "start_time": "2023-03-07T18:43:58.421Z"
   },
   {
    "duration": 121,
    "start_time": "2023-03-07T18:43:58.463Z"
   },
   {
    "duration": 12,
    "start_time": "2023-03-07T18:43:58.586Z"
   },
   {
    "duration": 11,
    "start_time": "2023-03-07T18:43:58.603Z"
   },
   {
    "duration": 15,
    "start_time": "2023-03-07T18:43:58.616Z"
   },
   {
    "duration": 12,
    "start_time": "2023-03-07T18:43:58.634Z"
   },
   {
    "duration": 82,
    "start_time": "2023-03-07T18:43:58.653Z"
   },
   {
    "duration": 82,
    "start_time": "2023-03-07T18:43:58.737Z"
   },
   {
    "duration": 27,
    "start_time": "2023-03-07T18:43:58.824Z"
   },
   {
    "duration": 22,
    "start_time": "2023-03-07T18:43:58.867Z"
   },
   {
    "duration": 14,
    "start_time": "2023-03-07T18:43:58.891Z"
   },
   {
    "duration": 411,
    "start_time": "2023-03-07T18:43:58.908Z"
   },
   {
    "duration": 485,
    "start_time": "2023-03-07T18:43:59.331Z"
   },
   {
    "duration": 353,
    "start_time": "2023-03-07T18:43:59.819Z"
   },
   {
    "duration": 494,
    "start_time": "2023-03-07T18:44:00.175Z"
   },
   {
    "duration": 319,
    "start_time": "2023-03-07T18:44:00.671Z"
   },
   {
    "duration": 439,
    "start_time": "2023-03-07T18:44:00.993Z"
   },
   {
    "duration": 195,
    "start_time": "2023-03-07T18:44:01.438Z"
   },
   {
    "duration": 7,
    "start_time": "2023-03-07T18:44:01.635Z"
   },
   {
    "duration": 247,
    "start_time": "2023-03-07T18:44:01.644Z"
   },
   {
    "duration": 5,
    "start_time": "2023-03-07T18:44:01.893Z"
   },
   {
    "duration": 320,
    "start_time": "2023-03-07T18:44:01.900Z"
   },
   {
    "duration": 391,
    "start_time": "2023-03-07T18:44:02.223Z"
   },
   {
    "duration": 22,
    "start_time": "2023-03-07T18:44:02.625Z"
   },
   {
    "duration": 18,
    "start_time": "2023-03-07T18:44:02.651Z"
   },
   {
    "duration": 31,
    "start_time": "2023-03-07T18:44:02.670Z"
   },
   {
    "duration": 48,
    "start_time": "2023-03-07T18:44:02.703Z"
   },
   {
    "duration": 1686,
    "start_time": "2023-03-07T18:44:27.569Z"
   },
   {
    "duration": 1503,
    "start_time": "2023-03-07T18:44:44.656Z"
   },
   {
    "duration": 1516,
    "start_time": "2023-03-07T18:44:53.176Z"
   },
   {
    "duration": 1729,
    "start_time": "2023-03-07T18:45:02.280Z"
   },
   {
    "duration": 1385,
    "start_time": "2023-03-07T18:45:57.855Z"
   },
   {
    "duration": 60,
    "start_time": "2023-03-07T18:45:59.252Z"
   },
   {
    "duration": 28,
    "start_time": "2023-03-07T18:45:59.316Z"
   },
   {
    "duration": 19,
    "start_time": "2023-03-07T18:45:59.346Z"
   },
   {
    "duration": 41,
    "start_time": "2023-03-07T18:45:59.369Z"
   },
   {
    "duration": 73,
    "start_time": "2023-03-07T18:45:59.416Z"
   },
   {
    "duration": 22,
    "start_time": "2023-03-07T18:45:59.492Z"
   },
   {
    "duration": 26,
    "start_time": "2023-03-07T18:45:59.517Z"
   },
   {
    "duration": 10,
    "start_time": "2023-03-07T18:45:59.546Z"
   },
   {
    "duration": 25,
    "start_time": "2023-03-07T18:45:59.565Z"
   },
   {
    "duration": 178,
    "start_time": "2023-03-07T18:45:59.593Z"
   },
   {
    "duration": 32,
    "start_time": "2023-03-07T18:45:59.774Z"
   },
   {
    "duration": 9,
    "start_time": "2023-03-07T18:45:59.808Z"
   },
   {
    "duration": 17,
    "start_time": "2023-03-07T18:45:59.838Z"
   },
   {
    "duration": 12,
    "start_time": "2023-03-07T18:45:59.860Z"
   },
   {
    "duration": 794,
    "start_time": "2023-03-07T18:45:59.874Z"
   },
   {
    "duration": 508,
    "start_time": "2023-03-07T18:46:00.670Z"
   },
   {
    "duration": 322,
    "start_time": "2023-03-07T18:46:01.181Z"
   },
   {
    "duration": 457,
    "start_time": "2023-03-07T18:46:01.505Z"
   },
   {
    "duration": 420,
    "start_time": "2023-03-07T18:46:01.965Z"
   },
   {
    "duration": 418,
    "start_time": "2023-03-07T18:46:02.387Z"
   },
   {
    "duration": 175,
    "start_time": "2023-03-07T18:46:02.807Z"
   },
   {
    "duration": 6,
    "start_time": "2023-03-07T18:46:02.984Z"
   },
   {
    "duration": 221,
    "start_time": "2023-03-07T18:46:02.991Z"
   },
   {
    "duration": 17,
    "start_time": "2023-03-07T18:46:03.214Z"
   },
   {
    "duration": 248,
    "start_time": "2023-03-07T18:46:03.233Z"
   },
   {
    "duration": 418,
    "start_time": "2023-03-07T18:46:03.483Z"
   },
   {
    "duration": 23,
    "start_time": "2023-03-07T18:46:03.904Z"
   },
   {
    "duration": 22,
    "start_time": "2023-03-07T18:46:03.929Z"
   },
   {
    "duration": 53,
    "start_time": "2023-03-07T18:46:03.956Z"
   },
   {
    "duration": 21,
    "start_time": "2023-03-07T18:46:04.011Z"
   },
   {
    "duration": 1564,
    "start_time": "2023-03-07T18:46:57.711Z"
   },
   {
    "duration": 4,
    "start_time": "2023-03-07T18:47:16.915Z"
   },
   {
    "duration": 27,
    "start_time": "2023-03-07T18:47:20.546Z"
   },
   {
    "duration": 11,
    "start_time": "2023-03-07T18:48:14.443Z"
   },
   {
    "duration": 8,
    "start_time": "2023-03-07T18:48:18.536Z"
   },
   {
    "duration": 10,
    "start_time": "2023-03-07T18:48:38.180Z"
   },
   {
    "duration": 14,
    "start_time": "2023-03-07T18:48:51.452Z"
   },
   {
    "duration": 23,
    "start_time": "2023-03-07T18:49:04.749Z"
   },
   {
    "duration": 489,
    "start_time": "2023-03-07T18:51:45.712Z"
   },
   {
    "duration": 13,
    "start_time": "2023-03-07T19:20:02.937Z"
   },
   {
    "duration": 1203,
    "start_time": "2023-03-07T19:20:24.207Z"
   },
   {
    "duration": 7,
    "start_time": "2023-03-07T19:20:47.514Z"
   },
   {
    "duration": 1247,
    "start_time": "2023-03-07T19:24:43.278Z"
   },
   {
    "duration": 27,
    "start_time": "2023-03-07T19:24:44.537Z"
   },
   {
    "duration": 15,
    "start_time": "2023-03-07T19:24:44.566Z"
   },
   {
    "duration": 15,
    "start_time": "2023-03-07T19:24:44.584Z"
   },
   {
    "duration": 14,
    "start_time": "2023-03-07T19:24:44.600Z"
   },
   {
    "duration": 61,
    "start_time": "2023-03-07T19:24:44.615Z"
   },
   {
    "duration": 12,
    "start_time": "2023-03-07T19:24:44.678Z"
   },
   {
    "duration": 9,
    "start_time": "2023-03-07T19:24:44.692Z"
   },
   {
    "duration": 7,
    "start_time": "2023-03-07T19:24:44.704Z"
   },
   {
    "duration": 5,
    "start_time": "2023-03-07T19:24:44.714Z"
   },
   {
    "duration": 81,
    "start_time": "2023-03-07T19:24:44.721Z"
   },
   {
    "duration": 27,
    "start_time": "2023-03-07T19:24:44.804Z"
   },
   {
    "duration": 9,
    "start_time": "2023-03-07T19:24:44.841Z"
   },
   {
    "duration": 7,
    "start_time": "2023-03-07T19:24:44.852Z"
   },
   {
    "duration": 6,
    "start_time": "2023-03-07T19:24:44.861Z"
   },
   {
    "duration": 348,
    "start_time": "2023-03-07T19:24:44.869Z"
   },
   {
    "duration": 387,
    "start_time": "2023-03-07T19:24:45.219Z"
   },
   {
    "duration": 270,
    "start_time": "2023-03-07T19:24:45.608Z"
   },
   {
    "duration": 409,
    "start_time": "2023-03-07T19:24:45.879Z"
   },
   {
    "duration": 314,
    "start_time": "2023-03-07T19:24:46.291Z"
   },
   {
    "duration": 447,
    "start_time": "2023-03-07T19:24:46.607Z"
   },
   {
    "duration": 173,
    "start_time": "2023-03-07T19:24:47.056Z"
   },
   {
    "duration": 7,
    "start_time": "2023-03-07T19:24:47.234Z"
   },
   {
    "duration": 201,
    "start_time": "2023-03-07T19:24:47.243Z"
   },
   {
    "duration": 5,
    "start_time": "2023-03-07T19:24:47.446Z"
   },
   {
    "duration": 277,
    "start_time": "2023-03-07T19:24:47.454Z"
   },
   {
    "duration": 324,
    "start_time": "2023-03-07T19:24:47.736Z"
   },
   {
    "duration": 16,
    "start_time": "2023-03-07T19:24:48.064Z"
   },
   {
    "duration": 15,
    "start_time": "2023-03-07T19:24:48.082Z"
   },
   {
    "duration": 9,
    "start_time": "2023-03-07T19:24:48.124Z"
   },
   {
    "duration": 49,
    "start_time": "2023-03-07T19:24:48.137Z"
   },
   {
    "duration": 55,
    "start_time": "2023-03-07T19:24:48.188Z"
   },
   {
    "duration": 1225,
    "start_time": "2023-03-07T19:25:57.869Z"
   },
   {
    "duration": 30,
    "start_time": "2023-03-07T19:25:59.097Z"
   },
   {
    "duration": 21,
    "start_time": "2023-03-07T19:25:59.129Z"
   },
   {
    "duration": 19,
    "start_time": "2023-03-07T19:25:59.152Z"
   },
   {
    "duration": 16,
    "start_time": "2023-03-07T19:25:59.172Z"
   },
   {
    "duration": 51,
    "start_time": "2023-03-07T19:25:59.190Z"
   },
   {
    "duration": 16,
    "start_time": "2023-03-07T19:25:59.245Z"
   },
   {
    "duration": 11,
    "start_time": "2023-03-07T19:25:59.263Z"
   },
   {
    "duration": 9,
    "start_time": "2023-03-07T19:25:59.277Z"
   },
   {
    "duration": 37,
    "start_time": "2023-03-07T19:25:59.290Z"
   },
   {
    "duration": 82,
    "start_time": "2023-03-07T19:25:59.329Z"
   },
   {
    "duration": 25,
    "start_time": "2023-03-07T19:25:59.413Z"
   },
   {
    "duration": 7,
    "start_time": "2023-03-07T19:25:59.441Z"
   },
   {
    "duration": 12,
    "start_time": "2023-03-07T19:25:59.450Z"
   },
   {
    "duration": 5,
    "start_time": "2023-03-07T19:25:59.464Z"
   },
   {
    "duration": 329,
    "start_time": "2023-03-07T19:25:59.471Z"
   },
   {
    "duration": 382,
    "start_time": "2023-03-07T19:25:59.802Z"
   },
   {
    "duration": 291,
    "start_time": "2023-03-07T19:26:00.186Z"
   },
   {
    "duration": 432,
    "start_time": "2023-03-07T19:26:00.479Z"
   },
   {
    "duration": 288,
    "start_time": "2023-03-07T19:26:00.913Z"
   },
   {
    "duration": 440,
    "start_time": "2023-03-07T19:26:01.204Z"
   },
   {
    "duration": 158,
    "start_time": "2023-03-07T19:26:01.645Z"
   },
   {
    "duration": 5,
    "start_time": "2023-03-07T19:26:01.805Z"
   },
   {
    "duration": 199,
    "start_time": "2023-03-07T19:26:01.831Z"
   },
   {
    "duration": 13,
    "start_time": "2023-03-07T19:26:02.032Z"
   },
   {
    "duration": 300,
    "start_time": "2023-03-07T19:26:02.047Z"
   },
   {
    "duration": 330,
    "start_time": "2023-03-07T19:26:02.349Z"
   },
   {
    "duration": 12,
    "start_time": "2023-03-07T19:26:02.682Z"
   },
   {
    "duration": 45,
    "start_time": "2023-03-07T19:26:02.696Z"
   },
   {
    "duration": 6,
    "start_time": "2023-03-07T19:26:02.742Z"
   },
   {
    "duration": 36,
    "start_time": "2023-03-07T19:26:02.750Z"
   },
   {
    "duration": 16,
    "start_time": "2023-03-07T19:26:02.788Z"
   },
   {
    "duration": 6701,
    "start_time": "2023-03-08T15:44:40.929Z"
   },
   {
    "duration": 149,
    "start_time": "2023-03-08T15:44:47.633Z"
   },
   {
    "duration": 146,
    "start_time": "2023-03-08T15:44:47.784Z"
   },
   {
    "duration": 189,
    "start_time": "2023-03-08T15:44:47.938Z"
   },
   {
    "duration": 196,
    "start_time": "2023-03-08T15:44:48.134Z"
   },
   {
    "duration": 96,
    "start_time": "2023-03-08T15:44:48.333Z"
   },
   {
    "duration": 94,
    "start_time": "2023-03-08T15:44:48.433Z"
   },
   {
    "duration": 8,
    "start_time": "2023-03-08T15:44:48.530Z"
   },
   {
    "duration": 9,
    "start_time": "2023-03-08T15:44:48.628Z"
   },
   {
    "duration": 97,
    "start_time": "2023-03-08T15:44:48.638Z"
   },
   {
    "duration": 608,
    "start_time": "2023-03-08T15:44:48.823Z"
   },
   {
    "duration": 198,
    "start_time": "2023-03-08T15:44:49.437Z"
   },
   {
    "duration": 88,
    "start_time": "2023-03-08T15:44:49.639Z"
   },
   {
    "duration": 100,
    "start_time": "2023-03-08T15:44:49.731Z"
   },
   {
    "duration": 93,
    "start_time": "2023-03-08T15:44:49.836Z"
   },
   {
    "duration": 2384,
    "start_time": "2023-03-08T15:44:49.939Z"
   },
   {
    "duration": 2608,
    "start_time": "2023-03-08T15:44:52.325Z"
   },
   {
    "duration": 1890,
    "start_time": "2023-03-08T15:44:54.937Z"
   },
   {
    "duration": 1993,
    "start_time": "2023-03-08T15:44:56.836Z"
   },
   {
    "duration": 1999,
    "start_time": "2023-03-08T15:44:58.832Z"
   },
   {
    "duration": 1988,
    "start_time": "2023-03-08T15:45:00.838Z"
   },
   {
    "duration": 1099,
    "start_time": "2023-03-08T15:45:02.829Z"
   },
   {
    "duration": 5,
    "start_time": "2023-03-08T15:45:03.936Z"
   },
   {
    "duration": 1399,
    "start_time": "2023-03-08T15:45:04.034Z"
   },
   {
    "duration": 98,
    "start_time": "2023-03-08T15:45:05.436Z"
   },
   {
    "duration": 1893,
    "start_time": "2023-03-08T15:45:05.535Z"
   },
   {
    "duration": 2390,
    "start_time": "2023-03-08T15:45:07.437Z"
   },
   {
    "duration": 189,
    "start_time": "2023-03-08T15:45:09.834Z"
   },
   {
    "duration": 102,
    "start_time": "2023-03-08T15:45:10.030Z"
   },
   {
    "duration": 89,
    "start_time": "2023-03-08T15:45:10.137Z"
   },
   {
    "duration": 301,
    "start_time": "2023-03-08T15:45:10.236Z"
   },
   {
    "duration": 103,
    "start_time": "2023-03-08T15:45:10.625Z"
   }
  ],
  "kernelspec": {
   "display_name": "Python 3 (ipykernel)",
   "language": "python",
   "name": "python3"
  },
  "language_info": {
   "codemirror_mode": {
    "name": "ipython",
    "version": 3
   },
   "file_extension": ".py",
   "mimetype": "text/x-python",
   "name": "python",
   "nbconvert_exporter": "python",
   "pygments_lexer": "ipython3",
   "version": "3.9.13"
  },
  "toc": {
   "base_numbering": 1,
   "nav_menu": {},
   "number_sections": true,
   "sideBar": true,
   "skip_h1_title": true,
   "title_cell": "Table of Contents",
   "title_sidebar": "Contents",
   "toc_cell": false,
   "toc_position": {},
   "toc_section_display": true,
   "toc_window_display": true
  }
 },
 "nbformat": 4,
 "nbformat_minor": 2
}
